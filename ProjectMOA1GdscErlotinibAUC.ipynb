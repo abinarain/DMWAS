{
  "nbformat": 4,
  "nbformat_minor": 0,
  "metadata": {
    "colab": {
      "name": "ProjectMOA1GdscErlotinibAUC.ipynb",
      "provenance": [],
      "collapsed_sections": [],
      "authorship_tag": "ABX9TyM30Djp38GpOZbE7Uz+r/Yw",
      "include_colab_link": true
    },
    "kernelspec": {
      "name": "python3",
      "display_name": "Python 3"
    }
  },
  "cells": [
    {
      "cell_type": "markdown",
      "metadata": {
        "id": "view-in-github",
        "colab_type": "text"
      },
      "source": [
        "<a href=\"https://colab.research.google.com/github/abinarain/DMWAS/blob/master/ProjectMOA1GdscErlotinibAUC.ipynb\" target=\"_parent\"><img src=\"https://colab.research.google.com/assets/colab-badge.svg\" alt=\"Open In Colab\"/></a>"
      ]
    },
    {
      "cell_type": "code",
      "metadata": {
        "id": "kj4IOJumxLhT"
      },
      "source": [
        "#Author: Abhishek N. Singh\r\n",
        "#Description: This script evaluates the AUC value for a drug when acting against cell viability such \r\n",
        "#as cancer cells, and then I try to fit a regression model for Gdsc data\r\n",
        "#Date: 26th December 2020"
      ],
      "execution_count": 1,
      "outputs": []
    },
    {
      "cell_type": "code",
      "metadata": {
        "id": "R01cZLMpx_XG"
      },
      "source": [
        "import pandas as pd\r\n",
        "import numpy as np\r\n",
        "import matplotlib.pyplot as plt \r\n",
        "%matplotlib inline\r\n",
        "from sklearn.linear_model import ElasticNet\r\n",
        "from sklearn.linear_model import Lasso\r\n",
        "from sklearn import preprocessing\r\n",
        "from sklearn import linear_model\r\n",
        "from sklearn.model_selection import GridSearchCV\r\n",
        "from sklearn.preprocessing import PolynomialFeatures\r\n",
        "from sklearn.linear_model import LinearRegression\r\n",
        "from sklearn.decomposition import PCA, KernelPCA\r\n",
        "from sklearn.model_selection import train_test_split\r\n",
        "import seaborn as sns\r\n",
        "\r\n",
        "\r\n",
        "\r\n"
      ],
      "execution_count": 2,
      "outputs": []
    },
    {
      "cell_type": "code",
      "metadata": {
        "id": "Y-UaidFWycYn"
      },
      "source": [
        "dataset = pd.read_csv(\"gdsc_Erlotinib_auc.csv\", delimiter=\",\")"
      ],
      "execution_count": 3,
      "outputs": []
    },
    {
      "cell_type": "code",
      "metadata": {
        "colab": {
          "base_uri": "https://localhost:8080/",
          "height": 269
        },
        "id": "zqMvzYQgy_E9",
        "outputId": "08a93324-fbad-4209-e3d8-46db3a61acb0"
      },
      "source": [
        "dataset.head()"
      ],
      "execution_count": 4,
      "outputs": [
        {
          "output_type": "execute_result",
          "data": {
            "text/html": [
              "<div>\n",
              "<style scoped>\n",
              "    .dataframe tbody tr th:only-of-type {\n",
              "        vertical-align: middle;\n",
              "    }\n",
              "\n",
              "    .dataframe tbody tr th {\n",
              "        vertical-align: top;\n",
              "    }\n",
              "\n",
              "    .dataframe thead th {\n",
              "        text-align: right;\n",
              "    }\n",
              "</style>\n",
              "<table border=\"1\" class=\"dataframe\">\n",
              "  <thead>\n",
              "    <tr style=\"text-align: right;\">\n",
              "      <th></th>\n",
              "      <th>Unnamed: 0</th>\n",
              "      <th>Unnamed: 0.1</th>\n",
              "      <th>exp_UPF1</th>\n",
              "      <th>exp_ACSM3</th>\n",
              "      <th>exp_CREBBP</th>\n",
              "      <th>exp_TBXA2R</th>\n",
              "      <th>exp_IFRD1</th>\n",
              "      <th>exp_ADIPOR2</th>\n",
              "      <th>exp_FMO1</th>\n",
              "      <th>exp_SPAST</th>\n",
              "      <th>exp_STRAP</th>\n",
              "      <th>exp_TOMM34</th>\n",
              "      <th>exp_TNFRSF1B</th>\n",
              "      <th>exp_TBPL1</th>\n",
              "      <th>exp_ZZZ3</th>\n",
              "      <th>exp_TUBG2</th>\n",
              "      <th>exp_FLT4</th>\n",
              "      <th>exp_C2orf83</th>\n",
              "      <th>exp_NNAT</th>\n",
              "      <th>exp_CYFIP2</th>\n",
              "      <th>exp_WNK1</th>\n",
              "      <th>exp_HDAC7</th>\n",
              "      <th>exp_NCKAP1</th>\n",
              "      <th>exp_SUGP2</th>\n",
              "      <th>exp_ANKS1A</th>\n",
              "      <th>exp_CYB5R4</th>\n",
              "      <th>exp_SLC9A7</th>\n",
              "      <th>exp_NFYC</th>\n",
              "      <th>exp_ZBTB11</th>\n",
              "      <th>exp_EML1</th>\n",
              "      <th>exp_FGFR3</th>\n",
              "      <th>exp_HEATR6</th>\n",
              "      <th>exp_REEP1</th>\n",
              "      <th>exp_GPR116</th>\n",
              "      <th>exp_ST6GALNAC2</th>\n",
              "      <th>exp_ZFYVE26</th>\n",
              "      <th>exp_PDE8A</th>\n",
              "      <th>exp_ADAM11</th>\n",
              "      <th>exp_NUAK1</th>\n",
              "      <th>exp_PTPLAD1</th>\n",
              "      <th>...</th>\n",
              "      <th>exp_MECR</th>\n",
              "      <th>exp_EXD2</th>\n",
              "      <th>exp_INADL</th>\n",
              "      <th>exp_PGLS</th>\n",
              "      <th>exp_ARIH2</th>\n",
              "      <th>exp_ORM1</th>\n",
              "      <th>exp_NBR2</th>\n",
              "      <th>exp_MMP25</th>\n",
              "      <th>exp_CDCP1</th>\n",
              "      <th>exp_TNP1</th>\n",
              "      <th>exp_ADRA2C</th>\n",
              "      <th>exp_MGAM</th>\n",
              "      <th>exp_PLCB3</th>\n",
              "      <th>exp_CHRM3</th>\n",
              "      <th>exp_GAD2</th>\n",
              "      <th>exp_NEUROD4</th>\n",
              "      <th>exp_AFF3</th>\n",
              "      <th>exp_JAK3</th>\n",
              "      <th>exp_FAM169A</th>\n",
              "      <th>exp_USP48</th>\n",
              "      <th>exp_FAM182B</th>\n",
              "      <th>exp_TPM3</th>\n",
              "      <th>exp_PTTG3P</th>\n",
              "      <th>exp_STT3A</th>\n",
              "      <th>exp_NEK4</th>\n",
              "      <th>exp_STX17</th>\n",
              "      <th>exp_PIGP</th>\n",
              "      <th>exp_SPRY1</th>\n",
              "      <th>exp_ETNK1</th>\n",
              "      <th>exp_DLGAP5</th>\n",
              "      <th>exp_HMG20A</th>\n",
              "      <th>exp_RHOBTB1</th>\n",
              "      <th>exp_CDKN1B</th>\n",
              "      <th>exp_MCCC1</th>\n",
              "      <th>exp_KAL1</th>\n",
              "      <th>exp_ICMT</th>\n",
              "      <th>exp_HBD</th>\n",
              "      <th>exp_RAI2</th>\n",
              "      <th>exp_MECOM</th>\n",
              "      <th>Erlotinib</th>\n",
              "    </tr>\n",
              "  </thead>\n",
              "  <tbody>\n",
              "    <tr>\n",
              "      <th>0</th>\n",
              "      <td>0</td>\n",
              "      <td>22RV1</td>\n",
              "      <td>6.011028</td>\n",
              "      <td>4.955063</td>\n",
              "      <td>5.498606</td>\n",
              "      <td>4.615622</td>\n",
              "      <td>8.981380</td>\n",
              "      <td>8.596295</td>\n",
              "      <td>5.983356</td>\n",
              "      <td>4.978231</td>\n",
              "      <td>NaN</td>\n",
              "      <td>6.594367</td>\n",
              "      <td>4.577073</td>\n",
              "      <td>9.539299</td>\n",
              "      <td>8.105715</td>\n",
              "      <td>4.419789</td>\n",
              "      <td>7.003484</td>\n",
              "      <td>4.287194</td>\n",
              "      <td>4.398404</td>\n",
              "      <td>5.426448</td>\n",
              "      <td>NaN</td>\n",
              "      <td>5.632297</td>\n",
              "      <td>9.282932</td>\n",
              "      <td>5.413248</td>\n",
              "      <td>7.329596</td>\n",
              "      <td>6.228573</td>\n",
              "      <td>4.371101</td>\n",
              "      <td>5.202511</td>\n",
              "      <td>8.515883</td>\n",
              "      <td>4.679146</td>\n",
              "      <td>5.538737</td>\n",
              "      <td>5.407479</td>\n",
              "      <td>4.833182</td>\n",
              "      <td>4.972518</td>\n",
              "      <td>4.847553</td>\n",
              "      <td>5.746806</td>\n",
              "      <td>6.419034</td>\n",
              "      <td>NaN</td>\n",
              "      <td>6.868150</td>\n",
              "      <td>NaN</td>\n",
              "      <td>...</td>\n",
              "      <td>6.880950</td>\n",
              "      <td>5.979614</td>\n",
              "      <td>4.695493</td>\n",
              "      <td>9.026928</td>\n",
              "      <td>6.084753</td>\n",
              "      <td>4.594327</td>\n",
              "      <td>5.246468</td>\n",
              "      <td>4.512440</td>\n",
              "      <td>4.355047</td>\n",
              "      <td>4.352557</td>\n",
              "      <td>NaN</td>\n",
              "      <td>4.554207</td>\n",
              "      <td>5.861542</td>\n",
              "      <td>4.877526</td>\n",
              "      <td>NaN</td>\n",
              "      <td>4.654437</td>\n",
              "      <td>4.631872</td>\n",
              "      <td>4.599772</td>\n",
              "      <td>5.916250</td>\n",
              "      <td>NaN</td>\n",
              "      <td>5.388985</td>\n",
              "      <td>4.477246</td>\n",
              "      <td>5.406135</td>\n",
              "      <td>8.977606</td>\n",
              "      <td>6.499660</td>\n",
              "      <td>5.556760</td>\n",
              "      <td>9.365081</td>\n",
              "      <td>5.098325</td>\n",
              "      <td>6.410435</td>\n",
              "      <td>6.224192</td>\n",
              "      <td>NaN</td>\n",
              "      <td>4.799369</td>\n",
              "      <td>9.643505</td>\n",
              "      <td>8.248490</td>\n",
              "      <td>5.694492</td>\n",
              "      <td>7.657050</td>\n",
              "      <td>3.946700</td>\n",
              "      <td>NaN</td>\n",
              "      <td>4.595024</td>\n",
              "      <td>0.920409</td>\n",
              "    </tr>\n",
              "    <tr>\n",
              "      <th>1</th>\n",
              "      <td>1</td>\n",
              "      <td>23132-87</td>\n",
              "      <td>7.221385</td>\n",
              "      <td>4.693445</td>\n",
              "      <td>5.285347</td>\n",
              "      <td>4.483968</td>\n",
              "      <td>7.783506</td>\n",
              "      <td>9.588306</td>\n",
              "      <td>4.450641</td>\n",
              "      <td>5.313183</td>\n",
              "      <td>10.924331</td>\n",
              "      <td>9.073996</td>\n",
              "      <td>4.743517</td>\n",
              "      <td>8.645856</td>\n",
              "      <td>8.492360</td>\n",
              "      <td>NaN</td>\n",
              "      <td>5.313581</td>\n",
              "      <td>4.671841</td>\n",
              "      <td>4.805151</td>\n",
              "      <td>5.003717</td>\n",
              "      <td>8.677782</td>\n",
              "      <td>5.367765</td>\n",
              "      <td>9.682706</td>\n",
              "      <td>5.916632</td>\n",
              "      <td>6.792334</td>\n",
              "      <td>NaN</td>\n",
              "      <td>4.394155</td>\n",
              "      <td>6.225076</td>\n",
              "      <td>7.587768</td>\n",
              "      <td>4.322592</td>\n",
              "      <td>5.565982</td>\n",
              "      <td>5.685577</td>\n",
              "      <td>4.365391</td>\n",
              "      <td>4.670494</td>\n",
              "      <td>5.780187</td>\n",
              "      <td>6.360626</td>\n",
              "      <td>7.840607</td>\n",
              "      <td>5.067308</td>\n",
              "      <td>5.605796</td>\n",
              "      <td>7.209583</td>\n",
              "      <td>...</td>\n",
              "      <td>7.537502</td>\n",
              "      <td>NaN</td>\n",
              "      <td>5.112914</td>\n",
              "      <td>10.150078</td>\n",
              "      <td>NaN</td>\n",
              "      <td>4.420781</td>\n",
              "      <td>5.845045</td>\n",
              "      <td>NaN</td>\n",
              "      <td>8.412018</td>\n",
              "      <td>4.682327</td>\n",
              "      <td>NaN</td>\n",
              "      <td>4.720568</td>\n",
              "      <td>6.912968</td>\n",
              "      <td>5.692177</td>\n",
              "      <td>NaN</td>\n",
              "      <td>4.429016</td>\n",
              "      <td>NaN</td>\n",
              "      <td>4.455790</td>\n",
              "      <td>4.728774</td>\n",
              "      <td>6.616857</td>\n",
              "      <td>4.518463</td>\n",
              "      <td>4.333330</td>\n",
              "      <td>5.956245</td>\n",
              "      <td>9.247870</td>\n",
              "      <td>7.332190</td>\n",
              "      <td>6.360304</td>\n",
              "      <td>10.140100</td>\n",
              "      <td>6.336477</td>\n",
              "      <td>6.264391</td>\n",
              "      <td>8.407566</td>\n",
              "      <td>6.664384</td>\n",
              "      <td>6.601413</td>\n",
              "      <td>8.876646</td>\n",
              "      <td>8.209376</td>\n",
              "      <td>4.202259</td>\n",
              "      <td>8.476935</td>\n",
              "      <td>3.937762</td>\n",
              "      <td>4.625224</td>\n",
              "      <td>6.032015</td>\n",
              "      <td>0.920409</td>\n",
              "    </tr>\n",
              "    <tr>\n",
              "      <th>2</th>\n",
              "      <td>2</td>\n",
              "      <td>380</td>\n",
              "      <td>6.333542</td>\n",
              "      <td>4.540520</td>\n",
              "      <td>NaN</td>\n",
              "      <td>5.006537</td>\n",
              "      <td>7.234994</td>\n",
              "      <td>9.767943</td>\n",
              "      <td>4.743530</td>\n",
              "      <td>5.211246</td>\n",
              "      <td>10.454959</td>\n",
              "      <td>6.665818</td>\n",
              "      <td>6.025225</td>\n",
              "      <td>8.554368</td>\n",
              "      <td>NaN</td>\n",
              "      <td>3.926918</td>\n",
              "      <td>NaN</td>\n",
              "      <td>NaN</td>\n",
              "      <td>4.427993</td>\n",
              "      <td>9.844344</td>\n",
              "      <td>9.234862</td>\n",
              "      <td>5.487743</td>\n",
              "      <td>4.730259</td>\n",
              "      <td>6.928151</td>\n",
              "      <td>NaN</td>\n",
              "      <td>9.262168</td>\n",
              "      <td>4.719380</td>\n",
              "      <td>6.581358</td>\n",
              "      <td>7.884421</td>\n",
              "      <td>4.145687</td>\n",
              "      <td>4.558922</td>\n",
              "      <td>4.471687</td>\n",
              "      <td>4.766379</td>\n",
              "      <td>4.810789</td>\n",
              "      <td>5.356899</td>\n",
              "      <td>6.533133</td>\n",
              "      <td>8.438167</td>\n",
              "      <td>4.962530</td>\n",
              "      <td>4.713554</td>\n",
              "      <td>NaN</td>\n",
              "      <td>...</td>\n",
              "      <td>6.152465</td>\n",
              "      <td>5.111161</td>\n",
              "      <td>4.526724</td>\n",
              "      <td>8.914593</td>\n",
              "      <td>6.028840</td>\n",
              "      <td>3.949027</td>\n",
              "      <td>5.058079</td>\n",
              "      <td>4.725097</td>\n",
              "      <td>4.475021</td>\n",
              "      <td>4.251298</td>\n",
              "      <td>5.037131</td>\n",
              "      <td>NaN</td>\n",
              "      <td>5.999143</td>\n",
              "      <td>4.725542</td>\n",
              "      <td>4.217727</td>\n",
              "      <td>NaN</td>\n",
              "      <td>5.693792</td>\n",
              "      <td>NaN</td>\n",
              "      <td>4.668861</td>\n",
              "      <td>6.738761</td>\n",
              "      <td>4.890169</td>\n",
              "      <td>4.156773</td>\n",
              "      <td>6.328307</td>\n",
              "      <td>8.279082</td>\n",
              "      <td>7.771402</td>\n",
              "      <td>6.066929</td>\n",
              "      <td>10.009280</td>\n",
              "      <td>NaN</td>\n",
              "      <td>6.480482</td>\n",
              "      <td>9.593730</td>\n",
              "      <td>7.573112</td>\n",
              "      <td>6.577179</td>\n",
              "      <td>10.220242</td>\n",
              "      <td>8.712841</td>\n",
              "      <td>4.653557</td>\n",
              "      <td>7.035348</td>\n",
              "      <td>4.085890</td>\n",
              "      <td>4.451836</td>\n",
              "      <td>NaN</td>\n",
              "      <td>0.920409</td>\n",
              "    </tr>\n",
              "    <tr>\n",
              "      <th>3</th>\n",
              "      <td>3</td>\n",
              "      <td>5637</td>\n",
              "      <td>NaN</td>\n",
              "      <td>4.191893</td>\n",
              "      <td>5.548728</td>\n",
              "      <td>4.340719</td>\n",
              "      <td>10.160300</td>\n",
              "      <td>8.659492</td>\n",
              "      <td>4.592338</td>\n",
              "      <td>5.391291</td>\n",
              "      <td>11.289558</td>\n",
              "      <td>7.295339</td>\n",
              "      <td>NaN</td>\n",
              "      <td>9.074011</td>\n",
              "      <td>NaN</td>\n",
              "      <td>5.275854</td>\n",
              "      <td>4.686596</td>\n",
              "      <td>NaN</td>\n",
              "      <td>4.390406</td>\n",
              "      <td>4.295362</td>\n",
              "      <td>8.600219</td>\n",
              "      <td>5.264866</td>\n",
              "      <td>9.691075</td>\n",
              "      <td>5.893263</td>\n",
              "      <td>7.172468</td>\n",
              "      <td>7.159088</td>\n",
              "      <td>4.224743</td>\n",
              "      <td>5.252526</td>\n",
              "      <td>8.590899</td>\n",
              "      <td>4.131593</td>\n",
              "      <td>4.313265</td>\n",
              "      <td>6.769021</td>\n",
              "      <td>4.410168</td>\n",
              "      <td>4.358750</td>\n",
              "      <td>8.342615</td>\n",
              "      <td>7.212660</td>\n",
              "      <td>9.277639</td>\n",
              "      <td>4.850959</td>\n",
              "      <td>10.316665</td>\n",
              "      <td>8.350423</td>\n",
              "      <td>...</td>\n",
              "      <td>7.175446</td>\n",
              "      <td>6.682939</td>\n",
              "      <td>NaN</td>\n",
              "      <td>9.998560</td>\n",
              "      <td>6.099948</td>\n",
              "      <td>NaN</td>\n",
              "      <td>NaN</td>\n",
              "      <td>4.571041</td>\n",
              "      <td>8.628757</td>\n",
              "      <td>NaN</td>\n",
              "      <td>4.889944</td>\n",
              "      <td>4.490345</td>\n",
              "      <td>5.969057</td>\n",
              "      <td>4.098976</td>\n",
              "      <td>4.150215</td>\n",
              "      <td>4.591577</td>\n",
              "      <td>4.497270</td>\n",
              "      <td>NaN</td>\n",
              "      <td>6.395097</td>\n",
              "      <td>6.651579</td>\n",
              "      <td>4.561720</td>\n",
              "      <td>4.121915</td>\n",
              "      <td>5.030438</td>\n",
              "      <td>9.731749</td>\n",
              "      <td>NaN</td>\n",
              "      <td>6.183316</td>\n",
              "      <td>NaN</td>\n",
              "      <td>5.018919</td>\n",
              "      <td>NaN</td>\n",
              "      <td>7.336713</td>\n",
              "      <td>5.648026</td>\n",
              "      <td>4.859240</td>\n",
              "      <td>NaN</td>\n",
              "      <td>7.393479</td>\n",
              "      <td>7.257985</td>\n",
              "      <td>8.142954</td>\n",
              "      <td>NaN</td>\n",
              "      <td>4.048923</td>\n",
              "      <td>5.652656</td>\n",
              "      <td>0.920409</td>\n",
              "    </tr>\n",
              "    <tr>\n",
              "      <th>4</th>\n",
              "      <td>4</td>\n",
              "      <td>639-V</td>\n",
              "      <td>7.353253</td>\n",
              "      <td>4.174989</td>\n",
              "      <td>5.372696</td>\n",
              "      <td>4.606393</td>\n",
              "      <td>9.150973</td>\n",
              "      <td>9.619724</td>\n",
              "      <td>4.476897</td>\n",
              "      <td>5.673377</td>\n",
              "      <td>12.214602</td>\n",
              "      <td>9.388058</td>\n",
              "      <td>4.826211</td>\n",
              "      <td>NaN</td>\n",
              "      <td>8.497498</td>\n",
              "      <td>5.484880</td>\n",
              "      <td>4.481965</td>\n",
              "      <td>NaN</td>\n",
              "      <td>NaN</td>\n",
              "      <td>5.208375</td>\n",
              "      <td>9.262031</td>\n",
              "      <td>NaN</td>\n",
              "      <td>10.415553</td>\n",
              "      <td>6.809589</td>\n",
              "      <td>7.754673</td>\n",
              "      <td>7.625387</td>\n",
              "      <td>4.530174</td>\n",
              "      <td>5.715454</td>\n",
              "      <td>9.050930</td>\n",
              "      <td>NaN</td>\n",
              "      <td>4.258830</td>\n",
              "      <td>6.526623</td>\n",
              "      <td>7.859751</td>\n",
              "      <td>4.637973</td>\n",
              "      <td>NaN</td>\n",
              "      <td>6.638820</td>\n",
              "      <td>8.283675</td>\n",
              "      <td>4.889619</td>\n",
              "      <td>6.948637</td>\n",
              "      <td>8.358112</td>\n",
              "      <td>...</td>\n",
              "      <td>7.493072</td>\n",
              "      <td>NaN</td>\n",
              "      <td>4.730513</td>\n",
              "      <td>9.850367</td>\n",
              "      <td>7.018422</td>\n",
              "      <td>4.022909</td>\n",
              "      <td>NaN</td>\n",
              "      <td>4.977143</td>\n",
              "      <td>10.167123</td>\n",
              "      <td>4.768873</td>\n",
              "      <td>5.241929</td>\n",
              "      <td>NaN</td>\n",
              "      <td>6.038450</td>\n",
              "      <td>4.289351</td>\n",
              "      <td>4.236318</td>\n",
              "      <td>4.427634</td>\n",
              "      <td>4.479870</td>\n",
              "      <td>4.222765</td>\n",
              "      <td>8.510756</td>\n",
              "      <td>6.113480</td>\n",
              "      <td>4.446873</td>\n",
              "      <td>4.150597</td>\n",
              "      <td>5.741207</td>\n",
              "      <td>NaN</td>\n",
              "      <td>8.537104</td>\n",
              "      <td>5.569038</td>\n",
              "      <td>10.286261</td>\n",
              "      <td>5.334409</td>\n",
              "      <td>NaN</td>\n",
              "      <td>9.608670</td>\n",
              "      <td>6.408460</td>\n",
              "      <td>3.986025</td>\n",
              "      <td>9.173475</td>\n",
              "      <td>9.036557</td>\n",
              "      <td>3.905234</td>\n",
              "      <td>8.287856</td>\n",
              "      <td>4.071195</td>\n",
              "      <td>4.438627</td>\n",
              "      <td>5.708648</td>\n",
              "      <td>0.920409</td>\n",
              "    </tr>\n",
              "  </tbody>\n",
              "</table>\n",
              "<p>5 rows × 981 columns</p>\n",
              "</div>"
            ],
            "text/plain": [
              "   Unnamed: 0 Unnamed: 0.1  exp_UPF1  ...  exp_RAI2  exp_MECOM  Erlotinib\n",
              "0           0        22RV1  6.011028  ...       NaN   4.595024   0.920409\n",
              "1           1     23132-87  7.221385  ...  4.625224   6.032015   0.920409\n",
              "2           2          380  6.333542  ...  4.451836        NaN   0.920409\n",
              "3           3         5637       NaN  ...  4.048923   5.652656   0.920409\n",
              "4           4        639-V  7.353253  ...  4.438627   5.708648   0.920409\n",
              "\n",
              "[5 rows x 981 columns]"
            ]
          },
          "metadata": {
            "tags": []
          },
          "execution_count": 4
        }
      ]
    },
    {
      "cell_type": "code",
      "metadata": {
        "colab": {
          "base_uri": "https://localhost:8080/"
        },
        "id": "ZVfy97xFyr9c",
        "outputId": "87bbd602-4877-468d-aeff-24c73c894c49"
      },
      "source": [
        "dataset.shape"
      ],
      "execution_count": 5,
      "outputs": [
        {
          "output_type": "execute_result",
          "data": {
            "text/plain": [
              "(131, 981)"
            ]
          },
          "metadata": {
            "tags": []
          },
          "execution_count": 5
        }
      ]
    },
    {
      "cell_type": "code",
      "metadata": {
        "id": "rhlQZz6byyq_"
      },
      "source": [
        "#So 1124 samples with 981 features"
      ],
      "execution_count": 6,
      "outputs": []
    },
    {
      "cell_type": "code",
      "metadata": {
        "id": "fhZzLAwgzHwp"
      },
      "source": [
        "#The first two column feature variables are not needed for data modeling and can be dropped."
      ],
      "execution_count": null,
      "outputs": []
    },
    {
      "cell_type": "code",
      "metadata": {
        "id": "3-OqbnUGzTvh"
      },
      "source": [
        "del dataset['Unnamed: 0']\r\n",
        "del dataset['Unnamed: 0.1']"
      ],
      "execution_count": 7,
      "outputs": []
    },
    {
      "cell_type": "code",
      "metadata": {
        "colab": {
          "base_uri": "https://localhost:8080/",
          "height": 251
        },
        "id": "AiPWJ_hDzi84",
        "outputId": "baadfae9-f3d6-490e-8581-ed0a81e5f02f"
      },
      "source": [
        "dataset.head()"
      ],
      "execution_count": 8,
      "outputs": [
        {
          "output_type": "execute_result",
          "data": {
            "text/html": [
              "<div>\n",
              "<style scoped>\n",
              "    .dataframe tbody tr th:only-of-type {\n",
              "        vertical-align: middle;\n",
              "    }\n",
              "\n",
              "    .dataframe tbody tr th {\n",
              "        vertical-align: top;\n",
              "    }\n",
              "\n",
              "    .dataframe thead th {\n",
              "        text-align: right;\n",
              "    }\n",
              "</style>\n",
              "<table border=\"1\" class=\"dataframe\">\n",
              "  <thead>\n",
              "    <tr style=\"text-align: right;\">\n",
              "      <th></th>\n",
              "      <th>exp_UPF1</th>\n",
              "      <th>exp_ACSM3</th>\n",
              "      <th>exp_CREBBP</th>\n",
              "      <th>exp_TBXA2R</th>\n",
              "      <th>exp_IFRD1</th>\n",
              "      <th>exp_ADIPOR2</th>\n",
              "      <th>exp_FMO1</th>\n",
              "      <th>exp_SPAST</th>\n",
              "      <th>exp_STRAP</th>\n",
              "      <th>exp_TOMM34</th>\n",
              "      <th>exp_TNFRSF1B</th>\n",
              "      <th>exp_TBPL1</th>\n",
              "      <th>exp_ZZZ3</th>\n",
              "      <th>exp_TUBG2</th>\n",
              "      <th>exp_FLT4</th>\n",
              "      <th>exp_C2orf83</th>\n",
              "      <th>exp_NNAT</th>\n",
              "      <th>exp_CYFIP2</th>\n",
              "      <th>exp_WNK1</th>\n",
              "      <th>exp_HDAC7</th>\n",
              "      <th>exp_NCKAP1</th>\n",
              "      <th>exp_SUGP2</th>\n",
              "      <th>exp_ANKS1A</th>\n",
              "      <th>exp_CYB5R4</th>\n",
              "      <th>exp_SLC9A7</th>\n",
              "      <th>exp_NFYC</th>\n",
              "      <th>exp_ZBTB11</th>\n",
              "      <th>exp_EML1</th>\n",
              "      <th>exp_FGFR3</th>\n",
              "      <th>exp_HEATR6</th>\n",
              "      <th>exp_REEP1</th>\n",
              "      <th>exp_GPR116</th>\n",
              "      <th>exp_ST6GALNAC2</th>\n",
              "      <th>exp_ZFYVE26</th>\n",
              "      <th>exp_PDE8A</th>\n",
              "      <th>exp_ADAM11</th>\n",
              "      <th>exp_NUAK1</th>\n",
              "      <th>exp_PTPLAD1</th>\n",
              "      <th>exp_WDR62</th>\n",
              "      <th>exp_RAB7A</th>\n",
              "      <th>...</th>\n",
              "      <th>exp_MECR</th>\n",
              "      <th>exp_EXD2</th>\n",
              "      <th>exp_INADL</th>\n",
              "      <th>exp_PGLS</th>\n",
              "      <th>exp_ARIH2</th>\n",
              "      <th>exp_ORM1</th>\n",
              "      <th>exp_NBR2</th>\n",
              "      <th>exp_MMP25</th>\n",
              "      <th>exp_CDCP1</th>\n",
              "      <th>exp_TNP1</th>\n",
              "      <th>exp_ADRA2C</th>\n",
              "      <th>exp_MGAM</th>\n",
              "      <th>exp_PLCB3</th>\n",
              "      <th>exp_CHRM3</th>\n",
              "      <th>exp_GAD2</th>\n",
              "      <th>exp_NEUROD4</th>\n",
              "      <th>exp_AFF3</th>\n",
              "      <th>exp_JAK3</th>\n",
              "      <th>exp_FAM169A</th>\n",
              "      <th>exp_USP48</th>\n",
              "      <th>exp_FAM182B</th>\n",
              "      <th>exp_TPM3</th>\n",
              "      <th>exp_PTTG3P</th>\n",
              "      <th>exp_STT3A</th>\n",
              "      <th>exp_NEK4</th>\n",
              "      <th>exp_STX17</th>\n",
              "      <th>exp_PIGP</th>\n",
              "      <th>exp_SPRY1</th>\n",
              "      <th>exp_ETNK1</th>\n",
              "      <th>exp_DLGAP5</th>\n",
              "      <th>exp_HMG20A</th>\n",
              "      <th>exp_RHOBTB1</th>\n",
              "      <th>exp_CDKN1B</th>\n",
              "      <th>exp_MCCC1</th>\n",
              "      <th>exp_KAL1</th>\n",
              "      <th>exp_ICMT</th>\n",
              "      <th>exp_HBD</th>\n",
              "      <th>exp_RAI2</th>\n",
              "      <th>exp_MECOM</th>\n",
              "      <th>Erlotinib</th>\n",
              "    </tr>\n",
              "  </thead>\n",
              "  <tbody>\n",
              "    <tr>\n",
              "      <th>0</th>\n",
              "      <td>6.011028</td>\n",
              "      <td>4.955063</td>\n",
              "      <td>5.498606</td>\n",
              "      <td>4.615622</td>\n",
              "      <td>8.981380</td>\n",
              "      <td>8.596295</td>\n",
              "      <td>5.983356</td>\n",
              "      <td>4.978231</td>\n",
              "      <td>NaN</td>\n",
              "      <td>6.594367</td>\n",
              "      <td>4.577073</td>\n",
              "      <td>9.539299</td>\n",
              "      <td>8.105715</td>\n",
              "      <td>4.419789</td>\n",
              "      <td>7.003484</td>\n",
              "      <td>4.287194</td>\n",
              "      <td>4.398404</td>\n",
              "      <td>5.426448</td>\n",
              "      <td>NaN</td>\n",
              "      <td>5.632297</td>\n",
              "      <td>9.282932</td>\n",
              "      <td>5.413248</td>\n",
              "      <td>7.329596</td>\n",
              "      <td>6.228573</td>\n",
              "      <td>4.371101</td>\n",
              "      <td>5.202511</td>\n",
              "      <td>8.515883</td>\n",
              "      <td>4.679146</td>\n",
              "      <td>5.538737</td>\n",
              "      <td>5.407479</td>\n",
              "      <td>4.833182</td>\n",
              "      <td>4.972518</td>\n",
              "      <td>4.847553</td>\n",
              "      <td>5.746806</td>\n",
              "      <td>6.419034</td>\n",
              "      <td>NaN</td>\n",
              "      <td>6.868150</td>\n",
              "      <td>NaN</td>\n",
              "      <td>5.174451</td>\n",
              "      <td>NaN</td>\n",
              "      <td>...</td>\n",
              "      <td>6.880950</td>\n",
              "      <td>5.979614</td>\n",
              "      <td>4.695493</td>\n",
              "      <td>9.026928</td>\n",
              "      <td>6.084753</td>\n",
              "      <td>4.594327</td>\n",
              "      <td>5.246468</td>\n",
              "      <td>4.512440</td>\n",
              "      <td>4.355047</td>\n",
              "      <td>4.352557</td>\n",
              "      <td>NaN</td>\n",
              "      <td>4.554207</td>\n",
              "      <td>5.861542</td>\n",
              "      <td>4.877526</td>\n",
              "      <td>NaN</td>\n",
              "      <td>4.654437</td>\n",
              "      <td>4.631872</td>\n",
              "      <td>4.599772</td>\n",
              "      <td>5.916250</td>\n",
              "      <td>NaN</td>\n",
              "      <td>5.388985</td>\n",
              "      <td>4.477246</td>\n",
              "      <td>5.406135</td>\n",
              "      <td>8.977606</td>\n",
              "      <td>6.499660</td>\n",
              "      <td>5.556760</td>\n",
              "      <td>9.365081</td>\n",
              "      <td>5.098325</td>\n",
              "      <td>6.410435</td>\n",
              "      <td>6.224192</td>\n",
              "      <td>NaN</td>\n",
              "      <td>4.799369</td>\n",
              "      <td>9.643505</td>\n",
              "      <td>8.248490</td>\n",
              "      <td>5.694492</td>\n",
              "      <td>7.657050</td>\n",
              "      <td>3.946700</td>\n",
              "      <td>NaN</td>\n",
              "      <td>4.595024</td>\n",
              "      <td>0.920409</td>\n",
              "    </tr>\n",
              "    <tr>\n",
              "      <th>1</th>\n",
              "      <td>7.221385</td>\n",
              "      <td>4.693445</td>\n",
              "      <td>5.285347</td>\n",
              "      <td>4.483968</td>\n",
              "      <td>7.783506</td>\n",
              "      <td>9.588306</td>\n",
              "      <td>4.450641</td>\n",
              "      <td>5.313183</td>\n",
              "      <td>10.924331</td>\n",
              "      <td>9.073996</td>\n",
              "      <td>4.743517</td>\n",
              "      <td>8.645856</td>\n",
              "      <td>8.492360</td>\n",
              "      <td>NaN</td>\n",
              "      <td>5.313581</td>\n",
              "      <td>4.671841</td>\n",
              "      <td>4.805151</td>\n",
              "      <td>5.003717</td>\n",
              "      <td>8.677782</td>\n",
              "      <td>5.367765</td>\n",
              "      <td>9.682706</td>\n",
              "      <td>5.916632</td>\n",
              "      <td>6.792334</td>\n",
              "      <td>NaN</td>\n",
              "      <td>4.394155</td>\n",
              "      <td>6.225076</td>\n",
              "      <td>7.587768</td>\n",
              "      <td>4.322592</td>\n",
              "      <td>5.565982</td>\n",
              "      <td>5.685577</td>\n",
              "      <td>4.365391</td>\n",
              "      <td>4.670494</td>\n",
              "      <td>5.780187</td>\n",
              "      <td>6.360626</td>\n",
              "      <td>7.840607</td>\n",
              "      <td>5.067308</td>\n",
              "      <td>5.605796</td>\n",
              "      <td>7.209583</td>\n",
              "      <td>5.816199</td>\n",
              "      <td>NaN</td>\n",
              "      <td>...</td>\n",
              "      <td>7.537502</td>\n",
              "      <td>NaN</td>\n",
              "      <td>5.112914</td>\n",
              "      <td>10.150078</td>\n",
              "      <td>NaN</td>\n",
              "      <td>4.420781</td>\n",
              "      <td>5.845045</td>\n",
              "      <td>NaN</td>\n",
              "      <td>8.412018</td>\n",
              "      <td>4.682327</td>\n",
              "      <td>NaN</td>\n",
              "      <td>4.720568</td>\n",
              "      <td>6.912968</td>\n",
              "      <td>5.692177</td>\n",
              "      <td>NaN</td>\n",
              "      <td>4.429016</td>\n",
              "      <td>NaN</td>\n",
              "      <td>4.455790</td>\n",
              "      <td>4.728774</td>\n",
              "      <td>6.616857</td>\n",
              "      <td>4.518463</td>\n",
              "      <td>4.333330</td>\n",
              "      <td>5.956245</td>\n",
              "      <td>9.247870</td>\n",
              "      <td>7.332190</td>\n",
              "      <td>6.360304</td>\n",
              "      <td>10.140100</td>\n",
              "      <td>6.336477</td>\n",
              "      <td>6.264391</td>\n",
              "      <td>8.407566</td>\n",
              "      <td>6.664384</td>\n",
              "      <td>6.601413</td>\n",
              "      <td>8.876646</td>\n",
              "      <td>8.209376</td>\n",
              "      <td>4.202259</td>\n",
              "      <td>8.476935</td>\n",
              "      <td>3.937762</td>\n",
              "      <td>4.625224</td>\n",
              "      <td>6.032015</td>\n",
              "      <td>0.920409</td>\n",
              "    </tr>\n",
              "    <tr>\n",
              "      <th>2</th>\n",
              "      <td>6.333542</td>\n",
              "      <td>4.540520</td>\n",
              "      <td>NaN</td>\n",
              "      <td>5.006537</td>\n",
              "      <td>7.234994</td>\n",
              "      <td>9.767943</td>\n",
              "      <td>4.743530</td>\n",
              "      <td>5.211246</td>\n",
              "      <td>10.454959</td>\n",
              "      <td>6.665818</td>\n",
              "      <td>6.025225</td>\n",
              "      <td>8.554368</td>\n",
              "      <td>NaN</td>\n",
              "      <td>3.926918</td>\n",
              "      <td>NaN</td>\n",
              "      <td>NaN</td>\n",
              "      <td>4.427993</td>\n",
              "      <td>9.844344</td>\n",
              "      <td>9.234862</td>\n",
              "      <td>5.487743</td>\n",
              "      <td>4.730259</td>\n",
              "      <td>6.928151</td>\n",
              "      <td>NaN</td>\n",
              "      <td>9.262168</td>\n",
              "      <td>4.719380</td>\n",
              "      <td>6.581358</td>\n",
              "      <td>7.884421</td>\n",
              "      <td>4.145687</td>\n",
              "      <td>4.558922</td>\n",
              "      <td>4.471687</td>\n",
              "      <td>4.766379</td>\n",
              "      <td>4.810789</td>\n",
              "      <td>5.356899</td>\n",
              "      <td>6.533133</td>\n",
              "      <td>8.438167</td>\n",
              "      <td>4.962530</td>\n",
              "      <td>4.713554</td>\n",
              "      <td>NaN</td>\n",
              "      <td>5.180389</td>\n",
              "      <td>8.657388</td>\n",
              "      <td>...</td>\n",
              "      <td>6.152465</td>\n",
              "      <td>5.111161</td>\n",
              "      <td>4.526724</td>\n",
              "      <td>8.914593</td>\n",
              "      <td>6.028840</td>\n",
              "      <td>3.949027</td>\n",
              "      <td>5.058079</td>\n",
              "      <td>4.725097</td>\n",
              "      <td>4.475021</td>\n",
              "      <td>4.251298</td>\n",
              "      <td>5.037131</td>\n",
              "      <td>NaN</td>\n",
              "      <td>5.999143</td>\n",
              "      <td>4.725542</td>\n",
              "      <td>4.217727</td>\n",
              "      <td>NaN</td>\n",
              "      <td>5.693792</td>\n",
              "      <td>NaN</td>\n",
              "      <td>4.668861</td>\n",
              "      <td>6.738761</td>\n",
              "      <td>4.890169</td>\n",
              "      <td>4.156773</td>\n",
              "      <td>6.328307</td>\n",
              "      <td>8.279082</td>\n",
              "      <td>7.771402</td>\n",
              "      <td>6.066929</td>\n",
              "      <td>10.009280</td>\n",
              "      <td>NaN</td>\n",
              "      <td>6.480482</td>\n",
              "      <td>9.593730</td>\n",
              "      <td>7.573112</td>\n",
              "      <td>6.577179</td>\n",
              "      <td>10.220242</td>\n",
              "      <td>8.712841</td>\n",
              "      <td>4.653557</td>\n",
              "      <td>7.035348</td>\n",
              "      <td>4.085890</td>\n",
              "      <td>4.451836</td>\n",
              "      <td>NaN</td>\n",
              "      <td>0.920409</td>\n",
              "    </tr>\n",
              "    <tr>\n",
              "      <th>3</th>\n",
              "      <td>NaN</td>\n",
              "      <td>4.191893</td>\n",
              "      <td>5.548728</td>\n",
              "      <td>4.340719</td>\n",
              "      <td>10.160300</td>\n",
              "      <td>8.659492</td>\n",
              "      <td>4.592338</td>\n",
              "      <td>5.391291</td>\n",
              "      <td>11.289558</td>\n",
              "      <td>7.295339</td>\n",
              "      <td>NaN</td>\n",
              "      <td>9.074011</td>\n",
              "      <td>NaN</td>\n",
              "      <td>5.275854</td>\n",
              "      <td>4.686596</td>\n",
              "      <td>NaN</td>\n",
              "      <td>4.390406</td>\n",
              "      <td>4.295362</td>\n",
              "      <td>8.600219</td>\n",
              "      <td>5.264866</td>\n",
              "      <td>9.691075</td>\n",
              "      <td>5.893263</td>\n",
              "      <td>7.172468</td>\n",
              "      <td>7.159088</td>\n",
              "      <td>4.224743</td>\n",
              "      <td>5.252526</td>\n",
              "      <td>8.590899</td>\n",
              "      <td>4.131593</td>\n",
              "      <td>4.313265</td>\n",
              "      <td>6.769021</td>\n",
              "      <td>4.410168</td>\n",
              "      <td>4.358750</td>\n",
              "      <td>8.342615</td>\n",
              "      <td>7.212660</td>\n",
              "      <td>9.277639</td>\n",
              "      <td>4.850959</td>\n",
              "      <td>10.316665</td>\n",
              "      <td>8.350423</td>\n",
              "      <td>4.691851</td>\n",
              "      <td>8.939281</td>\n",
              "      <td>...</td>\n",
              "      <td>7.175446</td>\n",
              "      <td>6.682939</td>\n",
              "      <td>NaN</td>\n",
              "      <td>9.998560</td>\n",
              "      <td>6.099948</td>\n",
              "      <td>NaN</td>\n",
              "      <td>NaN</td>\n",
              "      <td>4.571041</td>\n",
              "      <td>8.628757</td>\n",
              "      <td>NaN</td>\n",
              "      <td>4.889944</td>\n",
              "      <td>4.490345</td>\n",
              "      <td>5.969057</td>\n",
              "      <td>4.098976</td>\n",
              "      <td>4.150215</td>\n",
              "      <td>4.591577</td>\n",
              "      <td>4.497270</td>\n",
              "      <td>NaN</td>\n",
              "      <td>6.395097</td>\n",
              "      <td>6.651579</td>\n",
              "      <td>4.561720</td>\n",
              "      <td>4.121915</td>\n",
              "      <td>5.030438</td>\n",
              "      <td>9.731749</td>\n",
              "      <td>NaN</td>\n",
              "      <td>6.183316</td>\n",
              "      <td>NaN</td>\n",
              "      <td>5.018919</td>\n",
              "      <td>NaN</td>\n",
              "      <td>7.336713</td>\n",
              "      <td>5.648026</td>\n",
              "      <td>4.859240</td>\n",
              "      <td>NaN</td>\n",
              "      <td>7.393479</td>\n",
              "      <td>7.257985</td>\n",
              "      <td>8.142954</td>\n",
              "      <td>NaN</td>\n",
              "      <td>4.048923</td>\n",
              "      <td>5.652656</td>\n",
              "      <td>0.920409</td>\n",
              "    </tr>\n",
              "    <tr>\n",
              "      <th>4</th>\n",
              "      <td>7.353253</td>\n",
              "      <td>4.174989</td>\n",
              "      <td>5.372696</td>\n",
              "      <td>4.606393</td>\n",
              "      <td>9.150973</td>\n",
              "      <td>9.619724</td>\n",
              "      <td>4.476897</td>\n",
              "      <td>5.673377</td>\n",
              "      <td>12.214602</td>\n",
              "      <td>9.388058</td>\n",
              "      <td>4.826211</td>\n",
              "      <td>NaN</td>\n",
              "      <td>8.497498</td>\n",
              "      <td>5.484880</td>\n",
              "      <td>4.481965</td>\n",
              "      <td>NaN</td>\n",
              "      <td>NaN</td>\n",
              "      <td>5.208375</td>\n",
              "      <td>9.262031</td>\n",
              "      <td>NaN</td>\n",
              "      <td>10.415553</td>\n",
              "      <td>6.809589</td>\n",
              "      <td>7.754673</td>\n",
              "      <td>7.625387</td>\n",
              "      <td>4.530174</td>\n",
              "      <td>5.715454</td>\n",
              "      <td>9.050930</td>\n",
              "      <td>NaN</td>\n",
              "      <td>4.258830</td>\n",
              "      <td>6.526623</td>\n",
              "      <td>7.859751</td>\n",
              "      <td>4.637973</td>\n",
              "      <td>NaN</td>\n",
              "      <td>6.638820</td>\n",
              "      <td>8.283675</td>\n",
              "      <td>4.889619</td>\n",
              "      <td>6.948637</td>\n",
              "      <td>8.358112</td>\n",
              "      <td>4.756246</td>\n",
              "      <td>9.824541</td>\n",
              "      <td>...</td>\n",
              "      <td>7.493072</td>\n",
              "      <td>NaN</td>\n",
              "      <td>4.730513</td>\n",
              "      <td>9.850367</td>\n",
              "      <td>7.018422</td>\n",
              "      <td>4.022909</td>\n",
              "      <td>NaN</td>\n",
              "      <td>4.977143</td>\n",
              "      <td>10.167123</td>\n",
              "      <td>4.768873</td>\n",
              "      <td>5.241929</td>\n",
              "      <td>NaN</td>\n",
              "      <td>6.038450</td>\n",
              "      <td>4.289351</td>\n",
              "      <td>4.236318</td>\n",
              "      <td>4.427634</td>\n",
              "      <td>4.479870</td>\n",
              "      <td>4.222765</td>\n",
              "      <td>8.510756</td>\n",
              "      <td>6.113480</td>\n",
              "      <td>4.446873</td>\n",
              "      <td>4.150597</td>\n",
              "      <td>5.741207</td>\n",
              "      <td>NaN</td>\n",
              "      <td>8.537104</td>\n",
              "      <td>5.569038</td>\n",
              "      <td>10.286261</td>\n",
              "      <td>5.334409</td>\n",
              "      <td>NaN</td>\n",
              "      <td>9.608670</td>\n",
              "      <td>6.408460</td>\n",
              "      <td>3.986025</td>\n",
              "      <td>9.173475</td>\n",
              "      <td>9.036557</td>\n",
              "      <td>3.905234</td>\n",
              "      <td>8.287856</td>\n",
              "      <td>4.071195</td>\n",
              "      <td>4.438627</td>\n",
              "      <td>5.708648</td>\n",
              "      <td>0.920409</td>\n",
              "    </tr>\n",
              "  </tbody>\n",
              "</table>\n",
              "<p>5 rows × 979 columns</p>\n",
              "</div>"
            ],
            "text/plain": [
              "   exp_UPF1  exp_ACSM3  exp_CREBBP  ...  exp_RAI2  exp_MECOM  Erlotinib\n",
              "0  6.011028   4.955063    5.498606  ...       NaN   4.595024   0.920409\n",
              "1  7.221385   4.693445    5.285347  ...  4.625224   6.032015   0.920409\n",
              "2  6.333542   4.540520         NaN  ...  4.451836        NaN   0.920409\n",
              "3       NaN   4.191893    5.548728  ...  4.048923   5.652656   0.920409\n",
              "4  7.353253   4.174989    5.372696  ...  4.438627   5.708648   0.920409\n",
              "\n",
              "[5 rows x 979 columns]"
            ]
          },
          "metadata": {
            "tags": []
          },
          "execution_count": 8
        }
      ]
    },
    {
      "cell_type": "code",
      "metadata": {
        "id": "9-CFXWD6zkzl"
      },
      "source": [
        "y = dataset.Erlotinib"
      ],
      "execution_count": 9,
      "outputs": []
    },
    {
      "cell_type": "code",
      "metadata": {
        "colab": {
          "base_uri": "https://localhost:8080/"
        },
        "id": "-L6fTErH0T5M",
        "outputId": "25d476f1-cbb4-4910-d2d4-004b61c0e09c"
      },
      "source": [
        "y.head() # This is how our target variable looks like"
      ],
      "execution_count": 10,
      "outputs": [
        {
          "output_type": "execute_result",
          "data": {
            "text/plain": [
              "0    0.920409\n",
              "1    0.920409\n",
              "2    0.920409\n",
              "3    0.920409\n",
              "4    0.920409\n",
              "Name: Erlotinib, dtype: float64"
            ]
          },
          "metadata": {
            "tags": []
          },
          "execution_count": 10
        }
      ]
    },
    {
      "cell_type": "code",
      "metadata": {
        "colab": {
          "base_uri": "https://localhost:8080/"
        },
        "id": "tok_cpgQ0VR0",
        "outputId": "a430e2b4-68e6-410d-ad3b-588ad8026429"
      },
      "source": [
        "y.describe() #Lets see how our target variable looks like in terms of its statistics"
      ],
      "execution_count": 11,
      "outputs": [
        {
          "output_type": "execute_result",
          "data": {
            "text/plain": [
              "count    130.000000\n",
              "mean       0.919754\n",
              "std        0.057922\n",
              "min        0.540766\n",
              "25%        0.920409\n",
              "50%        0.920409\n",
              "75%        0.920409\n",
              "max        1.000000\n",
              "Name: Erlotinib, dtype: float64"
            ]
          },
          "metadata": {
            "tags": []
          },
          "execution_count": 11
        }
      ]
    },
    {
      "cell_type": "code",
      "metadata": {
        "colab": {
          "base_uri": "https://localhost:8080/",
          "height": 35
        },
        "id": "kRcWieru0Z06",
        "outputId": "ac7ad763-cb0e-4924-d7c4-6296969af8bc"
      },
      "source": [
        "#Lets extract the list of feature variables names to be used as predictors\r\n",
        "features = list(dataset.columns.values) #Make a list of all of the columns in the df\r\n",
        "features.pop(features.index('Erlotinib'))"
      ],
      "execution_count": 12,
      "outputs": [
        {
          "output_type": "execute_result",
          "data": {
            "application/vnd.google.colaboratory.intrinsic+json": {
              "type": "string"
            },
            "text/plain": [
              "'Erlotinib'"
            ]
          },
          "metadata": {
            "tags": []
          },
          "execution_count": 12
        }
      ]
    },
    {
      "cell_type": "code",
      "metadata": {
        "colab": {
          "base_uri": "https://localhost:8080/"
        },
        "id": "6GIFmMLX0vkz",
        "outputId": "95d9d961-3a26-4898-c47a-2bd15a2dedd0"
      },
      "source": [
        "features #Here is the list of the feature column variable names "
      ],
      "execution_count": 13,
      "outputs": [
        {
          "output_type": "execute_result",
          "data": {
            "text/plain": [
              "['exp_UPF1',\n",
              " 'exp_ACSM3',\n",
              " 'exp_CREBBP',\n",
              " 'exp_TBXA2R',\n",
              " 'exp_IFRD1',\n",
              " 'exp_ADIPOR2',\n",
              " 'exp_FMO1',\n",
              " 'exp_SPAST',\n",
              " 'exp_STRAP',\n",
              " 'exp_TOMM34',\n",
              " 'exp_TNFRSF1B',\n",
              " 'exp_TBPL1',\n",
              " 'exp_ZZZ3',\n",
              " 'exp_TUBG2',\n",
              " 'exp_FLT4',\n",
              " 'exp_C2orf83',\n",
              " 'exp_NNAT',\n",
              " 'exp_CYFIP2',\n",
              " 'exp_WNK1',\n",
              " 'exp_HDAC7',\n",
              " 'exp_NCKAP1',\n",
              " 'exp_SUGP2',\n",
              " 'exp_ANKS1A',\n",
              " 'exp_CYB5R4',\n",
              " 'exp_SLC9A7',\n",
              " 'exp_NFYC',\n",
              " 'exp_ZBTB11',\n",
              " 'exp_EML1',\n",
              " 'exp_FGFR3',\n",
              " 'exp_HEATR6',\n",
              " 'exp_REEP1',\n",
              " 'exp_GPR116',\n",
              " 'exp_ST6GALNAC2',\n",
              " 'exp_ZFYVE26',\n",
              " 'exp_PDE8A',\n",
              " 'exp_ADAM11',\n",
              " 'exp_NUAK1',\n",
              " 'exp_PTPLAD1',\n",
              " 'exp_WDR62',\n",
              " 'exp_RAB7A',\n",
              " 'exp_GPC4',\n",
              " 'exp_ACTL6B',\n",
              " 'exp_CAPZB',\n",
              " 'exp_PIAS2',\n",
              " 'exp_PMS2P1',\n",
              " 'exp_TNS1',\n",
              " 'exp_SCGN',\n",
              " 'exp_PSEN1',\n",
              " 'exp_XPO1',\n",
              " 'exp_OXCT1',\n",
              " 'exp_CD59',\n",
              " 'exp_AQP6',\n",
              " 'exp_RBM22',\n",
              " 'exp_KCNH4',\n",
              " 'exp_LAG3',\n",
              " 'exp_CCNK',\n",
              " 'exp_RGS17',\n",
              " 'exp_ANGPT2',\n",
              " 'exp_PHGDH',\n",
              " 'exp_SEMA4G',\n",
              " 'exp_SIRT1',\n",
              " 'exp_KLHL22',\n",
              " 'exp_PACSIN2',\n",
              " 'exp_ASCC2',\n",
              " 'exp_IFT27',\n",
              " 'exp_TRMU',\n",
              " 'exp_PYGL',\n",
              " 'exp_CHD8',\n",
              " 'exp_TUBB1',\n",
              " 'exp_CDC25B',\n",
              " 'exp_CSNK2A1',\n",
              " 'exp_TM9SF4',\n",
              " 'exp_NOP56',\n",
              " 'exp_ANKRD12',\n",
              " 'exp_PHEX',\n",
              " 'exp_DRP2',\n",
              " 'exp_AXIN1',\n",
              " 'exp_HCFC1R1',\n",
              " 'exp_DNAJC17',\n",
              " 'exp_EIF3J',\n",
              " 'exp_CALB1',\n",
              " 'exp_NEFM',\n",
              " 'exp_LHB',\n",
              " 'exp_C19orf53',\n",
              " 'exp_LGALS13',\n",
              " 'exp_ZFR2',\n",
              " 'exp_CEACAM4',\n",
              " 'exp_RPS19',\n",
              " 'exp_MEGF8',\n",
              " 'exp_COPE',\n",
              " 'exp_BET1',\n",
              " 'exp_PTN',\n",
              " 'exp_TTC26',\n",
              " 'exp_SPAM1',\n",
              " 'exp_GATA3',\n",
              " 'exp_ATRNL1',\n",
              " 'exp_C10orf137',\n",
              " 'exp_WNT3',\n",
              " 'exp_C1QBP',\n",
              " 'exp_HLF',\n",
              " 'exp_CRYAB',\n",
              " 'exp_UBE4A',\n",
              " 'exp_HIPK3',\n",
              " 'exp_IL23A',\n",
              " 'exp_GSG1',\n",
              " 'exp_NUP107',\n",
              " 'exp_CD83',\n",
              " 'exp_PERP',\n",
              " 'exp_PHF1',\n",
              " 'exp_KIF20A',\n",
              " 'exp_ITK',\n",
              " 'exp_THBS4',\n",
              " 'exp_MSH3',\n",
              " 'exp_POLR3G',\n",
              " 'exp_LMNB1',\n",
              " 'exp_LNPEP',\n",
              " 'exp_NUP155',\n",
              " 'exp_ATP6V1A',\n",
              " 'exp_ZAP70',\n",
              " 'exp_TTC31',\n",
              " 'exp_MYCL1',\n",
              " 'exp_ABCD3',\n",
              " 'exp_CENPF',\n",
              " 'exp_CD3EAP',\n",
              " 'exp_DCLRE1B',\n",
              " 'exp_TCTN3',\n",
              " 'exp_AVPI1',\n",
              " 'exp_TNFSF18',\n",
              " 'exp_PIK3CA',\n",
              " 'exp_ZC3H7A',\n",
              " 'exp_KIAA1045',\n",
              " 'exp_MMP19',\n",
              " 'exp_PDE1B',\n",
              " 'exp_HOXC13',\n",
              " 'exp_ATXN3L',\n",
              " 'exp_RAB38',\n",
              " 'exp_SNAI1',\n",
              " 'exp_POF1B',\n",
              " 'exp_RAB17',\n",
              " 'exp_MRPS7',\n",
              " 'exp_RRBP1',\n",
              " 'exp_EIF2S2',\n",
              " 'exp_UROD',\n",
              " 'exp_SSX1',\n",
              " 'exp_SIX1',\n",
              " 'exp_EVI2A',\n",
              " 'exp_RGS13',\n",
              " 'exp_IPPK',\n",
              " 'exp_EDN2',\n",
              " 'exp_SPINK2',\n",
              " 'exp_LRRC17',\n",
              " 'exp_IVD',\n",
              " 'exp_RNASE1',\n",
              " 'exp_MAP7D3',\n",
              " 'exp_PLVAP',\n",
              " 'exp_DNMT1',\n",
              " 'exp_SLC35D2',\n",
              " 'exp_RGN',\n",
              " 'exp_ANO1',\n",
              " 'exp_DHX30',\n",
              " 'exp_RRP8',\n",
              " 'exp_RSG1',\n",
              " 'exp_KRAS',\n",
              " 'exp_CRB1',\n",
              " 'exp_ADAMTS8',\n",
              " 'exp_ISCA1',\n",
              " 'exp_EPHA7',\n",
              " 'exp_TFCP2',\n",
              " 'exp_MAP7',\n",
              " 'exp_TGFBRAP1',\n",
              " 'exp_SCEL',\n",
              " 'exp_CALCOCO2',\n",
              " 'exp_GATA4',\n",
              " 'exp_CDK5RAP2',\n",
              " 'exp_UBAP2',\n",
              " 'exp_CCL21',\n",
              " 'exp_DCTN3',\n",
              " 'exp_TGS1',\n",
              " 'exp_SLC37A4',\n",
              " 'exp_ZNF280D',\n",
              " 'exp_PPM1B',\n",
              " 'exp_SECISBP2L',\n",
              " 'exp_FGF2',\n",
              " 'exp_LEF1',\n",
              " 'exp_CLSTN3',\n",
              " 'exp_KERA',\n",
              " 'exp_RAB20',\n",
              " 'exp_MFAP1',\n",
              " 'exp_TCF12',\n",
              " 'exp_DNAJA4',\n",
              " 'exp_TOB1',\n",
              " 'exp_PTRH2',\n",
              " 'exp_RPRD1A',\n",
              " 'exp_OSBPL1A',\n",
              " 'exp_FCN3',\n",
              " 'exp_BCL10',\n",
              " 'exp_SMYD2',\n",
              " 'exp_ATP8B2',\n",
              " 'exp_ACP1',\n",
              " 'exp_ITPKB',\n",
              " 'exp_SYT2',\n",
              " 'exp_ADPRH',\n",
              " 'exp_TCTA',\n",
              " 'exp_STXBP5L',\n",
              " 'exp_GC',\n",
              " 'exp_FABP2',\n",
              " 'exp_PAM',\n",
              " 'exp_IL9',\n",
              " 'exp_TLK2',\n",
              " 'exp_AKAP4',\n",
              " 'exp_EBP',\n",
              " 'exp_SYBU',\n",
              " 'exp_PLIN2',\n",
              " 'exp_NTRK2',\n",
              " 'exp_NRBF2',\n",
              " 'exp_HYOU1',\n",
              " 'exp_ROM1',\n",
              " 'exp_CNTN5',\n",
              " 'exp_CLEC1A',\n",
              " 'exp_TRIM48',\n",
              " 'exp_PTS',\n",
              " 'exp_UPF2',\n",
              " 'exp_PTH',\n",
              " 'exp_HOMER1',\n",
              " 'exp_SREK1IP1',\n",
              " 'exp_ACOXL',\n",
              " 'exp_GTF2E1',\n",
              " 'exp_TMPRSS11D',\n",
              " 'exp_DNAAF1',\n",
              " 'exp_C21orf91',\n",
              " 'exp_CHODL',\n",
              " 'exp_KDM8',\n",
              " 'exp_C21orf7',\n",
              " 'exp_TSPAN7',\n",
              " 'exp_CDK20',\n",
              " 'exp_MTERFD1',\n",
              " 'exp_RPL30',\n",
              " 'exp_SSBP3',\n",
              " 'exp_BRE',\n",
              " 'exp_DUSP2',\n",
              " 'exp_CD1A',\n",
              " 'exp_ATP5G1',\n",
              " 'exp_GJD2',\n",
              " 'exp_PSMB4',\n",
              " 'exp_ZYX',\n",
              " 'exp_TFF1',\n",
              " 'exp_PTGER1',\n",
              " 'exp_NEU3',\n",
              " 'exp_CYP4A22',\n",
              " 'exp_NCSTN',\n",
              " 'exp_CCT3',\n",
              " 'exp_CRYBA2',\n",
              " 'exp_TGFBR2',\n",
              " 'exp_PPP4R2',\n",
              " 'exp_PRKCD',\n",
              " 'exp_AIMP1',\n",
              " 'exp_MAD2L1',\n",
              " 'exp_ACSL6',\n",
              " 'exp_T',\n",
              " 'exp_ANKRD55',\n",
              " 'exp_SHH',\n",
              " 'exp_PEX2',\n",
              " 'exp_RAD21',\n",
              " 'exp_DCAF13',\n",
              " 'exp_TMEM246',\n",
              " 'exp_NOL6',\n",
              " 'exp_SSX3',\n",
              " 'exp_TSC1',\n",
              " 'exp_CLMN',\n",
              " 'exp_HTRA1',\n",
              " 'exp_RAB8B',\n",
              " 'exp_SPINT1',\n",
              " 'exp_LARP6',\n",
              " 'exp_TAF10',\n",
              " 'exp_AP1G1',\n",
              " 'exp_TMEM194A',\n",
              " 'exp_VPS39',\n",
              " 'exp_STX3',\n",
              " 'exp_MAPRE2',\n",
              " 'exp_NKX3-1',\n",
              " 'exp_DOLPP1',\n",
              " 'exp_RRM1',\n",
              " 'exp_TRIM68',\n",
              " 'exp_PPP2R3B',\n",
              " 'exp_KLHL26',\n",
              " 'exp_TTYH1',\n",
              " 'exp_LTBP3',\n",
              " 'exp_HR',\n",
              " 'exp_STAT3',\n",
              " 'exp_ZBTB5',\n",
              " 'exp_GFM1',\n",
              " 'exp_COMMD8',\n",
              " 'exp_IRS1',\n",
              " 'exp_ROR2',\n",
              " 'exp_DRD5',\n",
              " 'exp_PCDH7',\n",
              " 'exp_P2RY1',\n",
              " 'exp_S100G',\n",
              " 'exp_STX8',\n",
              " 'exp_UBB',\n",
              " 'exp_SEMA3E',\n",
              " 'exp_TRIAP1',\n",
              " 'exp_AC006293.3',\n",
              " 'exp_MTSS1',\n",
              " 'exp_ALK',\n",
              " 'exp_KCND3',\n",
              " 'exp_FAM90A1',\n",
              " 'exp_QARS',\n",
              " 'exp_KRCC1',\n",
              " 'exp_TPSAB1',\n",
              " 'exp_ATOH1',\n",
              " 'exp_BSG',\n",
              " 'exp_POP7',\n",
              " 'exp_MYOZ2',\n",
              " 'exp_TCEAL1',\n",
              " 'exp_FAM21C',\n",
              " 'exp_PTPRM',\n",
              " 'exp_VEGFB',\n",
              " 'exp_RCE1',\n",
              " 'exp_SUSD5',\n",
              " 'exp_INHBC',\n",
              " 'exp_PCCA',\n",
              " 'exp_NPPA',\n",
              " 'exp_SART1',\n",
              " 'exp_NUPR1',\n",
              " 'exp_FOXG1',\n",
              " 'exp_FOXC2',\n",
              " 'exp_LY6H',\n",
              " 'exp_SEC24C',\n",
              " 'exp_CASKIN2',\n",
              " 'exp_CD19',\n",
              " 'exp_PTRF',\n",
              " 'exp_PNPLA2',\n",
              " 'exp_PVRL3',\n",
              " 'exp_EPM2AIP1',\n",
              " 'exp_MAF',\n",
              " 'exp_DPM3',\n",
              " 'exp_HTR1F',\n",
              " 'exp_HTR1D',\n",
              " 'exp_FCER1A',\n",
              " 'exp_SEPHS2',\n",
              " 'exp_YOD1',\n",
              " 'exp_S1PR5',\n",
              " 'exp_CUEDC1',\n",
              " 'exp_AEN',\n",
              " 'exp_HIST3H2A',\n",
              " 'exp_NEUROG1',\n",
              " 'exp_LDOC1',\n",
              " 'exp_AP1S2',\n",
              " 'exp_TSHZ2',\n",
              " 'exp_CSF1R',\n",
              " 'exp_TSKU',\n",
              " 'exp_ABAT',\n",
              " 'exp_DAZAP2',\n",
              " 'exp_ZNF623',\n",
              " 'exp_PMCH',\n",
              " 'exp_GPR132',\n",
              " 'exp_EP400',\n",
              " 'exp_FAM46C',\n",
              " 'exp_PCBP3',\n",
              " 'exp_NDUFB1',\n",
              " 'exp_GPR1',\n",
              " 'exp_SCN5A',\n",
              " 'exp_PCDH9',\n",
              " 'exp_SEPT5',\n",
              " 'exp_H1FX',\n",
              " 'exp_PPIL6',\n",
              " 'exp_SH3BGR',\n",
              " 'exp_NR2F2',\n",
              " 'exp_PBX1',\n",
              " 'exp_PTCH1',\n",
              " 'exp_ZBTB6',\n",
              " 'exp_MKL2',\n",
              " 'exp_TOR3A',\n",
              " 'exp_BTN3A2',\n",
              " 'exp_KATNA1',\n",
              " 'exp_TNFRSF4',\n",
              " 'exp_CCK',\n",
              " 'exp_KIAA1598',\n",
              " 'exp_DYNC2H1',\n",
              " 'exp_FANCA',\n",
              " 'exp_UBQLN2',\n",
              " 'exp_WNT7B',\n",
              " 'exp_TMEM120B',\n",
              " 'exp_TRRAP',\n",
              " 'exp_EVL',\n",
              " 'exp_CRYBA4',\n",
              " 'exp_TRAPPC2',\n",
              " 'exp_LAMA2',\n",
              " 'exp_TECPR2',\n",
              " 'exp_ERI2',\n",
              " 'exp_HIST1H2AD',\n",
              " 'exp_PGAP1',\n",
              " 'exp_CYP2B6',\n",
              " 'exp_OGDHL',\n",
              " 'exp_TTC30A',\n",
              " 'exp_TOPORS',\n",
              " 'exp_ATAD3A',\n",
              " 'exp_KIF13B',\n",
              " 'exp_TEAD4',\n",
              " 'exp_MPZL1',\n",
              " 'exp_ELOVL2',\n",
              " 'exp_MRPL42',\n",
              " 'exp_PRIM1',\n",
              " 'exp_HIBCH',\n",
              " 'exp_HMGN5',\n",
              " 'exp_SZT2',\n",
              " 'exp_CSF2RA',\n",
              " 'exp_WWP2',\n",
              " 'exp_NTRK1',\n",
              " 'exp_TPM2',\n",
              " 'exp_WDHD1',\n",
              " 'exp_IPO9',\n",
              " 'exp_UNC13B',\n",
              " 'exp_CDC42BPB',\n",
              " 'exp_EGFL6',\n",
              " 'exp_ARHGAP11A',\n",
              " 'exp_GJC2',\n",
              " 'exp_OPA1',\n",
              " 'exp_FICD',\n",
              " 'exp_TYW1',\n",
              " 'exp_TBKBP1',\n",
              " 'exp_HSPA1L',\n",
              " 'exp_C6orf25',\n",
              " 'exp_PPP1R11',\n",
              " 'exp_TBC1D8',\n",
              " 'exp_TRIM27',\n",
              " 'exp_GPR20',\n",
              " 'exp_KRT6A',\n",
              " 'exp_NAP1L4',\n",
              " 'exp_NYNRIN',\n",
              " 'exp_COLQ',\n",
              " 'exp_IGLV6-57',\n",
              " 'exp_TRAV9-2',\n",
              " 'exp_BTF3P12',\n",
              " 'exp_AL590762.11',\n",
              " 'exp_DENND1B',\n",
              " 'exp_ZNF254',\n",
              " 'exp_CSH2',\n",
              " 'exp_QTRT1',\n",
              " 'exp_CSNK1E',\n",
              " 'exp_MAGEB1',\n",
              " 'exp_RPLP2P1',\n",
              " 'exp_GNAT3',\n",
              " 'exp_IFRD2',\n",
              " 'exp_PHB2',\n",
              " 'exp_RP3-359N14.1',\n",
              " 'exp_EBF2',\n",
              " 'exp_C16orf3',\n",
              " 'exp_FLJ14082',\n",
              " 'exp_XIST',\n",
              " 'exp_CLIC1P1',\n",
              " 'exp_RP1-40G4P.1',\n",
              " 'exp_LINC00574',\n",
              " 'exp_ATP5LP2',\n",
              " 'exp_FABP3P2',\n",
              " 'exp_Z83844.1',\n",
              " 'exp_TTTY15',\n",
              " 'exp_ZNF37BP',\n",
              " 'exp_KRT8P17',\n",
              " 'exp_RP11-69I8.2',\n",
              " 'exp_ARHGEF38',\n",
              " 'exp_ADSL',\n",
              " 'exp_RP1-149A16.17',\n",
              " 'exp_PI4KA',\n",
              " 'exp_PEG10',\n",
              " 'exp_HLA-DMB',\n",
              " 'exp_DDOST',\n",
              " 'exp_RP11-727A23.5',\n",
              " 'exp_CTC-428G20.3',\n",
              " 'exp_ZNF324B',\n",
              " 'exp_PVT1',\n",
              " 'exp_GYPB',\n",
              " 'exp_RP1-142F18.2',\n",
              " 'exp_SEPP1',\n",
              " 'exp_C8orf17',\n",
              " 'exp_HMBS',\n",
              " 'exp_ZNF350',\n",
              " 'exp_ZNF271',\n",
              " 'exp_RP11-1220K2.2',\n",
              " 'exp_RP11-12J10.3',\n",
              " 'exp_RP11-430B1.2',\n",
              " 'exp_HERC2P10',\n",
              " 'exp_RP11-357H14.19',\n",
              " 'exp_MRC1',\n",
              " 'exp_RP11-490O6.2',\n",
              " 'exp_RBM8A',\n",
              " 'exp_MGC4294',\n",
              " 'exp_NA',\n",
              " 'exp_RDBP',\n",
              " 'exp_ELANE',\n",
              " 'exp_ADORA3',\n",
              " 'exp_TDRD1',\n",
              " 'exp_KIF21B',\n",
              " 'exp_ANK3',\n",
              " 'exp_GRIA2',\n",
              " 'exp_ENPEP',\n",
              " 'exp_EIF3B',\n",
              " 'exp_CST4',\n",
              " 'exp_NUP85',\n",
              " 'exp_FOXA1',\n",
              " 'exp_WARS2',\n",
              " 'exp_FANCL',\n",
              " 'exp_GOSR1',\n",
              " 'exp_GPR32',\n",
              " 'exp_ADD2',\n",
              " 'exp_SEPT4',\n",
              " 'exp_LRP6',\n",
              " 'exp_MBTPS2',\n",
              " 'exp_APEX2',\n",
              " 'exp_ATP2B4',\n",
              " 'exp_CCND3',\n",
              " 'exp_AZIN1',\n",
              " 'exp_PHF17',\n",
              " 'exp_ADI1',\n",
              " 'exp_GNLY',\n",
              " 'exp_KLHL3',\n",
              " 'exp_DET1',\n",
              " 'exp_TDP2',\n",
              " 'exp_ARG1',\n",
              " 'exp_LAMB3',\n",
              " 'exp_AGAP2',\n",
              " 'exp_RBM39',\n",
              " 'exp_CIDEB',\n",
              " 'exp_FH',\n",
              " 'exp_SPSB1',\n",
              " 'exp_BNIP1',\n",
              " 'exp_RP1-302G2.5',\n",
              " 'exp_BCAS1',\n",
              " 'exp_PSMA5',\n",
              " 'exp_FAHD2A',\n",
              " 'exp_INTS6',\n",
              " 'exp_CPNE6',\n",
              " 'exp_PPP1R10',\n",
              " 'exp_HS3ST1',\n",
              " 'exp_MBL1P',\n",
              " 'exp_NUBP2',\n",
              " 'exp_OBFC1',\n",
              " 'exp_FKBP4',\n",
              " 'exp_NBR1',\n",
              " 'exp_C1GALT1C1',\n",
              " 'exp_NUP43',\n",
              " 'exp_COLEC11',\n",
              " 'exp_CYTL1',\n",
              " 'exp_SLN',\n",
              " 'exp_MBTPS1',\n",
              " 'exp_RRAS',\n",
              " 'exp_CTDSPL',\n",
              " 'exp_NSUN7',\n",
              " 'exp_TBCA',\n",
              " 'exp_PAGE4',\n",
              " 'exp_CCL8',\n",
              " 'exp_CACFD1',\n",
              " 'exp_PPP4R1',\n",
              " 'exp_ZNF148',\n",
              " 'exp_CREG1',\n",
              " 'exp_CCDC88C',\n",
              " 'exp_EHD4',\n",
              " 'exp_CTBP2',\n",
              " 'exp_YTHDC2',\n",
              " 'exp_NIT1',\n",
              " 'exp_SMC6',\n",
              " 'exp_SAP30L',\n",
              " 'exp_SEC16A',\n",
              " 'exp_GLYR1',\n",
              " 'exp_GDF9',\n",
              " 'exp_MMP16',\n",
              " 'exp_ZNF471',\n",
              " 'exp_LRRC3',\n",
              " 'exp_NUP153',\n",
              " 'exp_UNC5C',\n",
              " 'exp_PRRX1',\n",
              " 'exp_ASB13',\n",
              " 'exp_FAM70A',\n",
              " 'exp_ETV6',\n",
              " 'exp_PRC1',\n",
              " 'exp_EVI5',\n",
              " 'exp_CD97',\n",
              " 'exp_NUPL1',\n",
              " 'exp_IL36G',\n",
              " 'exp_DBH',\n",
              " 'exp_DIAPH3',\n",
              " 'exp_GPR45',\n",
              " 'exp_C1RL',\n",
              " 'exp_POLD2',\n",
              " 'exp_TST',\n",
              " 'exp_PCBP1',\n",
              " 'exp_KCTD15',\n",
              " 'exp_RHOF',\n",
              " 'exp_RFX3',\n",
              " 'exp_ADAM22',\n",
              " 'exp_F9',\n",
              " 'exp_KRT20',\n",
              " 'exp_VSNL1',\n",
              " 'exp_CYP46A1',\n",
              " 'exp_CD300A',\n",
              " 'exp_ZMIZ2',\n",
              " 'exp_OPRK1',\n",
              " 'exp_TBL1Y',\n",
              " 'exp_SOGA2',\n",
              " 'exp_MSN',\n",
              " 'exp_COQ7',\n",
              " 'exp_FKBP5',\n",
              " 'exp_CHST7',\n",
              " 'exp_C22orf46',\n",
              " 'exp_CNR1',\n",
              " 'exp_CUL4B',\n",
              " 'exp_NBEA',\n",
              " 'exp_RFWD3',\n",
              " 'exp_NDN',\n",
              " 'exp_PPARD',\n",
              " 'exp_DHCR7',\n",
              " 'exp_EPN2',\n",
              " 'exp_ATP10B',\n",
              " 'exp_CRELD2',\n",
              " 'exp_CLK4',\n",
              " 'exp_VASH2',\n",
              " 'exp_CYP3A4',\n",
              " 'exp_ITGA9',\n",
              " 'exp_GPM6A',\n",
              " 'exp_NAE1',\n",
              " 'exp_CENPO',\n",
              " 'exp_CALML3',\n",
              " 'exp_MC4R',\n",
              " 'exp_ATP8B4',\n",
              " 'exp_NFATC1',\n",
              " 'exp_GCAT',\n",
              " 'exp_TRAF3',\n",
              " 'exp_HPR',\n",
              " 'exp_RARS',\n",
              " 'exp_AUTS2',\n",
              " 'exp_RALBP1',\n",
              " 'exp_ZNF83',\n",
              " 'exp_LLGL1',\n",
              " 'exp_PPA1',\n",
              " 'exp_PLP1',\n",
              " 'exp_EIF2D',\n",
              " 'exp_BMP4',\n",
              " 'exp_SPCS1',\n",
              " 'exp_AZU1',\n",
              " 'exp_IL10RB',\n",
              " 'exp_NAA50',\n",
              " 'exp_ABO',\n",
              " 'exp_AKAP8',\n",
              " 'exp_ZC3H13',\n",
              " 'exp_FANCC',\n",
              " 'exp_PTTG1',\n",
              " 'exp_VIPR2',\n",
              " 'exp_MYBPC1',\n",
              " 'exp_SPSB3',\n",
              " 'exp_KRT19',\n",
              " 'exp_ETS2',\n",
              " 'exp_ID2',\n",
              " 'exp_CAMTA2',\n",
              " 'exp_KLF5',\n",
              " 'exp_RP11-193H5.1',\n",
              " 'exp_SFXN3',\n",
              " 'exp_ZNF408',\n",
              " 'exp_ADAM3A',\n",
              " 'exp_IRF2',\n",
              " 'exp_CAP1',\n",
              " 'exp_KIAA0226',\n",
              " 'exp_ITGB6',\n",
              " 'exp_OGT',\n",
              " 'exp_SP3P',\n",
              " 'exp_PGD',\n",
              " 'exp_CDX2',\n",
              " 'exp_SOCS5',\n",
              " 'exp_FKBP10',\n",
              " 'exp_REG3A',\n",
              " 'exp_AC007238.1',\n",
              " 'exp_AQR',\n",
              " 'exp_SLC7A10',\n",
              " 'exp_SV2B',\n",
              " 'exp_MYO16',\n",
              " 'exp_RP11-617F23.1',\n",
              " 'exp_CPVL',\n",
              " 'exp_UGCG',\n",
              " 'exp_TASP1',\n",
              " 'exp_DDN',\n",
              " 'exp_KRT6C',\n",
              " 'exp_CYP1A1',\n",
              " 'exp_SLC16A5',\n",
              " 'exp_KRT85',\n",
              " 'exp_LBX1',\n",
              " 'exp_IGLV1-51',\n",
              " 'exp_NUDCD3',\n",
              " 'exp_TTTY14',\n",
              " 'exp_APPL1',\n",
              " 'exp_ZNF562',\n",
              " 'exp_FAIM',\n",
              " 'exp_HOXA11',\n",
              " 'exp_TMEM135',\n",
              " 'exp_ALDH3B1',\n",
              " 'exp_TUFM',\n",
              " 'exp_MT3',\n",
              " 'exp_TRIOBP',\n",
              " 'exp_PUM2',\n",
              " 'exp_NXF3',\n",
              " 'exp_IGF1',\n",
              " 'exp_HIVEP3',\n",
              " 'exp_IFIH1',\n",
              " 'exp_CD48',\n",
              " 'exp_CCT5',\n",
              " 'exp_GCA',\n",
              " 'exp_KAT6B',\n",
              " 'exp_FBXO9',\n",
              " 'exp_LITAF',\n",
              " 'exp_TBCC',\n",
              " 'exp_ZNF207',\n",
              " 'exp_FAM120C',\n",
              " 'exp_ORC1',\n",
              " 'exp_FECH',\n",
              " 'exp_ARL2BP',\n",
              " 'exp_TRPM1',\n",
              " 'exp_TBC1D15',\n",
              " 'exp_BTBD3',\n",
              " 'exp_BPGM',\n",
              " 'exp_GNB2L1',\n",
              " 'exp_COL8A2',\n",
              " 'exp_KDM4C',\n",
              " 'exp_S100B',\n",
              " 'exp_GUCY2C',\n",
              " 'exp_ORC5',\n",
              " 'exp_MSL3',\n",
              " 'exp_HCN4',\n",
              " 'exp_FER',\n",
              " 'exp_TMEM176A',\n",
              " 'exp_LRP1',\n",
              " 'exp_TMED5',\n",
              " 'exp_PCSK5',\n",
              " 'exp_TARS2',\n",
              " 'exp_ZNF266',\n",
              " 'exp_AC004941.5',\n",
              " 'exp_SCML1',\n",
              " 'exp_SEPT9',\n",
              " 'exp_RABGGTB',\n",
              " 'exp_IGSF3',\n",
              " 'exp_DEFA5',\n",
              " 'exp_BBC3',\n",
              " 'exp_ABHD5',\n",
              " 'exp_PLEKHM2',\n",
              " 'exp_RASA3',\n",
              " 'exp_RRAGD',\n",
              " 'exp_ZNF674',\n",
              " 'exp_RP11-3L10.1',\n",
              " 'exp_PPWD1',\n",
              " 'exp_NARG2',\n",
              " 'exp_SPEN',\n",
              " 'exp_ALDOB',\n",
              " 'exp_CELF2',\n",
              " 'exp_KCNQ1DN',\n",
              " 'exp_EPM2A',\n",
              " 'exp_ATG14',\n",
              " 'exp_RPL10L',\n",
              " 'exp_RAB33B',\n",
              " 'exp_WARS',\n",
              " 'exp_LTB',\n",
              " 'exp_MTM1',\n",
              " 'exp_CADM3',\n",
              " 'exp_SLC12A1',\n",
              " 'exp_RTN4',\n",
              " 'exp_OAZ2',\n",
              " 'exp_TRAV13-2',\n",
              " 'exp_GAPVD1',\n",
              " 'exp_FGFR2',\n",
              " 'exp_KRT1',\n",
              " 'exp_MAST3',\n",
              " 'exp_CEP72',\n",
              " 'exp_VANGL1',\n",
              " 'exp_PAMR1',\n",
              " 'exp_DNAJC2',\n",
              " 'exp_COL9A3',\n",
              " 'exp_BHMT',\n",
              " 'exp_NR4A2',\n",
              " 'exp_MKNK1',\n",
              " 'exp_AGFG1',\n",
              " 'exp_KIAA1551',\n",
              " 'exp_PCCB',\n",
              " 'exp_POLR3K',\n",
              " 'exp_TCF15',\n",
              " 'exp_C4orf27',\n",
              " 'exp_ELF3',\n",
              " 'exp_DLK2',\n",
              " 'exp_STK10',\n",
              " 'exp_PPP1R1A',\n",
              " 'exp_USP14',\n",
              " 'exp_TMEM35',\n",
              " 'exp_SPATA6L',\n",
              " 'exp_NFATC3',\n",
              " 'exp_SRC',\n",
              " 'exp_DNPEP',\n",
              " 'exp_NEDD4L',\n",
              " 'exp_ULK4',\n",
              " 'exp_GPR6',\n",
              " 'exp_SULT1A2',\n",
              " 'exp_CDC42SE1',\n",
              " 'exp_DST',\n",
              " 'exp_C11orf30',\n",
              " 'exp_KIF16B',\n",
              " 'exp_TSC22D2',\n",
              " 'exp_MMP27',\n",
              " 'exp_RP11-260A9.1',\n",
              " 'exp_AAGAB',\n",
              " 'exp_ASIC4',\n",
              " 'exp_TAF5L',\n",
              " 'exp_DTWD1',\n",
              " 'exp_TMEM70',\n",
              " 'exp_ELAVL4',\n",
              " 'exp_CYP2W1',\n",
              " 'exp_CCR2',\n",
              " 'exp_CCT6A',\n",
              " 'exp_AFM',\n",
              " 'exp_CSTF2T',\n",
              " 'exp_HS3ST3A1',\n",
              " 'exp_CPNE3',\n",
              " 'exp_C8orf33',\n",
              " 'exp_CCDC91',\n",
              " 'exp_MUSK',\n",
              " 'exp_PTGES',\n",
              " 'exp_PRR15L',\n",
              " 'exp_PDZRN3',\n",
              " 'exp_GSTK1',\n",
              " 'exp_DCAF10',\n",
              " 'exp_AACS',\n",
              " 'exp_SIM1',\n",
              " 'exp_PDC',\n",
              " 'exp_PIEZO2',\n",
              " 'exp_TRBV5-2',\n",
              " 'exp_SEH1L',\n",
              " 'exp_SMAD9',\n",
              " 'exp_DEPTOR',\n",
              " 'exp_SSH1',\n",
              " 'exp_IGHMBP2',\n",
              " 'exp_CREBL2',\n",
              " 'exp_TEX14',\n",
              " 'exp_PKMYT1',\n",
              " 'exp_LSS',\n",
              " 'exp_FIG4',\n",
              " 'exp_PHACTR2',\n",
              " 'exp_MYL10',\n",
              " 'exp_DUSP21',\n",
              " 'exp_CISH',\n",
              " 'exp_AGPS',\n",
              " 'exp_CAB39',\n",
              " 'exp_ADAP2',\n",
              " 'exp_ECD',\n",
              " 'exp_SMAGP',\n",
              " 'exp_PGS1',\n",
              " 'exp_ANAPC10',\n",
              " 'exp_PRKAR2B',\n",
              " 'exp_CASR',\n",
              " 'exp_SHC1',\n",
              " 'exp_DPP8',\n",
              " 'exp_ACTR6',\n",
              " 'exp_PPM1F',\n",
              " 'exp_IMMT',\n",
              " 'exp_STAT6',\n",
              " 'exp_GPR88',\n",
              " 'exp_ADH1C',\n",
              " 'exp_B4GALT6',\n",
              " 'exp_SPAG8',\n",
              " 'exp_CLK3',\n",
              " 'exp_HPGD',\n",
              " 'exp_NCOA1',\n",
              " 'exp_ATP2B1',\n",
              " 'exp_ASTE1',\n",
              " 'exp_TES',\n",
              " 'exp_CHST2',\n",
              " 'exp_XCL1',\n",
              " 'exp_HFE',\n",
              " 'exp_CBLB',\n",
              " 'exp_SIGIRR',\n",
              " 'exp_ZNF248',\n",
              " 'exp_REC8',\n",
              " 'exp_NCR2',\n",
              " 'exp_CHSY1',\n",
              " 'exp_TP53',\n",
              " 'exp_ZNF43',\n",
              " 'exp_FDPS',\n",
              " 'exp_DCHS1',\n",
              " 'exp_LIMA1',\n",
              " 'exp_GRK6',\n",
              " 'exp_UCHL1',\n",
              " 'exp_MBD3',\n",
              " 'exp_C10orf76',\n",
              " 'exp_DHRS12',\n",
              " 'exp_FOXF1',\n",
              " 'exp_MARCH2',\n",
              " 'exp_DRD2',\n",
              " 'exp_C1orf159',\n",
              " 'exp_ABCB11',\n",
              " 'exp_CENPQ',\n",
              " 'exp_POM121L9P',\n",
              " 'exp_RBM25',\n",
              " 'exp_RASGRP1',\n",
              " 'exp_WDFY3',\n",
              " 'exp_C11orf95',\n",
              " 'exp_HRG',\n",
              " 'exp_GTF3C3',\n",
              " 'exp_CLC',\n",
              " 'exp_CEPT1',\n",
              " 'exp_ZNF688',\n",
              " 'exp_ASS1',\n",
              " 'exp_DOLK',\n",
              " 'exp_TMEM161A',\n",
              " 'exp_RARB',\n",
              " 'exp_TRAPPC6A',\n",
              " 'exp_LDLRAP1',\n",
              " 'exp_SLC35C2',\n",
              " 'exp_AC004893.11',\n",
              " 'exp_CCT4',\n",
              " 'exp_PGK1',\n",
              " 'exp_TMCO1',\n",
              " 'exp_LBP',\n",
              " 'exp_TMEM127',\n",
              " 'exp_TSGA10',\n",
              " 'exp_PKM',\n",
              " 'exp_SNN',\n",
              " 'exp_KATNB1',\n",
              " 'exp_PZP',\n",
              " 'exp_STEAP1B',\n",
              " 'exp_TMC6',\n",
              " 'exp_MFSD1',\n",
              " 'exp_GAS7',\n",
              " 'exp_PTGS2',\n",
              " 'exp_ALDH1A2',\n",
              " 'exp_RABL5',\n",
              " 'exp_TXNL4B',\n",
              " 'exp_RANBP17',\n",
              " 'exp_OPRM1',\n",
              " 'exp_DNASE1L2',\n",
              " 'exp_MXI1',\n",
              " 'exp_RAB11A',\n",
              " 'exp_COL9A2',\n",
              " 'exp_LRP2BP',\n",
              " 'exp_ZMAT5',\n",
              " 'exp_TUBA1A',\n",
              " 'exp_MARCH8',\n",
              " 'exp_MECR',\n",
              " 'exp_EXD2',\n",
              " 'exp_INADL',\n",
              " 'exp_PGLS',\n",
              " 'exp_ARIH2',\n",
              " 'exp_ORM1',\n",
              " 'exp_NBR2',\n",
              " 'exp_MMP25',\n",
              " 'exp_CDCP1',\n",
              " 'exp_TNP1',\n",
              " 'exp_ADRA2C',\n",
              " 'exp_MGAM',\n",
              " 'exp_PLCB3',\n",
              " 'exp_CHRM3',\n",
              " 'exp_GAD2',\n",
              " 'exp_NEUROD4',\n",
              " 'exp_AFF3',\n",
              " 'exp_JAK3',\n",
              " 'exp_FAM169A',\n",
              " 'exp_USP48',\n",
              " 'exp_FAM182B',\n",
              " 'exp_TPM3',\n",
              " 'exp_PTTG3P',\n",
              " 'exp_STT3A',\n",
              " 'exp_NEK4',\n",
              " 'exp_STX17',\n",
              " 'exp_PIGP',\n",
              " 'exp_SPRY1',\n",
              " 'exp_ETNK1',\n",
              " 'exp_DLGAP5',\n",
              " 'exp_HMG20A',\n",
              " 'exp_RHOBTB1',\n",
              " 'exp_CDKN1B',\n",
              " 'exp_MCCC1',\n",
              " 'exp_KAL1',\n",
              " 'exp_ICMT',\n",
              " 'exp_HBD',\n",
              " 'exp_RAI2',\n",
              " 'exp_MECOM']"
            ]
          },
          "metadata": {
            "tags": []
          },
          "execution_count": 13
        }
      ]
    },
    {
      "cell_type": "code",
      "metadata": {
        "colab": {
          "base_uri": "https://localhost:8080/",
          "height": 387
        },
        "id": "-5BCGxmc9Oqq",
        "outputId": "4ec660aa-3a38-4741-f632-1fe89dcaa6a1"
      },
      "source": [
        "sns.displot(y, kind=\"kde\")"
      ],
      "execution_count": 14,
      "outputs": [
        {
          "output_type": "execute_result",
          "data": {
            "text/plain": [
              "<seaborn.axisgrid.FacetGrid at 0x7f2e9a71aeb8>"
            ]
          },
          "metadata": {
            "tags": []
          },
          "execution_count": 14
        },
        {
          "output_type": "display_data",
          "data": {
            "image/png": "[encoded data removed]",
            "text/plain": [
              "<Figure size 360x360 with 1 Axes>"
            ]
          },
          "metadata": {
            "tags": [],
            "needs_background": "light"
          }
        }
      ]
    },
    {
      "cell_type": "code",
      "metadata": {
        "id": "zhlP9YBF00Xl"
      },
      "source": [
        "# So we can see that the target values have skewed distribution with a long initial tail\r\n"
      ],
      "execution_count": 14,
      "outputs": []
    },
    {
      "cell_type": "code",
      "metadata": {
        "id": "GzM0T2EN9Wd5"
      },
      "source": [
        "X = dataset[features]"
      ],
      "execution_count": 15,
      "outputs": []
    },
    {
      "cell_type": "code",
      "metadata": {
        "colab": {
          "base_uri": "https://localhost:8080/",
          "height": 251
        },
        "id": "hy9V6tqG1bKA",
        "outputId": "bbaddd73-d66e-45a1-869d-5d1ca49d8391"
      },
      "source": [
        "X.head()"
      ],
      "execution_count": 16,
      "outputs": [
        {
          "output_type": "execute_result",
          "data": {
            "text/html": [
              "<div>\n",
              "<style scoped>\n",
              "    .dataframe tbody tr th:only-of-type {\n",
              "        vertical-align: middle;\n",
              "    }\n",
              "\n",
              "    .dataframe tbody tr th {\n",
              "        vertical-align: top;\n",
              "    }\n",
              "\n",
              "    .dataframe thead th {\n",
              "        text-align: right;\n",
              "    }\n",
              "</style>\n",
              "<table border=\"1\" class=\"dataframe\">\n",
              "  <thead>\n",
              "    <tr style=\"text-align: right;\">\n",
              "      <th></th>\n",
              "      <th>exp_UPF1</th>\n",
              "      <th>exp_ACSM3</th>\n",
              "      <th>exp_CREBBP</th>\n",
              "      <th>exp_TBXA2R</th>\n",
              "      <th>exp_IFRD1</th>\n",
              "      <th>exp_ADIPOR2</th>\n",
              "      <th>exp_FMO1</th>\n",
              "      <th>exp_SPAST</th>\n",
              "      <th>exp_STRAP</th>\n",
              "      <th>exp_TOMM34</th>\n",
              "      <th>exp_TNFRSF1B</th>\n",
              "      <th>exp_TBPL1</th>\n",
              "      <th>exp_ZZZ3</th>\n",
              "      <th>exp_TUBG2</th>\n",
              "      <th>exp_FLT4</th>\n",
              "      <th>exp_C2orf83</th>\n",
              "      <th>exp_NNAT</th>\n",
              "      <th>exp_CYFIP2</th>\n",
              "      <th>exp_WNK1</th>\n",
              "      <th>exp_HDAC7</th>\n",
              "      <th>exp_NCKAP1</th>\n",
              "      <th>exp_SUGP2</th>\n",
              "      <th>exp_ANKS1A</th>\n",
              "      <th>exp_CYB5R4</th>\n",
              "      <th>exp_SLC9A7</th>\n",
              "      <th>exp_NFYC</th>\n",
              "      <th>exp_ZBTB11</th>\n",
              "      <th>exp_EML1</th>\n",
              "      <th>exp_FGFR3</th>\n",
              "      <th>exp_HEATR6</th>\n",
              "      <th>exp_REEP1</th>\n",
              "      <th>exp_GPR116</th>\n",
              "      <th>exp_ST6GALNAC2</th>\n",
              "      <th>exp_ZFYVE26</th>\n",
              "      <th>exp_PDE8A</th>\n",
              "      <th>exp_ADAM11</th>\n",
              "      <th>exp_NUAK1</th>\n",
              "      <th>exp_PTPLAD1</th>\n",
              "      <th>exp_WDR62</th>\n",
              "      <th>exp_RAB7A</th>\n",
              "      <th>...</th>\n",
              "      <th>exp_MARCH8</th>\n",
              "      <th>exp_MECR</th>\n",
              "      <th>exp_EXD2</th>\n",
              "      <th>exp_INADL</th>\n",
              "      <th>exp_PGLS</th>\n",
              "      <th>exp_ARIH2</th>\n",
              "      <th>exp_ORM1</th>\n",
              "      <th>exp_NBR2</th>\n",
              "      <th>exp_MMP25</th>\n",
              "      <th>exp_CDCP1</th>\n",
              "      <th>exp_TNP1</th>\n",
              "      <th>exp_ADRA2C</th>\n",
              "      <th>exp_MGAM</th>\n",
              "      <th>exp_PLCB3</th>\n",
              "      <th>exp_CHRM3</th>\n",
              "      <th>exp_GAD2</th>\n",
              "      <th>exp_NEUROD4</th>\n",
              "      <th>exp_AFF3</th>\n",
              "      <th>exp_JAK3</th>\n",
              "      <th>exp_FAM169A</th>\n",
              "      <th>exp_USP48</th>\n",
              "      <th>exp_FAM182B</th>\n",
              "      <th>exp_TPM3</th>\n",
              "      <th>exp_PTTG3P</th>\n",
              "      <th>exp_STT3A</th>\n",
              "      <th>exp_NEK4</th>\n",
              "      <th>exp_STX17</th>\n",
              "      <th>exp_PIGP</th>\n",
              "      <th>exp_SPRY1</th>\n",
              "      <th>exp_ETNK1</th>\n",
              "      <th>exp_DLGAP5</th>\n",
              "      <th>exp_HMG20A</th>\n",
              "      <th>exp_RHOBTB1</th>\n",
              "      <th>exp_CDKN1B</th>\n",
              "      <th>exp_MCCC1</th>\n",
              "      <th>exp_KAL1</th>\n",
              "      <th>exp_ICMT</th>\n",
              "      <th>exp_HBD</th>\n",
              "      <th>exp_RAI2</th>\n",
              "      <th>exp_MECOM</th>\n",
              "    </tr>\n",
              "  </thead>\n",
              "  <tbody>\n",
              "    <tr>\n",
              "      <th>0</th>\n",
              "      <td>6.011028</td>\n",
              "      <td>4.955063</td>\n",
              "      <td>5.498606</td>\n",
              "      <td>4.615622</td>\n",
              "      <td>8.981380</td>\n",
              "      <td>8.596295</td>\n",
              "      <td>5.983356</td>\n",
              "      <td>4.978231</td>\n",
              "      <td>NaN</td>\n",
              "      <td>6.594367</td>\n",
              "      <td>4.577073</td>\n",
              "      <td>9.539299</td>\n",
              "      <td>8.105715</td>\n",
              "      <td>4.419789</td>\n",
              "      <td>7.003484</td>\n",
              "      <td>4.287194</td>\n",
              "      <td>4.398404</td>\n",
              "      <td>5.426448</td>\n",
              "      <td>NaN</td>\n",
              "      <td>5.632297</td>\n",
              "      <td>9.282932</td>\n",
              "      <td>5.413248</td>\n",
              "      <td>7.329596</td>\n",
              "      <td>6.228573</td>\n",
              "      <td>4.371101</td>\n",
              "      <td>5.202511</td>\n",
              "      <td>8.515883</td>\n",
              "      <td>4.679146</td>\n",
              "      <td>5.538737</td>\n",
              "      <td>5.407479</td>\n",
              "      <td>4.833182</td>\n",
              "      <td>4.972518</td>\n",
              "      <td>4.847553</td>\n",
              "      <td>5.746806</td>\n",
              "      <td>6.419034</td>\n",
              "      <td>NaN</td>\n",
              "      <td>6.868150</td>\n",
              "      <td>NaN</td>\n",
              "      <td>5.174451</td>\n",
              "      <td>NaN</td>\n",
              "      <td>...</td>\n",
              "      <td>NaN</td>\n",
              "      <td>6.880950</td>\n",
              "      <td>5.979614</td>\n",
              "      <td>4.695493</td>\n",
              "      <td>9.026928</td>\n",
              "      <td>6.084753</td>\n",
              "      <td>4.594327</td>\n",
              "      <td>5.246468</td>\n",
              "      <td>4.512440</td>\n",
              "      <td>4.355047</td>\n",
              "      <td>4.352557</td>\n",
              "      <td>NaN</td>\n",
              "      <td>4.554207</td>\n",
              "      <td>5.861542</td>\n",
              "      <td>4.877526</td>\n",
              "      <td>NaN</td>\n",
              "      <td>4.654437</td>\n",
              "      <td>4.631872</td>\n",
              "      <td>4.599772</td>\n",
              "      <td>5.916250</td>\n",
              "      <td>NaN</td>\n",
              "      <td>5.388985</td>\n",
              "      <td>4.477246</td>\n",
              "      <td>5.406135</td>\n",
              "      <td>8.977606</td>\n",
              "      <td>6.499660</td>\n",
              "      <td>5.556760</td>\n",
              "      <td>9.365081</td>\n",
              "      <td>5.098325</td>\n",
              "      <td>6.410435</td>\n",
              "      <td>6.224192</td>\n",
              "      <td>NaN</td>\n",
              "      <td>4.799369</td>\n",
              "      <td>9.643505</td>\n",
              "      <td>8.248490</td>\n",
              "      <td>5.694492</td>\n",
              "      <td>7.657050</td>\n",
              "      <td>3.946700</td>\n",
              "      <td>NaN</td>\n",
              "      <td>4.595024</td>\n",
              "    </tr>\n",
              "    <tr>\n",
              "      <th>1</th>\n",
              "      <td>7.221385</td>\n",
              "      <td>4.693445</td>\n",
              "      <td>5.285347</td>\n",
              "      <td>4.483968</td>\n",
              "      <td>7.783506</td>\n",
              "      <td>9.588306</td>\n",
              "      <td>4.450641</td>\n",
              "      <td>5.313183</td>\n",
              "      <td>10.924331</td>\n",
              "      <td>9.073996</td>\n",
              "      <td>4.743517</td>\n",
              "      <td>8.645856</td>\n",
              "      <td>8.492360</td>\n",
              "      <td>NaN</td>\n",
              "      <td>5.313581</td>\n",
              "      <td>4.671841</td>\n",
              "      <td>4.805151</td>\n",
              "      <td>5.003717</td>\n",
              "      <td>8.677782</td>\n",
              "      <td>5.367765</td>\n",
              "      <td>9.682706</td>\n",
              "      <td>5.916632</td>\n",
              "      <td>6.792334</td>\n",
              "      <td>NaN</td>\n",
              "      <td>4.394155</td>\n",
              "      <td>6.225076</td>\n",
              "      <td>7.587768</td>\n",
              "      <td>4.322592</td>\n",
              "      <td>5.565982</td>\n",
              "      <td>5.685577</td>\n",
              "      <td>4.365391</td>\n",
              "      <td>4.670494</td>\n",
              "      <td>5.780187</td>\n",
              "      <td>6.360626</td>\n",
              "      <td>7.840607</td>\n",
              "      <td>5.067308</td>\n",
              "      <td>5.605796</td>\n",
              "      <td>7.209583</td>\n",
              "      <td>5.816199</td>\n",
              "      <td>NaN</td>\n",
              "      <td>...</td>\n",
              "      <td>6.986678</td>\n",
              "      <td>7.537502</td>\n",
              "      <td>NaN</td>\n",
              "      <td>5.112914</td>\n",
              "      <td>10.150078</td>\n",
              "      <td>NaN</td>\n",
              "      <td>4.420781</td>\n",
              "      <td>5.845045</td>\n",
              "      <td>NaN</td>\n",
              "      <td>8.412018</td>\n",
              "      <td>4.682327</td>\n",
              "      <td>NaN</td>\n",
              "      <td>4.720568</td>\n",
              "      <td>6.912968</td>\n",
              "      <td>5.692177</td>\n",
              "      <td>NaN</td>\n",
              "      <td>4.429016</td>\n",
              "      <td>NaN</td>\n",
              "      <td>4.455790</td>\n",
              "      <td>4.728774</td>\n",
              "      <td>6.616857</td>\n",
              "      <td>4.518463</td>\n",
              "      <td>4.333330</td>\n",
              "      <td>5.956245</td>\n",
              "      <td>9.247870</td>\n",
              "      <td>7.332190</td>\n",
              "      <td>6.360304</td>\n",
              "      <td>10.140100</td>\n",
              "      <td>6.336477</td>\n",
              "      <td>6.264391</td>\n",
              "      <td>8.407566</td>\n",
              "      <td>6.664384</td>\n",
              "      <td>6.601413</td>\n",
              "      <td>8.876646</td>\n",
              "      <td>8.209376</td>\n",
              "      <td>4.202259</td>\n",
              "      <td>8.476935</td>\n",
              "      <td>3.937762</td>\n",
              "      <td>4.625224</td>\n",
              "      <td>6.032015</td>\n",
              "    </tr>\n",
              "    <tr>\n",
              "      <th>2</th>\n",
              "      <td>6.333542</td>\n",
              "      <td>4.540520</td>\n",
              "      <td>NaN</td>\n",
              "      <td>5.006537</td>\n",
              "      <td>7.234994</td>\n",
              "      <td>9.767943</td>\n",
              "      <td>4.743530</td>\n",
              "      <td>5.211246</td>\n",
              "      <td>10.454959</td>\n",
              "      <td>6.665818</td>\n",
              "      <td>6.025225</td>\n",
              "      <td>8.554368</td>\n",
              "      <td>NaN</td>\n",
              "      <td>3.926918</td>\n",
              "      <td>NaN</td>\n",
              "      <td>NaN</td>\n",
              "      <td>4.427993</td>\n",
              "      <td>9.844344</td>\n",
              "      <td>9.234862</td>\n",
              "      <td>5.487743</td>\n",
              "      <td>4.730259</td>\n",
              "      <td>6.928151</td>\n",
              "      <td>NaN</td>\n",
              "      <td>9.262168</td>\n",
              "      <td>4.719380</td>\n",
              "      <td>6.581358</td>\n",
              "      <td>7.884421</td>\n",
              "      <td>4.145687</td>\n",
              "      <td>4.558922</td>\n",
              "      <td>4.471687</td>\n",
              "      <td>4.766379</td>\n",
              "      <td>4.810789</td>\n",
              "      <td>5.356899</td>\n",
              "      <td>6.533133</td>\n",
              "      <td>8.438167</td>\n",
              "      <td>4.962530</td>\n",
              "      <td>4.713554</td>\n",
              "      <td>NaN</td>\n",
              "      <td>5.180389</td>\n",
              "      <td>8.657388</td>\n",
              "      <td>...</td>\n",
              "      <td>7.135066</td>\n",
              "      <td>6.152465</td>\n",
              "      <td>5.111161</td>\n",
              "      <td>4.526724</td>\n",
              "      <td>8.914593</td>\n",
              "      <td>6.028840</td>\n",
              "      <td>3.949027</td>\n",
              "      <td>5.058079</td>\n",
              "      <td>4.725097</td>\n",
              "      <td>4.475021</td>\n",
              "      <td>4.251298</td>\n",
              "      <td>5.037131</td>\n",
              "      <td>NaN</td>\n",
              "      <td>5.999143</td>\n",
              "      <td>4.725542</td>\n",
              "      <td>4.217727</td>\n",
              "      <td>NaN</td>\n",
              "      <td>5.693792</td>\n",
              "      <td>NaN</td>\n",
              "      <td>4.668861</td>\n",
              "      <td>6.738761</td>\n",
              "      <td>4.890169</td>\n",
              "      <td>4.156773</td>\n",
              "      <td>6.328307</td>\n",
              "      <td>8.279082</td>\n",
              "      <td>7.771402</td>\n",
              "      <td>6.066929</td>\n",
              "      <td>10.009280</td>\n",
              "      <td>NaN</td>\n",
              "      <td>6.480482</td>\n",
              "      <td>9.593730</td>\n",
              "      <td>7.573112</td>\n",
              "      <td>6.577179</td>\n",
              "      <td>10.220242</td>\n",
              "      <td>8.712841</td>\n",
              "      <td>4.653557</td>\n",
              "      <td>7.035348</td>\n",
              "      <td>4.085890</td>\n",
              "      <td>4.451836</td>\n",
              "      <td>NaN</td>\n",
              "    </tr>\n",
              "    <tr>\n",
              "      <th>3</th>\n",
              "      <td>NaN</td>\n",
              "      <td>4.191893</td>\n",
              "      <td>5.548728</td>\n",
              "      <td>4.340719</td>\n",
              "      <td>10.160300</td>\n",
              "      <td>8.659492</td>\n",
              "      <td>4.592338</td>\n",
              "      <td>5.391291</td>\n",
              "      <td>11.289558</td>\n",
              "      <td>7.295339</td>\n",
              "      <td>NaN</td>\n",
              "      <td>9.074011</td>\n",
              "      <td>NaN</td>\n",
              "      <td>5.275854</td>\n",
              "      <td>4.686596</td>\n",
              "      <td>NaN</td>\n",
              "      <td>4.390406</td>\n",
              "      <td>4.295362</td>\n",
              "      <td>8.600219</td>\n",
              "      <td>5.264866</td>\n",
              "      <td>9.691075</td>\n",
              "      <td>5.893263</td>\n",
              "      <td>7.172468</td>\n",
              "      <td>7.159088</td>\n",
              "      <td>4.224743</td>\n",
              "      <td>5.252526</td>\n",
              "      <td>8.590899</td>\n",
              "      <td>4.131593</td>\n",
              "      <td>4.313265</td>\n",
              "      <td>6.769021</td>\n",
              "      <td>4.410168</td>\n",
              "      <td>4.358750</td>\n",
              "      <td>8.342615</td>\n",
              "      <td>7.212660</td>\n",
              "      <td>9.277639</td>\n",
              "      <td>4.850959</td>\n",
              "      <td>10.316665</td>\n",
              "      <td>8.350423</td>\n",
              "      <td>4.691851</td>\n",
              "      <td>8.939281</td>\n",
              "      <td>...</td>\n",
              "      <td>6.467205</td>\n",
              "      <td>7.175446</td>\n",
              "      <td>6.682939</td>\n",
              "      <td>NaN</td>\n",
              "      <td>9.998560</td>\n",
              "      <td>6.099948</td>\n",
              "      <td>NaN</td>\n",
              "      <td>NaN</td>\n",
              "      <td>4.571041</td>\n",
              "      <td>8.628757</td>\n",
              "      <td>NaN</td>\n",
              "      <td>4.889944</td>\n",
              "      <td>4.490345</td>\n",
              "      <td>5.969057</td>\n",
              "      <td>4.098976</td>\n",
              "      <td>4.150215</td>\n",
              "      <td>4.591577</td>\n",
              "      <td>4.497270</td>\n",
              "      <td>NaN</td>\n",
              "      <td>6.395097</td>\n",
              "      <td>6.651579</td>\n",
              "      <td>4.561720</td>\n",
              "      <td>4.121915</td>\n",
              "      <td>5.030438</td>\n",
              "      <td>9.731749</td>\n",
              "      <td>NaN</td>\n",
              "      <td>6.183316</td>\n",
              "      <td>NaN</td>\n",
              "      <td>5.018919</td>\n",
              "      <td>NaN</td>\n",
              "      <td>7.336713</td>\n",
              "      <td>5.648026</td>\n",
              "      <td>4.859240</td>\n",
              "      <td>NaN</td>\n",
              "      <td>7.393479</td>\n",
              "      <td>7.257985</td>\n",
              "      <td>8.142954</td>\n",
              "      <td>NaN</td>\n",
              "      <td>4.048923</td>\n",
              "      <td>5.652656</td>\n",
              "    </tr>\n",
              "    <tr>\n",
              "      <th>4</th>\n",
              "      <td>7.353253</td>\n",
              "      <td>4.174989</td>\n",
              "      <td>5.372696</td>\n",
              "      <td>4.606393</td>\n",
              "      <td>9.150973</td>\n",
              "      <td>9.619724</td>\n",
              "      <td>4.476897</td>\n",
              "      <td>5.673377</td>\n",
              "      <td>12.214602</td>\n",
              "      <td>9.388058</td>\n",
              "      <td>4.826211</td>\n",
              "      <td>NaN</td>\n",
              "      <td>8.497498</td>\n",
              "      <td>5.484880</td>\n",
              "      <td>4.481965</td>\n",
              "      <td>NaN</td>\n",
              "      <td>NaN</td>\n",
              "      <td>5.208375</td>\n",
              "      <td>9.262031</td>\n",
              "      <td>NaN</td>\n",
              "      <td>10.415553</td>\n",
              "      <td>6.809589</td>\n",
              "      <td>7.754673</td>\n",
              "      <td>7.625387</td>\n",
              "      <td>4.530174</td>\n",
              "      <td>5.715454</td>\n",
              "      <td>9.050930</td>\n",
              "      <td>NaN</td>\n",
              "      <td>4.258830</td>\n",
              "      <td>6.526623</td>\n",
              "      <td>7.859751</td>\n",
              "      <td>4.637973</td>\n",
              "      <td>NaN</td>\n",
              "      <td>6.638820</td>\n",
              "      <td>8.283675</td>\n",
              "      <td>4.889619</td>\n",
              "      <td>6.948637</td>\n",
              "      <td>8.358112</td>\n",
              "      <td>4.756246</td>\n",
              "      <td>9.824541</td>\n",
              "      <td>...</td>\n",
              "      <td>NaN</td>\n",
              "      <td>7.493072</td>\n",
              "      <td>NaN</td>\n",
              "      <td>4.730513</td>\n",
              "      <td>9.850367</td>\n",
              "      <td>7.018422</td>\n",
              "      <td>4.022909</td>\n",
              "      <td>NaN</td>\n",
              "      <td>4.977143</td>\n",
              "      <td>10.167123</td>\n",
              "      <td>4.768873</td>\n",
              "      <td>5.241929</td>\n",
              "      <td>NaN</td>\n",
              "      <td>6.038450</td>\n",
              "      <td>4.289351</td>\n",
              "      <td>4.236318</td>\n",
              "      <td>4.427634</td>\n",
              "      <td>4.479870</td>\n",
              "      <td>4.222765</td>\n",
              "      <td>8.510756</td>\n",
              "      <td>6.113480</td>\n",
              "      <td>4.446873</td>\n",
              "      <td>4.150597</td>\n",
              "      <td>5.741207</td>\n",
              "      <td>NaN</td>\n",
              "      <td>8.537104</td>\n",
              "      <td>5.569038</td>\n",
              "      <td>10.286261</td>\n",
              "      <td>5.334409</td>\n",
              "      <td>NaN</td>\n",
              "      <td>9.608670</td>\n",
              "      <td>6.408460</td>\n",
              "      <td>3.986025</td>\n",
              "      <td>9.173475</td>\n",
              "      <td>9.036557</td>\n",
              "      <td>3.905234</td>\n",
              "      <td>8.287856</td>\n",
              "      <td>4.071195</td>\n",
              "      <td>4.438627</td>\n",
              "      <td>5.708648</td>\n",
              "    </tr>\n",
              "  </tbody>\n",
              "</table>\n",
              "<p>5 rows × 978 columns</p>\n",
              "</div>"
            ],
            "text/plain": [
              "   exp_UPF1  exp_ACSM3  exp_CREBBP  ...   exp_HBD  exp_RAI2  exp_MECOM\n",
              "0  6.011028   4.955063    5.498606  ...  3.946700       NaN   4.595024\n",
              "1  7.221385   4.693445    5.285347  ...  3.937762  4.625224   6.032015\n",
              "2  6.333542   4.540520         NaN  ...  4.085890  4.451836        NaN\n",
              "3       NaN   4.191893    5.548728  ...       NaN  4.048923   5.652656\n",
              "4  7.353253   4.174989    5.372696  ...  4.071195  4.438627   5.708648\n",
              "\n",
              "[5 rows x 978 columns]"
            ]
          },
          "metadata": {
            "tags": []
          },
          "execution_count": 16
        }
      ]
    },
    {
      "cell_type": "code",
      "metadata": {
        "id": "yqzeNbVG3QVo"
      },
      "source": [
        "#Counting the total number of NaNs in each columns\r\n",
        "NaN4Features = X.isnull().sum()"
      ],
      "execution_count": 17,
      "outputs": []
    },
    {
      "cell_type": "code",
      "metadata": {
        "colab": {
          "base_uri": "https://localhost:8080/"
        },
        "id": "B4s1gue54nb9",
        "outputId": "ade311ba-a10b-4835-f646-e4c305956612"
      },
      "source": [
        "print(NaN4Features)"
      ],
      "execution_count": 18,
      "outputs": [
        {
          "output_type": "stream",
          "text": [
            "exp_UPF1       9\n",
            "exp_ACSM3     12\n",
            "exp_CREBBP    11\n",
            "exp_TBXA2R     9\n",
            "exp_IFRD1      9\n",
            "              ..\n",
            "exp_KAL1      11\n",
            "exp_ICMT      10\n",
            "exp_HBD       18\n",
            "exp_RAI2      17\n",
            "exp_MECOM     24\n",
            "Length: 978, dtype: int64\n"
          ],
          "name": "stdout"
        }
      ]
    },
    {
      "cell_type": "code",
      "metadata": {
        "id": "0ouNhEKM4rug"
      },
      "source": [
        "#This means that each of the feature columns have 106 /1061 = 10% as NaN values that should be imputed"
      ],
      "execution_count": null,
      "outputs": []
    },
    {
      "cell_type": "code",
      "metadata": {
        "colab": {
          "base_uri": "https://localhost:8080/"
        },
        "id": "QFPFQpGn548s",
        "outputId": "d006818b-e121-42af-9b1c-d46639b3c6cb"
      },
      "source": [
        "#Total sum of NaN values in the dataset\r\n",
        "X.isnull().values.sum()"
      ],
      "execution_count": 19,
      "outputs": [
        {
          "output_type": "execute_result",
          "data": {
            "text/plain": [
              "13292"
            ]
          },
          "metadata": {
            "tags": []
          },
          "execution_count": 19
        }
      ]
    },
    {
      "cell_type": "code",
      "metadata": {
        "colab": {
          "base_uri": "https://localhost:8080/"
        },
        "id": "nEkboSpu579W",
        "outputId": "5d7681f1-75a2-425b-fb6b-2673c164338c"
      },
      "source": [
        "109536 / 981 #Dividing the total number of NaNs by total number of features"
      ],
      "execution_count": 20,
      "outputs": [
        {
          "output_type": "execute_result",
          "data": {
            "text/plain": [
              "111.65749235474006"
            ]
          },
          "metadata": {
            "tags": []
          },
          "execution_count": 20
        }
      ]
    },
    {
      "cell_type": "code",
      "metadata": {
        "id": "01RnpZP06eXN"
      },
      "source": [
        "#This is the same number of NaNs per column variable as we calculated earlier"
      ],
      "execution_count": null,
      "outputs": []
    },
    {
      "cell_type": "code",
      "metadata": {
        "id": "a-IWqrrw6POH"
      },
      "source": [
        "#"
      ],
      "execution_count": null,
      "outputs": []
    },
    {
      "cell_type": "code",
      "metadata": {
        "id": "0VJLEn281csk"
      },
      "source": [
        "#Now I am imputing the missing values by median although more sophisticated methods such as kNN or Bayesian imputation can also be used\r\n",
        "X = X.fillna(X.median())"
      ],
      "execution_count": 21,
      "outputs": []
    },
    {
      "cell_type": "code",
      "metadata": {
        "colab": {
          "base_uri": "https://localhost:8080/",
          "height": 251
        },
        "id": "QfX0l3FN2YcF",
        "outputId": "91101526-ac13-425e-eac1-5250ebf90486"
      },
      "source": [
        "X.head()"
      ],
      "execution_count": 22,
      "outputs": [
        {
          "output_type": "execute_result",
          "data": {
            "text/html": [
              "<div>\n",
              "<style scoped>\n",
              "    .dataframe tbody tr th:only-of-type {\n",
              "        vertical-align: middle;\n",
              "    }\n",
              "\n",
              "    .dataframe tbody tr th {\n",
              "        vertical-align: top;\n",
              "    }\n",
              "\n",
              "    .dataframe thead th {\n",
              "        text-align: right;\n",
              "    }\n",
              "</style>\n",
              "<table border=\"1\" class=\"dataframe\">\n",
              "  <thead>\n",
              "    <tr style=\"text-align: right;\">\n",
              "      <th></th>\n",
              "      <th>exp_UPF1</th>\n",
              "      <th>exp_ACSM3</th>\n",
              "      <th>exp_CREBBP</th>\n",
              "      <th>exp_TBXA2R</th>\n",
              "      <th>exp_IFRD1</th>\n",
              "      <th>exp_ADIPOR2</th>\n",
              "      <th>exp_FMO1</th>\n",
              "      <th>exp_SPAST</th>\n",
              "      <th>exp_STRAP</th>\n",
              "      <th>exp_TOMM34</th>\n",
              "      <th>exp_TNFRSF1B</th>\n",
              "      <th>exp_TBPL1</th>\n",
              "      <th>exp_ZZZ3</th>\n",
              "      <th>exp_TUBG2</th>\n",
              "      <th>exp_FLT4</th>\n",
              "      <th>exp_C2orf83</th>\n",
              "      <th>exp_NNAT</th>\n",
              "      <th>exp_CYFIP2</th>\n",
              "      <th>exp_WNK1</th>\n",
              "      <th>exp_HDAC7</th>\n",
              "      <th>exp_NCKAP1</th>\n",
              "      <th>exp_SUGP2</th>\n",
              "      <th>exp_ANKS1A</th>\n",
              "      <th>exp_CYB5R4</th>\n",
              "      <th>exp_SLC9A7</th>\n",
              "      <th>exp_NFYC</th>\n",
              "      <th>exp_ZBTB11</th>\n",
              "      <th>exp_EML1</th>\n",
              "      <th>exp_FGFR3</th>\n",
              "      <th>exp_HEATR6</th>\n",
              "      <th>exp_REEP1</th>\n",
              "      <th>exp_GPR116</th>\n",
              "      <th>exp_ST6GALNAC2</th>\n",
              "      <th>exp_ZFYVE26</th>\n",
              "      <th>exp_PDE8A</th>\n",
              "      <th>exp_ADAM11</th>\n",
              "      <th>exp_NUAK1</th>\n",
              "      <th>exp_PTPLAD1</th>\n",
              "      <th>exp_WDR62</th>\n",
              "      <th>exp_RAB7A</th>\n",
              "      <th>...</th>\n",
              "      <th>exp_MARCH8</th>\n",
              "      <th>exp_MECR</th>\n",
              "      <th>exp_EXD2</th>\n",
              "      <th>exp_INADL</th>\n",
              "      <th>exp_PGLS</th>\n",
              "      <th>exp_ARIH2</th>\n",
              "      <th>exp_ORM1</th>\n",
              "      <th>exp_NBR2</th>\n",
              "      <th>exp_MMP25</th>\n",
              "      <th>exp_CDCP1</th>\n",
              "      <th>exp_TNP1</th>\n",
              "      <th>exp_ADRA2C</th>\n",
              "      <th>exp_MGAM</th>\n",
              "      <th>exp_PLCB3</th>\n",
              "      <th>exp_CHRM3</th>\n",
              "      <th>exp_GAD2</th>\n",
              "      <th>exp_NEUROD4</th>\n",
              "      <th>exp_AFF3</th>\n",
              "      <th>exp_JAK3</th>\n",
              "      <th>exp_FAM169A</th>\n",
              "      <th>exp_USP48</th>\n",
              "      <th>exp_FAM182B</th>\n",
              "      <th>exp_TPM3</th>\n",
              "      <th>exp_PTTG3P</th>\n",
              "      <th>exp_STT3A</th>\n",
              "      <th>exp_NEK4</th>\n",
              "      <th>exp_STX17</th>\n",
              "      <th>exp_PIGP</th>\n",
              "      <th>exp_SPRY1</th>\n",
              "      <th>exp_ETNK1</th>\n",
              "      <th>exp_DLGAP5</th>\n",
              "      <th>exp_HMG20A</th>\n",
              "      <th>exp_RHOBTB1</th>\n",
              "      <th>exp_CDKN1B</th>\n",
              "      <th>exp_MCCC1</th>\n",
              "      <th>exp_KAL1</th>\n",
              "      <th>exp_ICMT</th>\n",
              "      <th>exp_HBD</th>\n",
              "      <th>exp_RAI2</th>\n",
              "      <th>exp_MECOM</th>\n",
              "    </tr>\n",
              "  </thead>\n",
              "  <tbody>\n",
              "    <tr>\n",
              "      <th>0</th>\n",
              "      <td>6.011028</td>\n",
              "      <td>4.955063</td>\n",
              "      <td>5.498606</td>\n",
              "      <td>4.615622</td>\n",
              "      <td>8.981380</td>\n",
              "      <td>8.596295</td>\n",
              "      <td>5.983356</td>\n",
              "      <td>4.978231</td>\n",
              "      <td>10.857741</td>\n",
              "      <td>6.594367</td>\n",
              "      <td>4.577073</td>\n",
              "      <td>9.539299</td>\n",
              "      <td>8.105715</td>\n",
              "      <td>4.419789</td>\n",
              "      <td>7.003484</td>\n",
              "      <td>4.287194</td>\n",
              "      <td>4.398404</td>\n",
              "      <td>5.426448</td>\n",
              "      <td>9.224713</td>\n",
              "      <td>5.632297</td>\n",
              "      <td>9.282932</td>\n",
              "      <td>5.413248</td>\n",
              "      <td>7.329596</td>\n",
              "      <td>6.228573</td>\n",
              "      <td>4.371101</td>\n",
              "      <td>5.202511</td>\n",
              "      <td>8.515883</td>\n",
              "      <td>4.679146</td>\n",
              "      <td>5.538737</td>\n",
              "      <td>5.407479</td>\n",
              "      <td>4.833182</td>\n",
              "      <td>4.972518</td>\n",
              "      <td>4.847553</td>\n",
              "      <td>5.746806</td>\n",
              "      <td>6.419034</td>\n",
              "      <td>4.896296</td>\n",
              "      <td>6.868150</td>\n",
              "      <td>7.618271</td>\n",
              "      <td>5.174451</td>\n",
              "      <td>9.070666</td>\n",
              "      <td>...</td>\n",
              "      <td>6.954157</td>\n",
              "      <td>6.880950</td>\n",
              "      <td>5.979614</td>\n",
              "      <td>4.695493</td>\n",
              "      <td>9.026928</td>\n",
              "      <td>6.084753</td>\n",
              "      <td>4.594327</td>\n",
              "      <td>5.246468</td>\n",
              "      <td>4.512440</td>\n",
              "      <td>4.355047</td>\n",
              "      <td>4.352557</td>\n",
              "      <td>5.156294</td>\n",
              "      <td>4.554207</td>\n",
              "      <td>5.861542</td>\n",
              "      <td>4.877526</td>\n",
              "      <td>4.217727</td>\n",
              "      <td>4.654437</td>\n",
              "      <td>4.631872</td>\n",
              "      <td>4.599772</td>\n",
              "      <td>5.916250</td>\n",
              "      <td>6.476589</td>\n",
              "      <td>5.388985</td>\n",
              "      <td>4.477246</td>\n",
              "      <td>5.406135</td>\n",
              "      <td>8.977606</td>\n",
              "      <td>6.499660</td>\n",
              "      <td>5.556760</td>\n",
              "      <td>9.365081</td>\n",
              "      <td>5.098325</td>\n",
              "      <td>6.410435</td>\n",
              "      <td>6.224192</td>\n",
              "      <td>6.681861</td>\n",
              "      <td>4.799369</td>\n",
              "      <td>9.643505</td>\n",
              "      <td>8.248490</td>\n",
              "      <td>5.694492</td>\n",
              "      <td>7.657050</td>\n",
              "      <td>3.946700</td>\n",
              "      <td>4.473745</td>\n",
              "      <td>4.595024</td>\n",
              "    </tr>\n",
              "    <tr>\n",
              "      <th>1</th>\n",
              "      <td>7.221385</td>\n",
              "      <td>4.693445</td>\n",
              "      <td>5.285347</td>\n",
              "      <td>4.483968</td>\n",
              "      <td>7.783506</td>\n",
              "      <td>9.588306</td>\n",
              "      <td>4.450641</td>\n",
              "      <td>5.313183</td>\n",
              "      <td>10.924331</td>\n",
              "      <td>9.073996</td>\n",
              "      <td>4.743517</td>\n",
              "      <td>8.645856</td>\n",
              "      <td>8.492360</td>\n",
              "      <td>5.402846</td>\n",
              "      <td>5.313581</td>\n",
              "      <td>4.671841</td>\n",
              "      <td>4.805151</td>\n",
              "      <td>5.003717</td>\n",
              "      <td>8.677782</td>\n",
              "      <td>5.367765</td>\n",
              "      <td>9.682706</td>\n",
              "      <td>5.916632</td>\n",
              "      <td>6.792334</td>\n",
              "      <td>6.863348</td>\n",
              "      <td>4.394155</td>\n",
              "      <td>6.225076</td>\n",
              "      <td>7.587768</td>\n",
              "      <td>4.322592</td>\n",
              "      <td>5.565982</td>\n",
              "      <td>5.685577</td>\n",
              "      <td>4.365391</td>\n",
              "      <td>4.670494</td>\n",
              "      <td>5.780187</td>\n",
              "      <td>6.360626</td>\n",
              "      <td>7.840607</td>\n",
              "      <td>5.067308</td>\n",
              "      <td>5.605796</td>\n",
              "      <td>7.209583</td>\n",
              "      <td>5.816199</td>\n",
              "      <td>9.070666</td>\n",
              "      <td>...</td>\n",
              "      <td>6.986678</td>\n",
              "      <td>7.537502</td>\n",
              "      <td>6.348010</td>\n",
              "      <td>5.112914</td>\n",
              "      <td>10.150078</td>\n",
              "      <td>6.359573</td>\n",
              "      <td>4.420781</td>\n",
              "      <td>5.845045</td>\n",
              "      <td>4.716783</td>\n",
              "      <td>8.412018</td>\n",
              "      <td>4.682327</td>\n",
              "      <td>5.156294</td>\n",
              "      <td>4.720568</td>\n",
              "      <td>6.912968</td>\n",
              "      <td>5.692177</td>\n",
              "      <td>4.217727</td>\n",
              "      <td>4.429016</td>\n",
              "      <td>4.400970</td>\n",
              "      <td>4.455790</td>\n",
              "      <td>4.728774</td>\n",
              "      <td>6.616857</td>\n",
              "      <td>4.518463</td>\n",
              "      <td>4.333330</td>\n",
              "      <td>5.956245</td>\n",
              "      <td>9.247870</td>\n",
              "      <td>7.332190</td>\n",
              "      <td>6.360304</td>\n",
              "      <td>10.140100</td>\n",
              "      <td>6.336477</td>\n",
              "      <td>6.264391</td>\n",
              "      <td>8.407566</td>\n",
              "      <td>6.664384</td>\n",
              "      <td>6.601413</td>\n",
              "      <td>8.876646</td>\n",
              "      <td>8.209376</td>\n",
              "      <td>4.202259</td>\n",
              "      <td>8.476935</td>\n",
              "      <td>3.937762</td>\n",
              "      <td>4.625224</td>\n",
              "      <td>6.032015</td>\n",
              "    </tr>\n",
              "    <tr>\n",
              "      <th>2</th>\n",
              "      <td>6.333542</td>\n",
              "      <td>4.540520</td>\n",
              "      <td>5.406009</td>\n",
              "      <td>5.006537</td>\n",
              "      <td>7.234994</td>\n",
              "      <td>9.767943</td>\n",
              "      <td>4.743530</td>\n",
              "      <td>5.211246</td>\n",
              "      <td>10.454959</td>\n",
              "      <td>6.665818</td>\n",
              "      <td>6.025225</td>\n",
              "      <td>8.554368</td>\n",
              "      <td>8.617570</td>\n",
              "      <td>3.926918</td>\n",
              "      <td>5.143186</td>\n",
              "      <td>4.471246</td>\n",
              "      <td>4.427993</td>\n",
              "      <td>9.844344</td>\n",
              "      <td>9.234862</td>\n",
              "      <td>5.487743</td>\n",
              "      <td>4.730259</td>\n",
              "      <td>6.928151</td>\n",
              "      <td>7.304797</td>\n",
              "      <td>9.262168</td>\n",
              "      <td>4.719380</td>\n",
              "      <td>6.581358</td>\n",
              "      <td>7.884421</td>\n",
              "      <td>4.145687</td>\n",
              "      <td>4.558922</td>\n",
              "      <td>4.471687</td>\n",
              "      <td>4.766379</td>\n",
              "      <td>4.810789</td>\n",
              "      <td>5.356899</td>\n",
              "      <td>6.533133</td>\n",
              "      <td>8.438167</td>\n",
              "      <td>4.962530</td>\n",
              "      <td>4.713554</td>\n",
              "      <td>7.618271</td>\n",
              "      <td>5.180389</td>\n",
              "      <td>8.657388</td>\n",
              "      <td>...</td>\n",
              "      <td>7.135066</td>\n",
              "      <td>6.152465</td>\n",
              "      <td>5.111161</td>\n",
              "      <td>4.526724</td>\n",
              "      <td>8.914593</td>\n",
              "      <td>6.028840</td>\n",
              "      <td>3.949027</td>\n",
              "      <td>5.058079</td>\n",
              "      <td>4.725097</td>\n",
              "      <td>4.475021</td>\n",
              "      <td>4.251298</td>\n",
              "      <td>5.037131</td>\n",
              "      <td>4.686228</td>\n",
              "      <td>5.999143</td>\n",
              "      <td>4.725542</td>\n",
              "      <td>4.217727</td>\n",
              "      <td>4.582385</td>\n",
              "      <td>5.693792</td>\n",
              "      <td>4.446560</td>\n",
              "      <td>4.668861</td>\n",
              "      <td>6.738761</td>\n",
              "      <td>4.890169</td>\n",
              "      <td>4.156773</td>\n",
              "      <td>6.328307</td>\n",
              "      <td>8.279082</td>\n",
              "      <td>7.771402</td>\n",
              "      <td>6.066929</td>\n",
              "      <td>10.009280</td>\n",
              "      <td>5.823459</td>\n",
              "      <td>6.480482</td>\n",
              "      <td>9.593730</td>\n",
              "      <td>7.573112</td>\n",
              "      <td>6.577179</td>\n",
              "      <td>10.220242</td>\n",
              "      <td>8.712841</td>\n",
              "      <td>4.653557</td>\n",
              "      <td>7.035348</td>\n",
              "      <td>4.085890</td>\n",
              "      <td>4.451836</td>\n",
              "      <td>5.084881</td>\n",
              "    </tr>\n",
              "    <tr>\n",
              "      <th>3</th>\n",
              "      <td>6.537005</td>\n",
              "      <td>4.191893</td>\n",
              "      <td>5.548728</td>\n",
              "      <td>4.340719</td>\n",
              "      <td>10.160300</td>\n",
              "      <td>8.659492</td>\n",
              "      <td>4.592338</td>\n",
              "      <td>5.391291</td>\n",
              "      <td>11.289558</td>\n",
              "      <td>7.295339</td>\n",
              "      <td>4.828074</td>\n",
              "      <td>9.074011</td>\n",
              "      <td>8.617570</td>\n",
              "      <td>5.275854</td>\n",
              "      <td>4.686596</td>\n",
              "      <td>4.471246</td>\n",
              "      <td>4.390406</td>\n",
              "      <td>4.295362</td>\n",
              "      <td>8.600219</td>\n",
              "      <td>5.264866</td>\n",
              "      <td>9.691075</td>\n",
              "      <td>5.893263</td>\n",
              "      <td>7.172468</td>\n",
              "      <td>7.159088</td>\n",
              "      <td>4.224743</td>\n",
              "      <td>5.252526</td>\n",
              "      <td>8.590899</td>\n",
              "      <td>4.131593</td>\n",
              "      <td>4.313265</td>\n",
              "      <td>6.769021</td>\n",
              "      <td>4.410168</td>\n",
              "      <td>4.358750</td>\n",
              "      <td>8.342615</td>\n",
              "      <td>7.212660</td>\n",
              "      <td>9.277639</td>\n",
              "      <td>4.850959</td>\n",
              "      <td>10.316665</td>\n",
              "      <td>8.350423</td>\n",
              "      <td>4.691851</td>\n",
              "      <td>8.939281</td>\n",
              "      <td>...</td>\n",
              "      <td>6.467205</td>\n",
              "      <td>7.175446</td>\n",
              "      <td>6.682939</td>\n",
              "      <td>4.871704</td>\n",
              "      <td>9.998560</td>\n",
              "      <td>6.099948</td>\n",
              "      <td>4.229748</td>\n",
              "      <td>5.302310</td>\n",
              "      <td>4.571041</td>\n",
              "      <td>8.628757</td>\n",
              "      <td>4.544944</td>\n",
              "      <td>4.889944</td>\n",
              "      <td>4.490345</td>\n",
              "      <td>5.969057</td>\n",
              "      <td>4.098976</td>\n",
              "      <td>4.150215</td>\n",
              "      <td>4.591577</td>\n",
              "      <td>4.497270</td>\n",
              "      <td>4.446560</td>\n",
              "      <td>6.395097</td>\n",
              "      <td>6.651579</td>\n",
              "      <td>4.561720</td>\n",
              "      <td>4.121915</td>\n",
              "      <td>5.030438</td>\n",
              "      <td>9.731749</td>\n",
              "      <td>7.118064</td>\n",
              "      <td>6.183316</td>\n",
              "      <td>9.703404</td>\n",
              "      <td>5.018919</td>\n",
              "      <td>6.469569</td>\n",
              "      <td>7.336713</td>\n",
              "      <td>5.648026</td>\n",
              "      <td>4.859240</td>\n",
              "      <td>8.491278</td>\n",
              "      <td>7.393479</td>\n",
              "      <td>7.257985</td>\n",
              "      <td>8.142954</td>\n",
              "      <td>4.088423</td>\n",
              "      <td>4.048923</td>\n",
              "      <td>5.652656</td>\n",
              "    </tr>\n",
              "    <tr>\n",
              "      <th>4</th>\n",
              "      <td>7.353253</td>\n",
              "      <td>4.174989</td>\n",
              "      <td>5.372696</td>\n",
              "      <td>4.606393</td>\n",
              "      <td>9.150973</td>\n",
              "      <td>9.619724</td>\n",
              "      <td>4.476897</td>\n",
              "      <td>5.673377</td>\n",
              "      <td>12.214602</td>\n",
              "      <td>9.388058</td>\n",
              "      <td>4.826211</td>\n",
              "      <td>8.980224</td>\n",
              "      <td>8.497498</td>\n",
              "      <td>5.484880</td>\n",
              "      <td>4.481965</td>\n",
              "      <td>4.471246</td>\n",
              "      <td>4.528343</td>\n",
              "      <td>5.208375</td>\n",
              "      <td>9.262031</td>\n",
              "      <td>5.517819</td>\n",
              "      <td>10.415553</td>\n",
              "      <td>6.809589</td>\n",
              "      <td>7.754673</td>\n",
              "      <td>7.625387</td>\n",
              "      <td>4.530174</td>\n",
              "      <td>5.715454</td>\n",
              "      <td>9.050930</td>\n",
              "      <td>4.410097</td>\n",
              "      <td>4.258830</td>\n",
              "      <td>6.526623</td>\n",
              "      <td>7.859751</td>\n",
              "      <td>4.637973</td>\n",
              "      <td>5.231553</td>\n",
              "      <td>6.638820</td>\n",
              "      <td>8.283675</td>\n",
              "      <td>4.889619</td>\n",
              "      <td>6.948637</td>\n",
              "      <td>8.358112</td>\n",
              "      <td>4.756246</td>\n",
              "      <td>9.824541</td>\n",
              "      <td>...</td>\n",
              "      <td>6.954157</td>\n",
              "      <td>7.493072</td>\n",
              "      <td>6.348010</td>\n",
              "      <td>4.730513</td>\n",
              "      <td>9.850367</td>\n",
              "      <td>7.018422</td>\n",
              "      <td>4.022909</td>\n",
              "      <td>5.302310</td>\n",
              "      <td>4.977143</td>\n",
              "      <td>10.167123</td>\n",
              "      <td>4.768873</td>\n",
              "      <td>5.241929</td>\n",
              "      <td>4.686228</td>\n",
              "      <td>6.038450</td>\n",
              "      <td>4.289351</td>\n",
              "      <td>4.236318</td>\n",
              "      <td>4.427634</td>\n",
              "      <td>4.479870</td>\n",
              "      <td>4.222765</td>\n",
              "      <td>8.510756</td>\n",
              "      <td>6.113480</td>\n",
              "      <td>4.446873</td>\n",
              "      <td>4.150597</td>\n",
              "      <td>5.741207</td>\n",
              "      <td>8.951914</td>\n",
              "      <td>8.537104</td>\n",
              "      <td>5.569038</td>\n",
              "      <td>10.286261</td>\n",
              "      <td>5.334409</td>\n",
              "      <td>6.469569</td>\n",
              "      <td>9.608670</td>\n",
              "      <td>6.408460</td>\n",
              "      <td>3.986025</td>\n",
              "      <td>9.173475</td>\n",
              "      <td>9.036557</td>\n",
              "      <td>3.905234</td>\n",
              "      <td>8.287856</td>\n",
              "      <td>4.071195</td>\n",
              "      <td>4.438627</td>\n",
              "      <td>5.708648</td>\n",
              "    </tr>\n",
              "  </tbody>\n",
              "</table>\n",
              "<p>5 rows × 978 columns</p>\n",
              "</div>"
            ],
            "text/plain": [
              "   exp_UPF1  exp_ACSM3  exp_CREBBP  ...   exp_HBD  exp_RAI2  exp_MECOM\n",
              "0  6.011028   4.955063    5.498606  ...  3.946700  4.473745   4.595024\n",
              "1  7.221385   4.693445    5.285347  ...  3.937762  4.625224   6.032015\n",
              "2  6.333542   4.540520    5.406009  ...  4.085890  4.451836   5.084881\n",
              "3  6.537005   4.191893    5.548728  ...  4.088423  4.048923   5.652656\n",
              "4  7.353253   4.174989    5.372696  ...  4.071195  4.438627   5.708648\n",
              "\n",
              "[5 rows x 978 columns]"
            ]
          },
          "metadata": {
            "tags": []
          },
          "execution_count": 22
        }
      ]
    },
    {
      "cell_type": "code",
      "metadata": {
        "colab": {
          "base_uri": "https://localhost:8080/"
        },
        "id": "5vpepZR_2eAf",
        "outputId": "21cc86bc-20dd-4e8f-eafe-a0d7ff9e0980"
      },
      "source": [
        "#Now checking for NaN in target variable\r\n",
        "y.isnull()"
      ],
      "execution_count": 30,
      "outputs": [
        {
          "output_type": "execute_result",
          "data": {
            "text/plain": [
              "0      False\n",
              "1      False\n",
              "2      False\n",
              "3      False\n",
              "4      False\n",
              "       ...  \n",
              "126    False\n",
              "127    False\n",
              "128    False\n",
              "129    False\n",
              "130     True\n",
              "Name: Erlotinib, Length: 131, dtype: bool"
            ]
          },
          "metadata": {
            "tags": []
          },
          "execution_count": 30
        }
      ]
    },
    {
      "cell_type": "code",
      "metadata": {
        "id": "6qXVd0sz7ZxR"
      },
      "source": [
        "#So there is no NaN value in target"
      ],
      "execution_count": null,
      "outputs": []
    },
    {
      "cell_type": "code",
      "metadata": {
        "id": "BTZsoRTx7iPY"
      },
      "source": [
        "#Now I split the predictors and target into train and test"
      ],
      "execution_count": null,
      "outputs": []
    },
    {
      "cell_type": "code",
      "metadata": {
        "id": "OkPOOr4W7XJE"
      },
      "source": [
        "Xtrain, Xtest , yTrain, yTest = train_test_split(X, y, test_size=0.3, random_state=3)"
      ],
      "execution_count": 31,
      "outputs": []
    },
    {
      "cell_type": "code",
      "metadata": {
        "id": "gXKWaftv7y9B"
      },
      "source": [
        "#Converting to numpy array for computation purpose\r\n",
        "xTrain = np.array(Xtrain)\r\n",
        "xTest = np.array(Xtest)"
      ],
      "execution_count": 32,
      "outputs": []
    },
    {
      "cell_type": "markdown",
      "metadata": {
        "id": "AFc60pjwC546"
      },
      "source": [
        "Now doing Dimensionality reduction"
      ]
    },
    {
      "cell_type": "code",
      "metadata": {
        "id": "8s7W9M47Bm92"
      },
      "source": [
        "pcaObj = PCA(n_components = 2)\r\n",
        "pcaObj.fit(xTrain)\r\n",
        "xTrainPCA = pcaObj.transform(xTrain)"
      ],
      "execution_count": 33,
      "outputs": []
    },
    {
      "cell_type": "code",
      "metadata": {
        "id": "x_EB-5dlC10B"
      },
      "source": [
        "#Now lets look how much variance is covered by the first two components"
      ],
      "execution_count": null,
      "outputs": []
    },
    {
      "cell_type": "code",
      "metadata": {
        "colab": {
          "base_uri": "https://localhost:8080/"
        },
        "id": "XGNEB6oPDM1k",
        "outputId": "6e171025-71e7-45d7-b181-971ceea33239"
      },
      "source": [
        "pcaObj.explained_variance_ratio_"
      ],
      "execution_count": 34,
      "outputs": [
        {
          "output_type": "execute_result",
          "data": {
            "text/plain": [
              "array([0.1351344 , 0.06914459])"
            ]
          },
          "metadata": {
            "tags": []
          },
          "execution_count": 34
        }
      ]
    },
    {
      "cell_type": "code",
      "metadata": {
        "id": "dgQdB33uDQS4"
      },
      "source": [
        "#Clearly, using this method has lead to a very poor dimensionality reduction, given that the first two \r\n",
        "#components cover 10 + 7 = 17% variance only."
      ],
      "execution_count": null,
      "outputs": []
    },
    {
      "cell_type": "code",
      "metadata": {
        "id": "p9HR00VzDjI9"
      },
      "source": [
        "#So now I use dimensionality reduction in order to preserve at least 95% of variance"
      ],
      "execution_count": null,
      "outputs": []
    },
    {
      "cell_type": "code",
      "metadata": {
        "id": "IUzPfh00EDvG"
      },
      "source": [
        "pcaObj = PCA(n_components = 0.95)\r\n",
        "pcaObj.fit(xTrain)\r\n",
        "xTrainPCA95 = pcaObj.transform(xTrain)"
      ],
      "execution_count": 35,
      "outputs": []
    },
    {
      "cell_type": "code",
      "metadata": {
        "colab": {
          "base_uri": "https://localhost:8080/"
        },
        "id": "XuGDGi-nEP-s",
        "outputId": "a25e548f-444b-4dbb-8359-db2f4f2fd809"
      },
      "source": [
        "pcaObj.explained_variance_ratio_"
      ],
      "execution_count": 36,
      "outputs": [
        {
          "output_type": "execute_result",
          "data": {
            "text/plain": [
              "array([0.1351344 , 0.06914459, 0.05722982, 0.04873074, 0.03345418,\n",
              "       0.03001749, 0.02569014, 0.02373926, 0.02224517, 0.02013822,\n",
              "       0.01902433, 0.01814108, 0.01685239, 0.01611446, 0.01532517,\n",
              "       0.01459847, 0.0144647 , 0.01378159, 0.01353747, 0.01302255,\n",
              "       0.01222919, 0.01188608, 0.01149548, 0.01099328, 0.01058386,\n",
              "       0.01048586, 0.01011874, 0.00994949, 0.00986863, 0.00945454,\n",
              "       0.00903774, 0.00894604, 0.008689  , 0.00823597, 0.00800466,\n",
              "       0.00797369, 0.00764964, 0.00751333, 0.00741335, 0.00717382,\n",
              "       0.00689207, 0.00665161, 0.00654745, 0.00649002, 0.00634814,\n",
              "       0.0062416 , 0.00600609, 0.00594879, 0.00585818, 0.00577972,\n",
              "       0.00535864, 0.00527264, 0.00516614, 0.00512086, 0.00498314,\n",
              "       0.00489284, 0.0047303 , 0.00461374, 0.00456278, 0.00440626,\n",
              "       0.00429031, 0.00426794, 0.00410541, 0.00399076, 0.00391055,\n",
              "       0.0038154 , 0.00379675, 0.00364636])"
            ]
          },
          "metadata": {
            "tags": []
          },
          "execution_count": 36
        }
      ]
    },
    {
      "cell_type": "code",
      "metadata": {
        "id": "UWxIK3XeESzI"
      },
      "source": [
        "#This also does not seem to be working given that in order to get 95% variance, there is hardly any reduction\r\n",
        "#in dimension as we still have a lot of dimensions.\r\n",
        "\r\n",
        "#Lets look at our data again"
      ],
      "execution_count": null,
      "outputs": []
    },
    {
      "cell_type": "code",
      "metadata": {
        "colab": {
          "base_uri": "https://localhost:8080/",
          "height": 387
        },
        "id": "gKXHsRGiJ7fx",
        "outputId": "b8390139-a397-4886-faa3-fb24352a4f30"
      },
      "source": [
        "sns.displot(y, kind=\"kde\")"
      ],
      "execution_count": 37,
      "outputs": [
        {
          "output_type": "execute_result",
          "data": {
            "text/plain": [
              "<seaborn.axisgrid.FacetGrid at 0x7f2e976670f0>"
            ]
          },
          "metadata": {
            "tags": []
          },
          "execution_count": 37
        },
        {
          "output_type": "display_data",
          "data": {
            "image/png": "[encoded data removed]",
            "text/plain": [
              "<Figure size 360x360 with 1 Axes>"
            ]
          },
          "metadata": {
            "tags": [],
            "needs_background": "light"
          }
        }
      ]
    },
    {
      "cell_type": "code",
      "metadata": {
        "id": "h2CPE1VsJ8Hr"
      },
      "source": [
        ""
      ],
      "execution_count": null,
      "outputs": []
    },
    {
      "cell_type": "code",
      "metadata": {
        "id": "cygQ54J2EouR"
      },
      "source": [
        "# Clearly, there is no point in having those data points where the value of Erlotinib y value is less\r\n",
        "#than 0.8 . This is because we do not have adequate data points for those y values and it would be better if\r\n",
        "# we discard those data values. This will also ensure that we have a more normal distribution. \r\n"
      ],
      "execution_count": null,
      "outputs": []
    },
    {
      "cell_type": "code",
      "metadata": {
        "id": "r7tNkfmIGK6a"
      },
      "source": [
        "datasetGaussian = dataset[(dataset.Erlotinib>0.8)]"
      ],
      "execution_count": 38,
      "outputs": []
    },
    {
      "cell_type": "code",
      "metadata": {
        "colab": {
          "base_uri": "https://localhost:8080/"
        },
        "id": "BH7IwGJmKaWu",
        "outputId": "42770376-e5fd-455f-fd8c-0d9c8f080ea3"
      },
      "source": [
        "datasetGaussian.shape"
      ],
      "execution_count": 39,
      "outputs": [
        {
          "output_type": "execute_result",
          "data": {
            "text/plain": [
              "(125, 979)"
            ]
          },
          "metadata": {
            "tags": []
          },
          "execution_count": 39
        }
      ]
    },
    {
      "cell_type": "code",
      "metadata": {
        "id": "LY7qwOeRKkNU"
      },
      "source": [
        "yGaussian = datasetGaussian.Erlotinib"
      ],
      "execution_count": 40,
      "outputs": []
    },
    {
      "cell_type": "code",
      "metadata": {
        "colab": {
          "base_uri": "https://localhost:8080/",
          "height": 387
        },
        "id": "5vwcug4FK0Nm",
        "outputId": "06399344-4995-4bcf-c188-ea3b50773202"
      },
      "source": [
        "sns.displot(yGaussian, kind=\"kde\")"
      ],
      "execution_count": 41,
      "outputs": [
        {
          "output_type": "execute_result",
          "data": {
            "text/plain": [
              "<seaborn.axisgrid.FacetGrid at 0x7f2e97667860>"
            ]
          },
          "metadata": {
            "tags": []
          },
          "execution_count": 41
        },
        {
          "output_type": "display_data",
          "data": {
            "image/png": "[encoded data removed]",
            "text/plain": [
              "<Figure size 360x360 with 1 Axes>"
            ]
          },
          "metadata": {
            "tags": [],
            "needs_background": "light"
          }
        }
      ]
    },
    {
      "cell_type": "code",
      "metadata": {
        "id": "OAZaIYl9LWtZ"
      },
      "source": [
        "#Great, so we get rid of a lot of sparse data. \r\n",
        "#Now lets continue the procedure as earlier"
      ],
      "execution_count": null,
      "outputs": []
    },
    {
      "cell_type": "markdown",
      "metadata": {
        "id": "KQhVRO4iiqbe"
      },
      "source": [
        "In reality, the y distribution now is a comnination of multiple gaussian distribution, however, the datascience model will take care of this fact."
      ]
    },
    {
      "cell_type": "code",
      "metadata": {
        "colab": {
          "base_uri": "https://localhost:8080/"
        },
        "id": "J20Rh0QtK5WF",
        "outputId": "c13efe49-0a85-4717-8bf3-8ae5ae6b588e"
      },
      "source": [
        "yGaussian.describe()"
      ],
      "execution_count": 42,
      "outputs": [
        {
          "output_type": "execute_result",
          "data": {
            "text/plain": [
              "count    125.000000\n",
              "mean       0.928922\n",
              "std        0.030942\n",
              "min        0.806265\n",
              "25%        0.920409\n",
              "50%        0.920409\n",
              "75%        0.920409\n",
              "max        1.000000\n",
              "Name: Erlotinib, dtype: float64"
            ]
          },
          "metadata": {
            "tags": []
          },
          "execution_count": 42
        }
      ]
    },
    {
      "cell_type": "code",
      "metadata": {
        "colab": {
          "base_uri": "https://localhost:8080/"
        },
        "id": "N7OIx4hLH7BY",
        "outputId": "bf6bc2c4-7ce7-4daf-9e41-d62ebcc81d0e"
      },
      "source": [
        "features = list(datasetGaussian.columns.values) #Make a list of all of the columns in the df. Here note we are using datasetGaussian\r\n",
        "features.pop(features.index('Erlotinib'))\r\n",
        "X = datasetGaussian[features]\r\n",
        "NaN4Features = X.isnull().sum()\r\n",
        "X.isnull().values.sum()"
      ],
      "execution_count": 43,
      "outputs": [
        {
          "output_type": "execute_result",
          "data": {
            "text/plain": [
              "12034"
            ]
          },
          "metadata": {
            "tags": []
          },
          "execution_count": 43
        }
      ]
    },
    {
      "cell_type": "code",
      "metadata": {
        "id": "ugWUc723H4TK"
      },
      "source": [
        "X = X.fillna(X.median()) #Imputing by median"
      ],
      "execution_count": 44,
      "outputs": []
    },
    {
      "cell_type": "code",
      "metadata": {
        "id": "NW4MYKx8H2EI"
      },
      "source": [
        "Xtrain, Xtest , yTrain, yTest = train_test_split(X, yGaussian, test_size=0.3, random_state=3)"
      ],
      "execution_count": 45,
      "outputs": []
    },
    {
      "cell_type": "code",
      "metadata": {
        "id": "TH2OvJJiGSg3"
      },
      "source": [
        "#Converting to numpy array for computation purpose\r\n",
        "xTrain = np.array(Xtrain)\r\n",
        "xTest = np.array(Xtest)"
      ],
      "execution_count": 46,
      "outputs": []
    },
    {
      "cell_type": "code",
      "metadata": {
        "colab": {
          "base_uri": "https://localhost:8080/"
        },
        "id": "CNBuGHShCy7N",
        "outputId": "44030533-dfb0-4ffd-b49d-78f26d8111dc"
      },
      "source": [
        "pcaObj = PCA(n_components = 2)\r\n",
        "pcaObj.fit(xTrain)\r\n",
        "xTrainPCA = pcaObj.transform(xTrain)\r\n",
        "pcaObj.explained_variance_ratio_"
      ],
      "execution_count": 47,
      "outputs": [
        {
          "output_type": "execute_result",
          "data": {
            "text/plain": [
              "array([0.12833104, 0.07162039])"
            ]
          },
          "metadata": {
            "tags": []
          },
          "execution_count": 47
        }
      ]
    },
    {
      "cell_type": "code",
      "metadata": {
        "id": "c8qp6Sfc9Dnm"
      },
      "source": [
        "#We see that there is only a slight improvement in percentage variance captured i.e., its 18% now."
      ],
      "execution_count": null,
      "outputs": []
    },
    {
      "cell_type": "code",
      "metadata": {
        "id": "UTty_nbF8-ez"
      },
      "source": [
        "#Lets see if I can further improve it, by normalizing yGaussian\r\n"
      ],
      "execution_count": null,
      "outputs": []
    },
    {
      "cell_type": "code",
      "metadata": {
        "id": "vpKbfuYa8zCS"
      },
      "source": [
        "meanY = np.mean(yGaussian)\r\n",
        "stdY = np.std(yGaussian)"
      ],
      "execution_count": 48,
      "outputs": []
    },
    {
      "cell_type": "code",
      "metadata": {
        "colab": {
          "base_uri": "https://localhost:8080/"
        },
        "id": "ZJMEZj7rSlTL",
        "outputId": "48afd159-0b17-4aaa-f199-87dce002aaa5"
      },
      "source": [
        "meanY"
      ],
      "execution_count": 49,
      "outputs": [
        {
          "output_type": "execute_result",
          "data": {
            "text/plain": [
              "0.9289223714353375"
            ]
          },
          "metadata": {
            "tags": []
          },
          "execution_count": 49
        }
      ]
    },
    {
      "cell_type": "code",
      "metadata": {
        "colab": {
          "base_uri": "https://localhost:8080/"
        },
        "id": "9jrF2rBmSmlG",
        "outputId": "7875b228-62a6-40c4-848f-892f18046a63"
      },
      "source": [
        "stdY"
      ],
      "execution_count": 50,
      "outputs": [
        {
          "output_type": "execute_result",
          "data": {
            "text/plain": [
              "0.030817954129747582"
            ]
          },
          "metadata": {
            "tags": []
          },
          "execution_count": 50
        }
      ]
    },
    {
      "cell_type": "code",
      "metadata": {
        "id": "jydE_b2TSntr"
      },
      "source": [
        "yNorm = (yGaussian-meanY)/stdY\r\n"
      ],
      "execution_count": 51,
      "outputs": []
    },
    {
      "cell_type": "code",
      "metadata": {
        "colab": {
          "base_uri": "https://localhost:8080/",
          "height": 387
        },
        "id": "Z5gXJdxPTA7f",
        "outputId": "f46c18ed-c85a-4e69-938f-c770efc1bb0d"
      },
      "source": [
        "sns.displot(yNorm, kind=\"kde\")"
      ],
      "execution_count": 52,
      "outputs": [
        {
          "output_type": "execute_result",
          "data": {
            "text/plain": [
              "<seaborn.axisgrid.FacetGrid at 0x7f2e945a99e8>"
            ]
          },
          "metadata": {
            "tags": []
          },
          "execution_count": 52
        },
        {
          "output_type": "display_data",
          "data": {
            "image/png": "[encoded data removed]",
            "text/plain": [
              "<Figure size 360x360 with 1 Axes>"
            ]
          },
          "metadata": {
            "tags": [],
            "needs_background": "light"
          }
        }
      ]
    },
    {
      "cell_type": "code",
      "metadata": {
        "id": "gF9WFIDdTIJb"
      },
      "source": [
        "#Lets Normalize X"
      ],
      "execution_count": null,
      "outputs": []
    },
    {
      "cell_type": "code",
      "metadata": {
        "id": "bSMj1vrNTRsR"
      },
      "source": [
        "meanX = np.mean(X)\r\n",
        "stdX = np.std(X)"
      ],
      "execution_count": 53,
      "outputs": []
    },
    {
      "cell_type": "code",
      "metadata": {
        "colab": {
          "base_uri": "https://localhost:8080/"
        },
        "id": "RyTRXu79Tkxm",
        "outputId": "a564818b-035c-4ce2-b458-655ead985040"
      },
      "source": [
        "meanX.head()"
      ],
      "execution_count": 54,
      "outputs": [
        {
          "output_type": "execute_result",
          "data": {
            "text/plain": [
              "exp_UPF1      6.594114\n",
              "exp_ACSM3     4.703627\n",
              "exp_CREBBP    5.402113\n",
              "exp_TBXA2R    4.656111\n",
              "exp_IFRD1     8.611885\n",
              "dtype: float64"
            ]
          },
          "metadata": {
            "tags": []
          },
          "execution_count": 54
        }
      ]
    },
    {
      "cell_type": "code",
      "metadata": {
        "id": "BjA30iX2TnEw"
      },
      "source": [
        "XNorm = (X-meanX)/stdX"
      ],
      "execution_count": 55,
      "outputs": []
    },
    {
      "cell_type": "code",
      "metadata": {
        "id": "JA_rSPHBTwmT"
      },
      "source": [
        "XNorm = XNorm.fillna(X.median()) #Imputing by median"
      ],
      "execution_count": 56,
      "outputs": []
    },
    {
      "cell_type": "code",
      "metadata": {
        "id": "3dUnqgq_8Vi4"
      },
      "source": [
        "Xtrain, Xtest , yTrain, yTest = train_test_split(XNorm, yNorm, test_size=0.3, random_state=3)"
      ],
      "execution_count": 57,
      "outputs": []
    },
    {
      "cell_type": "code",
      "metadata": {
        "id": "zZ2cOzJO8CMz",
        "colab": {
          "base_uri": "https://localhost:8080/"
        },
        "outputId": "b69f8965-fec6-4264-a4d1-b9c16ff0b168"
      },
      "source": [
        "#Converting to numpy array for computation purpose\r\n",
        "xTrain = np.array(Xtrain)\r\n",
        "xTest = np.array(Xtest)\r\n",
        "pcaObj = PCA(n_components = 2)\r\n",
        "pcaObj.fit(xTrain)\r\n",
        "xTrainPCA = pcaObj.transform(xTrain)\r\n",
        "pcaObj.explained_variance_ratio_"
      ],
      "execution_count": 58,
      "outputs": [
        {
          "output_type": "execute_result",
          "data": {
            "text/plain": [
              "array([0.10060257, 0.06453888])"
            ]
          },
          "metadata": {
            "tags": []
          },
          "execution_count": 58
        }
      ]
    },
    {
      "cell_type": "code",
      "metadata": {
        "id": "-P8_f0QC7_pK"
      },
      "source": [
        "#This did not work either, as the cumulative variance percentage in fact got less."
      ],
      "execution_count": null,
      "outputs": []
    },
    {
      "cell_type": "code",
      "metadata": {
        "id": "DeUy_hS57RJ3"
      },
      "source": [
        "#Lets try it with yGaussian, which has original y values. This will ensure that the model will predict the right\r\n",
        "#values and not the normalized values\r\n",
        "Xtrain, Xtest , yTrain, yTest = train_test_split(XNorm, yGaussian, test_size=0.3, random_state=3)"
      ],
      "execution_count": 59,
      "outputs": []
    },
    {
      "cell_type": "code",
      "metadata": {
        "colab": {
          "base_uri": "https://localhost:8080/"
        },
        "id": "l6GY-fWMWlRu",
        "outputId": "d363b13c-310e-4c33-a2f1-e04e191454e8"
      },
      "source": [
        "xTrain = np.array(Xtrain)\r\n",
        "xTest = np.array(Xtest)\r\n",
        "pcaObj = PCA(n_components = 2)\r\n",
        "pcaObj.fit(xTrain)\r\n",
        "xTrainPCA = pcaObj.transform(xTrain)\r\n",
        "pcaObj.explained_variance_ratio_"
      ],
      "execution_count": 60,
      "outputs": [
        {
          "output_type": "execute_result",
          "data": {
            "text/plain": [
              "array([0.10060257, 0.06453888])"
            ]
          },
          "metadata": {
            "tags": []
          },
          "execution_count": 60
        }
      ]
    },
    {
      "cell_type": "code",
      "metadata": {
        "id": "lOmrEhZ8Wvf_"
      },
      "source": [
        ""
      ],
      "execution_count": null,
      "outputs": []
    },
    {
      "cell_type": "markdown",
      "metadata": {
        "id": "dgUa1L2xV7sh"
      },
      "source": [
        "#Remarks: Despite using several strategies for dimensionality reduction, it does not seem to be working well, given that the combined variance of initial components looks to be very less despite all the strategies. \r\n",
        "\r\n",
        "For calculations ahead, I shall use the xTrain, xTest, yTrain and yTest as derived using yGaussian, as it will help me build a model that will give the true value of y (Erlotinib)"
      ]
    },
    {
      "cell_type": "code",
      "metadata": {
        "id": "pu-ZbgSkXDIK"
      },
      "source": [
        "#Lets try Polynomial Regression and then we will use ElasticNet"
      ],
      "execution_count": null,
      "outputs": []
    },
    {
      "cell_type": "code",
      "metadata": {
        "id": "JsAD9P_o1vJG"
      },
      "source": [
        "poly_features = PolynomialFeatures(degree=2, include_bias= False)"
      ],
      "execution_count": 61,
      "outputs": []
    },
    {
      "cell_type": "code",
      "metadata": {
        "id": "rqg2RAHD4VRC"
      },
      "source": [
        "X_poly = poly_features.fit_transform(xTrain)"
      ],
      "execution_count": 64,
      "outputs": []
    },
    {
      "cell_type": "code",
      "metadata": {
        "colab": {
          "base_uri": "https://localhost:8080/",
          "height": 0
        },
        "id": "BEfBDcLH5a_Z",
        "outputId": "30b377cd-0001-41a7-bc87-cb397a5ba9cf"
      },
      "source": [
        "xTrain[0].shape"
      ],
      "execution_count": 65,
      "outputs": [
        {
          "output_type": "execute_result",
          "data": {
            "text/plain": [
              "(978,)"
            ]
          },
          "metadata": {
            "tags": []
          },
          "execution_count": 65
        }
      ]
    },
    {
      "cell_type": "code",
      "metadata": {
        "colab": {
          "base_uri": "https://localhost:8080/",
          "height": 0
        },
        "id": "hWqFuyUk5sSo",
        "outputId": "fcf3a4cb-8954-4fc0-9853-231726057aa1"
      },
      "source": [
        "xTrain.shape"
      ],
      "execution_count": 66,
      "outputs": [
        {
          "output_type": "execute_result",
          "data": {
            "text/plain": [
              "(760, 978)"
            ]
          },
          "metadata": {
            "tags": []
          },
          "execution_count": 66
        }
      ]
    },
    {
      "cell_type": "code",
      "metadata": {
        "id": "pSDkH5XL5pyV"
      },
      "source": [
        ""
      ],
      "execution_count": null,
      "outputs": []
    },
    {
      "cell_type": "code",
      "metadata": {
        "id": "ahXehzI_1p4A",
        "colab": {
          "base_uri": "https://localhost:8080/",
          "height": 0
        },
        "outputId": "d92029bd-6004-40e4-d107-084f9913db68"
      },
      "source": [
        "X_poly[0].shape"
      ],
      "execution_count": 67,
      "outputs": [
        {
          "output_type": "execute_result",
          "data": {
            "text/plain": [
              "(479709,)"
            ]
          },
          "metadata": {
            "tags": []
          },
          "execution_count": 67
        }
      ]
    },
    {
      "cell_type": "code",
      "metadata": {
        "colab": {
          "base_uri": "https://localhost:8080/",
          "height": 0
        },
        "id": "iAKlYfgZ5uu2",
        "outputId": "c3ba8354-5e29-4211-f197-6769f62a759c"
      },
      "source": [
        "X_poly.shape"
      ],
      "execution_count": 68,
      "outputs": [
        {
          "output_type": "execute_result",
          "data": {
            "text/plain": [
              "(760, 479709)"
            ]
          },
          "metadata": {
            "tags": []
          },
          "execution_count": 68
        }
      ]
    },
    {
      "cell_type": "code",
      "metadata": {
        "id": "DmvuERNL52C4"
      },
      "source": [
        "#So we see that X_poly now has far more columns than xTrain which is a result of combination of all 2nd degree\r\n",
        "# variables. Total attributes is equal to ( 1320 + 2 )! / (1320! 2!)"
      ],
      "execution_count": null,
      "outputs": []
    },
    {
      "cell_type": "code",
      "metadata": {
        "id": "JBo0IKZF5_JA"
      },
      "source": [
        "#Now fitting a "
      ],
      "execution_count": null,
      "outputs": []
    },
    {
      "cell_type": "code",
      "metadata": {
        "id": "rUghAKWQ0yX6"
      },
      "source": [
        "lin_reg = LinearRegression()"
      ],
      "execution_count": 62,
      "outputs": []
    },
    {
      "cell_type": "code",
      "metadata": {
        "id": "JgslOFDU7c7k"
      },
      "source": [
        "lin_reg.fit(X_poly,yTrain)"
      ],
      "execution_count": null,
      "outputs": []
    },
    {
      "cell_type": "code",
      "metadata": {
        "id": "cazXT4E37pns"
      },
      "source": [
        ""
      ],
      "execution_count": null,
      "outputs": []
    },
    {
      "cell_type": "markdown",
      "metadata": {
        "id": "dt8SaYmL8xFj"
      },
      "source": [
        "This gave the error :Your session crashed after using all available RAM\r\n",
        "Thus, I am abandoning polynomial fitting"
      ]
    },
    {
      "cell_type": "code",
      "metadata": {
        "id": "npnaJ4_f75uh"
      },
      "source": [
        "#If we had managed to do dimensionality reduction, then it would have made sense to carry out Polynomial fit."
      ],
      "execution_count": null,
      "outputs": []
    },
    {
      "cell_type": "code",
      "metadata": {
        "id": "-Rj3auKf0sAq"
      },
      "source": [
        "#Lets start simple linear regression fit.\r\n",
        "lin_reg = LinearRegression()"
      ],
      "execution_count": 63,
      "outputs": []
    },
    {
      "cell_type": "code",
      "metadata": {
        "id": "o2j_ZorOjIoO"
      },
      "source": [
        ""
      ],
      "execution_count": null,
      "outputs": []
    },
    {
      "cell_type": "code",
      "metadata": {
        "id": "7MWzPjlFiN5s"
      },
      "source": [
        "#Lets first design a cross-validation set up as desired.\r\n",
        "#For that I make use of GridSearch\r\n",
        "#GridSearchCV should be used to find the optimal parameters to train your final model. \r\n",
        "#Typically, you should run GridSearchCV then look at the parameters that gave the model with the best score. \r\n",
        "#You should then take these parameters and train your final model on all of the data. It is important to \r\n",
        "#note that if you have trained your final model on all of your data, you cannot test it. For any correct test, \r\n",
        "#you must must reserve some of the data. That is why I am reserving the test data for the purpose."
      ],
      "execution_count": null,
      "outputs": []
    },
    {
      "cell_type": "code",
      "metadata": {
        "id": "3fEp_bkgkuV1"
      },
      "source": [
        "parameters = {'fit_intercept':[True,False], 'normalize':[True,False], 'copy_X':[True, False]} #Note that although I have done normalization, I am repeating it make a second normalization"
      ],
      "execution_count": 64,
      "outputs": []
    },
    {
      "cell_type": "code",
      "metadata": {
        "id": "gKhdmgZ8brLZ"
      },
      "source": [
        "grid_search = GridSearchCV(lin_reg, parameters, cv=5, scoring='r2', verbose=1, return_train_score=True)#Five fold cross validation\r\n",
        "\r\n",
        "\r\n"
      ],
      "execution_count": 65,
      "outputs": []
    },
    {
      "cell_type": "code",
      "metadata": {
        "colab": {
          "base_uri": "https://localhost:8080/"
        },
        "id": "dRnlUJuklaO5",
        "outputId": "8beed57f-43c8-4b86-93bf-653451d4a1ed"
      },
      "source": [
        "grid_search.fit(Xtrain, yTrain)"
      ],
      "execution_count": 66,
      "outputs": [
        {
          "output_type": "stream",
          "text": [
            "Fitting 5 folds for each of 8 candidates, totalling 40 fits\n"
          ],
          "name": "stdout"
        },
        {
          "output_type": "stream",
          "text": [
            "[Parallel(n_jobs=1)]: Using backend SequentialBackend with 1 concurrent workers.\n",
            "[Parallel(n_jobs=1)]: Done  40 out of  40 | elapsed:    1.0s finished\n"
          ],
          "name": "stderr"
        },
        {
          "output_type": "execute_result",
          "data": {
            "text/plain": [
              "GridSearchCV(cv=5, error_score=nan,\n",
              "             estimator=LinearRegression(copy_X=True, fit_intercept=True,\n",
              "                                        n_jobs=None, normalize=False),\n",
              "             iid='deprecated', n_jobs=None,\n",
              "             param_grid={'copy_X': [True, False],\n",
              "                         'fit_intercept': [True, False],\n",
              "                         'normalize': [True, False]},\n",
              "             pre_dispatch='2*n_jobs', refit=True, return_train_score=True,\n",
              "             scoring='r2', verbose=1)"
            ]
          },
          "metadata": {
            "tags": []
          },
          "execution_count": 66
        }
      ]
    },
    {
      "cell_type": "code",
      "metadata": {
        "colab": {
          "base_uri": "https://localhost:8080/"
        },
        "id": "QqHcrS-El9kv",
        "outputId": "3dfee315-2094-46ad-84a9-b546ba9032cb"
      },
      "source": [
        "\r\n",
        "print(\"Residual sum of squares: %.11f\" % np.mean((grid_search.predict(Xtest) - yTest) ** 2))"
      ],
      "execution_count": 67,
      "outputs": [
        {
          "output_type": "stream",
          "text": [
            "Residual sum of squares: 0.00077607881\n"
          ],
          "name": "stdout"
        }
      ]
    },
    {
      "cell_type": "code",
      "metadata": {
        "colab": {
          "base_uri": "https://localhost:8080/"
        },
        "id": "g_ddPVylPTJN",
        "outputId": "60d1b066-167e-48c4-a737-6c9d4ced752b"
      },
      "source": [
        "print('Best Score: ', grid_search.best_score_) #Gets the best R2 value score\r\n",
        "print('Best Params: ', grid_search.best_params_) #Gets the parameter corresponding to it"
      ],
      "execution_count": 68,
      "outputs": [
        {
          "output_type": "stream",
          "text": [
            "Best Score:  -0.3132539990760992\n",
            "Best Params:  {'copy_X': True, 'fit_intercept': True, 'normalize': False}\n"
          ],
          "name": "stdout"
        }
      ]
    },
    {
      "cell_type": "code",
      "metadata": {
        "id": "n9GsbgIslzVe"
      },
      "source": [
        "#We see that the residual sum of square comes out to be close to zero in grid search"
      ],
      "execution_count": null,
      "outputs": []
    },
    {
      "cell_type": "code",
      "metadata": {
        "colab": {
          "base_uri": "https://localhost:8080/"
        },
        "id": "r92dUh81okqv",
        "outputId": "0ab87f7f-3290-4c42-a817-3471a2eb38f5"
      },
      "source": [
        "#Now doing Linear Regression WITHOUT Grid Search cross validation\r\n",
        "model = LinearRegression()\r\n",
        "model.fit(Xtrain, yTrain)\r\n",
        "#predictions = model.predict(XTest)\r\n",
        "print(\"r2/variance : \", model.score(Xtest,yTest))\r\n",
        "print(\"Residual sum of squares: %.11f\" % np.mean((model.predict(Xtest) - yTest) ** 2))"
      ],
      "execution_count": 69,
      "outputs": [
        {
          "output_type": "stream",
          "text": [
            "r2/variance :  -0.28557882391363565\n",
            "Residual sum of squares: 0.00077607881\n"
          ],
          "name": "stdout"
        }
      ]
    },
    {
      "cell_type": "code",
      "metadata": {
        "id": "JhU77iEcpHsf"
      },
      "source": [
        "#Here the R2 score became  negative, and so the model is not as good as what we found by GridSearch"
      ],
      "execution_count": 70,
      "outputs": []
    },
    {
      "cell_type": "markdown",
      "metadata": {
        "id": "6WZ0PdN8Gx1g"
      },
      "source": [
        "We see that R2 score is lowest for grid_search selected model. \r\n"
      ]
    },
    {
      "cell_type": "code",
      "metadata": {
        "id": "EWwkESf8VtPs"
      },
      "source": [
        ""
      ],
      "execution_count": null,
      "outputs": []
    },
    {
      "cell_type": "code",
      "metadata": {
        "id": "82yeBcuOpAwK"
      },
      "source": [
        "#The simple linear regression can also help us get the coefficients of each of the feature variables which we can plot"
      ],
      "execution_count": null,
      "outputs": []
    },
    {
      "cell_type": "code",
      "metadata": {
        "colab": {
          "base_uri": "https://localhost:8080/"
        },
        "id": "Ov4FbBBhJKuj",
        "outputId": "ea9e45a3-91d1-4fc6-8ad1-c61ee64c84c4"
      },
      "source": [
        "featureCoefficients = pd.DataFrame() \r\n",
        "featureCoefficients[\"Features\"] = pd.DataFrame(Xtrain).columns\r\n",
        "featureCoefficients['PredictedValues'] = pd.Series(model.coef_) \r\n",
        "\r\n",
        "print(featureCoefficients) "
      ],
      "execution_count": 71,
      "outputs": [
        {
          "output_type": "stream",
          "text": [
            "       Features  PredictedValues\n",
            "0      exp_UPF1        -0.001032\n",
            "1     exp_ACSM3        -0.002071\n",
            "2    exp_CREBBP         0.002543\n",
            "3    exp_TBXA2R         0.000495\n",
            "4     exp_IFRD1         0.000156\n",
            "..          ...              ...\n",
            "973    exp_KAL1        -0.000087\n",
            "974    exp_ICMT         0.001060\n",
            "975     exp_HBD         0.000803\n",
            "976    exp_RAI2         0.000339\n",
            "977   exp_MECOM        -0.000402\n",
            "\n",
            "[978 rows x 2 columns]\n"
          ],
          "name": "stdout"
        }
      ]
    },
    {
      "cell_type": "code",
      "metadata": {
        "colab": {
          "base_uri": "https://localhost:8080/"
        },
        "id": "Sk6Mt2b9JFGs",
        "outputId": "bf30162a-986c-4aba-d88f-b684c9264e11"
      },
      "source": [
        "# find optimal alpha with grid search and Lasso Regression for regularization\r\n",
        "alpha = [0.001, 0.01, 0.1, 1, 10, 100, 1000]\r\n",
        "param_grid = dict(alpha=alpha)\r\n",
        "lasso = Lasso()\r\n",
        "grid = GridSearchCV(estimator=lasso, param_grid=param_grid, scoring='r2', verbose=1, cv=5, n_jobs=-1)\r\n",
        "grid_result = grid.fit(Xtrain, yTrain)\r\n",
        "print('Best Score: ', grid_result.best_score_) #Get best R2 score\r\n",
        "print('Best Params: ', grid_result.best_params_) #Get the alpha parameter which corresponds to best results\r\n",
        "\r\n"
      ],
      "execution_count": 72,
      "outputs": [
        {
          "output_type": "stream",
          "text": [
            "Fitting 5 folds for each of 7 candidates, totalling 35 fits\n"
          ],
          "name": "stdout"
        },
        {
          "output_type": "stream",
          "text": [
            "[Parallel(n_jobs=-1)]: Using backend LokyBackend with 2 concurrent workers.\n"
          ],
          "name": "stderr"
        },
        {
          "output_type": "stream",
          "text": [
            "Best Score:  -0.0617645012315573\n",
            "Best Params:  {'alpha': 0.1}\n"
          ],
          "name": "stdout"
        },
        {
          "output_type": "stream",
          "text": [
            "[Parallel(n_jobs=-1)]: Done  35 out of  35 | elapsed:    1.7s finished\n"
          ],
          "name": "stderr"
        }
      ]
    },
    {
      "cell_type": "code",
      "metadata": {
        "colab": {
          "base_uri": "https://localhost:8080/"
        },
        "id": "dpA0I_dpRiCD",
        "outputId": "861d57aa-89f6-4653-b689-c61f3b878513"
      },
      "source": [
        "print(\"Residual sum of squares: %.11f\" % np.mean((grid_result.predict(Xtest) - yTest) ** 2))"
      ],
      "execution_count": 73,
      "outputs": [
        {
          "output_type": "stream",
          "text": [
            "Residual sum of squares: 0.00062192477\n"
          ],
          "name": "stdout"
        }
      ]
    },
    {
      "cell_type": "markdown",
      "metadata": {
        "id": "mr-msU9ZSkCB"
      },
      "source": [
        "We see that the residual sum of squares has dropped significantly compared to previous models. However, there is no significant improvement in R2 score compared to the model we obtained using GridSearch with simple linear regression model. The n_jobs=-1 takes in all available cores.\r\n"
      ]
    },
    {
      "cell_type": "code",
      "metadata": {
        "colab": {
          "base_uri": "https://localhost:8080/"
        },
        "id": "rok8YuZvS7Yl",
        "outputId": "964ca66c-2468-4087-89ce-542a6df132d9"
      },
      "source": [
        "#Now making models for ElasticNet\r\n",
        "elastic_net = ElasticNet()\r\n",
        "alpha = [0.001, 0.01, 0.1, 1, 10, 100, 1000]\r\n",
        "l1_ratio = [0, 0.1, 0.2, 0.3, 0.4, 0.5, 0.6, 0.7, 0.8, 0.9, 1]\r\n",
        "param_grid = dict(alpha=alpha, l1_ratio=l1_ratio)\r\n",
        "grid = GridSearchCV(estimator=elastic_net, param_grid=param_grid, scoring='r2', verbose=1, cv=5, n_jobs=-1)\r\n",
        "grid_result = grid.fit(Xtrain, yTrain)\r\n",
        "print('Best Score: ', grid_result.best_score_)\r\n",
        "print('Best Params: ', grid_result.best_params_)"
      ],
      "execution_count": 74,
      "outputs": [
        {
          "output_type": "stream",
          "text": [
            "Fitting 5 folds for each of 77 candidates, totalling 385 fits\n"
          ],
          "name": "stdout"
        },
        {
          "output_type": "stream",
          "text": [
            "[Parallel(n_jobs=-1)]: Using backend LokyBackend with 2 concurrent workers.\n",
            "[Parallel(n_jobs=-1)]: Done 110 tasks      | elapsed:    2.9s\n"
          ],
          "name": "stderr"
        },
        {
          "output_type": "stream",
          "text": [
            "Best Score:  -0.0617645012315573\n",
            "Best Params:  {'alpha': 0.1, 'l1_ratio': 0.2}\n"
          ],
          "name": "stdout"
        },
        {
          "output_type": "stream",
          "text": [
            "[Parallel(n_jobs=-1)]: Done 385 out of 385 | elapsed:    6.9s finished\n"
          ],
          "name": "stderr"
        }
      ]
    },
    {
      "cell_type": "code",
      "metadata": {
        "colab": {
          "base_uri": "https://localhost:8080/"
        },
        "id": "JAyrYMaHS-pF",
        "outputId": "5f65d59e-cb56-4f89-d68b-c0845da5a49f"
      },
      "source": [
        "print(\"Residual sum of squares: %.11f\" % np.mean((grid_result.predict(Xtest) - yTest) ** 2))"
      ],
      "execution_count": 75,
      "outputs": [
        {
          "output_type": "stream",
          "text": [
            "Residual sum of squares: 0.00062192477\n"
          ],
          "name": "stdout"
        }
      ]
    },
    {
      "cell_type": "markdown",
      "metadata": {
        "id": "egJhn2FpX2mg"
      },
      "source": [
        "There is not much improvement in residual sum of squared than lasso. So essentially either lasso model or elasticnet model can be used which has the lowest residual sum of squares."
      ]
    },
    {
      "cell_type": "code",
      "metadata": {
        "id": "QXPN8XNDYDSr"
      },
      "source": [
        "#In order to get the coefficients of each of the predictors, we will now have \r\n",
        "#to build a model with the parameters as we obtained best by GridSearch"
      ],
      "execution_count": null,
      "outputs": []
    },
    {
      "cell_type": "code",
      "metadata": {
        "id": "Kc0brehOY6Kk"
      },
      "source": [
        "eNet = ElasticNet(alpha=10, l1_ratio= 0) \r\n"
      ],
      "execution_count": 76,
      "outputs": []
    },
    {
      "cell_type": "code",
      "metadata": {
        "colab": {
          "base_uri": "https://localhost:8080/"
        },
        "id": "Lnb4VIWDYl0u",
        "outputId": "7eda3b78-2db8-408b-8c90-a073b5627f08"
      },
      "source": [
        "eNet.fit(Xtrain, yTrain) \r\n",
        "  \r\n"
      ],
      "execution_count": 77,
      "outputs": [
        {
          "output_type": "stream",
          "text": [
            "/usr/local/lib/python3.6/dist-packages/sklearn/linear_model/_coordinate_descent.py:476: ConvergenceWarning: Objective did not converge. You might want to increase the number of iterations. Duality gap: 0.026928210969783643, tolerance: 9.529590413601379e-06\n",
            "  positive)\n"
          ],
          "name": "stderr"
        },
        {
          "output_type": "execute_result",
          "data": {
            "text/plain": [
              "ElasticNet(alpha=10, copy_X=True, fit_intercept=True, l1_ratio=0, max_iter=1000,\n",
              "           normalize=False, positive=False, precompute=False, random_state=None,\n",
              "           selection='cyclic', tol=0.0001, warm_start=False)"
            ]
          },
          "metadata": {
            "tags": []
          },
          "execution_count": 77
        }
      ]
    },
    {
      "cell_type": "code",
      "metadata": {
        "colab": {
          "base_uri": "https://localhost:8080/"
        },
        "id": "tpz2KD9XZb3S",
        "outputId": "8675e6ca-2cf1-4355-e66b-f8debc2b7bea"
      },
      "source": [
        "# calculate the prediction and mean square error \r\n",
        "yPred = eNet.predict(Xtest) \r\n",
        "print(\"Mean Squared Error:\", np.mean((yPred - yTest)**2)) \r\n",
        " "
      ],
      "execution_count": 78,
      "outputs": [
        {
          "output_type": "stream",
          "text": [
            "Mean Squared Error: 0.0005965191777703896\n"
          ],
          "name": "stdout"
        }
      ]
    },
    {
      "cell_type": "code",
      "metadata": {
        "id": "YOTMC8X5Zr0-"
      },
      "source": [
        "#Now lets get the coefficients\r\n",
        "eNetCoeff = pd.DataFrame() \r\n",
        "eNetCoeff[\"Features\"] = Xtrain.columns \r\n",
        "eNetCoeff['PredictedCoefficients'] = pd.Series(eNet.coef_) "
      ],
      "execution_count": 79,
      "outputs": []
    },
    {
      "cell_type": "code",
      "metadata": {
        "colab": {
          "base_uri": "https://localhost:8080/",
          "height": 415
        },
        "id": "3HefnEEdaHEW",
        "outputId": "c2e93bb8-fc8b-45e4-a0bb-981b46cb61a4"
      },
      "source": [
        "eNetCoeff"
      ],
      "execution_count": 80,
      "outputs": [
        {
          "output_type": "execute_result",
          "data": {
            "text/html": [
              "<div>\n",
              "<style scoped>\n",
              "    .dataframe tbody tr th:only-of-type {\n",
              "        vertical-align: middle;\n",
              "    }\n",
              "\n",
              "    .dataframe tbody tr th {\n",
              "        vertical-align: top;\n",
              "    }\n",
              "\n",
              "    .dataframe thead th {\n",
              "        text-align: right;\n",
              "    }\n",
              "</style>\n",
              "<table border=\"1\" class=\"dataframe\">\n",
              "  <thead>\n",
              "    <tr style=\"text-align: right;\">\n",
              "      <th></th>\n",
              "      <th>Features</th>\n",
              "      <th>PredictedCoefficients</th>\n",
              "    </tr>\n",
              "  </thead>\n",
              "  <tbody>\n",
              "    <tr>\n",
              "      <th>0</th>\n",
              "      <td>exp_UPF1</td>\n",
              "      <td>-0.000043</td>\n",
              "    </tr>\n",
              "    <tr>\n",
              "      <th>1</th>\n",
              "      <td>exp_ACSM3</td>\n",
              "      <td>0.000083</td>\n",
              "    </tr>\n",
              "    <tr>\n",
              "      <th>2</th>\n",
              "      <td>exp_CREBBP</td>\n",
              "      <td>-0.000005</td>\n",
              "    </tr>\n",
              "    <tr>\n",
              "      <th>3</th>\n",
              "      <td>exp_TBXA2R</td>\n",
              "      <td>-0.000005</td>\n",
              "    </tr>\n",
              "    <tr>\n",
              "      <th>4</th>\n",
              "      <td>exp_IFRD1</td>\n",
              "      <td>-0.000016</td>\n",
              "    </tr>\n",
              "    <tr>\n",
              "      <th>...</th>\n",
              "      <td>...</td>\n",
              "      <td>...</td>\n",
              "    </tr>\n",
              "    <tr>\n",
              "      <th>973</th>\n",
              "      <td>exp_KAL1</td>\n",
              "      <td>-0.000118</td>\n",
              "    </tr>\n",
              "    <tr>\n",
              "      <th>974</th>\n",
              "      <td>exp_ICMT</td>\n",
              "      <td>0.000034</td>\n",
              "    </tr>\n",
              "    <tr>\n",
              "      <th>975</th>\n",
              "      <td>exp_HBD</td>\n",
              "      <td>0.000295</td>\n",
              "    </tr>\n",
              "    <tr>\n",
              "      <th>976</th>\n",
              "      <td>exp_RAI2</td>\n",
              "      <td>0.000065</td>\n",
              "    </tr>\n",
              "    <tr>\n",
              "      <th>977</th>\n",
              "      <td>exp_MECOM</td>\n",
              "      <td>-0.000055</td>\n",
              "    </tr>\n",
              "  </tbody>\n",
              "</table>\n",
              "<p>978 rows × 2 columns</p>\n",
              "</div>"
            ],
            "text/plain": [
              "       Features  PredictedCoefficients\n",
              "0      exp_UPF1              -0.000043\n",
              "1     exp_ACSM3               0.000083\n",
              "2    exp_CREBBP              -0.000005\n",
              "3    exp_TBXA2R              -0.000005\n",
              "4     exp_IFRD1              -0.000016\n",
              "..          ...                    ...\n",
              "973    exp_KAL1              -0.000118\n",
              "974    exp_ICMT               0.000034\n",
              "975     exp_HBD               0.000295\n",
              "976    exp_RAI2               0.000065\n",
              "977   exp_MECOM              -0.000055\n",
              "\n",
              "[978 rows x 2 columns]"
            ]
          },
          "metadata": {
            "tags": []
          },
          "execution_count": 80
        }
      ]
    },
    {
      "cell_type": "code",
      "metadata": {
        "id": "NK3PnM_2aJ6a"
      },
      "source": [
        "#Now we use Random Forest in GRID Search for regression"
      ],
      "execution_count": null,
      "outputs": []
    },
    {
      "cell_type": "code",
      "metadata": {
        "id": "q5HwK7HOa0Yn"
      },
      "source": [
        "param_grid = [\r\n",
        " {'n_estimators': [3, 10, 30,50,60], 'max_features': [2, 4, 6, 8]},\r\n",
        " {'bootstrap': [False], 'n_estimators': [3, 10], 'max_features': [2, 3, 4]},\r\n",
        " ]"
      ],
      "execution_count": 91,
      "outputs": []
    },
    {
      "cell_type": "code",
      "metadata": {
        "id": "lmK5hWuYaptk"
      },
      "source": [
        "from sklearn.ensemble import RandomForestRegressor\r\n",
        "forest_reg = RandomForestRegressor()"
      ],
      "execution_count": 92,
      "outputs": []
    },
    {
      "cell_type": "code",
      "metadata": {
        "id": "pm0JPyxqafcH"
      },
      "source": [
        "grid_search = GridSearchCV(forest_reg, param_grid, cv=5,scoring='neg_mean_squared_error',\r\n",
        "return_train_score=True)"
      ],
      "execution_count": 93,
      "outputs": []
    },
    {
      "cell_type": "code",
      "metadata": {
        "colab": {
          "base_uri": "https://localhost:8080/"
        },
        "id": "9ZFACeEpbFz6",
        "outputId": "46d639f0-bd7d-4840-ea5b-e40479e4533c"
      },
      "source": [
        "grid_search.fit(Xtrain, yTrain)"
      ],
      "execution_count": 94,
      "outputs": [
        {
          "output_type": "execute_result",
          "data": {
            "text/plain": [
              "GridSearchCV(cv=5, error_score=nan,\n",
              "             estimator=RandomForestRegressor(bootstrap=True, ccp_alpha=0.0,\n",
              "                                             criterion='mse', max_depth=None,\n",
              "                                             max_features='auto',\n",
              "                                             max_leaf_nodes=None,\n",
              "                                             max_samples=None,\n",
              "                                             min_impurity_decrease=0.0,\n",
              "                                             min_impurity_split=None,\n",
              "                                             min_samples_leaf=1,\n",
              "                                             min_samples_split=2,\n",
              "                                             min_weight_fraction_leaf=0.0,\n",
              "                                             n_estimators=100, n_jobs=None,\n",
              "                                             oob_score=False, random_state=None,\n",
              "                                             verbose=0, warm_start=False),\n",
              "             iid='deprecated', n_jobs=None,\n",
              "             param_grid=[{'max_features': [2, 4, 6, 8],\n",
              "                          'n_estimators': [3, 10, 30, 50, 60]},\n",
              "                         {'bootstrap': [False], 'max_features': [2, 3, 4],\n",
              "                          'n_estimators': [3, 10]}],\n",
              "             pre_dispatch='2*n_jobs', refit=True, return_train_score=True,\n",
              "             scoring='neg_mean_squared_error', verbose=0)"
            ]
          },
          "metadata": {
            "tags": []
          },
          "execution_count": 94
        }
      ]
    },
    {
      "cell_type": "code",
      "metadata": {
        "colab": {
          "base_uri": "https://localhost:8080/"
        },
        "id": "cfAbmdrDbTbI",
        "outputId": "b69b5b09-0edf-4843-caa5-ba5518c958a5"
      },
      "source": [
        "grid_search.best_params_\r\n"
      ],
      "execution_count": 95,
      "outputs": [
        {
          "output_type": "execute_result",
          "data": {
            "text/plain": [
              "{'max_features': 2, 'n_estimators': 50}"
            ]
          },
          "metadata": {
            "tags": []
          },
          "execution_count": 95
        }
      ]
    },
    {
      "cell_type": "code",
      "metadata": {
        "colab": {
          "base_uri": "https://localhost:8080/"
        },
        "id": "PWsfz7YbbfuE",
        "outputId": "9582f965-d5a0-4841-fa1f-3657b5af096f"
      },
      "source": [
        "grid_search.best_estimator_\r\n"
      ],
      "execution_count": 96,
      "outputs": [
        {
          "output_type": "execute_result",
          "data": {
            "text/plain": [
              "RandomForestRegressor(bootstrap=True, ccp_alpha=0.0, criterion='mse',\n",
              "                      max_depth=None, max_features=2, max_leaf_nodes=None,\n",
              "                      max_samples=None, min_impurity_decrease=0.0,\n",
              "                      min_impurity_split=None, min_samples_leaf=1,\n",
              "                      min_samples_split=2, min_weight_fraction_leaf=0.0,\n",
              "                      n_estimators=50, n_jobs=None, oob_score=False,\n",
              "                      random_state=None, verbose=0, warm_start=False)"
            ]
          },
          "metadata": {
            "tags": []
          },
          "execution_count": 96
        }
      ]
    },
    {
      "cell_type": "code",
      "metadata": {
        "id": "HGnakjMWcCSE"
      },
      "source": [
        " cvres = grid_search.cv_results_\r\n"
      ],
      "execution_count": 97,
      "outputs": []
    },
    {
      "cell_type": "code",
      "metadata": {
        "colab": {
          "base_uri": "https://localhost:8080/"
        },
        "id": "etGJwNKncwP-",
        "outputId": "8aeb0388-a6f5-42c7-8dc5-ecb333cbda9b"
      },
      "source": [
        " for mean_score, params in zip(cvres[\"mean_test_score\"], cvres[\"params\"]):\r\n",
        "   print(np.sqrt(-mean_score), params)"
      ],
      "execution_count": 98,
      "outputs": [
        {
          "output_type": "stream",
          "text": [
            "0.042194755138865774 {'max_features': 2, 'n_estimators': 3}\n",
            "0.03337929191780819 {'max_features': 2, 'n_estimators': 10}\n",
            "0.034849145756476754 {'max_features': 2, 'n_estimators': 30}\n",
            "0.03333348093007519 {'max_features': 2, 'n_estimators': 50}\n",
            "0.03455427594279708 {'max_features': 2, 'n_estimators': 60}\n",
            "0.0389617606202843 {'max_features': 4, 'n_estimators': 3}\n",
            "0.035518892473455514 {'max_features': 4, 'n_estimators': 10}\n",
            "0.033819436469529944 {'max_features': 4, 'n_estimators': 30}\n",
            "0.03572453959413558 {'max_features': 4, 'n_estimators': 50}\n",
            "0.03476411051698575 {'max_features': 4, 'n_estimators': 60}\n",
            "0.04004324111231325 {'max_features': 6, 'n_estimators': 3}\n",
            "0.036225804831863925 {'max_features': 6, 'n_estimators': 10}\n",
            "0.03448113891308664 {'max_features': 6, 'n_estimators': 30}\n",
            "0.03433896412851802 {'max_features': 6, 'n_estimators': 50}\n",
            "0.03425672392338765 {'max_features': 6, 'n_estimators': 60}\n",
            "0.039674581571370375 {'max_features': 8, 'n_estimators': 3}\n",
            "0.03399025144575754 {'max_features': 8, 'n_estimators': 10}\n",
            "0.03483515769440827 {'max_features': 8, 'n_estimators': 30}\n",
            "0.03522038216377038 {'max_features': 8, 'n_estimators': 50}\n",
            "0.033999876887751 {'max_features': 8, 'n_estimators': 60}\n",
            "0.043562724174117544 {'bootstrap': False, 'max_features': 2, 'n_estimators': 3}\n",
            "0.03570669718240656 {'bootstrap': False, 'max_features': 2, 'n_estimators': 10}\n",
            "0.041643118135618135 {'bootstrap': False, 'max_features': 3, 'n_estimators': 3}\n",
            "0.035275961572757634 {'bootstrap': False, 'max_features': 3, 'n_estimators': 10}\n",
            "0.04275138294341396 {'bootstrap': False, 'max_features': 4, 'n_estimators': 3}\n",
            "0.03515458110734381 {'bootstrap': False, 'max_features': 4, 'n_estimators': 10}\n"
          ],
          "name": "stdout"
        }
      ]
    },
    {
      "cell_type": "code",
      "metadata": {
        "id": "FheFiFL7c0KQ"
      },
      "source": [
        ""
      ],
      "execution_count": null,
      "outputs": []
    },
    {
      "cell_type": "markdown",
      "metadata": {
        "id": "2A2Ehzb9dG2B"
      },
      "source": [
        "**We note that the RMSE for Training data is lowest of value 0.03333348093007519 for {'max_features': 2, 'n_estimators': 50}.**"
      ]
    },
    {
      "cell_type": "code",
      "metadata": {
        "colab": {
          "base_uri": "https://localhost:8080/"
        },
        "id": "M0qclVqrcE-X",
        "outputId": "190f1c17-c60c-4ae8-8871-8cb6681cc6d2"
      },
      "source": [
        "# calculate the prediction and mean square error for Test data \r\n",
        "yPred = grid_search.predict(Xtest) \r\n",
        "print(\"Mean Squared Error:\", np.mean((yPred - yTest)**2))"
      ],
      "execution_count": 103,
      "outputs": [
        {
          "output_type": "stream",
          "text": [
            "Mean Squared Error: 0.000619000573736353\n"
          ],
          "name": "stdout"
        }
      ]
    },
    {
      "cell_type": "code",
      "metadata": {
        "id": "I1tA-YPSdxIA"
      },
      "source": [
        "#We note that the mean squared error is also as low as I was getting with Lasso or Ridge Regression earlier. "
      ],
      "execution_count": 1,
      "outputs": []
    },
    {
      "cell_type": "code",
      "metadata": {
        "colab": {
          "base_uri": "https://localhost:8080/"
        },
        "id": "Q3tlVS1ARLfN",
        "outputId": "52acdac9-9cca-4f12-dc6c-1a4b001a6629"
      },
      "source": [
        "pip install dtreeviz"
      ],
      "execution_count": 2,
      "outputs": [
        {
          "output_type": "stream",
          "text": [
            "Collecting dtreeviz\n",
            "\u001b[?25l  Downloading https://files.pythonhosted.org/packages/31/57/37124098be67a2edf55c909c77b634d1723abecb54b8ded3e7b3b02af384/dtreeviz-1.1.3.tar.gz (49kB)\n",
            "\u001b[K     |████████████████████████████████| 51kB 2.4MB/s \n",
            "\u001b[?25hRequirement already satisfied: graphviz>=0.9 in /usr/local/lib/python3.6/dist-packages (from dtreeviz) (0.10.1)\n",
            "Requirement already satisfied: pandas in /usr/local/lib/python3.6/dist-packages (from dtreeviz) (1.1.5)\n",
            "Requirement already satisfied: numpy in /usr/local/lib/python3.6/dist-packages (from dtreeviz) (1.19.4)\n",
            "Requirement already satisfied: scikit-learn in /usr/local/lib/python3.6/dist-packages (from dtreeviz) (0.22.2.post1)\n",
            "Requirement already satisfied: matplotlib in /usr/local/lib/python3.6/dist-packages (from dtreeviz) (3.2.2)\n",
            "Collecting colour\n",
            "  Downloading https://files.pythonhosted.org/packages/74/46/e81907704ab203206769dee1385dc77e1407576ff8f50a0681d0a6b541be/colour-0.1.5-py2.py3-none-any.whl\n",
            "Requirement already satisfied: xgboost in /usr/local/lib/python3.6/dist-packages (from dtreeviz) (0.90)\n",
            "Requirement already satisfied: pytest in /usr/local/lib/python3.6/dist-packages (from dtreeviz) (3.6.4)\n",
            "Collecting pyspark\n",
            "\u001b[?25l  Downloading https://files.pythonhosted.org/packages/f0/26/198fc8c0b98580f617cb03cb298c6056587b8f0447e20fa40c5b634ced77/pyspark-3.0.1.tar.gz (204.2MB)\n",
            "\u001b[K     |████████████████████████████████| 204.2MB 74kB/s \n",
            "\u001b[?25hRequirement already satisfied: pytz>=2017.2 in /usr/local/lib/python3.6/dist-packages (from pandas->dtreeviz) (2018.9)\n",
            "Requirement already satisfied: python-dateutil>=2.7.3 in /usr/local/lib/python3.6/dist-packages (from pandas->dtreeviz) (2.8.1)\n",
            "Requirement already satisfied: scipy>=0.17.0 in /usr/local/lib/python3.6/dist-packages (from scikit-learn->dtreeviz) (1.4.1)\n",
            "Requirement already satisfied: joblib>=0.11 in /usr/local/lib/python3.6/dist-packages (from scikit-learn->dtreeviz) (1.0.0)\n",
            "Requirement already satisfied: cycler>=0.10 in /usr/local/lib/python3.6/dist-packages (from matplotlib->dtreeviz) (0.10.0)\n",
            "Requirement already satisfied: pyparsing!=2.0.4,!=2.1.2,!=2.1.6,>=2.0.1 in /usr/local/lib/python3.6/dist-packages (from matplotlib->dtreeviz) (2.4.7)\n",
            "Requirement already satisfied: kiwisolver>=1.0.1 in /usr/local/lib/python3.6/dist-packages (from matplotlib->dtreeviz) (1.3.1)\n",
            "Requirement already satisfied: setuptools in /usr/local/lib/python3.6/dist-packages (from pytest->dtreeviz) (51.0.0)\n",
            "Requirement already satisfied: atomicwrites>=1.0 in /usr/local/lib/python3.6/dist-packages (from pytest->dtreeviz) (1.4.0)\n",
            "Requirement already satisfied: six>=1.10.0 in /usr/local/lib/python3.6/dist-packages (from pytest->dtreeviz) (1.15.0)\n",
            "Requirement already satisfied: pluggy<0.8,>=0.5 in /usr/local/lib/python3.6/dist-packages (from pytest->dtreeviz) (0.7.1)\n",
            "Requirement already satisfied: attrs>=17.4.0 in /usr/local/lib/python3.6/dist-packages (from pytest->dtreeviz) (20.3.0)\n",
            "Requirement already satisfied: more-itertools>=4.0.0 in /usr/local/lib/python3.6/dist-packages (from pytest->dtreeviz) (8.6.0)\n",
            "Requirement already satisfied: py>=1.5.0 in /usr/local/lib/python3.6/dist-packages (from pytest->dtreeviz) (1.10.0)\n",
            "Collecting py4j==0.10.9\n",
            "\u001b[?25l  Downloading https://files.pythonhosted.org/packages/9e/b6/6a4fb90cd235dc8e265a6a2067f2a2c99f0d91787f06aca4bcf7c23f3f80/py4j-0.10.9-py2.py3-none-any.whl (198kB)\n",
            "\u001b[K     |████████████████████████████████| 204kB 16.4MB/s \n",
            "\u001b[?25hBuilding wheels for collected packages: dtreeviz, pyspark\n",
            "  Building wheel for dtreeviz (setup.py) ... \u001b[?25l\u001b[?25hdone\n",
            "  Created wheel for dtreeviz: filename=dtreeviz-1.1.3-cp36-none-any.whl size=52494 sha256=c3cb60552b4dc9dc4ad6ffb4370e53ce62e9de733f8943bd9f133e6e82bb4022\n",
            "  Stored in directory: /root/.cache/pip/wheels/80/a9/1e/4751fda06e88399ee09410646e9d55c88787276f9537b8ebd0\n",
            "  Building wheel for pyspark (setup.py) ... \u001b[?25l\u001b[?25hdone\n",
            "  Created wheel for pyspark: filename=pyspark-3.0.1-py2.py3-none-any.whl size=204612242 sha256=21cca3b3e4576054d2495018964e9c04b1675149d9bb6f1c32d07b6d4485b21e\n",
            "  Stored in directory: /root/.cache/pip/wheels/5e/bd/07/031766ca628adec8435bb40f0bd83bb676ce65ff4007f8e73f\n",
            "Successfully built dtreeviz pyspark\n",
            "Installing collected packages: colour, py4j, pyspark, dtreeviz\n",
            "Successfully installed colour-0.1.5 dtreeviz-1.1.3 py4j-0.10.9 pyspark-3.0.1\n"
          ],
          "name": "stdout"
        }
      ]
    },
    {
      "cell_type": "code",
      "metadata": {
        "id": "-l6u7pqQRMaT"
      },
      "source": [
        ""
      ],
      "execution_count": null,
      "outputs": []
    },
    {
      "cell_type": "code",
      "metadata": {
        "id": "_AUAonf8fMJ1"
      },
      "source": [
        "from sklearn import tree\r\n",
        "from dtreeviz.trees import dtreeviz"
      ],
      "execution_count": 120,
      "outputs": []
    },
    {
      "cell_type": "code",
      "metadata": {
        "id": "HeWdKul7i_jM"
      },
      "source": [
        "#Now making the tree with the best parameters obtained by random forest\r\n",
        "forest_reg = RandomForestRegressor(max_features = 2, n_estimators = 50)\r\n"
      ],
      "execution_count": 122,
      "outputs": []
    },
    {
      "cell_type": "code",
      "metadata": {
        "colab": {
          "base_uri": "https://localhost:8080/"
        },
        "id": "AoPZZhS4jjnT",
        "outputId": "51a0c5b6-5761-4dc2-d070-df823d4efb62"
      },
      "source": [
        "forest_reg.fit(Xtrain, yTrain)"
      ],
      "execution_count": 123,
      "outputs": [
        {
          "output_type": "execute_result",
          "data": {
            "text/plain": [
              "RandomForestRegressor(bootstrap=True, ccp_alpha=0.0, criterion='mse',\n",
              "                      max_depth=None, max_features=2, max_leaf_nodes=None,\n",
              "                      max_samples=None, min_impurity_decrease=0.0,\n",
              "                      min_impurity_split=None, min_samples_leaf=1,\n",
              "                      min_samples_split=2, min_weight_fraction_leaf=0.0,\n",
              "                      n_estimators=50, n_jobs=None, oob_score=False,\n",
              "                      random_state=None, verbose=0, warm_start=False)"
            ]
          },
          "metadata": {
            "tags": []
          },
          "execution_count": 123
        }
      ]
    },
    {
      "cell_type": "code",
      "metadata": {
        "id": "GeMAVh2sjxHr"
      },
      "source": [
        ""
      ],
      "execution_count": null,
      "outputs": []
    },
    {
      "cell_type": "code",
      "metadata": {
        "id": "vv1tcb8YiYFT"
      },
      "source": [
        "def plotRandomForestR(model, X, Y):\r\n",
        "    selected_genes = Xtrain.columns # get the feature names\r\n",
        "    model.fit(X, Y)\r\n",
        "    plt.figure(figsize=(20,20))\r\n",
        "    _ = tree.plot_tree(model.estimators_[0], feature_names=selected_genes, filled=True)"
      ],
      "execution_count": 118,
      "outputs": []
    },
    {
      "cell_type": "code",
      "metadata": {
        "colab": {
          "base_uri": "https://localhost:8080/",
          "height": 644
        },
        "id": "qYRLiIZkilqi",
        "outputId": "d60515ea-9f9f-45bc-dcee-d5d63414131a"
      },
      "source": [
        "plotRandomForestR(forest_reg,Xtrain,yTrain)"
      ],
      "execution_count": 124,
      "outputs": [
        {
          "output_type": "display_data",
          "data": {
            "image/png": "[encoded data removed]",
            "text/plain": [
              "<Figure size 1440x1440 with 1 Axes>"
            ]
          },
          "metadata": {
            "tags": [],
            "needs_background": "light"
          }
        }
      ]
    },
    {
      "cell_type": "code",
      "metadata": {
        "id": "jt9zUwXUj3E5"
      },
      "source": [
        ""
      ],
      "execution_count": null,
      "outputs": []
    },
    {
      "cell_type": "code",
      "metadata": {
        "id": "bWK1kdVCitoP"
      },
      "source": [
        ""
      ],
      "execution_count": null,
      "outputs": []
    },
    {
      "cell_type": "code",
      "metadata": {
        "id": "xUyN8Ut7fNre"
      },
      "source": [
        ""
      ],
      "execution_count": 107,
      "outputs": []
    },
    {
      "cell_type": "code",
      "metadata": {
        "id": "gt42ZERGfZ7M"
      },
      "source": [
        ""
      ],
      "execution_count": 111,
      "outputs": []
    },
    {
      "cell_type": "code",
      "metadata": {
        "id": "i8YBdnBGhJ15"
      },
      "source": [
        ""
      ],
      "execution_count": null,
      "outputs": []
    },
    {
      "cell_type": "code",
      "metadata": {
        "id": "uJjm3d-ufynq"
      },
      "source": [
        ""
      ],
      "execution_count": 113,
      "outputs": []
    }
  ]
}
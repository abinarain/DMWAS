{
  "nbformat": 4,
  "nbformat_minor": 0,
  "metadata": {
    "colab": {
      "name": "ProjectMOA1GdscErlotinibIc50.ipynb",
      "provenance": [],
      "collapsed_sections": [],
      "authorship_tag": "ABX9TyNnafW2JLnk/lptukqMSH7Z",
      "include_colab_link": true
    },
    "kernelspec": {
      "name": "python3",
      "display_name": "Python 3"
    }
  },
  "cells": [
    {
      "cell_type": "markdown",
      "metadata": {
        "id": "view-in-github",
        "colab_type": "text"
      },
      "source": [
        "<a href=\"https://colab.research.google.com/github/abinarain/DMWAS/blob/master/ProjectMOA1GdscErlotinibIc50.ipynb\" target=\"_parent\"><img src=\"https://colab.research.google.com/assets/colab-badge.svg\" alt=\"Open In Colab\"/></a>"
      ]
    },
    {
      "cell_type": "code",
      "metadata": {
        "id": "kj4IOJumxLhT"
      },
      "source": [
        "#Author: Abhishek N. Singh\r\n",
        "#Description: This script evaluates the IC50 value for a drug when acting against cell viability such \r\n",
        "#as cancer cells, and then I try to fit a regression model\r\n",
        "#Date: 9th December 2020"
      ],
      "execution_count": null,
      "outputs": []
    },
    {
      "cell_type": "code",
      "metadata": {
        "id": "R01cZLMpx_XG"
      },
      "source": [
        "import pandas as pd\r\n",
        "import numpy as np\r\n",
        "import matplotlib.pyplot as plt \r\n",
        "%matplotlib inline\r\n",
        "from sklearn.linear_model import ElasticNet\r\n",
        "from sklearn.linear_model import Lasso\r\n",
        "from sklearn import preprocessing\r\n",
        "from sklearn import linear_model\r\n",
        "from sklearn.model_selection import GridSearchCV\r\n",
        "from sklearn.preprocessing import PolynomialFeatures\r\n",
        "from sklearn.linear_model import LinearRegression\r\n",
        "from sklearn.decomposition import PCA, KernelPCA\r\n",
        "from sklearn.model_selection import train_test_split\r\n",
        "import seaborn as sns\r\n",
        "\r\n",
        "\r\n",
        "\r\n"
      ],
      "execution_count": null,
      "outputs": []
    },
    {
      "cell_type": "code",
      "metadata": {
        "id": "Y-UaidFWycYn"
      },
      "source": [
        "dataset = pd.read_csv(\"gdsc_Erlotinib_ic50.csv\", delimiter=\",\")"
      ],
      "execution_count": null,
      "outputs": []
    },
    {
      "cell_type": "code",
      "metadata": {
        "colab": {
          "base_uri": "https://localhost:8080/",
          "height": 261
        },
        "id": "zqMvzYQgy_E9",
        "outputId": "9e39d3ed-5185-4cf7-da38-0dd98c67e3da"
      },
      "source": [
        "dataset.head()"
      ],
      "execution_count": null,
      "outputs": [
        {
          "output_type": "execute_result",
          "data": {
            "text/html": [
              "<div>\n",
              "<style scoped>\n",
              "    .dataframe tbody tr th:only-of-type {\n",
              "        vertical-align: middle;\n",
              "    }\n",
              "\n",
              "    .dataframe tbody tr th {\n",
              "        vertical-align: top;\n",
              "    }\n",
              "\n",
              "    .dataframe thead th {\n",
              "        text-align: right;\n",
              "    }\n",
              "</style>\n",
              "<table border=\"1\" class=\"dataframe\">\n",
              "  <thead>\n",
              "    <tr style=\"text-align: right;\">\n",
              "      <th></th>\n",
              "      <th>Unnamed: 0</th>\n",
              "      <th>Unnamed: 0.1</th>\n",
              "      <th>exp_COPZ2</th>\n",
              "      <th>exp_CRLF1</th>\n",
              "      <th>exp_TAC1</th>\n",
              "      <th>exp_ADIPOR2</th>\n",
              "      <th>exp_IFFO1</th>\n",
              "      <th>exp_KDM5D</th>\n",
              "      <th>exp_CD6</th>\n",
              "      <th>exp_STMN4</th>\n",
              "      <th>exp_KCNG1</th>\n",
              "      <th>exp_ABCF2</th>\n",
              "      <th>exp_CLEC16A</th>\n",
              "      <th>exp_ANO2</th>\n",
              "      <th>exp_MAP4</th>\n",
              "      <th>exp_RSF1</th>\n",
              "      <th>exp_MSMO1</th>\n",
              "      <th>exp_KIF1B</th>\n",
              "      <th>exp_GALC</th>\n",
              "      <th>exp_TRAF1</th>\n",
              "      <th>exp_RC3H2</th>\n",
              "      <th>exp_POU1F1</th>\n",
              "      <th>exp_OAT</th>\n",
              "      <th>exp_SNAP91</th>\n",
              "      <th>exp_SLK</th>\n",
              "      <th>exp_GOLGA5</th>\n",
              "      <th>exp_FECH</th>\n",
              "      <th>exp_IARS2</th>\n",
              "      <th>exp_IFI35</th>\n",
              "      <th>exp_ATP11A</th>\n",
              "      <th>exp_SRBD1</th>\n",
              "      <th>exp_MAPK6</th>\n",
              "      <th>exp_POLB</th>\n",
              "      <th>exp_CPSF1</th>\n",
              "      <th>exp_MPP5</th>\n",
              "      <th>exp_XRCC1</th>\n",
              "      <th>exp_CLCN4</th>\n",
              "      <th>exp_DHRS9</th>\n",
              "      <th>exp_PTPLAD1</th>\n",
              "      <th>exp_ARHGEF10L</th>\n",
              "      <th>...</th>\n",
              "      <th>exp_GRIK2</th>\n",
              "      <th>exp_SH3GLB1</th>\n",
              "      <th>exp_CRYBB3</th>\n",
              "      <th>exp_ADRA2A</th>\n",
              "      <th>exp_PROP1</th>\n",
              "      <th>exp_ZBTB39</th>\n",
              "      <th>exp_TMPRSS15</th>\n",
              "      <th>exp_KRT75</th>\n",
              "      <th>exp_KCTD14</th>\n",
              "      <th>exp_SIPA1</th>\n",
              "      <th>exp_IFT57</th>\n",
              "      <th>exp_UCN</th>\n",
              "      <th>exp_PITPNM1</th>\n",
              "      <th>exp_PLXNC1</th>\n",
              "      <th>exp_BTG1</th>\n",
              "      <th>exp_PYCARD</th>\n",
              "      <th>exp_LRBA</th>\n",
              "      <th>exp_NFIX</th>\n",
              "      <th>exp_ARHGAP11A</th>\n",
              "      <th>exp_WNT2</th>\n",
              "      <th>exp_CLEC1A</th>\n",
              "      <th>exp_AC016745.2</th>\n",
              "      <th>exp_MRPS30</th>\n",
              "      <th>exp_PDHX</th>\n",
              "      <th>exp_IFRD1</th>\n",
              "      <th>exp_WSB1</th>\n",
              "      <th>exp_FAM65B</th>\n",
              "      <th>exp_RAB11B</th>\n",
              "      <th>exp_ROGDI</th>\n",
              "      <th>exp_SCN8A</th>\n",
              "      <th>exp_POMT1</th>\n",
              "      <th>exp_NKG7</th>\n",
              "      <th>exp_SLC6A16</th>\n",
              "      <th>exp_CCDC91</th>\n",
              "      <th>exp_CACNA1A</th>\n",
              "      <th>exp_ZSCAN18</th>\n",
              "      <th>exp_FRK</th>\n",
              "      <th>exp_MCF2</th>\n",
              "      <th>exp_TULP3</th>\n",
              "      <th>Erlotinib</th>\n",
              "    </tr>\n",
              "  </thead>\n",
              "  <tbody>\n",
              "    <tr>\n",
              "      <th>0</th>\n",
              "      <td>0</td>\n",
              "      <td>22RV1</td>\n",
              "      <td>NaN</td>\n",
              "      <td>4.248105</td>\n",
              "      <td>4.282751</td>\n",
              "      <td>8.576592</td>\n",
              "      <td>5.070674</td>\n",
              "      <td>7.759352</td>\n",
              "      <td>4.602019</td>\n",
              "      <td>5.190350</td>\n",
              "      <td>7.385830</td>\n",
              "      <td>6.171773</td>\n",
              "      <td>4.987999</td>\n",
              "      <td>4.386405</td>\n",
              "      <td>8.319581</td>\n",
              "      <td>5.124842</td>\n",
              "      <td>11.375434</td>\n",
              "      <td>6.950165</td>\n",
              "      <td>5.217493</td>\n",
              "      <td>NaN</td>\n",
              "      <td>6.435574</td>\n",
              "      <td>NaN</td>\n",
              "      <td>9.526227</td>\n",
              "      <td>6.999370</td>\n",
              "      <td>8.224666</td>\n",
              "      <td>8.260464</td>\n",
              "      <td>7.391606</td>\n",
              "      <td>10.130519</td>\n",
              "      <td>4.870403</td>\n",
              "      <td>4.980934</td>\n",
              "      <td>5.472737</td>\n",
              "      <td>NaN</td>\n",
              "      <td>9.001038</td>\n",
              "      <td>6.675385</td>\n",
              "      <td>NaN</td>\n",
              "      <td>6.187631</td>\n",
              "      <td>4.315376</td>\n",
              "      <td>4.931067</td>\n",
              "      <td>7.130860</td>\n",
              "      <td>5.633721</td>\n",
              "      <td>...</td>\n",
              "      <td>4.686992</td>\n",
              "      <td>7.177287</td>\n",
              "      <td>NaN</td>\n",
              "      <td>6.883827</td>\n",
              "      <td>4.598454</td>\n",
              "      <td>NaN</td>\n",
              "      <td>4.284136</td>\n",
              "      <td>NaN</td>\n",
              "      <td>4.440254</td>\n",
              "      <td>4.911507</td>\n",
              "      <td>9.585117</td>\n",
              "      <td>5.027490</td>\n",
              "      <td>5.036847</td>\n",
              "      <td>NaN</td>\n",
              "      <td>9.791068</td>\n",
              "      <td>4.625075</td>\n",
              "      <td>7.681521</td>\n",
              "      <td>6.666518</td>\n",
              "      <td>5.270228</td>\n",
              "      <td>5.207163</td>\n",
              "      <td>5.422417</td>\n",
              "      <td>4.337242</td>\n",
              "      <td>8.241133</td>\n",
              "      <td>8.382914</td>\n",
              "      <td>9.184904</td>\n",
              "      <td>7.742239</td>\n",
              "      <td>4.287793</td>\n",
              "      <td>5.283270</td>\n",
              "      <td>6.230765</td>\n",
              "      <td>4.822764</td>\n",
              "      <td>6.456653</td>\n",
              "      <td>4.176977</td>\n",
              "      <td>4.631245</td>\n",
              "      <td>7.569865</td>\n",
              "      <td>3.977183</td>\n",
              "      <td>5.957110</td>\n",
              "      <td>4.175269</td>\n",
              "      <td>4.545129</td>\n",
              "      <td>6.618855</td>\n",
              "      <td>-1.48802</td>\n",
              "    </tr>\n",
              "    <tr>\n",
              "      <th>1</th>\n",
              "      <td>1</td>\n",
              "      <td>23132-87</td>\n",
              "      <td>4.751625</td>\n",
              "      <td>5.023276</td>\n",
              "      <td>4.115669</td>\n",
              "      <td>9.590657</td>\n",
              "      <td>5.061421</td>\n",
              "      <td>7.587566</td>\n",
              "      <td>5.236536</td>\n",
              "      <td>4.443490</td>\n",
              "      <td>5.612640</td>\n",
              "      <td>6.730912</td>\n",
              "      <td>4.864545</td>\n",
              "      <td>4.943098</td>\n",
              "      <td>8.066804</td>\n",
              "      <td>6.124239</td>\n",
              "      <td>10.231029</td>\n",
              "      <td>7.489231</td>\n",
              "      <td>7.691186</td>\n",
              "      <td>5.011970</td>\n",
              "      <td>5.999923</td>\n",
              "      <td>4.308970</td>\n",
              "      <td>9.492482</td>\n",
              "      <td>4.030367</td>\n",
              "      <td>NaN</td>\n",
              "      <td>9.338579</td>\n",
              "      <td>6.708432</td>\n",
              "      <td>9.453979</td>\n",
              "      <td>6.439538</td>\n",
              "      <td>NaN</td>\n",
              "      <td>6.946307</td>\n",
              "      <td>11.126428</td>\n",
              "      <td>9.291950</td>\n",
              "      <td>7.097342</td>\n",
              "      <td>6.433115</td>\n",
              "      <td>NaN</td>\n",
              "      <td>4.412739</td>\n",
              "      <td>4.814770</td>\n",
              "      <td>6.998661</td>\n",
              "      <td>5.164618</td>\n",
              "      <td>...</td>\n",
              "      <td>4.358778</td>\n",
              "      <td>8.188934</td>\n",
              "      <td>5.142681</td>\n",
              "      <td>4.136258</td>\n",
              "      <td>4.544278</td>\n",
              "      <td>4.941061</td>\n",
              "      <td>4.201556</td>\n",
              "      <td>4.396772</td>\n",
              "      <td>4.583461</td>\n",
              "      <td>6.999289</td>\n",
              "      <td>8.163342</td>\n",
              "      <td>4.842256</td>\n",
              "      <td>6.948345</td>\n",
              "      <td>5.084298</td>\n",
              "      <td>10.412581</td>\n",
              "      <td>4.565369</td>\n",
              "      <td>8.173671</td>\n",
              "      <td>4.623452</td>\n",
              "      <td>4.957271</td>\n",
              "      <td>NaN</td>\n",
              "      <td>NaN</td>\n",
              "      <td>4.900543</td>\n",
              "      <td>9.040116</td>\n",
              "      <td>9.393895</td>\n",
              "      <td>7.948395</td>\n",
              "      <td>8.457218</td>\n",
              "      <td>4.219205</td>\n",
              "      <td>5.633389</td>\n",
              "      <td>6.534319</td>\n",
              "      <td>4.540494</td>\n",
              "      <td>6.910684</td>\n",
              "      <td>4.401302</td>\n",
              "      <td>4.524092</td>\n",
              "      <td>7.042128</td>\n",
              "      <td>4.570753</td>\n",
              "      <td>5.190979</td>\n",
              "      <td>NaN</td>\n",
              "      <td>4.299898</td>\n",
              "      <td>6.977388</td>\n",
              "      <td>-1.48802</td>\n",
              "    </tr>\n",
              "    <tr>\n",
              "      <th>2</th>\n",
              "      <td>2</td>\n",
              "      <td>380</td>\n",
              "      <td>4.677830</td>\n",
              "      <td>NaN</td>\n",
              "      <td>4.414835</td>\n",
              "      <td>9.810794</td>\n",
              "      <td>6.758992</td>\n",
              "      <td>7.213987</td>\n",
              "      <td>5.124261</td>\n",
              "      <td>4.536834</td>\n",
              "      <td>5.591881</td>\n",
              "      <td>6.117747</td>\n",
              "      <td>5.859097</td>\n",
              "      <td>4.496934</td>\n",
              "      <td>7.267437</td>\n",
              "      <td>6.320760</td>\n",
              "      <td>9.377906</td>\n",
              "      <td>5.542714</td>\n",
              "      <td>5.434801</td>\n",
              "      <td>5.567857</td>\n",
              "      <td>7.095067</td>\n",
              "      <td>4.277238</td>\n",
              "      <td>8.756498</td>\n",
              "      <td>3.866247</td>\n",
              "      <td>8.189768</td>\n",
              "      <td>8.381984</td>\n",
              "      <td>5.496081</td>\n",
              "      <td>NaN</td>\n",
              "      <td>6.335457</td>\n",
              "      <td>5.011294</td>\n",
              "      <td>8.176531</td>\n",
              "      <td>9.690427</td>\n",
              "      <td>9.146354</td>\n",
              "      <td>7.017636</td>\n",
              "      <td>5.596143</td>\n",
              "      <td>7.624439</td>\n",
              "      <td>NaN</td>\n",
              "      <td>4.241132</td>\n",
              "      <td>7.799697</td>\n",
              "      <td>5.360729</td>\n",
              "      <td>...</td>\n",
              "      <td>4.344378</td>\n",
              "      <td>8.670321</td>\n",
              "      <td>4.658982</td>\n",
              "      <td>4.298158</td>\n",
              "      <td>4.702590</td>\n",
              "      <td>5.245217</td>\n",
              "      <td>4.581799</td>\n",
              "      <td>4.534433</td>\n",
              "      <td>4.485550</td>\n",
              "      <td>7.778415</td>\n",
              "      <td>10.985411</td>\n",
              "      <td>4.636973</td>\n",
              "      <td>5.340667</td>\n",
              "      <td>5.378795</td>\n",
              "      <td>NaN</td>\n",
              "      <td>8.743635</td>\n",
              "      <td>7.189665</td>\n",
              "      <td>4.625829</td>\n",
              "      <td>5.722414</td>\n",
              "      <td>4.726665</td>\n",
              "      <td>4.348811</td>\n",
              "      <td>4.918840</td>\n",
              "      <td>8.370305</td>\n",
              "      <td>NaN</td>\n",
              "      <td>7.459172</td>\n",
              "      <td>9.292843</td>\n",
              "      <td>7.562419</td>\n",
              "      <td>5.018919</td>\n",
              "      <td>NaN</td>\n",
              "      <td>4.759826</td>\n",
              "      <td>5.089853</td>\n",
              "      <td>4.767632</td>\n",
              "      <td>6.040111</td>\n",
              "      <td>NaN</td>\n",
              "      <td>4.807369</td>\n",
              "      <td>7.381605</td>\n",
              "      <td>4.096595</td>\n",
              "      <td>4.353280</td>\n",
              "      <td>6.298527</td>\n",
              "      <td>-1.48802</td>\n",
              "    </tr>\n",
              "    <tr>\n",
              "      <th>3</th>\n",
              "      <td>3</td>\n",
              "      <td>5637</td>\n",
              "      <td>6.124125</td>\n",
              "      <td>4.315419</td>\n",
              "      <td>NaN</td>\n",
              "      <td>8.329743</td>\n",
              "      <td>4.731405</td>\n",
              "      <td>5.485750</td>\n",
              "      <td>4.656342</td>\n",
              "      <td>4.675843</td>\n",
              "      <td>8.274558</td>\n",
              "      <td>6.881935</td>\n",
              "      <td>NaN</td>\n",
              "      <td>4.591374</td>\n",
              "      <td>7.445409</td>\n",
              "      <td>6.357788</td>\n",
              "      <td>9.290170</td>\n",
              "      <td>7.845277</td>\n",
              "      <td>5.044321</td>\n",
              "      <td>NaN</td>\n",
              "      <td>7.719963</td>\n",
              "      <td>4.035399</td>\n",
              "      <td>9.141353</td>\n",
              "      <td>NaN</td>\n",
              "      <td>8.551670</td>\n",
              "      <td>9.144304</td>\n",
              "      <td>5.548422</td>\n",
              "      <td>9.824597</td>\n",
              "      <td>6.064520</td>\n",
              "      <td>4.815694</td>\n",
              "      <td>5.979735</td>\n",
              "      <td>11.435274</td>\n",
              "      <td>9.978174</td>\n",
              "      <td>6.561652</td>\n",
              "      <td>6.091851</td>\n",
              "      <td>6.910335</td>\n",
              "      <td>4.598375</td>\n",
              "      <td>4.179916</td>\n",
              "      <td>NaN</td>\n",
              "      <td>5.931737</td>\n",
              "      <td>...</td>\n",
              "      <td>4.358081</td>\n",
              "      <td>NaN</td>\n",
              "      <td>4.892956</td>\n",
              "      <td>NaN</td>\n",
              "      <td>4.611666</td>\n",
              "      <td>5.367584</td>\n",
              "      <td>4.124489</td>\n",
              "      <td>4.336504</td>\n",
              "      <td>5.554679</td>\n",
              "      <td>5.722613</td>\n",
              "      <td>8.602560</td>\n",
              "      <td>4.498691</td>\n",
              "      <td>5.149122</td>\n",
              "      <td>4.895340</td>\n",
              "      <td>10.234215</td>\n",
              "      <td>5.384634</td>\n",
              "      <td>NaN</td>\n",
              "      <td>4.779799</td>\n",
              "      <td>NaN</td>\n",
              "      <td>4.830473</td>\n",
              "      <td>NaN</td>\n",
              "      <td>4.296301</td>\n",
              "      <td>8.506786</td>\n",
              "      <td>8.617698</td>\n",
              "      <td>10.072301</td>\n",
              "      <td>9.776818</td>\n",
              "      <td>4.165963</td>\n",
              "      <td>4.839643</td>\n",
              "      <td>6.508814</td>\n",
              "      <td>4.824067</td>\n",
              "      <td>5.633577</td>\n",
              "      <td>4.036759</td>\n",
              "      <td>4.647674</td>\n",
              "      <td>NaN</td>\n",
              "      <td>4.353842</td>\n",
              "      <td>5.349520</td>\n",
              "      <td>4.527658</td>\n",
              "      <td>4.183776</td>\n",
              "      <td>7.080237</td>\n",
              "      <td>-1.48802</td>\n",
              "    </tr>\n",
              "    <tr>\n",
              "      <th>4</th>\n",
              "      <td>4</td>\n",
              "      <td>639-V</td>\n",
              "      <td>7.329050</td>\n",
              "      <td>4.478514</td>\n",
              "      <td>3.794459</td>\n",
              "      <td>9.871205</td>\n",
              "      <td>4.803878</td>\n",
              "      <td>4.255231</td>\n",
              "      <td>4.704262</td>\n",
              "      <td>4.006748</td>\n",
              "      <td>NaN</td>\n",
              "      <td>7.404784</td>\n",
              "      <td>5.321569</td>\n",
              "      <td>3.896046</td>\n",
              "      <td>8.335643</td>\n",
              "      <td>7.003983</td>\n",
              "      <td>10.668207</td>\n",
              "      <td>NaN</td>\n",
              "      <td>6.792095</td>\n",
              "      <td>4.712382</td>\n",
              "      <td>NaN</td>\n",
              "      <td>4.268368</td>\n",
              "      <td>11.301256</td>\n",
              "      <td>4.159530</td>\n",
              "      <td>9.948436</td>\n",
              "      <td>9.129477</td>\n",
              "      <td>6.772887</td>\n",
              "      <td>10.375022</td>\n",
              "      <td>6.896724</td>\n",
              "      <td>4.862472</td>\n",
              "      <td>6.174870</td>\n",
              "      <td>10.928988</td>\n",
              "      <td>9.591413</td>\n",
              "      <td>7.019537</td>\n",
              "      <td>6.983679</td>\n",
              "      <td>6.086106</td>\n",
              "      <td>4.115092</td>\n",
              "      <td>4.121604</td>\n",
              "      <td>8.456983</td>\n",
              "      <td>5.490146</td>\n",
              "      <td>...</td>\n",
              "      <td>4.553433</td>\n",
              "      <td>8.066421</td>\n",
              "      <td>4.570516</td>\n",
              "      <td>3.956439</td>\n",
              "      <td>4.483610</td>\n",
              "      <td>5.296590</td>\n",
              "      <td>3.994717</td>\n",
              "      <td>4.616485</td>\n",
              "      <td>5.856159</td>\n",
              "      <td>5.789237</td>\n",
              "      <td>9.626727</td>\n",
              "      <td>5.678214</td>\n",
              "      <td>6.209600</td>\n",
              "      <td>4.739403</td>\n",
              "      <td>9.388969</td>\n",
              "      <td>4.211552</td>\n",
              "      <td>7.367048</td>\n",
              "      <td>5.637212</td>\n",
              "      <td>4.829691</td>\n",
              "      <td>4.848829</td>\n",
              "      <td>3.907463</td>\n",
              "      <td>4.590107</td>\n",
              "      <td>10.041276</td>\n",
              "      <td>8.866034</td>\n",
              "      <td>9.070575</td>\n",
              "      <td>NaN</td>\n",
              "      <td>NaN</td>\n",
              "      <td>NaN</td>\n",
              "      <td>5.545265</td>\n",
              "      <td>NaN</td>\n",
              "      <td>5.607993</td>\n",
              "      <td>4.459915</td>\n",
              "      <td>4.393781</td>\n",
              "      <td>7.022832</td>\n",
              "      <td>4.511093</td>\n",
              "      <td>6.809208</td>\n",
              "      <td>4.066271</td>\n",
              "      <td>4.434700</td>\n",
              "      <td>8.246333</td>\n",
              "      <td>-1.48802</td>\n",
              "    </tr>\n",
              "  </tbody>\n",
              "</table>\n",
              "<p>5 rows × 1323 columns</p>\n",
              "</div>"
            ],
            "text/plain": [
              "   Unnamed: 0 Unnamed: 0.1  exp_COPZ2  ...  exp_MCF2  exp_TULP3  Erlotinib\n",
              "0           0        22RV1        NaN  ...  4.545129   6.618855   -1.48802\n",
              "1           1     23132-87   4.751625  ...  4.299898   6.977388   -1.48802\n",
              "2           2          380   4.677830  ...  4.353280   6.298527   -1.48802\n",
              "3           3         5637   6.124125  ...  4.183776   7.080237   -1.48802\n",
              "4           4        639-V   7.329050  ...  4.434700   8.246333   -1.48802\n",
              "\n",
              "[5 rows x 1323 columns]"
            ]
          },
          "metadata": {
            "tags": []
          },
          "execution_count": 25
        }
      ]
    },
    {
      "cell_type": "code",
      "metadata": {
        "id": "gg_Nu_BUzAhX"
      },
      "source": [
        ""
      ],
      "execution_count": null,
      "outputs": []
    },
    {
      "cell_type": "code",
      "metadata": {
        "colab": {
          "base_uri": "https://localhost:8080/"
        },
        "id": "ZVfy97xFyr9c",
        "outputId": "d418bba9-9dde-4ced-d5c1-33c046f8979b"
      },
      "source": [
        "dataset.shape"
      ],
      "execution_count": null,
      "outputs": [
        {
          "output_type": "execute_result",
          "data": {
            "text/plain": [
              "(1124, 1323)"
            ]
          },
          "metadata": {
            "tags": []
          },
          "execution_count": 26
        }
      ]
    },
    {
      "cell_type": "code",
      "metadata": {
        "id": "rhlQZz6byyq_"
      },
      "source": [
        "#So 1124 samples with 1323 features"
      ],
      "execution_count": null,
      "outputs": []
    },
    {
      "cell_type": "code",
      "metadata": {
        "id": "fhZzLAwgzHwp"
      },
      "source": [
        "#The first two column feature variables are not needed for data modeling and can be dropped."
      ],
      "execution_count": null,
      "outputs": []
    },
    {
      "cell_type": "code",
      "metadata": {
        "id": "3-OqbnUGzTvh"
      },
      "source": [
        "del dataset['Unnamed: 0']\r\n",
        "del dataset['Unnamed: 0.1']"
      ],
      "execution_count": null,
      "outputs": []
    },
    {
      "cell_type": "code",
      "metadata": {
        "colab": {
          "base_uri": "https://localhost:8080/",
          "height": 244
        },
        "id": "AiPWJ_hDzi84",
        "outputId": "aa636cf8-3390-4598-bfa8-f5632a44b541"
      },
      "source": [
        "dataset.head()"
      ],
      "execution_count": null,
      "outputs": [
        {
          "output_type": "execute_result",
          "data": {
            "text/html": [
              "<div>\n",
              "<style scoped>\n",
              "    .dataframe tbody tr th:only-of-type {\n",
              "        vertical-align: middle;\n",
              "    }\n",
              "\n",
              "    .dataframe tbody tr th {\n",
              "        vertical-align: top;\n",
              "    }\n",
              "\n",
              "    .dataframe thead th {\n",
              "        text-align: right;\n",
              "    }\n",
              "</style>\n",
              "<table border=\"1\" class=\"dataframe\">\n",
              "  <thead>\n",
              "    <tr style=\"text-align: right;\">\n",
              "      <th></th>\n",
              "      <th>exp_COPZ2</th>\n",
              "      <th>exp_CRLF1</th>\n",
              "      <th>exp_TAC1</th>\n",
              "      <th>exp_ADIPOR2</th>\n",
              "      <th>exp_IFFO1</th>\n",
              "      <th>exp_KDM5D</th>\n",
              "      <th>exp_CD6</th>\n",
              "      <th>exp_STMN4</th>\n",
              "      <th>exp_KCNG1</th>\n",
              "      <th>exp_ABCF2</th>\n",
              "      <th>exp_CLEC16A</th>\n",
              "      <th>exp_ANO2</th>\n",
              "      <th>exp_MAP4</th>\n",
              "      <th>exp_RSF1</th>\n",
              "      <th>exp_MSMO1</th>\n",
              "      <th>exp_KIF1B</th>\n",
              "      <th>exp_GALC</th>\n",
              "      <th>exp_TRAF1</th>\n",
              "      <th>exp_RC3H2</th>\n",
              "      <th>exp_POU1F1</th>\n",
              "      <th>exp_OAT</th>\n",
              "      <th>exp_SNAP91</th>\n",
              "      <th>exp_SLK</th>\n",
              "      <th>exp_GOLGA5</th>\n",
              "      <th>exp_FECH</th>\n",
              "      <th>exp_IARS2</th>\n",
              "      <th>exp_IFI35</th>\n",
              "      <th>exp_ATP11A</th>\n",
              "      <th>exp_SRBD1</th>\n",
              "      <th>exp_MAPK6</th>\n",
              "      <th>exp_POLB</th>\n",
              "      <th>exp_CPSF1</th>\n",
              "      <th>exp_MPP5</th>\n",
              "      <th>exp_XRCC1</th>\n",
              "      <th>exp_CLCN4</th>\n",
              "      <th>exp_DHRS9</th>\n",
              "      <th>exp_PTPLAD1</th>\n",
              "      <th>exp_ARHGEF10L</th>\n",
              "      <th>exp_SEMA3A</th>\n",
              "      <th>exp_FOSL2</th>\n",
              "      <th>...</th>\n",
              "      <th>exp_GRIK2</th>\n",
              "      <th>exp_SH3GLB1</th>\n",
              "      <th>exp_CRYBB3</th>\n",
              "      <th>exp_ADRA2A</th>\n",
              "      <th>exp_PROP1</th>\n",
              "      <th>exp_ZBTB39</th>\n",
              "      <th>exp_TMPRSS15</th>\n",
              "      <th>exp_KRT75</th>\n",
              "      <th>exp_KCTD14</th>\n",
              "      <th>exp_SIPA1</th>\n",
              "      <th>exp_IFT57</th>\n",
              "      <th>exp_UCN</th>\n",
              "      <th>exp_PITPNM1</th>\n",
              "      <th>exp_PLXNC1</th>\n",
              "      <th>exp_BTG1</th>\n",
              "      <th>exp_PYCARD</th>\n",
              "      <th>exp_LRBA</th>\n",
              "      <th>exp_NFIX</th>\n",
              "      <th>exp_ARHGAP11A</th>\n",
              "      <th>exp_WNT2</th>\n",
              "      <th>exp_CLEC1A</th>\n",
              "      <th>exp_AC016745.2</th>\n",
              "      <th>exp_MRPS30</th>\n",
              "      <th>exp_PDHX</th>\n",
              "      <th>exp_IFRD1</th>\n",
              "      <th>exp_WSB1</th>\n",
              "      <th>exp_FAM65B</th>\n",
              "      <th>exp_RAB11B</th>\n",
              "      <th>exp_ROGDI</th>\n",
              "      <th>exp_SCN8A</th>\n",
              "      <th>exp_POMT1</th>\n",
              "      <th>exp_NKG7</th>\n",
              "      <th>exp_SLC6A16</th>\n",
              "      <th>exp_CCDC91</th>\n",
              "      <th>exp_CACNA1A</th>\n",
              "      <th>exp_ZSCAN18</th>\n",
              "      <th>exp_FRK</th>\n",
              "      <th>exp_MCF2</th>\n",
              "      <th>exp_TULP3</th>\n",
              "      <th>Erlotinib</th>\n",
              "    </tr>\n",
              "  </thead>\n",
              "  <tbody>\n",
              "    <tr>\n",
              "      <th>0</th>\n",
              "      <td>NaN</td>\n",
              "      <td>4.248105</td>\n",
              "      <td>4.282751</td>\n",
              "      <td>8.576592</td>\n",
              "      <td>5.070674</td>\n",
              "      <td>7.759352</td>\n",
              "      <td>4.602019</td>\n",
              "      <td>5.190350</td>\n",
              "      <td>7.385830</td>\n",
              "      <td>6.171773</td>\n",
              "      <td>4.987999</td>\n",
              "      <td>4.386405</td>\n",
              "      <td>8.319581</td>\n",
              "      <td>5.124842</td>\n",
              "      <td>11.375434</td>\n",
              "      <td>6.950165</td>\n",
              "      <td>5.217493</td>\n",
              "      <td>NaN</td>\n",
              "      <td>6.435574</td>\n",
              "      <td>NaN</td>\n",
              "      <td>9.526227</td>\n",
              "      <td>6.999370</td>\n",
              "      <td>8.224666</td>\n",
              "      <td>8.260464</td>\n",
              "      <td>7.391606</td>\n",
              "      <td>10.130519</td>\n",
              "      <td>4.870403</td>\n",
              "      <td>4.980934</td>\n",
              "      <td>5.472737</td>\n",
              "      <td>NaN</td>\n",
              "      <td>9.001038</td>\n",
              "      <td>6.675385</td>\n",
              "      <td>NaN</td>\n",
              "      <td>6.187631</td>\n",
              "      <td>4.315376</td>\n",
              "      <td>4.931067</td>\n",
              "      <td>7.130860</td>\n",
              "      <td>5.633721</td>\n",
              "      <td>4.477679</td>\n",
              "      <td>4.719276</td>\n",
              "      <td>...</td>\n",
              "      <td>4.686992</td>\n",
              "      <td>7.177287</td>\n",
              "      <td>NaN</td>\n",
              "      <td>6.883827</td>\n",
              "      <td>4.598454</td>\n",
              "      <td>NaN</td>\n",
              "      <td>4.284136</td>\n",
              "      <td>NaN</td>\n",
              "      <td>4.440254</td>\n",
              "      <td>4.911507</td>\n",
              "      <td>9.585117</td>\n",
              "      <td>5.027490</td>\n",
              "      <td>5.036847</td>\n",
              "      <td>NaN</td>\n",
              "      <td>9.791068</td>\n",
              "      <td>4.625075</td>\n",
              "      <td>7.681521</td>\n",
              "      <td>6.666518</td>\n",
              "      <td>5.270228</td>\n",
              "      <td>5.207163</td>\n",
              "      <td>5.422417</td>\n",
              "      <td>4.337242</td>\n",
              "      <td>8.241133</td>\n",
              "      <td>8.382914</td>\n",
              "      <td>9.184904</td>\n",
              "      <td>7.742239</td>\n",
              "      <td>4.287793</td>\n",
              "      <td>5.283270</td>\n",
              "      <td>6.230765</td>\n",
              "      <td>4.822764</td>\n",
              "      <td>6.456653</td>\n",
              "      <td>4.176977</td>\n",
              "      <td>4.631245</td>\n",
              "      <td>7.569865</td>\n",
              "      <td>3.977183</td>\n",
              "      <td>5.957110</td>\n",
              "      <td>4.175269</td>\n",
              "      <td>4.545129</td>\n",
              "      <td>6.618855</td>\n",
              "      <td>-1.48802</td>\n",
              "    </tr>\n",
              "    <tr>\n",
              "      <th>1</th>\n",
              "      <td>4.751625</td>\n",
              "      <td>5.023276</td>\n",
              "      <td>4.115669</td>\n",
              "      <td>9.590657</td>\n",
              "      <td>5.061421</td>\n",
              "      <td>7.587566</td>\n",
              "      <td>5.236536</td>\n",
              "      <td>4.443490</td>\n",
              "      <td>5.612640</td>\n",
              "      <td>6.730912</td>\n",
              "      <td>4.864545</td>\n",
              "      <td>4.943098</td>\n",
              "      <td>8.066804</td>\n",
              "      <td>6.124239</td>\n",
              "      <td>10.231029</td>\n",
              "      <td>7.489231</td>\n",
              "      <td>7.691186</td>\n",
              "      <td>5.011970</td>\n",
              "      <td>5.999923</td>\n",
              "      <td>4.308970</td>\n",
              "      <td>9.492482</td>\n",
              "      <td>4.030367</td>\n",
              "      <td>NaN</td>\n",
              "      <td>9.338579</td>\n",
              "      <td>6.708432</td>\n",
              "      <td>9.453979</td>\n",
              "      <td>6.439538</td>\n",
              "      <td>NaN</td>\n",
              "      <td>6.946307</td>\n",
              "      <td>11.126428</td>\n",
              "      <td>9.291950</td>\n",
              "      <td>7.097342</td>\n",
              "      <td>6.433115</td>\n",
              "      <td>NaN</td>\n",
              "      <td>4.412739</td>\n",
              "      <td>4.814770</td>\n",
              "      <td>6.998661</td>\n",
              "      <td>5.164618</td>\n",
              "      <td>4.884515</td>\n",
              "      <td>NaN</td>\n",
              "      <td>...</td>\n",
              "      <td>4.358778</td>\n",
              "      <td>8.188934</td>\n",
              "      <td>5.142681</td>\n",
              "      <td>4.136258</td>\n",
              "      <td>4.544278</td>\n",
              "      <td>4.941061</td>\n",
              "      <td>4.201556</td>\n",
              "      <td>4.396772</td>\n",
              "      <td>4.583461</td>\n",
              "      <td>6.999289</td>\n",
              "      <td>8.163342</td>\n",
              "      <td>4.842256</td>\n",
              "      <td>6.948345</td>\n",
              "      <td>5.084298</td>\n",
              "      <td>10.412581</td>\n",
              "      <td>4.565369</td>\n",
              "      <td>8.173671</td>\n",
              "      <td>4.623452</td>\n",
              "      <td>4.957271</td>\n",
              "      <td>NaN</td>\n",
              "      <td>NaN</td>\n",
              "      <td>4.900543</td>\n",
              "      <td>9.040116</td>\n",
              "      <td>9.393895</td>\n",
              "      <td>7.948395</td>\n",
              "      <td>8.457218</td>\n",
              "      <td>4.219205</td>\n",
              "      <td>5.633389</td>\n",
              "      <td>6.534319</td>\n",
              "      <td>4.540494</td>\n",
              "      <td>6.910684</td>\n",
              "      <td>4.401302</td>\n",
              "      <td>4.524092</td>\n",
              "      <td>7.042128</td>\n",
              "      <td>4.570753</td>\n",
              "      <td>5.190979</td>\n",
              "      <td>NaN</td>\n",
              "      <td>4.299898</td>\n",
              "      <td>6.977388</td>\n",
              "      <td>-1.48802</td>\n",
              "    </tr>\n",
              "    <tr>\n",
              "      <th>2</th>\n",
              "      <td>4.677830</td>\n",
              "      <td>NaN</td>\n",
              "      <td>4.414835</td>\n",
              "      <td>9.810794</td>\n",
              "      <td>6.758992</td>\n",
              "      <td>7.213987</td>\n",
              "      <td>5.124261</td>\n",
              "      <td>4.536834</td>\n",
              "      <td>5.591881</td>\n",
              "      <td>6.117747</td>\n",
              "      <td>5.859097</td>\n",
              "      <td>4.496934</td>\n",
              "      <td>7.267437</td>\n",
              "      <td>6.320760</td>\n",
              "      <td>9.377906</td>\n",
              "      <td>5.542714</td>\n",
              "      <td>5.434801</td>\n",
              "      <td>5.567857</td>\n",
              "      <td>7.095067</td>\n",
              "      <td>4.277238</td>\n",
              "      <td>8.756498</td>\n",
              "      <td>3.866247</td>\n",
              "      <td>8.189768</td>\n",
              "      <td>8.381984</td>\n",
              "      <td>5.496081</td>\n",
              "      <td>NaN</td>\n",
              "      <td>6.335457</td>\n",
              "      <td>5.011294</td>\n",
              "      <td>8.176531</td>\n",
              "      <td>9.690427</td>\n",
              "      <td>9.146354</td>\n",
              "      <td>7.017636</td>\n",
              "      <td>5.596143</td>\n",
              "      <td>7.624439</td>\n",
              "      <td>NaN</td>\n",
              "      <td>4.241132</td>\n",
              "      <td>7.799697</td>\n",
              "      <td>5.360729</td>\n",
              "      <td>4.421699</td>\n",
              "      <td>4.293521</td>\n",
              "      <td>...</td>\n",
              "      <td>4.344378</td>\n",
              "      <td>8.670321</td>\n",
              "      <td>4.658982</td>\n",
              "      <td>4.298158</td>\n",
              "      <td>4.702590</td>\n",
              "      <td>5.245217</td>\n",
              "      <td>4.581799</td>\n",
              "      <td>4.534433</td>\n",
              "      <td>4.485550</td>\n",
              "      <td>7.778415</td>\n",
              "      <td>10.985411</td>\n",
              "      <td>4.636973</td>\n",
              "      <td>5.340667</td>\n",
              "      <td>5.378795</td>\n",
              "      <td>NaN</td>\n",
              "      <td>8.743635</td>\n",
              "      <td>7.189665</td>\n",
              "      <td>4.625829</td>\n",
              "      <td>5.722414</td>\n",
              "      <td>4.726665</td>\n",
              "      <td>4.348811</td>\n",
              "      <td>4.918840</td>\n",
              "      <td>8.370305</td>\n",
              "      <td>NaN</td>\n",
              "      <td>7.459172</td>\n",
              "      <td>9.292843</td>\n",
              "      <td>7.562419</td>\n",
              "      <td>5.018919</td>\n",
              "      <td>NaN</td>\n",
              "      <td>4.759826</td>\n",
              "      <td>5.089853</td>\n",
              "      <td>4.767632</td>\n",
              "      <td>6.040111</td>\n",
              "      <td>NaN</td>\n",
              "      <td>4.807369</td>\n",
              "      <td>7.381605</td>\n",
              "      <td>4.096595</td>\n",
              "      <td>4.353280</td>\n",
              "      <td>6.298527</td>\n",
              "      <td>-1.48802</td>\n",
              "    </tr>\n",
              "    <tr>\n",
              "      <th>3</th>\n",
              "      <td>6.124125</td>\n",
              "      <td>4.315419</td>\n",
              "      <td>NaN</td>\n",
              "      <td>8.329743</td>\n",
              "      <td>4.731405</td>\n",
              "      <td>5.485750</td>\n",
              "      <td>4.656342</td>\n",
              "      <td>4.675843</td>\n",
              "      <td>8.274558</td>\n",
              "      <td>6.881935</td>\n",
              "      <td>NaN</td>\n",
              "      <td>4.591374</td>\n",
              "      <td>7.445409</td>\n",
              "      <td>6.357788</td>\n",
              "      <td>9.290170</td>\n",
              "      <td>7.845277</td>\n",
              "      <td>5.044321</td>\n",
              "      <td>NaN</td>\n",
              "      <td>7.719963</td>\n",
              "      <td>4.035399</td>\n",
              "      <td>9.141353</td>\n",
              "      <td>NaN</td>\n",
              "      <td>8.551670</td>\n",
              "      <td>9.144304</td>\n",
              "      <td>5.548422</td>\n",
              "      <td>9.824597</td>\n",
              "      <td>6.064520</td>\n",
              "      <td>4.815694</td>\n",
              "      <td>5.979735</td>\n",
              "      <td>11.435274</td>\n",
              "      <td>9.978174</td>\n",
              "      <td>6.561652</td>\n",
              "      <td>6.091851</td>\n",
              "      <td>6.910335</td>\n",
              "      <td>4.598375</td>\n",
              "      <td>4.179916</td>\n",
              "      <td>NaN</td>\n",
              "      <td>5.931737</td>\n",
              "      <td>7.028722</td>\n",
              "      <td>4.605834</td>\n",
              "      <td>...</td>\n",
              "      <td>4.358081</td>\n",
              "      <td>NaN</td>\n",
              "      <td>4.892956</td>\n",
              "      <td>NaN</td>\n",
              "      <td>4.611666</td>\n",
              "      <td>5.367584</td>\n",
              "      <td>4.124489</td>\n",
              "      <td>4.336504</td>\n",
              "      <td>5.554679</td>\n",
              "      <td>5.722613</td>\n",
              "      <td>8.602560</td>\n",
              "      <td>4.498691</td>\n",
              "      <td>5.149122</td>\n",
              "      <td>4.895340</td>\n",
              "      <td>10.234215</td>\n",
              "      <td>5.384634</td>\n",
              "      <td>NaN</td>\n",
              "      <td>4.779799</td>\n",
              "      <td>NaN</td>\n",
              "      <td>4.830473</td>\n",
              "      <td>NaN</td>\n",
              "      <td>4.296301</td>\n",
              "      <td>8.506786</td>\n",
              "      <td>8.617698</td>\n",
              "      <td>10.072301</td>\n",
              "      <td>9.776818</td>\n",
              "      <td>4.165963</td>\n",
              "      <td>4.839643</td>\n",
              "      <td>6.508814</td>\n",
              "      <td>4.824067</td>\n",
              "      <td>5.633577</td>\n",
              "      <td>4.036759</td>\n",
              "      <td>4.647674</td>\n",
              "      <td>NaN</td>\n",
              "      <td>4.353842</td>\n",
              "      <td>5.349520</td>\n",
              "      <td>4.527658</td>\n",
              "      <td>4.183776</td>\n",
              "      <td>7.080237</td>\n",
              "      <td>-1.48802</td>\n",
              "    </tr>\n",
              "    <tr>\n",
              "      <th>4</th>\n",
              "      <td>7.329050</td>\n",
              "      <td>4.478514</td>\n",
              "      <td>3.794459</td>\n",
              "      <td>9.871205</td>\n",
              "      <td>4.803878</td>\n",
              "      <td>4.255231</td>\n",
              "      <td>4.704262</td>\n",
              "      <td>4.006748</td>\n",
              "      <td>NaN</td>\n",
              "      <td>7.404784</td>\n",
              "      <td>5.321569</td>\n",
              "      <td>3.896046</td>\n",
              "      <td>8.335643</td>\n",
              "      <td>7.003983</td>\n",
              "      <td>10.668207</td>\n",
              "      <td>NaN</td>\n",
              "      <td>6.792095</td>\n",
              "      <td>4.712382</td>\n",
              "      <td>NaN</td>\n",
              "      <td>4.268368</td>\n",
              "      <td>11.301256</td>\n",
              "      <td>4.159530</td>\n",
              "      <td>9.948436</td>\n",
              "      <td>9.129477</td>\n",
              "      <td>6.772887</td>\n",
              "      <td>10.375022</td>\n",
              "      <td>6.896724</td>\n",
              "      <td>4.862472</td>\n",
              "      <td>6.174870</td>\n",
              "      <td>10.928988</td>\n",
              "      <td>9.591413</td>\n",
              "      <td>7.019537</td>\n",
              "      <td>6.983679</td>\n",
              "      <td>6.086106</td>\n",
              "      <td>4.115092</td>\n",
              "      <td>4.121604</td>\n",
              "      <td>8.456983</td>\n",
              "      <td>5.490146</td>\n",
              "      <td>5.495464</td>\n",
              "      <td>4.864460</td>\n",
              "      <td>...</td>\n",
              "      <td>4.553433</td>\n",
              "      <td>8.066421</td>\n",
              "      <td>4.570516</td>\n",
              "      <td>3.956439</td>\n",
              "      <td>4.483610</td>\n",
              "      <td>5.296590</td>\n",
              "      <td>3.994717</td>\n",
              "      <td>4.616485</td>\n",
              "      <td>5.856159</td>\n",
              "      <td>5.789237</td>\n",
              "      <td>9.626727</td>\n",
              "      <td>5.678214</td>\n",
              "      <td>6.209600</td>\n",
              "      <td>4.739403</td>\n",
              "      <td>9.388969</td>\n",
              "      <td>4.211552</td>\n",
              "      <td>7.367048</td>\n",
              "      <td>5.637212</td>\n",
              "      <td>4.829691</td>\n",
              "      <td>4.848829</td>\n",
              "      <td>3.907463</td>\n",
              "      <td>4.590107</td>\n",
              "      <td>10.041276</td>\n",
              "      <td>8.866034</td>\n",
              "      <td>9.070575</td>\n",
              "      <td>NaN</td>\n",
              "      <td>NaN</td>\n",
              "      <td>NaN</td>\n",
              "      <td>5.545265</td>\n",
              "      <td>NaN</td>\n",
              "      <td>5.607993</td>\n",
              "      <td>4.459915</td>\n",
              "      <td>4.393781</td>\n",
              "      <td>7.022832</td>\n",
              "      <td>4.511093</td>\n",
              "      <td>6.809208</td>\n",
              "      <td>4.066271</td>\n",
              "      <td>4.434700</td>\n",
              "      <td>8.246333</td>\n",
              "      <td>-1.48802</td>\n",
              "    </tr>\n",
              "  </tbody>\n",
              "</table>\n",
              "<p>5 rows × 1321 columns</p>\n",
              "</div>"
            ],
            "text/plain": [
              "   exp_COPZ2  exp_CRLF1  exp_TAC1  ...  exp_MCF2  exp_TULP3  Erlotinib\n",
              "0        NaN   4.248105  4.282751  ...  4.545129   6.618855   -1.48802\n",
              "1   4.751625   5.023276  4.115669  ...  4.299898   6.977388   -1.48802\n",
              "2   4.677830        NaN  4.414835  ...  4.353280   6.298527   -1.48802\n",
              "3   6.124125   4.315419       NaN  ...  4.183776   7.080237   -1.48802\n",
              "4   7.329050   4.478514  3.794459  ...  4.434700   8.246333   -1.48802\n",
              "\n",
              "[5 rows x 1321 columns]"
            ]
          },
          "metadata": {
            "tags": []
          },
          "execution_count": 28
        }
      ]
    },
    {
      "cell_type": "code",
      "metadata": {
        "id": "9-CFXWD6zkzl"
      },
      "source": [
        "y = dataset.Erlotinib"
      ],
      "execution_count": null,
      "outputs": []
    },
    {
      "cell_type": "code",
      "metadata": {
        "colab": {
          "base_uri": "https://localhost:8080/"
        },
        "id": "-L6fTErH0T5M",
        "outputId": "93ff5422-b955-4d84-eaa4-c567fe009415"
      },
      "source": [
        "y.head() # This is how our target variable looks like"
      ],
      "execution_count": null,
      "outputs": [
        {
          "output_type": "execute_result",
          "data": {
            "text/plain": [
              "0   -1.48802\n",
              "1   -1.48802\n",
              "2   -1.48802\n",
              "3   -1.48802\n",
              "4   -1.48802\n",
              "Name: Erlotinib, dtype: float64"
            ]
          },
          "metadata": {
            "tags": []
          },
          "execution_count": 30
        }
      ]
    },
    {
      "cell_type": "code",
      "metadata": {
        "colab": {
          "base_uri": "https://localhost:8080/"
        },
        "id": "tok_cpgQ0VR0",
        "outputId": "f31866bc-2018-4c6b-f001-101a93f674b1"
      },
      "source": [
        "y.describe() #Lets see how our target variable looks like in terms of its statistics"
      ],
      "execution_count": null,
      "outputs": [
        {
          "output_type": "execute_result",
          "data": {
            "text/plain": [
              "count    1124.000000\n",
              "mean       -1.488020\n",
              "std         0.679081\n",
              "min       -19.060886\n",
              "25%        -1.488020\n",
              "50%        -1.488020\n",
              "75%        -1.488020\n",
              "max         1.410609\n",
              "Name: Erlotinib, dtype: float64"
            ]
          },
          "metadata": {
            "tags": []
          },
          "execution_count": 31
        }
      ]
    },
    {
      "cell_type": "code",
      "metadata": {
        "colab": {
          "base_uri": "https://localhost:8080/",
          "height": 35
        },
        "id": "kRcWieru0Z06",
        "outputId": "30da99d1-bf40-4e8e-9a29-0b923ad22b13"
      },
      "source": [
        "#Lets extract the list of feature variables names to be used as predictors\r\n",
        "features = list(dataset.columns.values) #Make a list of all of the columns in the df\r\n",
        "features.pop(features.index('Erlotinib'))"
      ],
      "execution_count": null,
      "outputs": [
        {
          "output_type": "execute_result",
          "data": {
            "application/vnd.google.colaboratory.intrinsic+json": {
              "type": "string"
            },
            "text/plain": [
              "'Erlotinib'"
            ]
          },
          "metadata": {
            "tags": []
          },
          "execution_count": 32
        }
      ]
    },
    {
      "cell_type": "code",
      "metadata": {
        "colab": {
          "base_uri": "https://localhost:8080/"
        },
        "id": "6GIFmMLX0vkz",
        "outputId": "4002d742-40d6-4566-9c49-09ded708e4b2"
      },
      "source": [
        "features #Here is the list of the feature column variable names "
      ],
      "execution_count": null,
      "outputs": [
        {
          "output_type": "execute_result",
          "data": {
            "text/plain": [
              "['exp_COPZ2',\n",
              " 'exp_CRLF1',\n",
              " 'exp_TAC1',\n",
              " 'exp_ADIPOR2',\n",
              " 'exp_IFFO1',\n",
              " 'exp_KDM5D',\n",
              " 'exp_CD6',\n",
              " 'exp_STMN4',\n",
              " 'exp_KCNG1',\n",
              " 'exp_ABCF2',\n",
              " 'exp_CLEC16A',\n",
              " 'exp_ANO2',\n",
              " 'exp_MAP4',\n",
              " 'exp_RSF1',\n",
              " 'exp_MSMO1',\n",
              " 'exp_KIF1B',\n",
              " 'exp_GALC',\n",
              " 'exp_TRAF1',\n",
              " 'exp_RC3H2',\n",
              " 'exp_POU1F1',\n",
              " 'exp_OAT',\n",
              " 'exp_SNAP91',\n",
              " 'exp_SLK',\n",
              " 'exp_GOLGA5',\n",
              " 'exp_FECH',\n",
              " 'exp_IARS2',\n",
              " 'exp_IFI35',\n",
              " 'exp_ATP11A',\n",
              " 'exp_SRBD1',\n",
              " 'exp_MAPK6',\n",
              " 'exp_POLB',\n",
              " 'exp_CPSF1',\n",
              " 'exp_MPP5',\n",
              " 'exp_XRCC1',\n",
              " 'exp_CLCN4',\n",
              " 'exp_DHRS9',\n",
              " 'exp_PTPLAD1',\n",
              " 'exp_ARHGEF10L',\n",
              " 'exp_SEMA3A',\n",
              " 'exp_FOSL2',\n",
              " 'exp_DGKD',\n",
              " 'exp_CAPN6',\n",
              " 'exp_PHF17',\n",
              " 'exp_FGFR1',\n",
              " 'exp_EPB41L2',\n",
              " 'exp_COL5A3',\n",
              " 'exp_RSBN1',\n",
              " 'exp_IL12RB2',\n",
              " 'exp_PGR',\n",
              " 'exp_EPYC',\n",
              " 'exp_STARD7',\n",
              " 'exp_SSH1',\n",
              " 'exp_TTC39A',\n",
              " 'exp_RAD54L',\n",
              " 'exp_ERO1LB',\n",
              " 'exp_ADAMTS2',\n",
              " 'exp_NID2',\n",
              " 'exp_DNM1L',\n",
              " 'exp_TPX2',\n",
              " 'exp_SLC15A1',\n",
              " 'exp_MUL1',\n",
              " 'exp_CERS4',\n",
              " 'exp_ZFHX4',\n",
              " 'exp_ANGPT2',\n",
              " 'exp_PPP2R3C',\n",
              " 'exp_GEMIN2',\n",
              " 'exp_TYRO3',\n",
              " 'exp_TEKT2',\n",
              " 'exp_WAC',\n",
              " 'exp_CREM',\n",
              " 'exp_CDC7',\n",
              " 'exp_HCN2',\n",
              " 'exp_CDHR5',\n",
              " 'exp_RANBP1',\n",
              " 'exp_SNAP29',\n",
              " 'exp_SEZ6L',\n",
              " 'exp_GCAT',\n",
              " 'exp_GTPBP1',\n",
              " 'exp_PPP6R2',\n",
              " 'exp_GZMH',\n",
              " 'exp_CNIH',\n",
              " 'exp_TIMM9',\n",
              " 'exp_ARFGAP1',\n",
              " 'exp_RASSF2',\n",
              " 'exp_MYOM1',\n",
              " 'exp_PQBP1',\n",
              " 'exp_DNAJC3',\n",
              " 'exp_TSC22D1',\n",
              " 'exp_NFAT5',\n",
              " 'exp_AXIN1',\n",
              " 'exp_FOXF1',\n",
              " 'exp_UBE2I',\n",
              " 'exp_SCG3',\n",
              " 'exp_EYA1',\n",
              " 'exp_NIPAL2',\n",
              " 'exp_ESRP1',\n",
              " 'exp_MTMR9',\n",
              " 'exp_RELB',\n",
              " 'exp_RNASEH2A',\n",
              " 'exp_POP4',\n",
              " 'exp_MRPL4',\n",
              " 'exp_ETFB',\n",
              " 'exp_SIGLEC6',\n",
              " 'exp_UPK1A',\n",
              " 'exp_SCN1B',\n",
              " 'exp_SIPA1L3',\n",
              " 'exp_PTN',\n",
              " 'exp_TTC26',\n",
              " 'exp_PTPRZ1',\n",
              " 'exp_TAF6',\n",
              " 'exp_PPP1R17',\n",
              " 'exp_NRF1',\n",
              " 'exp_TMEM106B',\n",
              " 'exp_TMEM176B',\n",
              " 'exp_ELAVL2',\n",
              " 'exp_EIF3A',\n",
              " 'exp_FBXW4',\n",
              " 'exp_CSF3',\n",
              " 'exp_TRIM37',\n",
              " 'exp_C1QBP',\n",
              " 'exp_MYH1',\n",
              " 'exp_TMEM33',\n",
              " 'exp_SULT1E1',\n",
              " 'exp_NFKB1',\n",
              " 'exp_WHSC1',\n",
              " 'exp_MFSD10',\n",
              " 'exp_DCPS',\n",
              " 'exp_VWF',\n",
              " 'exp_LEPREL2',\n",
              " 'exp_CD69',\n",
              " 'exp_FOXM1',\n",
              " 'exp_GSG1',\n",
              " 'exp_COPZ1',\n",
              " 'exp_NUP107',\n",
              " 'exp_USP5',\n",
              " 'exp_GYS2',\n",
              " 'exp_TDP2',\n",
              " 'exp_DSE',\n",
              " 'exp_FAM184A',\n",
              " 'exp_MTRF1L',\n",
              " 'exp_MCM3',\n",
              " 'exp_BYSL',\n",
              " 'exp_PRPF4B',\n",
              " 'exp_SEMA5A',\n",
              " 'exp_ITK',\n",
              " 'exp_LMNB1',\n",
              " 'exp_FAM172A',\n",
              " 'exp_LNPEP',\n",
              " 'exp_RNF7',\n",
              " 'exp_GBE1',\n",
              " 'exp_TNNC1',\n",
              " 'exp_PDE1A',\n",
              " 'exp_PAPOLG',\n",
              " 'exp_EFHD1',\n",
              " 'exp_CHST10',\n",
              " 'exp_IL1R2',\n",
              " 'exp_KYNU',\n",
              " 'exp_FAM20B',\n",
              " 'exp_KIAA1324',\n",
              " 'exp_PHTF1',\n",
              " 'exp_RPF1',\n",
              " 'exp_SLC2A1',\n",
              " 'exp_PIK3R3',\n",
              " 'exp_PTBP2',\n",
              " 'exp_ARID1A',\n",
              " 'exp_RCN2',\n",
              " 'exp_MED28',\n",
              " 'exp_VAMP8',\n",
              " 'exp_GHRH',\n",
              " 'exp_KLF12',\n",
              " 'exp_TRPM6',\n",
              " 'exp_AFTPH',\n",
              " 'exp_IFIT2',\n",
              " 'exp_CNNM1',\n",
              " 'exp_CRHR1',\n",
              " 'exp_SMAD9',\n",
              " 'exp_NFYB',\n",
              " 'exp_CLU',\n",
              " 'exp_UBIAD1',\n",
              " 'exp_LRAT',\n",
              " 'exp_TAS2R8',\n",
              " 'exp_MAPK8IP1',\n",
              " 'exp_CCRL2',\n",
              " 'exp_CXCR4',\n",
              " 'exp_SPINK4',\n",
              " 'exp_SPATS2',\n",
              " 'exp_HOXC13',\n",
              " 'exp_HOXC11',\n",
              " 'exp_METTL8',\n",
              " 'exp_PMEPA1',\n",
              " 'exp_ATP8A1',\n",
              " 'exp_NQO2',\n",
              " 'exp_TREM1',\n",
              " 'exp_AMELX',\n",
              " 'exp_PANK2',\n",
              " 'exp_NKX2-2',\n",
              " 'exp_NRSN2',\n",
              " 'exp_SNRPB2',\n",
              " 'exp_SLURP1',\n",
              " 'exp_RGS13',\n",
              " 'exp_GFER',\n",
              " 'exp_PKMYT1',\n",
              " 'exp_SHFM1',\n",
              " 'exp_KCNC1',\n",
              " 'exp_KRI1',\n",
              " 'exp_RHBDF2',\n",
              " 'exp_EPO',\n",
              " 'exp_ADRM1',\n",
              " 'exp_TRIM28',\n",
              " 'exp_SLC34A1',\n",
              " 'exp_F12',\n",
              " 'exp_CA6',\n",
              " 'exp_CHSY1',\n",
              " 'exp_DCAF15',\n",
              " 'exp_DHX30',\n",
              " 'exp_PPARG',\n",
              " 'exp_DLG4',\n",
              " 'exp_ERAL1',\n",
              " 'exp_TOE1',\n",
              " 'exp_RNF128',\n",
              " 'exp_COX16',\n",
              " 'exp_SLC38A2',\n",
              " 'exp_SLCO1B1',\n",
              " 'exp_YARS',\n",
              " 'exp_DSC2',\n",
              " 'exp_DHX34',\n",
              " 'exp_C9orf40',\n",
              " 'exp_BAI3',\n",
              " 'exp_ITGA7',\n",
              " 'exp_TFCP2',\n",
              " 'exp_ACVR1B',\n",
              " 'exp_ITM2C',\n",
              " 'exp_RCBTB1',\n",
              " 'exp_NUDT15',\n",
              " 'exp_SCRN1',\n",
              " 'exp_CHST12',\n",
              " 'exp_TEX2',\n",
              " 'exp_MARCH7',\n",
              " 'exp_GAD2',\n",
              " 'exp_ST6GALNAC4',\n",
              " 'exp_PSMB7',\n",
              " 'exp_DSCC1',\n",
              " 'exp_LRRC32',\n",
              " 'exp_SLCO5A1',\n",
              " 'exp_SLC37A4',\n",
              " 'exp_NDUFAF1',\n",
              " 'exp_PARP6',\n",
              " 'exp_SPTBN5',\n",
              " 'exp_FNBP1L',\n",
              " 'exp_DBT',\n",
              " 'exp_SLC5A6',\n",
              " 'exp_GPR87',\n",
              " 'exp_AOX1',\n",
              " 'exp_COPS4',\n",
              " 'exp_PRKG2',\n",
              " 'exp_PRDM5',\n",
              " 'exp_SCAF11',\n",
              " 'exp_GLIPR1',\n",
              " 'exp_BRCA2',\n",
              " 'exp_SMIM2',\n",
              " 'exp_ADAM21',\n",
              " 'exp_GPR65',\n",
              " 'exp_MFAP1',\n",
              " 'exp_USP3',\n",
              " 'exp_ZNF710',\n",
              " 'exp_ZCCHC14',\n",
              " 'exp_ZNF287',\n",
              " 'exp_SMAD4',\n",
              " 'exp_HUNK',\n",
              " 'exp_URB1',\n",
              " 'exp_KIAA0319L',\n",
              " 'exp_DUSP10',\n",
              " 'exp_FEM1C',\n",
              " 'exp_DDX46',\n",
              " 'exp_DOK3',\n",
              " 'exp_CYP39A1',\n",
              " 'exp_MDH2',\n",
              " 'exp_TLK2',\n",
              " 'exp_PRPS1',\n",
              " 'exp_CXorf57',\n",
              " 'exp_BIN3',\n",
              " 'exp_MTDH',\n",
              " 'exp_NFIB',\n",
              " 'exp_LPPR1',\n",
              " 'exp_GTF3C5',\n",
              " 'exp_RSU1',\n",
              " 'exp_ADD3',\n",
              " 'exp_HSD17B12',\n",
              " 'exp_RPS3',\n",
              " 'exp_PPP4C',\n",
              " 'exp_KLRF1',\n",
              " 'exp_ARID5B',\n",
              " 'exp_DCUN1D2',\n",
              " 'exp_IL18',\n",
              " 'exp_EXT2',\n",
              " 'exp_NEK7',\n",
              " 'exp_SAV1',\n",
              " 'exp_UTRN',\n",
              " 'exp_PART1',\n",
              " 'exp_RBMS1',\n",
              " 'exp_PDLIM3',\n",
              " 'exp_TCEB1',\n",
              " 'exp_HSPA13',\n",
              " 'exp_SAMSN1',\n",
              " 'exp_GRAMD3',\n",
              " 'exp_ZCCHC10',\n",
              " 'exp_DBI',\n",
              " 'exp_PSD3',\n",
              " 'exp_ART3',\n",
              " 'exp_ACAN',\n",
              " 'exp_CABP1',\n",
              " 'exp_AP3S2',\n",
              " 'exp_DNAH3',\n",
              " 'exp_MPZ',\n",
              " 'exp_MED8',\n",
              " 'exp_KIAA0494',\n",
              " 'exp_CALM3',\n",
              " 'exp_ABCG1',\n",
              " 'exp_PCNT',\n",
              " 'exp_MYL3',\n",
              " 'exp_AQP5',\n",
              " 'exp_RACGAP1',\n",
              " 'exp_KRT84',\n",
              " 'exp_NXF1',\n",
              " 'exp_VCAM1',\n",
              " 'exp_FCGR3B',\n",
              " 'exp_C1orf115',\n",
              " 'exp_MRPS18C',\n",
              " 'exp_RNF25',\n",
              " 'exp_NUAK2',\n",
              " 'exp_LZTFL1',\n",
              " 'exp_CCR1',\n",
              " 'exp_ZC3H12A',\n",
              " 'exp_SFMBT1',\n",
              " 'exp_H2AFZ',\n",
              " 'exp_EMCN',\n",
              " 'exp_RAD54L2',\n",
              " 'exp_NDST3',\n",
              " 'exp_MAD2L1',\n",
              " 'exp_ARFIP1',\n",
              " 'exp_AGGF1',\n",
              " 'exp_CITED2',\n",
              " 'exp_COL1A2',\n",
              " 'exp_TNFRSF11B',\n",
              " 'exp_SBSPON',\n",
              " 'exp_HEATR2',\n",
              " 'exp_NFIL3',\n",
              " 'exp_PRKACG',\n",
              " 'exp_FIGF',\n",
              " 'exp_ARF6',\n",
              " 'exp_ATP5C1',\n",
              " 'exp_TSC1',\n",
              " 'exp_HPRT1',\n",
              " 'exp_CASP7',\n",
              " 'exp_HSPA12A',\n",
              " 'exp_ANKRD2',\n",
              " 'exp_CLMN',\n",
              " 'exp_APBB1',\n",
              " 'exp_TAF10',\n",
              " 'exp_RAG1',\n",
              " 'exp_BLCAP',\n",
              " 'exp_NNMT',\n",
              " 'exp_VPS39',\n",
              " 'exp_PIP4K2C',\n",
              " 'exp_GREM1',\n",
              " 'exp_MAPRE2',\n",
              " 'exp_NOD2',\n",
              " 'exp_KIR3DL1',\n",
              " 'exp_SF1',\n",
              " 'exp_GNG4',\n",
              " 'exp_SEPT2',\n",
              " 'exp_CMAHP',\n",
              " 'exp_SFTPC',\n",
              " 'exp_ADAM9',\n",
              " 'exp_PKIG',\n",
              " 'exp_CA7',\n",
              " 'exp_SNTB2',\n",
              " 'exp_IL12A',\n",
              " 'exp_MAP2K1',\n",
              " 'exp_UPF3A',\n",
              " 'exp_CD2BP2',\n",
              " 'exp_KCNAB1',\n",
              " 'exp_IL8',\n",
              " 'exp_ZEB2',\n",
              " 'exp_LUZP1',\n",
              " 'exp_DRD5',\n",
              " 'exp_DUS1L',\n",
              " 'exp_PCDH7',\n",
              " 'exp_TPST1',\n",
              " 'exp_TM4SF4',\n",
              " 'exp_ZNF768',\n",
              " 'exp_KCNAB3',\n",
              " 'exp_UBE2E1',\n",
              " 'exp_FABP6',\n",
              " 'exp_CST5',\n",
              " 'exp_PYGO1',\n",
              " 'exp_PKIA',\n",
              " 'exp_GRIK1',\n",
              " 'exp_SCAND1',\n",
              " 'exp_GAA',\n",
              " 'exp_KRT9',\n",
              " 'exp_PDE7B',\n",
              " 'exp_POLR1C',\n",
              " 'exp_LRRC8D',\n",
              " 'exp_NINJ2',\n",
              " 'exp_MLLT3',\n",
              " 'exp_TRAPPC12',\n",
              " 'exp_PRND',\n",
              " 'exp_THOP1',\n",
              " 'exp_CD8B',\n",
              " 'exp_ID4',\n",
              " 'exp_BSG',\n",
              " 'exp_GNB2',\n",
              " 'exp_CORO1B',\n",
              " 'exp_OVOL1',\n",
              " 'exp_EGFL7',\n",
              " 'exp_NADSYN1',\n",
              " 'exp_SNCG',\n",
              " 'exp_TNKS',\n",
              " 'exp_MAP3K11',\n",
              " 'exp_AC007967.3',\n",
              " 'exp_OLR1',\n",
              " 'exp_CCR9',\n",
              " 'exp_JUP',\n",
              " 'exp_GNG5',\n",
              " 'exp_TLR1',\n",
              " 'exp_ZHX3',\n",
              " 'exp_RIN1',\n",
              " 'exp_KCTD13',\n",
              " 'exp_ZNF654',\n",
              " 'exp_INHBC',\n",
              " 'exp_TMEM9B',\n",
              " 'exp_PCSK1',\n",
              " 'exp_TUBB6',\n",
              " 'exp_ZNF613',\n",
              " 'exp_MC5R',\n",
              " 'exp_TMEM39A',\n",
              " 'exp_GPX2',\n",
              " 'exp_RNPEP',\n",
              " 'exp_MEX3C',\n",
              " 'exp_CDK5R1',\n",
              " 'exp_RUFY1',\n",
              " 'exp_LY6H',\n",
              " 'exp_TALDO1',\n",
              " 'exp_TGIF1',\n",
              " 'exp_IL17RA',\n",
              " 'exp_BET1L',\n",
              " 'exp_IMP3',\n",
              " 'exp_MLF1',\n",
              " 'exp_DALRD3',\n",
              " 'exp_CALML5',\n",
              " 'exp_KCTD12',\n",
              " 'exp_COX5A',\n",
              " 'exp_C17orf62',\n",
              " 'exp_FARSA',\n",
              " 'exp_PACS2',\n",
              " 'exp_EGR3',\n",
              " 'exp_ALOX12B',\n",
              " 'exp_ZNF771',\n",
              " 'exp_HERC2P3',\n",
              " 'exp_RRH',\n",
              " 'exp_YOD1',\n",
              " 'exp_S1PR5',\n",
              " 'exp_OXTR',\n",
              " 'exp_PITPNB',\n",
              " 'exp_DDN',\n",
              " 'exp_TNFSF15',\n",
              " 'exp_NOP10',\n",
              " 'exp_TP53TG1',\n",
              " 'exp_EXT1',\n",
              " 'exp_NXPH4',\n",
              " 'exp_NPLOC4',\n",
              " 'exp_NTM',\n",
              " 'exp_SLC25A10',\n",
              " 'exp_PTTG1IP',\n",
              " 'exp_GPR132',\n",
              " 'exp_PSMG1',\n",
              " 'exp_NDUFB1',\n",
              " 'exp_BMP8A',\n",
              " 'exp_OPCML',\n",
              " 'exp_TRAIP',\n",
              " 'exp_DNAH2',\n",
              " 'exp_DENND5A',\n",
              " 'exp_DSCR4',\n",
              " 'exp_TBX1',\n",
              " 'exp_OR1D2',\n",
              " 'exp_PCDH9',\n",
              " 'exp_TM2D3',\n",
              " 'exp_GDF3',\n",
              " 'exp_SLIT3',\n",
              " 'exp_HIST1H1B',\n",
              " 'exp_AC132216.1',\n",
              " 'exp_SEPT9',\n",
              " 'exp_UBOX5',\n",
              " 'exp_PURA',\n",
              " 'exp_PRMT3',\n",
              " 'exp_ZNF74',\n",
              " 'exp_SH3BGR',\n",
              " 'exp_P4HB',\n",
              " 'exp_UBE2L3',\n",
              " 'exp_PRAME',\n",
              " 'exp_MYBL1',\n",
              " 'exp_PIGP',\n",
              " 'exp_PION',\n",
              " 'exp_KDM4D',\n",
              " 'exp_TOR3A',\n",
              " 'exp_PPP1CC',\n",
              " 'exp_MAPT',\n",
              " 'exp_ACTL7A',\n",
              " 'exp_TEAD1',\n",
              " 'exp_ENTPD5',\n",
              " 'exp_CHP1',\n",
              " 'exp_ZNF643',\n",
              " 'exp_CLCN1',\n",
              " 'exp_PLSCR1',\n",
              " 'exp_PDCD1',\n",
              " 'exp_PTPRT',\n",
              " 'exp_MYBPC1',\n",
              " 'exp_SPOCK3',\n",
              " 'exp_OR10J1',\n",
              " 'exp_MPHOSPH8',\n",
              " 'exp_RYR1',\n",
              " 'exp_ADH7',\n",
              " 'exp_EPHB4',\n",
              " 'exp_SLC6A9',\n",
              " 'exp_MMP1',\n",
              " 'exp_RABL6',\n",
              " 'exp_ERI2',\n",
              " 'exp_AMZ2',\n",
              " 'exp_BLM',\n",
              " 'exp_LRP10',\n",
              " 'exp_PELI1',\n",
              " 'exp_SLC22A5',\n",
              " 'exp_DIO3',\n",
              " 'exp_FAM114A1',\n",
              " 'exp_ZNF460',\n",
              " 'exp_RPL37A',\n",
              " 'exp_NRAP',\n",
              " 'exp_SPG7',\n",
              " 'exp_IFNA1',\n",
              " 'exp_ERO1L',\n",
              " 'exp_MBP',\n",
              " 'exp_KEL',\n",
              " 'exp_GRK6',\n",
              " 'exp_KRTAP9-9',\n",
              " 'exp_SOWAHC',\n",
              " 'exp_MAN1A2',\n",
              " 'exp_SZT2',\n",
              " 'exp_QRICH1',\n",
              " 'exp_CTC-490E21.13',\n",
              " 'exp_ZNF192',\n",
              " 'exp_ASPH',\n",
              " 'exp_TXNRD1',\n",
              " 'exp_NBR2',\n",
              " 'exp_GPN1',\n",
              " 'exp_STK39',\n",
              " 'exp_C3orf27',\n",
              " 'exp_ZNF652',\n",
              " 'exp_SMURF1',\n",
              " 'exp_GPATCH3',\n",
              " 'exp_TMEM184B',\n",
              " 'exp_SCAMP5',\n",
              " 'exp_GK',\n",
              " 'exp_FOXJ3',\n",
              " 'exp_GJC2',\n",
              " 'exp_TOX',\n",
              " 'exp_LTN1',\n",
              " 'exp_ATG9A',\n",
              " 'exp_NAGA',\n",
              " 'exp_HSD3B2',\n",
              " 'exp_MAFB',\n",
              " 'exp_TRAF3IP1',\n",
              " 'exp_OXLD1',\n",
              " 'exp_C6orf10',\n",
              " 'exp_C6orf47',\n",
              " 'exp_ZNF814',\n",
              " 'exp_MICB',\n",
              " 'exp_GNB2L1',\n",
              " 'exp_OR2J3',\n",
              " 'exp_TRIM27',\n",
              " 'exp_RANBP17',\n",
              " 'exp_E2F4',\n",
              " 'exp_SERPINB5',\n",
              " 'exp_ATP10A',\n",
              " 'exp_SACM1L',\n",
              " 'exp_IGKV4-1',\n",
              " 'exp_IGLV3-25',\n",
              " 'exp_TRAV16',\n",
              " 'exp_KLHL23',\n",
              " 'exp_RP11-3L10.1',\n",
              " 'exp_KRTAP2-4',\n",
              " 'exp_NHP2P2',\n",
              " 'exp_CARKD',\n",
              " 'exp_RPLP2P1',\n",
              " 'exp_BBIP1',\n",
              " 'exp_GNAT3',\n",
              " 'exp_ARHGEF28',\n",
              " 'exp_NPEPL1',\n",
              " 'exp_RP1-152L7.5',\n",
              " 'exp_HMGB1P17',\n",
              " 'exp_RP1-20N2.2',\n",
              " 'exp_RP3-415N12.1',\n",
              " 'exp_RP5-1170D6.1',\n",
              " 'exp_APOL6',\n",
              " 'exp_RPL3P7',\n",
              " 'exp_HMGB3P1',\n",
              " 'exp_AC074093.1',\n",
              " 'exp_LTA',\n",
              " 'exp_SCAMP4',\n",
              " 'exp_RP11-423C15.3',\n",
              " 'exp_AC007238.1',\n",
              " 'exp_GS1-600G8.3',\n",
              " 'exp_TAPBP',\n",
              " 'exp_IDI2-AS1',\n",
              " 'exp_LINC00342',\n",
              " 'exp_EIF3KP2',\n",
              " 'exp_TTTY15',\n",
              " 'exp_RPS28',\n",
              " 'exp_RP5-1116H23.1',\n",
              " 'exp_AC004478.2',\n",
              " 'exp_TOPORS-AS1',\n",
              " 'exp_RPS11P1',\n",
              " 'exp_ANKRD34C',\n",
              " 'exp_B3GALT4',\n",
              " 'exp_DIAPH2-AS1',\n",
              " 'exp_RP11-170N11.1',\n",
              " 'exp_RP4-560B9.4',\n",
              " 'exp_RP5-1184F4.5',\n",
              " 'exp_RP1-192P9.1',\n",
              " 'exp_IGKV1D-8',\n",
              " 'exp_TNFRSF13B',\n",
              " 'exp_L1TD1',\n",
              " 'exp_NDUFB2-AS1',\n",
              " 'exp_PRAF2',\n",
              " 'exp_UPK3B',\n",
              " 'exp_CRYBB2',\n",
              " 'exp_RP11-727A23.5',\n",
              " 'exp_PRODH2',\n",
              " 'exp_FOXD1',\n",
              " 'exp_LINC00599',\n",
              " 'exp_AC005013.1',\n",
              " 'exp_HMBS',\n",
              " 'exp_ZNF225',\n",
              " 'exp_HP',\n",
              " 'exp_RP11-1220K2.2',\n",
              " 'exp_RP11-474N8.5',\n",
              " 'exp_RP11-12J10.3',\n",
              " 'exp_MC1R',\n",
              " 'exp_RP11-357H14.19',\n",
              " 'exp_RP11-775C24.3',\n",
              " 'exp_RP11-57H14.4',\n",
              " 'exp_BOP1',\n",
              " 'exp_MIR4720',\n",
              " 'exp_SPON1',\n",
              " 'exp_GTF2I',\n",
              " 'exp_ZNF205-AS1',\n",
              " 'exp_RNF115',\n",
              " 'exp_PNLIPRP2',\n",
              " 'exp_TBC1D29',\n",
              " 'exp_ACTBP9',\n",
              " 'exp_IRF6',\n",
              " 'exp_LMTK2',\n",
              " 'exp_RBPJL',\n",
              " 'exp_RAPGEF2',\n",
              " 'exp_GRB7',\n",
              " 'exp_FAM155B',\n",
              " 'exp_ZNF550',\n",
              " 'exp_BMP5',\n",
              " 'exp_IMPA2',\n",
              " 'exp_EN1',\n",
              " 'exp_MAP2K2',\n",
              " 'exp_KIF4A',\n",
              " 'exp_IHH',\n",
              " 'exp_CYP24A1',\n",
              " 'exp_HERPUD1',\n",
              " 'exp_SLC38A6',\n",
              " 'exp_RPS4XP3',\n",
              " 'exp_DSN1',\n",
              " 'exp_DES',\n",
              " 'exp_SYNGR4',\n",
              " 'exp_ALOX12',\n",
              " 'exp_CENPT',\n",
              " 'exp_GAS7',\n",
              " 'exp_WRN',\n",
              " 'exp_TMEM87A',\n",
              " 'exp_EIF3M',\n",
              " 'exp_TSC2',\n",
              " 'exp_TEX30',\n",
              " 'exp_FGA',\n",
              " 'exp_INPP5A',\n",
              " 'exp_TPSD1',\n",
              " 'exp_TCFL5',\n",
              " 'exp_GPR176',\n",
              " 'exp_TACC2',\n",
              " 'exp_PQLC3',\n",
              " 'exp_TTC27',\n",
              " 'exp_TFDP3',\n",
              " 'exp_PSEN1',\n",
              " 'exp_ELAVL4',\n",
              " 'exp_AIRE',\n",
              " 'exp_RRP12',\n",
              " 'exp_PTPRB',\n",
              " 'exp_PCNP',\n",
              " 'exp_FEZF2',\n",
              " 'exp_JMJD1C',\n",
              " 'exp_ETNK1',\n",
              " 'exp_SP110',\n",
              " 'exp_TLE1',\n",
              " 'exp_POU6F1',\n",
              " 'exp_USP9X',\n",
              " 'exp_MCCC2',\n",
              " 'exp_RIPK2',\n",
              " 'exp_DPY19L1',\n",
              " 'exp_RRAGA',\n",
              " 'exp_CYP11B1',\n",
              " 'exp_BACE2',\n",
              " 'exp_SCIN',\n",
              " 'exp_TMEM165',\n",
              " 'exp_FTSJ1',\n",
              " 'exp_TACSTD2',\n",
              " 'exp_NUDT9',\n",
              " 'exp_UQCC',\n",
              " 'exp_TMC5',\n",
              " 'exp_ATAD2B',\n",
              " 'exp_ASPA',\n",
              " 'exp_DUT',\n",
              " 'exp_MATK',\n",
              " 'exp_RP11-795F19.5',\n",
              " 'exp_KIAA0556',\n",
              " 'exp_LONP2',\n",
              " 'exp_SPARCL1',\n",
              " 'exp_XPNPEP3',\n",
              " 'exp_SLC16A3',\n",
              " 'exp_ST3GAL4',\n",
              " 'exp_RP5-886K2.3',\n",
              " 'exp_GABPA',\n",
              " 'exp_NF2',\n",
              " 'exp_PLTP',\n",
              " 'exp_MAN1B1',\n",
              " 'exp_PNPLA3',\n",
              " 'exp_GNG7',\n",
              " 'exp_PRPH2',\n",
              " 'exp_TCL1A',\n",
              " 'exp_SRSF9',\n",
              " 'exp_ZNF193',\n",
              " 'exp_ICA1',\n",
              " 'exp_PAK7',\n",
              " 'exp_NRIP1',\n",
              " 'exp_MZT2A',\n",
              " 'exp_CLDN6',\n",
              " 'exp_PWP1',\n",
              " 'exp_LSAMP',\n",
              " 'exp_SETD5',\n",
              " 'exp_FTL',\n",
              " 'exp_PREPL',\n",
              " 'exp_IL7R',\n",
              " 'exp_PRKRA',\n",
              " 'exp_CYP20A1',\n",
              " 'exp_SREK1IP1',\n",
              " 'exp_PAFAH1B3',\n",
              " 'exp_NEUROD2',\n",
              " 'exp_HPCAL1',\n",
              " 'exp_VEZF1',\n",
              " 'exp_RHOBTB3',\n",
              " 'exp_NMRK2',\n",
              " 'exp_GALNT7',\n",
              " 'exp_TYR',\n",
              " 'exp_OLA1',\n",
              " 'exp_MBNL3',\n",
              " 'exp_LMBRD1',\n",
              " 'exp_CHMP6',\n",
              " 'exp_ERBB3',\n",
              " 'exp_SEC24C',\n",
              " 'exp_HEXIM1',\n",
              " 'exp_PRDM1',\n",
              " 'exp_IGF1R',\n",
              " 'exp_RARA',\n",
              " 'exp_TAOK2',\n",
              " 'exp_TM2D1',\n",
              " 'exp_HIBCH',\n",
              " 'exp_RAB28',\n",
              " 'exp_GABRA6',\n",
              " 'exp_CCNE2',\n",
              " 'exp_RNF187',\n",
              " 'exp_VTCN1',\n",
              " 'exp_THUMPD2',\n",
              " 'exp_NMT2',\n",
              " 'exp_MYL2',\n",
              " 'exp_EIF3F',\n",
              " 'exp_FEV',\n",
              " 'exp_UNC50',\n",
              " 'exp_FBXL15',\n",
              " 'exp_TESC',\n",
              " 'exp_SMC6',\n",
              " 'exp_HTR5A',\n",
              " 'exp_DZANK1',\n",
              " 'exp_LATS1',\n",
              " 'exp_CRYBG3',\n",
              " 'exp_BMP4',\n",
              " 'exp_FBXO42',\n",
              " 'exp_DPH2',\n",
              " 'exp_PLD2',\n",
              " 'exp_NRN1',\n",
              " 'exp_TNFSF10',\n",
              " 'exp_VENTX',\n",
              " 'exp_TXNL4B',\n",
              " 'exp_TOR1A',\n",
              " 'exp_CSAD',\n",
              " 'exp_BMP2',\n",
              " 'exp_PHYH',\n",
              " 'exp_KLHL1',\n",
              " 'exp_TMPRSS4',\n",
              " 'exp_PPP2CB',\n",
              " 'exp_NPL',\n",
              " 'exp_SUMO1',\n",
              " 'exp_MT1G',\n",
              " 'exp_C10orf2',\n",
              " 'exp_MRPS18A',\n",
              " 'exp_PSD',\n",
              " 'exp_DYRK2',\n",
              " 'exp_RLN2',\n",
              " 'exp_C8B',\n",
              " 'exp_TSEN34',\n",
              " 'exp_MGLL',\n",
              " 'exp_ATP6AP2',\n",
              " 'exp_HIPK2',\n",
              " 'exp_SMAD3',\n",
              " 'exp_ANKRD6',\n",
              " 'exp_FGF22',\n",
              " 'exp_N4BP3',\n",
              " 'exp_NCALD',\n",
              " 'exp_LRRC49',\n",
              " 'exp_ACVRL1',\n",
              " 'exp_PTTG1',\n",
              " 'exp_FGF6',\n",
              " 'exp_COL11A1',\n",
              " 'exp_BAG6',\n",
              " 'exp_ZNF259P1',\n",
              " 'exp_PALM',\n",
              " 'exp_FAH',\n",
              " 'exp_C5orf54',\n",
              " 'exp_NUP133',\n",
              " 'exp_PCDHB13',\n",
              " 'exp_GCM2',\n",
              " 'exp_SLC9A3',\n",
              " 'exp_KDELR1',\n",
              " 'exp_SEMA6A',\n",
              " 'exp_ZDHHC24',\n",
              " 'exp_TRMT13',\n",
              " 'exp_CPB1',\n",
              " 'exp_PHF20L1',\n",
              " 'exp_CD163',\n",
              " 'exp_PCCA',\n",
              " 'exp_BDNF',\n",
              " 'exp_RFPL1',\n",
              " 'exp_NXT1',\n",
              " 'exp_GADD45A',\n",
              " 'exp_TTLL4',\n",
              " 'exp_NAT1',\n",
              " 'exp_CDC45',\n",
              " 'exp_MBL2',\n",
              " 'exp_COL4A3',\n",
              " 'exp_COX6CP2',\n",
              " 'exp_ASB13',\n",
              " 'exp_GRB2',\n",
              " 'exp_SERPINF1',\n",
              " 'exp_DYNLRB1',\n",
              " 'exp_HEBP2',\n",
              " 'exp_TRAV21',\n",
              " 'exp_GINS3',\n",
              " 'exp_NARFL',\n",
              " 'exp_LRP1B',\n",
              " 'exp_RBM6',\n",
              " 'exp_WLS',\n",
              " 'exp_ICT1',\n",
              " 'exp_MYO10',\n",
              " 'exp_RP11-260A9.1',\n",
              " 'exp_CTC-338M12.4',\n",
              " 'exp_TTC13',\n",
              " 'exp_EXTL3',\n",
              " 'exp_MINA',\n",
              " 'exp_CLPX',\n",
              " 'exp_PFKFB3',\n",
              " 'exp_DNM2',\n",
              " 'exp_SPEG',\n",
              " 'exp_SNX7',\n",
              " 'exp_RABGGTB',\n",
              " 'exp_APMAP',\n",
              " 'exp_SLC22A17',\n",
              " 'exp_PDPN',\n",
              " 'exp_COBL',\n",
              " 'exp_SGCG',\n",
              " 'exp_GRP',\n",
              " 'exp_PRRG3',\n",
              " 'exp_MAGEB1',\n",
              " 'exp_SLC22A7',\n",
              " 'exp_RFPL3',\n",
              " 'exp_PRDM4',\n",
              " 'exp_GJA4',\n",
              " 'exp_CACNB4',\n",
              " 'exp_PLCB3',\n",
              " 'exp_MYOD1',\n",
              " 'exp_CENPO',\n",
              " 'exp_VIL1',\n",
              " 'exp_VASP',\n",
              " 'exp_PNOC',\n",
              " 'exp_C18orf8',\n",
              " 'exp_NPPA',\n",
              " 'exp_TSSC1',\n",
              " 'exp_RNF34',\n",
              " 'exp_RPS17P5',\n",
              " 'exp_MGRN1',\n",
              " 'exp_TREML2',\n",
              " 'exp_NRIP3',\n",
              " 'exp_RAD52',\n",
              " 'exp_SLC1A4',\n",
              " 'exp_SKIL',\n",
              " 'exp_SKP2',\n",
              " 'exp_S100A10',\n",
              " 'exp_NR1D2',\n",
              " 'exp_CLP1',\n",
              " 'exp_GPATCH2L',\n",
              " 'exp_SLC25A16',\n",
              " 'exp_MAEA',\n",
              " 'exp_RGS2',\n",
              " 'exp_NMBR',\n",
              " 'exp_ECM1',\n",
              " 'exp_HDAC6',\n",
              " 'exp_SGPP1',\n",
              " 'exp_AGBL3',\n",
              " 'exp_CPSF7',\n",
              " 'exp_POR',\n",
              " 'exp_NHP2',\n",
              " 'exp_RP11-566E18.3',\n",
              " 'exp_CREB5',\n",
              " 'exp_TMCC1',\n",
              " 'exp_HEYL',\n",
              " 'exp_GPAA1',\n",
              " 'exp_FAP',\n",
              " 'exp_TTC19',\n",
              " 'exp_CCL7',\n",
              " 'exp_ZNF345',\n",
              " 'exp_NKX3-2',\n",
              " 'exp_RAMP1',\n",
              " 'exp_FN3KRP',\n",
              " 'exp_PDGFC',\n",
              " 'exp_SNRNP35',\n",
              " 'exp_CAPRIN2',\n",
              " 'exp_ITGA1',\n",
              " 'exp_NPR1',\n",
              " 'exp_SLC4A8',\n",
              " 'exp_PTER',\n",
              " 'exp_DDX17',\n",
              " 'exp_EDA',\n",
              " 'exp_GGPS1',\n",
              " 'exp_STAMBP',\n",
              " 'exp_CEACAM8',\n",
              " 'exp_HEG1',\n",
              " 'exp_SP3',\n",
              " 'exp_MEFV',\n",
              " 'exp_CASC1',\n",
              " 'exp_CCIN',\n",
              " 'exp_ZNF134',\n",
              " 'exp_KATNB1',\n",
              " 'exp_KCNAB2',\n",
              " 'exp_FKBP1B',\n",
              " 'exp_NRXN2',\n",
              " 'exp_RGS5',\n",
              " 'exp_CWF19L1',\n",
              " 'exp_FMOD',\n",
              " 'exp_CTD-3126B10.1',\n",
              " 'exp_FBXL2',\n",
              " 'exp_HOXB2',\n",
              " 'exp_DTWD1',\n",
              " 'exp_PYGM',\n",
              " 'exp_TPRKB',\n",
              " 'exp_FXR2',\n",
              " 'exp_MCCC1',\n",
              " 'exp_ATRAID',\n",
              " 'exp_GMIP',\n",
              " 'exp_CCDC25',\n",
              " 'exp_LALBA',\n",
              " 'exp_POU4F1',\n",
              " 'exp_PSMB5',\n",
              " 'exp_ACOT13',\n",
              " 'exp_HK2',\n",
              " 'exp_TACC3',\n",
              " 'exp_IGHV3-73',\n",
              " 'exp_AHDC1',\n",
              " 'exp_DDX41',\n",
              " 'exp_CLIC5',\n",
              " 'exp_PRSS8',\n",
              " 'exp_PHGDH',\n",
              " 'exp_CDT1',\n",
              " 'exp_DNAH6',\n",
              " 'exp_TFPT',\n",
              " 'exp_CD2',\n",
              " 'exp_KIAA0020',\n",
              " 'exp_MOXD1',\n",
              " 'exp_YME1L1',\n",
              " ...]"
            ]
          },
          "metadata": {
            "tags": []
          },
          "execution_count": 33
        }
      ]
    },
    {
      "cell_type": "code",
      "metadata": {
        "colab": {
          "base_uri": "https://localhost:8080/",
          "height": 386
        },
        "id": "-5BCGxmc9Oqq",
        "outputId": "881df2bf-7b4a-4aaa-e493-d25733ec0dec"
      },
      "source": [
        "sns.displot(y, kind=\"kde\")"
      ],
      "execution_count": null,
      "outputs": [
        {
          "output_type": "execute_result",
          "data": {
            "text/plain": [
              "<seaborn.axisgrid.FacetGrid at 0x7fc662e12c88>"
            ]
          },
          "metadata": {
            "tags": []
          },
          "execution_count": 34
        },
        {
          "output_type": "display_data",
          "data": {
            "image/png": "[encoded data removed]",
            "text/plain": [
              "<Figure size 360x360 with 1 Axes>"
            ]
          },
          "metadata": {
            "tags": [],
            "needs_background": "light"
          }
        }
      ]
    },
    {
      "cell_type": "code",
      "metadata": {
        "id": "zhlP9YBF00Xl"
      },
      "source": [
        "# So we can see that the target values have skewed distribution with a long initial tail\r\n"
      ],
      "execution_count": null,
      "outputs": []
    },
    {
      "cell_type": "code",
      "metadata": {
        "id": "GzM0T2EN9Wd5"
      },
      "source": [
        "X = dataset[features]"
      ],
      "execution_count": null,
      "outputs": []
    },
    {
      "cell_type": "code",
      "metadata": {
        "colab": {
          "base_uri": "https://localhost:8080/",
          "height": 244
        },
        "id": "hy9V6tqG1bKA",
        "outputId": "5fa08064-0c2a-49b4-d6a3-16edded6ecb1"
      },
      "source": [
        "X.head()"
      ],
      "execution_count": null,
      "outputs": [
        {
          "output_type": "execute_result",
          "data": {
            "text/html": [
              "<div>\n",
              "<style scoped>\n",
              "    .dataframe tbody tr th:only-of-type {\n",
              "        vertical-align: middle;\n",
              "    }\n",
              "\n",
              "    .dataframe tbody tr th {\n",
              "        vertical-align: top;\n",
              "    }\n",
              "\n",
              "    .dataframe thead th {\n",
              "        text-align: right;\n",
              "    }\n",
              "</style>\n",
              "<table border=\"1\" class=\"dataframe\">\n",
              "  <thead>\n",
              "    <tr style=\"text-align: right;\">\n",
              "      <th></th>\n",
              "      <th>exp_COPZ2</th>\n",
              "      <th>exp_CRLF1</th>\n",
              "      <th>exp_TAC1</th>\n",
              "      <th>exp_ADIPOR2</th>\n",
              "      <th>exp_IFFO1</th>\n",
              "      <th>exp_KDM5D</th>\n",
              "      <th>exp_CD6</th>\n",
              "      <th>exp_STMN4</th>\n",
              "      <th>exp_KCNG1</th>\n",
              "      <th>exp_ABCF2</th>\n",
              "      <th>exp_CLEC16A</th>\n",
              "      <th>exp_ANO2</th>\n",
              "      <th>exp_MAP4</th>\n",
              "      <th>exp_RSF1</th>\n",
              "      <th>exp_MSMO1</th>\n",
              "      <th>exp_KIF1B</th>\n",
              "      <th>exp_GALC</th>\n",
              "      <th>exp_TRAF1</th>\n",
              "      <th>exp_RC3H2</th>\n",
              "      <th>exp_POU1F1</th>\n",
              "      <th>exp_OAT</th>\n",
              "      <th>exp_SNAP91</th>\n",
              "      <th>exp_SLK</th>\n",
              "      <th>exp_GOLGA5</th>\n",
              "      <th>exp_FECH</th>\n",
              "      <th>exp_IARS2</th>\n",
              "      <th>exp_IFI35</th>\n",
              "      <th>exp_ATP11A</th>\n",
              "      <th>exp_SRBD1</th>\n",
              "      <th>exp_MAPK6</th>\n",
              "      <th>exp_POLB</th>\n",
              "      <th>exp_CPSF1</th>\n",
              "      <th>exp_MPP5</th>\n",
              "      <th>exp_XRCC1</th>\n",
              "      <th>exp_CLCN4</th>\n",
              "      <th>exp_DHRS9</th>\n",
              "      <th>exp_PTPLAD1</th>\n",
              "      <th>exp_ARHGEF10L</th>\n",
              "      <th>exp_SEMA3A</th>\n",
              "      <th>exp_FOSL2</th>\n",
              "      <th>...</th>\n",
              "      <th>exp_BMP3</th>\n",
              "      <th>exp_GRIK2</th>\n",
              "      <th>exp_SH3GLB1</th>\n",
              "      <th>exp_CRYBB3</th>\n",
              "      <th>exp_ADRA2A</th>\n",
              "      <th>exp_PROP1</th>\n",
              "      <th>exp_ZBTB39</th>\n",
              "      <th>exp_TMPRSS15</th>\n",
              "      <th>exp_KRT75</th>\n",
              "      <th>exp_KCTD14</th>\n",
              "      <th>exp_SIPA1</th>\n",
              "      <th>exp_IFT57</th>\n",
              "      <th>exp_UCN</th>\n",
              "      <th>exp_PITPNM1</th>\n",
              "      <th>exp_PLXNC1</th>\n",
              "      <th>exp_BTG1</th>\n",
              "      <th>exp_PYCARD</th>\n",
              "      <th>exp_LRBA</th>\n",
              "      <th>exp_NFIX</th>\n",
              "      <th>exp_ARHGAP11A</th>\n",
              "      <th>exp_WNT2</th>\n",
              "      <th>exp_CLEC1A</th>\n",
              "      <th>exp_AC016745.2</th>\n",
              "      <th>exp_MRPS30</th>\n",
              "      <th>exp_PDHX</th>\n",
              "      <th>exp_IFRD1</th>\n",
              "      <th>exp_WSB1</th>\n",
              "      <th>exp_FAM65B</th>\n",
              "      <th>exp_RAB11B</th>\n",
              "      <th>exp_ROGDI</th>\n",
              "      <th>exp_SCN8A</th>\n",
              "      <th>exp_POMT1</th>\n",
              "      <th>exp_NKG7</th>\n",
              "      <th>exp_SLC6A16</th>\n",
              "      <th>exp_CCDC91</th>\n",
              "      <th>exp_CACNA1A</th>\n",
              "      <th>exp_ZSCAN18</th>\n",
              "      <th>exp_FRK</th>\n",
              "      <th>exp_MCF2</th>\n",
              "      <th>exp_TULP3</th>\n",
              "    </tr>\n",
              "  </thead>\n",
              "  <tbody>\n",
              "    <tr>\n",
              "      <th>0</th>\n",
              "      <td>NaN</td>\n",
              "      <td>4.248105</td>\n",
              "      <td>4.282751</td>\n",
              "      <td>8.576592</td>\n",
              "      <td>5.070674</td>\n",
              "      <td>7.759352</td>\n",
              "      <td>4.602019</td>\n",
              "      <td>5.190350</td>\n",
              "      <td>7.385830</td>\n",
              "      <td>6.171773</td>\n",
              "      <td>4.987999</td>\n",
              "      <td>4.386405</td>\n",
              "      <td>8.319581</td>\n",
              "      <td>5.124842</td>\n",
              "      <td>11.375434</td>\n",
              "      <td>6.950165</td>\n",
              "      <td>5.217493</td>\n",
              "      <td>NaN</td>\n",
              "      <td>6.435574</td>\n",
              "      <td>NaN</td>\n",
              "      <td>9.526227</td>\n",
              "      <td>6.999370</td>\n",
              "      <td>8.224666</td>\n",
              "      <td>8.260464</td>\n",
              "      <td>7.391606</td>\n",
              "      <td>10.130519</td>\n",
              "      <td>4.870403</td>\n",
              "      <td>4.980934</td>\n",
              "      <td>5.472737</td>\n",
              "      <td>NaN</td>\n",
              "      <td>9.001038</td>\n",
              "      <td>6.675385</td>\n",
              "      <td>NaN</td>\n",
              "      <td>6.187631</td>\n",
              "      <td>4.315376</td>\n",
              "      <td>4.931067</td>\n",
              "      <td>7.130860</td>\n",
              "      <td>5.633721</td>\n",
              "      <td>4.477679</td>\n",
              "      <td>4.719276</td>\n",
              "      <td>...</td>\n",
              "      <td>NaN</td>\n",
              "      <td>4.686992</td>\n",
              "      <td>7.177287</td>\n",
              "      <td>NaN</td>\n",
              "      <td>6.883827</td>\n",
              "      <td>4.598454</td>\n",
              "      <td>NaN</td>\n",
              "      <td>4.284136</td>\n",
              "      <td>NaN</td>\n",
              "      <td>4.440254</td>\n",
              "      <td>4.911507</td>\n",
              "      <td>9.585117</td>\n",
              "      <td>5.027490</td>\n",
              "      <td>5.036847</td>\n",
              "      <td>NaN</td>\n",
              "      <td>9.791068</td>\n",
              "      <td>4.625075</td>\n",
              "      <td>7.681521</td>\n",
              "      <td>6.666518</td>\n",
              "      <td>5.270228</td>\n",
              "      <td>5.207163</td>\n",
              "      <td>5.422417</td>\n",
              "      <td>4.337242</td>\n",
              "      <td>8.241133</td>\n",
              "      <td>8.382914</td>\n",
              "      <td>9.184904</td>\n",
              "      <td>7.742239</td>\n",
              "      <td>4.287793</td>\n",
              "      <td>5.283270</td>\n",
              "      <td>6.230765</td>\n",
              "      <td>4.822764</td>\n",
              "      <td>6.456653</td>\n",
              "      <td>4.176977</td>\n",
              "      <td>4.631245</td>\n",
              "      <td>7.569865</td>\n",
              "      <td>3.977183</td>\n",
              "      <td>5.957110</td>\n",
              "      <td>4.175269</td>\n",
              "      <td>4.545129</td>\n",
              "      <td>6.618855</td>\n",
              "    </tr>\n",
              "    <tr>\n",
              "      <th>1</th>\n",
              "      <td>4.751625</td>\n",
              "      <td>5.023276</td>\n",
              "      <td>4.115669</td>\n",
              "      <td>9.590657</td>\n",
              "      <td>5.061421</td>\n",
              "      <td>7.587566</td>\n",
              "      <td>5.236536</td>\n",
              "      <td>4.443490</td>\n",
              "      <td>5.612640</td>\n",
              "      <td>6.730912</td>\n",
              "      <td>4.864545</td>\n",
              "      <td>4.943098</td>\n",
              "      <td>8.066804</td>\n",
              "      <td>6.124239</td>\n",
              "      <td>10.231029</td>\n",
              "      <td>7.489231</td>\n",
              "      <td>7.691186</td>\n",
              "      <td>5.011970</td>\n",
              "      <td>5.999923</td>\n",
              "      <td>4.308970</td>\n",
              "      <td>9.492482</td>\n",
              "      <td>4.030367</td>\n",
              "      <td>NaN</td>\n",
              "      <td>9.338579</td>\n",
              "      <td>6.708432</td>\n",
              "      <td>9.453979</td>\n",
              "      <td>6.439538</td>\n",
              "      <td>NaN</td>\n",
              "      <td>6.946307</td>\n",
              "      <td>11.126428</td>\n",
              "      <td>9.291950</td>\n",
              "      <td>7.097342</td>\n",
              "      <td>6.433115</td>\n",
              "      <td>NaN</td>\n",
              "      <td>4.412739</td>\n",
              "      <td>4.814770</td>\n",
              "      <td>6.998661</td>\n",
              "      <td>5.164618</td>\n",
              "      <td>4.884515</td>\n",
              "      <td>NaN</td>\n",
              "      <td>...</td>\n",
              "      <td>4.444570</td>\n",
              "      <td>4.358778</td>\n",
              "      <td>8.188934</td>\n",
              "      <td>5.142681</td>\n",
              "      <td>4.136258</td>\n",
              "      <td>4.544278</td>\n",
              "      <td>4.941061</td>\n",
              "      <td>4.201556</td>\n",
              "      <td>4.396772</td>\n",
              "      <td>4.583461</td>\n",
              "      <td>6.999289</td>\n",
              "      <td>8.163342</td>\n",
              "      <td>4.842256</td>\n",
              "      <td>6.948345</td>\n",
              "      <td>5.084298</td>\n",
              "      <td>10.412581</td>\n",
              "      <td>4.565369</td>\n",
              "      <td>8.173671</td>\n",
              "      <td>4.623452</td>\n",
              "      <td>4.957271</td>\n",
              "      <td>NaN</td>\n",
              "      <td>NaN</td>\n",
              "      <td>4.900543</td>\n",
              "      <td>9.040116</td>\n",
              "      <td>9.393895</td>\n",
              "      <td>7.948395</td>\n",
              "      <td>8.457218</td>\n",
              "      <td>4.219205</td>\n",
              "      <td>5.633389</td>\n",
              "      <td>6.534319</td>\n",
              "      <td>4.540494</td>\n",
              "      <td>6.910684</td>\n",
              "      <td>4.401302</td>\n",
              "      <td>4.524092</td>\n",
              "      <td>7.042128</td>\n",
              "      <td>4.570753</td>\n",
              "      <td>5.190979</td>\n",
              "      <td>NaN</td>\n",
              "      <td>4.299898</td>\n",
              "      <td>6.977388</td>\n",
              "    </tr>\n",
              "    <tr>\n",
              "      <th>2</th>\n",
              "      <td>4.677830</td>\n",
              "      <td>NaN</td>\n",
              "      <td>4.414835</td>\n",
              "      <td>9.810794</td>\n",
              "      <td>6.758992</td>\n",
              "      <td>7.213987</td>\n",
              "      <td>5.124261</td>\n",
              "      <td>4.536834</td>\n",
              "      <td>5.591881</td>\n",
              "      <td>6.117747</td>\n",
              "      <td>5.859097</td>\n",
              "      <td>4.496934</td>\n",
              "      <td>7.267437</td>\n",
              "      <td>6.320760</td>\n",
              "      <td>9.377906</td>\n",
              "      <td>5.542714</td>\n",
              "      <td>5.434801</td>\n",
              "      <td>5.567857</td>\n",
              "      <td>7.095067</td>\n",
              "      <td>4.277238</td>\n",
              "      <td>8.756498</td>\n",
              "      <td>3.866247</td>\n",
              "      <td>8.189768</td>\n",
              "      <td>8.381984</td>\n",
              "      <td>5.496081</td>\n",
              "      <td>NaN</td>\n",
              "      <td>6.335457</td>\n",
              "      <td>5.011294</td>\n",
              "      <td>8.176531</td>\n",
              "      <td>9.690427</td>\n",
              "      <td>9.146354</td>\n",
              "      <td>7.017636</td>\n",
              "      <td>5.596143</td>\n",
              "      <td>7.624439</td>\n",
              "      <td>NaN</td>\n",
              "      <td>4.241132</td>\n",
              "      <td>7.799697</td>\n",
              "      <td>5.360729</td>\n",
              "      <td>4.421699</td>\n",
              "      <td>4.293521</td>\n",
              "      <td>...</td>\n",
              "      <td>4.928524</td>\n",
              "      <td>4.344378</td>\n",
              "      <td>8.670321</td>\n",
              "      <td>4.658982</td>\n",
              "      <td>4.298158</td>\n",
              "      <td>4.702590</td>\n",
              "      <td>5.245217</td>\n",
              "      <td>4.581799</td>\n",
              "      <td>4.534433</td>\n",
              "      <td>4.485550</td>\n",
              "      <td>7.778415</td>\n",
              "      <td>10.985411</td>\n",
              "      <td>4.636973</td>\n",
              "      <td>5.340667</td>\n",
              "      <td>5.378795</td>\n",
              "      <td>NaN</td>\n",
              "      <td>8.743635</td>\n",
              "      <td>7.189665</td>\n",
              "      <td>4.625829</td>\n",
              "      <td>5.722414</td>\n",
              "      <td>4.726665</td>\n",
              "      <td>4.348811</td>\n",
              "      <td>4.918840</td>\n",
              "      <td>8.370305</td>\n",
              "      <td>NaN</td>\n",
              "      <td>7.459172</td>\n",
              "      <td>9.292843</td>\n",
              "      <td>7.562419</td>\n",
              "      <td>5.018919</td>\n",
              "      <td>NaN</td>\n",
              "      <td>4.759826</td>\n",
              "      <td>5.089853</td>\n",
              "      <td>4.767632</td>\n",
              "      <td>6.040111</td>\n",
              "      <td>NaN</td>\n",
              "      <td>4.807369</td>\n",
              "      <td>7.381605</td>\n",
              "      <td>4.096595</td>\n",
              "      <td>4.353280</td>\n",
              "      <td>6.298527</td>\n",
              "    </tr>\n",
              "    <tr>\n",
              "      <th>3</th>\n",
              "      <td>6.124125</td>\n",
              "      <td>4.315419</td>\n",
              "      <td>NaN</td>\n",
              "      <td>8.329743</td>\n",
              "      <td>4.731405</td>\n",
              "      <td>5.485750</td>\n",
              "      <td>4.656342</td>\n",
              "      <td>4.675843</td>\n",
              "      <td>8.274558</td>\n",
              "      <td>6.881935</td>\n",
              "      <td>NaN</td>\n",
              "      <td>4.591374</td>\n",
              "      <td>7.445409</td>\n",
              "      <td>6.357788</td>\n",
              "      <td>9.290170</td>\n",
              "      <td>7.845277</td>\n",
              "      <td>5.044321</td>\n",
              "      <td>NaN</td>\n",
              "      <td>7.719963</td>\n",
              "      <td>4.035399</td>\n",
              "      <td>9.141353</td>\n",
              "      <td>NaN</td>\n",
              "      <td>8.551670</td>\n",
              "      <td>9.144304</td>\n",
              "      <td>5.548422</td>\n",
              "      <td>9.824597</td>\n",
              "      <td>6.064520</td>\n",
              "      <td>4.815694</td>\n",
              "      <td>5.979735</td>\n",
              "      <td>11.435274</td>\n",
              "      <td>9.978174</td>\n",
              "      <td>6.561652</td>\n",
              "      <td>6.091851</td>\n",
              "      <td>6.910335</td>\n",
              "      <td>4.598375</td>\n",
              "      <td>4.179916</td>\n",
              "      <td>NaN</td>\n",
              "      <td>5.931737</td>\n",
              "      <td>7.028722</td>\n",
              "      <td>4.605834</td>\n",
              "      <td>...</td>\n",
              "      <td>4.048016</td>\n",
              "      <td>4.358081</td>\n",
              "      <td>NaN</td>\n",
              "      <td>4.892956</td>\n",
              "      <td>NaN</td>\n",
              "      <td>4.611666</td>\n",
              "      <td>5.367584</td>\n",
              "      <td>4.124489</td>\n",
              "      <td>4.336504</td>\n",
              "      <td>5.554679</td>\n",
              "      <td>5.722613</td>\n",
              "      <td>8.602560</td>\n",
              "      <td>4.498691</td>\n",
              "      <td>5.149122</td>\n",
              "      <td>4.895340</td>\n",
              "      <td>10.234215</td>\n",
              "      <td>5.384634</td>\n",
              "      <td>NaN</td>\n",
              "      <td>4.779799</td>\n",
              "      <td>NaN</td>\n",
              "      <td>4.830473</td>\n",
              "      <td>NaN</td>\n",
              "      <td>4.296301</td>\n",
              "      <td>8.506786</td>\n",
              "      <td>8.617698</td>\n",
              "      <td>10.072301</td>\n",
              "      <td>9.776818</td>\n",
              "      <td>4.165963</td>\n",
              "      <td>4.839643</td>\n",
              "      <td>6.508814</td>\n",
              "      <td>4.824067</td>\n",
              "      <td>5.633577</td>\n",
              "      <td>4.036759</td>\n",
              "      <td>4.647674</td>\n",
              "      <td>NaN</td>\n",
              "      <td>4.353842</td>\n",
              "      <td>5.349520</td>\n",
              "      <td>4.527658</td>\n",
              "      <td>4.183776</td>\n",
              "      <td>7.080237</td>\n",
              "    </tr>\n",
              "    <tr>\n",
              "      <th>4</th>\n",
              "      <td>7.329050</td>\n",
              "      <td>4.478514</td>\n",
              "      <td>3.794459</td>\n",
              "      <td>9.871205</td>\n",
              "      <td>4.803878</td>\n",
              "      <td>4.255231</td>\n",
              "      <td>4.704262</td>\n",
              "      <td>4.006748</td>\n",
              "      <td>NaN</td>\n",
              "      <td>7.404784</td>\n",
              "      <td>5.321569</td>\n",
              "      <td>3.896046</td>\n",
              "      <td>8.335643</td>\n",
              "      <td>7.003983</td>\n",
              "      <td>10.668207</td>\n",
              "      <td>NaN</td>\n",
              "      <td>6.792095</td>\n",
              "      <td>4.712382</td>\n",
              "      <td>NaN</td>\n",
              "      <td>4.268368</td>\n",
              "      <td>11.301256</td>\n",
              "      <td>4.159530</td>\n",
              "      <td>9.948436</td>\n",
              "      <td>9.129477</td>\n",
              "      <td>6.772887</td>\n",
              "      <td>10.375022</td>\n",
              "      <td>6.896724</td>\n",
              "      <td>4.862472</td>\n",
              "      <td>6.174870</td>\n",
              "      <td>10.928988</td>\n",
              "      <td>9.591413</td>\n",
              "      <td>7.019537</td>\n",
              "      <td>6.983679</td>\n",
              "      <td>6.086106</td>\n",
              "      <td>4.115092</td>\n",
              "      <td>4.121604</td>\n",
              "      <td>8.456983</td>\n",
              "      <td>5.490146</td>\n",
              "      <td>5.495464</td>\n",
              "      <td>4.864460</td>\n",
              "      <td>...</td>\n",
              "      <td>NaN</td>\n",
              "      <td>4.553433</td>\n",
              "      <td>8.066421</td>\n",
              "      <td>4.570516</td>\n",
              "      <td>3.956439</td>\n",
              "      <td>4.483610</td>\n",
              "      <td>5.296590</td>\n",
              "      <td>3.994717</td>\n",
              "      <td>4.616485</td>\n",
              "      <td>5.856159</td>\n",
              "      <td>5.789237</td>\n",
              "      <td>9.626727</td>\n",
              "      <td>5.678214</td>\n",
              "      <td>6.209600</td>\n",
              "      <td>4.739403</td>\n",
              "      <td>9.388969</td>\n",
              "      <td>4.211552</td>\n",
              "      <td>7.367048</td>\n",
              "      <td>5.637212</td>\n",
              "      <td>4.829691</td>\n",
              "      <td>4.848829</td>\n",
              "      <td>3.907463</td>\n",
              "      <td>4.590107</td>\n",
              "      <td>10.041276</td>\n",
              "      <td>8.866034</td>\n",
              "      <td>9.070575</td>\n",
              "      <td>NaN</td>\n",
              "      <td>NaN</td>\n",
              "      <td>NaN</td>\n",
              "      <td>5.545265</td>\n",
              "      <td>NaN</td>\n",
              "      <td>5.607993</td>\n",
              "      <td>4.459915</td>\n",
              "      <td>4.393781</td>\n",
              "      <td>7.022832</td>\n",
              "      <td>4.511093</td>\n",
              "      <td>6.809208</td>\n",
              "      <td>4.066271</td>\n",
              "      <td>4.434700</td>\n",
              "      <td>8.246333</td>\n",
              "    </tr>\n",
              "  </tbody>\n",
              "</table>\n",
              "<p>5 rows × 1320 columns</p>\n",
              "</div>"
            ],
            "text/plain": [
              "   exp_COPZ2  exp_CRLF1  exp_TAC1  ...   exp_FRK  exp_MCF2  exp_TULP3\n",
              "0        NaN   4.248105  4.282751  ...  4.175269  4.545129   6.618855\n",
              "1   4.751625   5.023276  4.115669  ...       NaN  4.299898   6.977388\n",
              "2   4.677830        NaN  4.414835  ...  4.096595  4.353280   6.298527\n",
              "3   6.124125   4.315419       NaN  ...  4.527658  4.183776   7.080237\n",
              "4   7.329050   4.478514  3.794459  ...  4.066271  4.434700   8.246333\n",
              "\n",
              "[5 rows x 1320 columns]"
            ]
          },
          "metadata": {
            "tags": []
          },
          "execution_count": 36
        }
      ]
    },
    {
      "cell_type": "code",
      "metadata": {
        "id": "yqzeNbVG3QVo"
      },
      "source": [
        "#Counting the total number of NaNs in each columns\r\n",
        "NaN4Features = X.isnull().sum()"
      ],
      "execution_count": null,
      "outputs": []
    },
    {
      "cell_type": "code",
      "metadata": {
        "colab": {
          "base_uri": "https://localhost:8080/"
        },
        "id": "B4s1gue54nb9",
        "outputId": "8930d1e8-e858-4798-a949-4defacbdab9d"
      },
      "source": [
        "print(NaN4Features)"
      ],
      "execution_count": null,
      "outputs": [
        {
          "output_type": "stream",
          "text": [
            "exp_COPZ2      112\n",
            "exp_CRLF1      112\n",
            "exp_TAC1       112\n",
            "exp_ADIPOR2    112\n",
            "exp_IFFO1      112\n",
            "              ... \n",
            "exp_CACNA1A    112\n",
            "exp_ZSCAN18    112\n",
            "exp_FRK        112\n",
            "exp_MCF2       112\n",
            "exp_TULP3      112\n",
            "Length: 1320, dtype: int64\n"
          ],
          "name": "stdout"
        }
      ]
    },
    {
      "cell_type": "code",
      "metadata": {
        "id": "0ouNhEKM4rug"
      },
      "source": [
        "#This means that each of the feature columns have 112 /1124 = 10% as NaN values that should be imputed"
      ],
      "execution_count": null,
      "outputs": []
    },
    {
      "cell_type": "code",
      "metadata": {
        "colab": {
          "base_uri": "https://localhost:8080/"
        },
        "id": "QFPFQpGn548s",
        "outputId": "5af5dbd2-e86a-4288-c53d-36b764d4f019"
      },
      "source": [
        "#Total sum of NaN values in the dataset\r\n",
        "X.isnull().values.sum()"
      ],
      "execution_count": null,
      "outputs": [
        {
          "output_type": "execute_result",
          "data": {
            "text/plain": [
              "147840"
            ]
          },
          "metadata": {
            "tags": []
          },
          "execution_count": 39
        }
      ]
    },
    {
      "cell_type": "code",
      "metadata": {
        "colab": {
          "base_uri": "https://localhost:8080/"
        },
        "id": "nEkboSpu579W",
        "outputId": "ca8d05b9-0bb4-475e-bbff-95647695b088"
      },
      "source": [
        "147840 / 1320 #Dividing the total number of NaNs by total number of features"
      ],
      "execution_count": null,
      "outputs": [
        {
          "output_type": "execute_result",
          "data": {
            "text/plain": [
              "112.0"
            ]
          },
          "metadata": {
            "tags": []
          },
          "execution_count": 40
        }
      ]
    },
    {
      "cell_type": "code",
      "metadata": {
        "id": "01RnpZP06eXN"
      },
      "source": [
        "#This is the same number of NaNs per column variable as we calculated earlier"
      ],
      "execution_count": null,
      "outputs": []
    },
    {
      "cell_type": "code",
      "metadata": {
        "id": "a-IWqrrw6POH"
      },
      "source": [
        "#"
      ],
      "execution_count": null,
      "outputs": []
    },
    {
      "cell_type": "code",
      "metadata": {
        "id": "0VJLEn281csk"
      },
      "source": [
        "#Now I am imputing the missing values by median\r\n",
        "X = X.fillna(X.median())"
      ],
      "execution_count": null,
      "outputs": []
    },
    {
      "cell_type": "code",
      "metadata": {
        "colab": {
          "base_uri": "https://localhost:8080/",
          "height": 244
        },
        "id": "QfX0l3FN2YcF",
        "outputId": "423f0a95-b97c-4c9f-a655-c73fb286a43b"
      },
      "source": [
        "X.head()"
      ],
      "execution_count": null,
      "outputs": [
        {
          "output_type": "execute_result",
          "data": {
            "text/html": [
              "<div>\n",
              "<style scoped>\n",
              "    .dataframe tbody tr th:only-of-type {\n",
              "        vertical-align: middle;\n",
              "    }\n",
              "\n",
              "    .dataframe tbody tr th {\n",
              "        vertical-align: top;\n",
              "    }\n",
              "\n",
              "    .dataframe thead th {\n",
              "        text-align: right;\n",
              "    }\n",
              "</style>\n",
              "<table border=\"1\" class=\"dataframe\">\n",
              "  <thead>\n",
              "    <tr style=\"text-align: right;\">\n",
              "      <th></th>\n",
              "      <th>exp_COPZ2</th>\n",
              "      <th>exp_CRLF1</th>\n",
              "      <th>exp_TAC1</th>\n",
              "      <th>exp_ADIPOR2</th>\n",
              "      <th>exp_IFFO1</th>\n",
              "      <th>exp_KDM5D</th>\n",
              "      <th>exp_CD6</th>\n",
              "      <th>exp_STMN4</th>\n",
              "      <th>exp_KCNG1</th>\n",
              "      <th>exp_ABCF2</th>\n",
              "      <th>exp_CLEC16A</th>\n",
              "      <th>exp_ANO2</th>\n",
              "      <th>exp_MAP4</th>\n",
              "      <th>exp_RSF1</th>\n",
              "      <th>exp_MSMO1</th>\n",
              "      <th>exp_KIF1B</th>\n",
              "      <th>exp_GALC</th>\n",
              "      <th>exp_TRAF1</th>\n",
              "      <th>exp_RC3H2</th>\n",
              "      <th>exp_POU1F1</th>\n",
              "      <th>exp_OAT</th>\n",
              "      <th>exp_SNAP91</th>\n",
              "      <th>exp_SLK</th>\n",
              "      <th>exp_GOLGA5</th>\n",
              "      <th>exp_FECH</th>\n",
              "      <th>exp_IARS2</th>\n",
              "      <th>exp_IFI35</th>\n",
              "      <th>exp_ATP11A</th>\n",
              "      <th>exp_SRBD1</th>\n",
              "      <th>exp_MAPK6</th>\n",
              "      <th>exp_POLB</th>\n",
              "      <th>exp_CPSF1</th>\n",
              "      <th>exp_MPP5</th>\n",
              "      <th>exp_XRCC1</th>\n",
              "      <th>exp_CLCN4</th>\n",
              "      <th>exp_DHRS9</th>\n",
              "      <th>exp_PTPLAD1</th>\n",
              "      <th>exp_ARHGEF10L</th>\n",
              "      <th>exp_SEMA3A</th>\n",
              "      <th>exp_FOSL2</th>\n",
              "      <th>...</th>\n",
              "      <th>exp_BMP3</th>\n",
              "      <th>exp_GRIK2</th>\n",
              "      <th>exp_SH3GLB1</th>\n",
              "      <th>exp_CRYBB3</th>\n",
              "      <th>exp_ADRA2A</th>\n",
              "      <th>exp_PROP1</th>\n",
              "      <th>exp_ZBTB39</th>\n",
              "      <th>exp_TMPRSS15</th>\n",
              "      <th>exp_KRT75</th>\n",
              "      <th>exp_KCTD14</th>\n",
              "      <th>exp_SIPA1</th>\n",
              "      <th>exp_IFT57</th>\n",
              "      <th>exp_UCN</th>\n",
              "      <th>exp_PITPNM1</th>\n",
              "      <th>exp_PLXNC1</th>\n",
              "      <th>exp_BTG1</th>\n",
              "      <th>exp_PYCARD</th>\n",
              "      <th>exp_LRBA</th>\n",
              "      <th>exp_NFIX</th>\n",
              "      <th>exp_ARHGAP11A</th>\n",
              "      <th>exp_WNT2</th>\n",
              "      <th>exp_CLEC1A</th>\n",
              "      <th>exp_AC016745.2</th>\n",
              "      <th>exp_MRPS30</th>\n",
              "      <th>exp_PDHX</th>\n",
              "      <th>exp_IFRD1</th>\n",
              "      <th>exp_WSB1</th>\n",
              "      <th>exp_FAM65B</th>\n",
              "      <th>exp_RAB11B</th>\n",
              "      <th>exp_ROGDI</th>\n",
              "      <th>exp_SCN8A</th>\n",
              "      <th>exp_POMT1</th>\n",
              "      <th>exp_NKG7</th>\n",
              "      <th>exp_SLC6A16</th>\n",
              "      <th>exp_CCDC91</th>\n",
              "      <th>exp_CACNA1A</th>\n",
              "      <th>exp_ZSCAN18</th>\n",
              "      <th>exp_FRK</th>\n",
              "      <th>exp_MCF2</th>\n",
              "      <th>exp_TULP3</th>\n",
              "    </tr>\n",
              "  </thead>\n",
              "  <tbody>\n",
              "    <tr>\n",
              "      <th>0</th>\n",
              "      <td>6.026625</td>\n",
              "      <td>4.248105</td>\n",
              "      <td>4.282751</td>\n",
              "      <td>8.576592</td>\n",
              "      <td>5.070674</td>\n",
              "      <td>7.759352</td>\n",
              "      <td>4.602019</td>\n",
              "      <td>5.190350</td>\n",
              "      <td>7.385830</td>\n",
              "      <td>6.171773</td>\n",
              "      <td>4.987999</td>\n",
              "      <td>4.386405</td>\n",
              "      <td>8.319581</td>\n",
              "      <td>5.124842</td>\n",
              "      <td>11.375434</td>\n",
              "      <td>6.950165</td>\n",
              "      <td>5.217493</td>\n",
              "      <td>4.938025</td>\n",
              "      <td>6.435574</td>\n",
              "      <td>4.446789</td>\n",
              "      <td>9.526227</td>\n",
              "      <td>6.999370</td>\n",
              "      <td>8.224666</td>\n",
              "      <td>8.260464</td>\n",
              "      <td>7.391606</td>\n",
              "      <td>10.130519</td>\n",
              "      <td>4.870403</td>\n",
              "      <td>4.980934</td>\n",
              "      <td>5.472737</td>\n",
              "      <td>10.831060</td>\n",
              "      <td>9.001038</td>\n",
              "      <td>6.675385</td>\n",
              "      <td>6.404888</td>\n",
              "      <td>6.187631</td>\n",
              "      <td>4.315376</td>\n",
              "      <td>4.931067</td>\n",
              "      <td>7.130860</td>\n",
              "      <td>5.633721</td>\n",
              "      <td>4.477679</td>\n",
              "      <td>4.719276</td>\n",
              "      <td>...</td>\n",
              "      <td>4.354925</td>\n",
              "      <td>4.686992</td>\n",
              "      <td>7.177287</td>\n",
              "      <td>4.651391</td>\n",
              "      <td>6.883827</td>\n",
              "      <td>4.598454</td>\n",
              "      <td>5.111562</td>\n",
              "      <td>4.284136</td>\n",
              "      <td>4.473125</td>\n",
              "      <td>4.440254</td>\n",
              "      <td>4.911507</td>\n",
              "      <td>9.585117</td>\n",
              "      <td>5.027490</td>\n",
              "      <td>5.036847</td>\n",
              "      <td>4.956280</td>\n",
              "      <td>9.791068</td>\n",
              "      <td>4.625075</td>\n",
              "      <td>7.681521</td>\n",
              "      <td>6.666518</td>\n",
              "      <td>5.270228</td>\n",
              "      <td>5.207163</td>\n",
              "      <td>5.422417</td>\n",
              "      <td>4.337242</td>\n",
              "      <td>8.241133</td>\n",
              "      <td>8.382914</td>\n",
              "      <td>9.184904</td>\n",
              "      <td>7.742239</td>\n",
              "      <td>4.287793</td>\n",
              "      <td>5.283270</td>\n",
              "      <td>6.230765</td>\n",
              "      <td>4.822764</td>\n",
              "      <td>6.456653</td>\n",
              "      <td>4.176977</td>\n",
              "      <td>4.631245</td>\n",
              "      <td>7.569865</td>\n",
              "      <td>3.977183</td>\n",
              "      <td>5.957110</td>\n",
              "      <td>4.175269</td>\n",
              "      <td>4.545129</td>\n",
              "      <td>6.618855</td>\n",
              "    </tr>\n",
              "    <tr>\n",
              "      <th>1</th>\n",
              "      <td>4.751625</td>\n",
              "      <td>5.023276</td>\n",
              "      <td>4.115669</td>\n",
              "      <td>9.590657</td>\n",
              "      <td>5.061421</td>\n",
              "      <td>7.587566</td>\n",
              "      <td>5.236536</td>\n",
              "      <td>4.443490</td>\n",
              "      <td>5.612640</td>\n",
              "      <td>6.730912</td>\n",
              "      <td>4.864545</td>\n",
              "      <td>4.943098</td>\n",
              "      <td>8.066804</td>\n",
              "      <td>6.124239</td>\n",
              "      <td>10.231029</td>\n",
              "      <td>7.489231</td>\n",
              "      <td>7.691186</td>\n",
              "      <td>5.011970</td>\n",
              "      <td>5.999923</td>\n",
              "      <td>4.308970</td>\n",
              "      <td>9.492482</td>\n",
              "      <td>4.030367</td>\n",
              "      <td>8.304327</td>\n",
              "      <td>9.338579</td>\n",
              "      <td>6.708432</td>\n",
              "      <td>9.453979</td>\n",
              "      <td>6.439538</td>\n",
              "      <td>5.027603</td>\n",
              "      <td>6.946307</td>\n",
              "      <td>11.126428</td>\n",
              "      <td>9.291950</td>\n",
              "      <td>7.097342</td>\n",
              "      <td>6.433115</td>\n",
              "      <td>6.852925</td>\n",
              "      <td>4.412739</td>\n",
              "      <td>4.814770</td>\n",
              "      <td>6.998661</td>\n",
              "      <td>5.164618</td>\n",
              "      <td>4.884515</td>\n",
              "      <td>4.816928</td>\n",
              "      <td>...</td>\n",
              "      <td>4.444570</td>\n",
              "      <td>4.358778</td>\n",
              "      <td>8.188934</td>\n",
              "      <td>5.142681</td>\n",
              "      <td>4.136258</td>\n",
              "      <td>4.544278</td>\n",
              "      <td>4.941061</td>\n",
              "      <td>4.201556</td>\n",
              "      <td>4.396772</td>\n",
              "      <td>4.583461</td>\n",
              "      <td>6.999289</td>\n",
              "      <td>8.163342</td>\n",
              "      <td>4.842256</td>\n",
              "      <td>6.948345</td>\n",
              "      <td>5.084298</td>\n",
              "      <td>10.412581</td>\n",
              "      <td>4.565369</td>\n",
              "      <td>8.173671</td>\n",
              "      <td>4.623452</td>\n",
              "      <td>4.957271</td>\n",
              "      <td>4.906078</td>\n",
              "      <td>4.650345</td>\n",
              "      <td>4.900543</td>\n",
              "      <td>9.040116</td>\n",
              "      <td>9.393895</td>\n",
              "      <td>7.948395</td>\n",
              "      <td>8.457218</td>\n",
              "      <td>4.219205</td>\n",
              "      <td>5.633389</td>\n",
              "      <td>6.534319</td>\n",
              "      <td>4.540494</td>\n",
              "      <td>6.910684</td>\n",
              "      <td>4.401302</td>\n",
              "      <td>4.524092</td>\n",
              "      <td>7.042128</td>\n",
              "      <td>4.570753</td>\n",
              "      <td>5.190979</td>\n",
              "      <td>4.286217</td>\n",
              "      <td>4.299898</td>\n",
              "      <td>6.977388</td>\n",
              "    </tr>\n",
              "    <tr>\n",
              "      <th>2</th>\n",
              "      <td>4.677830</td>\n",
              "      <td>4.446010</td>\n",
              "      <td>4.414835</td>\n",
              "      <td>9.810794</td>\n",
              "      <td>6.758992</td>\n",
              "      <td>7.213987</td>\n",
              "      <td>5.124261</td>\n",
              "      <td>4.536834</td>\n",
              "      <td>5.591881</td>\n",
              "      <td>6.117747</td>\n",
              "      <td>5.859097</td>\n",
              "      <td>4.496934</td>\n",
              "      <td>7.267437</td>\n",
              "      <td>6.320760</td>\n",
              "      <td>9.377906</td>\n",
              "      <td>5.542714</td>\n",
              "      <td>5.434801</td>\n",
              "      <td>5.567857</td>\n",
              "      <td>7.095067</td>\n",
              "      <td>4.277238</td>\n",
              "      <td>8.756498</td>\n",
              "      <td>3.866247</td>\n",
              "      <td>8.189768</td>\n",
              "      <td>8.381984</td>\n",
              "      <td>5.496081</td>\n",
              "      <td>9.868591</td>\n",
              "      <td>6.335457</td>\n",
              "      <td>5.011294</td>\n",
              "      <td>8.176531</td>\n",
              "      <td>9.690427</td>\n",
              "      <td>9.146354</td>\n",
              "      <td>7.017636</td>\n",
              "      <td>5.596143</td>\n",
              "      <td>7.624439</td>\n",
              "      <td>4.551778</td>\n",
              "      <td>4.241132</td>\n",
              "      <td>7.799697</td>\n",
              "      <td>5.360729</td>\n",
              "      <td>4.421699</td>\n",
              "      <td>4.293521</td>\n",
              "      <td>...</td>\n",
              "      <td>4.928524</td>\n",
              "      <td>4.344378</td>\n",
              "      <td>8.670321</td>\n",
              "      <td>4.658982</td>\n",
              "      <td>4.298158</td>\n",
              "      <td>4.702590</td>\n",
              "      <td>5.245217</td>\n",
              "      <td>4.581799</td>\n",
              "      <td>4.534433</td>\n",
              "      <td>4.485550</td>\n",
              "      <td>7.778415</td>\n",
              "      <td>10.985411</td>\n",
              "      <td>4.636973</td>\n",
              "      <td>5.340667</td>\n",
              "      <td>5.378795</td>\n",
              "      <td>9.818872</td>\n",
              "      <td>8.743635</td>\n",
              "      <td>7.189665</td>\n",
              "      <td>4.625829</td>\n",
              "      <td>5.722414</td>\n",
              "      <td>4.726665</td>\n",
              "      <td>4.348811</td>\n",
              "      <td>4.918840</td>\n",
              "      <td>8.370305</td>\n",
              "      <td>8.426129</td>\n",
              "      <td>7.459172</td>\n",
              "      <td>9.292843</td>\n",
              "      <td>7.562419</td>\n",
              "      <td>5.018919</td>\n",
              "      <td>6.202955</td>\n",
              "      <td>4.759826</td>\n",
              "      <td>5.089853</td>\n",
              "      <td>4.767632</td>\n",
              "      <td>6.040111</td>\n",
              "      <td>7.338810</td>\n",
              "      <td>4.807369</td>\n",
              "      <td>7.381605</td>\n",
              "      <td>4.096595</td>\n",
              "      <td>4.353280</td>\n",
              "      <td>6.298527</td>\n",
              "    </tr>\n",
              "    <tr>\n",
              "      <th>3</th>\n",
              "      <td>6.124125</td>\n",
              "      <td>4.315419</td>\n",
              "      <td>4.059244</td>\n",
              "      <td>8.329743</td>\n",
              "      <td>4.731405</td>\n",
              "      <td>5.485750</td>\n",
              "      <td>4.656342</td>\n",
              "      <td>4.675843</td>\n",
              "      <td>8.274558</td>\n",
              "      <td>6.881935</td>\n",
              "      <td>5.526621</td>\n",
              "      <td>4.591374</td>\n",
              "      <td>7.445409</td>\n",
              "      <td>6.357788</td>\n",
              "      <td>9.290170</td>\n",
              "      <td>7.845277</td>\n",
              "      <td>5.044321</td>\n",
              "      <td>4.938025</td>\n",
              "      <td>7.719963</td>\n",
              "      <td>4.035399</td>\n",
              "      <td>9.141353</td>\n",
              "      <td>4.423414</td>\n",
              "      <td>8.551670</td>\n",
              "      <td>9.144304</td>\n",
              "      <td>5.548422</td>\n",
              "      <td>9.824597</td>\n",
              "      <td>6.064520</td>\n",
              "      <td>4.815694</td>\n",
              "      <td>5.979735</td>\n",
              "      <td>11.435274</td>\n",
              "      <td>9.978174</td>\n",
              "      <td>6.561652</td>\n",
              "      <td>6.091851</td>\n",
              "      <td>6.910335</td>\n",
              "      <td>4.598375</td>\n",
              "      <td>4.179916</td>\n",
              "      <td>7.737674</td>\n",
              "      <td>5.931737</td>\n",
              "      <td>7.028722</td>\n",
              "      <td>4.605834</td>\n",
              "      <td>...</td>\n",
              "      <td>4.048016</td>\n",
              "      <td>4.358081</td>\n",
              "      <td>8.765140</td>\n",
              "      <td>4.892956</td>\n",
              "      <td>4.119168</td>\n",
              "      <td>4.611666</td>\n",
              "      <td>5.367584</td>\n",
              "      <td>4.124489</td>\n",
              "      <td>4.336504</td>\n",
              "      <td>5.554679</td>\n",
              "      <td>5.722613</td>\n",
              "      <td>8.602560</td>\n",
              "      <td>4.498691</td>\n",
              "      <td>5.149122</td>\n",
              "      <td>4.895340</td>\n",
              "      <td>10.234215</td>\n",
              "      <td>5.384634</td>\n",
              "      <td>7.184992</td>\n",
              "      <td>4.779799</td>\n",
              "      <td>5.040604</td>\n",
              "      <td>4.830473</td>\n",
              "      <td>4.650345</td>\n",
              "      <td>4.296301</td>\n",
              "      <td>8.506786</td>\n",
              "      <td>8.617698</td>\n",
              "      <td>10.072301</td>\n",
              "      <td>9.776818</td>\n",
              "      <td>4.165963</td>\n",
              "      <td>4.839643</td>\n",
              "      <td>6.508814</td>\n",
              "      <td>4.824067</td>\n",
              "      <td>5.633577</td>\n",
              "      <td>4.036759</td>\n",
              "      <td>4.647674</td>\n",
              "      <td>7.338810</td>\n",
              "      <td>4.353842</td>\n",
              "      <td>5.349520</td>\n",
              "      <td>4.527658</td>\n",
              "      <td>4.183776</td>\n",
              "      <td>7.080237</td>\n",
              "    </tr>\n",
              "    <tr>\n",
              "      <th>4</th>\n",
              "      <td>7.329050</td>\n",
              "      <td>4.478514</td>\n",
              "      <td>3.794459</td>\n",
              "      <td>9.871205</td>\n",
              "      <td>4.803878</td>\n",
              "      <td>4.255231</td>\n",
              "      <td>4.704262</td>\n",
              "      <td>4.006748</td>\n",
              "      <td>6.240779</td>\n",
              "      <td>7.404784</td>\n",
              "      <td>5.321569</td>\n",
              "      <td>3.896046</td>\n",
              "      <td>8.335643</td>\n",
              "      <td>7.003983</td>\n",
              "      <td>10.668207</td>\n",
              "      <td>7.532797</td>\n",
              "      <td>6.792095</td>\n",
              "      <td>4.712382</td>\n",
              "      <td>6.773352</td>\n",
              "      <td>4.268368</td>\n",
              "      <td>11.301256</td>\n",
              "      <td>4.159530</td>\n",
              "      <td>9.948436</td>\n",
              "      <td>9.129477</td>\n",
              "      <td>6.772887</td>\n",
              "      <td>10.375022</td>\n",
              "      <td>6.896724</td>\n",
              "      <td>4.862472</td>\n",
              "      <td>6.174870</td>\n",
              "      <td>10.928988</td>\n",
              "      <td>9.591413</td>\n",
              "      <td>7.019537</td>\n",
              "      <td>6.983679</td>\n",
              "      <td>6.086106</td>\n",
              "      <td>4.115092</td>\n",
              "      <td>4.121604</td>\n",
              "      <td>8.456983</td>\n",
              "      <td>5.490146</td>\n",
              "      <td>5.495464</td>\n",
              "      <td>4.864460</td>\n",
              "      <td>...</td>\n",
              "      <td>4.354925</td>\n",
              "      <td>4.553433</td>\n",
              "      <td>8.066421</td>\n",
              "      <td>4.570516</td>\n",
              "      <td>3.956439</td>\n",
              "      <td>4.483610</td>\n",
              "      <td>5.296590</td>\n",
              "      <td>3.994717</td>\n",
              "      <td>4.616485</td>\n",
              "      <td>5.856159</td>\n",
              "      <td>5.789237</td>\n",
              "      <td>9.626727</td>\n",
              "      <td>5.678214</td>\n",
              "      <td>6.209600</td>\n",
              "      <td>4.739403</td>\n",
              "      <td>9.388969</td>\n",
              "      <td>4.211552</td>\n",
              "      <td>7.367048</td>\n",
              "      <td>5.637212</td>\n",
              "      <td>4.829691</td>\n",
              "      <td>4.848829</td>\n",
              "      <td>3.907463</td>\n",
              "      <td>4.590107</td>\n",
              "      <td>10.041276</td>\n",
              "      <td>8.866034</td>\n",
              "      <td>9.070575</td>\n",
              "      <td>8.649028</td>\n",
              "      <td>4.560215</td>\n",
              "      <td>5.005469</td>\n",
              "      <td>5.545265</td>\n",
              "      <td>4.660056</td>\n",
              "      <td>5.607993</td>\n",
              "      <td>4.459915</td>\n",
              "      <td>4.393781</td>\n",
              "      <td>7.022832</td>\n",
              "      <td>4.511093</td>\n",
              "      <td>6.809208</td>\n",
              "      <td>4.066271</td>\n",
              "      <td>4.434700</td>\n",
              "      <td>8.246333</td>\n",
              "    </tr>\n",
              "  </tbody>\n",
              "</table>\n",
              "<p>5 rows × 1320 columns</p>\n",
              "</div>"
            ],
            "text/plain": [
              "   exp_COPZ2  exp_CRLF1  exp_TAC1  ...   exp_FRK  exp_MCF2  exp_TULP3\n",
              "0   6.026625   4.248105  4.282751  ...  4.175269  4.545129   6.618855\n",
              "1   4.751625   5.023276  4.115669  ...  4.286217  4.299898   6.977388\n",
              "2   4.677830   4.446010  4.414835  ...  4.096595  4.353280   6.298527\n",
              "3   6.124125   4.315419  4.059244  ...  4.527658  4.183776   7.080237\n",
              "4   7.329050   4.478514  3.794459  ...  4.066271  4.434700   8.246333\n",
              "\n",
              "[5 rows x 1320 columns]"
            ]
          },
          "metadata": {
            "tags": []
          },
          "execution_count": 42
        }
      ]
    },
    {
      "cell_type": "code",
      "metadata": {
        "colab": {
          "base_uri": "https://localhost:8080/"
        },
        "id": "5vpepZR_2eAf",
        "outputId": "f63aee3d-45a2-40b4-ec82-82373358cbca"
      },
      "source": [
        "#Now checking for NaN in target variable\r\n",
        "y.isnull()"
      ],
      "execution_count": null,
      "outputs": [
        {
          "output_type": "execute_result",
          "data": {
            "text/plain": [
              "0       False\n",
              "1       False\n",
              "2       False\n",
              "3       False\n",
              "4       False\n",
              "        ...  \n",
              "1119    False\n",
              "1120    False\n",
              "1121    False\n",
              "1122    False\n",
              "1123    False\n",
              "Name: Erlotinib, Length: 1124, dtype: bool"
            ]
          },
          "metadata": {
            "tags": []
          },
          "execution_count": 43
        }
      ]
    },
    {
      "cell_type": "code",
      "metadata": {
        "id": "6qXVd0sz7ZxR"
      },
      "source": [
        "#So there is no NaN value in target"
      ],
      "execution_count": null,
      "outputs": []
    },
    {
      "cell_type": "code",
      "metadata": {
        "id": "yjJ7VuuP-1V_"
      },
      "source": [
        ""
      ],
      "execution_count": null,
      "outputs": []
    },
    {
      "cell_type": "code",
      "metadata": {
        "id": "BTZsoRTx7iPY"
      },
      "source": [
        "#Now I split the predictors and target into train and test"
      ],
      "execution_count": null,
      "outputs": []
    },
    {
      "cell_type": "code",
      "metadata": {
        "id": "OkPOOr4W7XJE"
      },
      "source": [
        "Xtrain, Xtest , yTrain, yTest = train_test_split(X, y, test_size=0.3, random_state=3)"
      ],
      "execution_count": null,
      "outputs": []
    },
    {
      "cell_type": "code",
      "metadata": {
        "id": "gXKWaftv7y9B"
      },
      "source": [
        "#Converting to numpy array for computation purpose\r\n",
        "xTrain = np.array(Xtrain)\r\n",
        "xTest = np.array(Xtest)"
      ],
      "execution_count": null,
      "outputs": []
    },
    {
      "cell_type": "markdown",
      "metadata": {
        "id": "AFc60pjwC546"
      },
      "source": [
        "Now doing Dimensionality reduction"
      ]
    },
    {
      "cell_type": "code",
      "metadata": {
        "id": "qUnIzBH9C9If"
      },
      "source": [
        ""
      ],
      "execution_count": null,
      "outputs": []
    },
    {
      "cell_type": "code",
      "metadata": {
        "id": "8s7W9M47Bm92"
      },
      "source": [
        "pcaObj = PCA(n_components = 2)\r\n",
        "pcaObj.fit(xTrain)\r\n",
        "xTrainPCA = pcaObj.transform(xTrain)"
      ],
      "execution_count": null,
      "outputs": []
    },
    {
      "cell_type": "code",
      "metadata": {
        "id": "x_EB-5dlC10B"
      },
      "source": [
        "#Now lets look how much variance is covered by the first two components"
      ],
      "execution_count": null,
      "outputs": []
    },
    {
      "cell_type": "code",
      "metadata": {
        "colab": {
          "base_uri": "https://localhost:8080/"
        },
        "id": "XGNEB6oPDM1k",
        "outputId": "1c9fdaf6-bca3-475f-80d1-8e205ecb76e6"
      },
      "source": [
        "pcaObj.explained_variance_ratio_"
      ],
      "execution_count": null,
      "outputs": [
        {
          "output_type": "execute_result",
          "data": {
            "text/plain": [
              "array([0.10716541, 0.06806911])"
            ]
          },
          "metadata": {
            "tags": []
          },
          "execution_count": 47
        }
      ]
    },
    {
      "cell_type": "code",
      "metadata": {
        "id": "dgQdB33uDQS4"
      },
      "source": [
        "#Clearly, using this method has lead to a very poor dimensionality reduction, given that the first two \r\n",
        "#components cover 10 + 6 = 16% variance only."
      ],
      "execution_count": null,
      "outputs": []
    },
    {
      "cell_type": "code",
      "metadata": {
        "id": "p9HR00VzDjI9"
      },
      "source": [
        "#So now I use dimensionality reduction in order to preserve at least 95% of variance"
      ],
      "execution_count": null,
      "outputs": []
    },
    {
      "cell_type": "code",
      "metadata": {
        "id": "IUzPfh00EDvG"
      },
      "source": [
        "pcaObj = PCA(n_components = 0.95)\r\n",
        "pcaObj.fit(xTrain)\r\n",
        "xTrainPCA95 = pcaObj.transform(xTrain)"
      ],
      "execution_count": null,
      "outputs": []
    },
    {
      "cell_type": "code",
      "metadata": {
        "colab": {
          "base_uri": "https://localhost:8080/"
        },
        "id": "XuGDGi-nEP-s",
        "outputId": "47235a81-a567-4532-8219-a47d5b89144c"
      },
      "source": [
        "pcaObj.explained_variance_ratio_"
      ],
      "execution_count": null,
      "outputs": [
        {
          "output_type": "execute_result",
          "data": {
            "text/plain": [
              "array([0.10716541, 0.06806911, 0.05275465, 0.04181058, 0.02415876,\n",
              "       0.01839043, 0.01796245, 0.01536028, 0.01453125, 0.01361155,\n",
              "       0.01213755, 0.01184905, 0.01047929, 0.00998007, 0.00943349,\n",
              "       0.00834483, 0.00819757, 0.00757915, 0.007365  , 0.00699956,\n",
              "       0.00695795, 0.00642691, 0.0063516 , 0.00614098, 0.00594324,\n",
              "       0.0058252 , 0.00561031, 0.00555937, 0.00539527, 0.0051737 ,\n",
              "       0.0050866 , 0.0048788 , 0.00480121, 0.00477309, 0.00464728,\n",
              "       0.00455006, 0.00441028, 0.00435373, 0.00428504, 0.00415356,\n",
              "       0.00412799, 0.00407086, 0.00398949, 0.00391131, 0.00384315,\n",
              "       0.00377568, 0.00374471, 0.00369586, 0.00364361, 0.00360151,\n",
              "       0.00351461, 0.00348137, 0.00345646, 0.00335105, 0.00334836,\n",
              "       0.00330679, 0.00330222, 0.00324425, 0.00318309, 0.00314982,\n",
              "       0.00308709, 0.00307777, 0.00302968, 0.0029775 , 0.00293585,\n",
              "       0.00291113, 0.00289386, 0.00285368, 0.00278253, 0.00274853,\n",
              "       0.00272285, 0.00270061, 0.00264332, 0.00261769, 0.00259554,\n",
              "       0.00255984, 0.00253102, 0.00251666, 0.0025014 , 0.00247658,\n",
              "       0.0024484 , 0.00244225, 0.00239917, 0.00238718, 0.00238324,\n",
              "       0.00233554, 0.00232181, 0.0023012 , 0.00228457, 0.00223896,\n",
              "       0.0021947 , 0.00216527, 0.00216155, 0.00213646, 0.0021238 ,\n",
              "       0.00211055, 0.00207662, 0.00206362, 0.00203628, 0.00202804,\n",
              "       0.00200899, 0.00199825, 0.00198243, 0.00196197, 0.00193434,\n",
              "       0.00192578, 0.00190674, 0.00189536, 0.00188109, 0.00187627,\n",
              "       0.00184861, 0.00183245, 0.00181851, 0.00179458, 0.00177834,\n",
              "       0.00176761, 0.00175409, 0.00172545, 0.00170716, 0.00167896,\n",
              "       0.00166308, 0.0016544 , 0.00164334, 0.00162751, 0.00162341,\n",
              "       0.00162153, 0.00160884, 0.00160589, 0.0015832 , 0.00156148,\n",
              "       0.00154391, 0.0015366 , 0.00152113, 0.00151504, 0.00149453,\n",
              "       0.00149404, 0.00147498, 0.00147238, 0.00145063, 0.00143783,\n",
              "       0.00142627, 0.00142116, 0.00141547, 0.00141326, 0.00140611,\n",
              "       0.00138484, 0.00136924, 0.00135958, 0.00135239, 0.00134674,\n",
              "       0.00132809, 0.00132322, 0.00131004, 0.00129761, 0.00128493,\n",
              "       0.00127973, 0.00126352, 0.00125943, 0.00124685, 0.00123629,\n",
              "       0.00122581, 0.00122267, 0.00120861, 0.0011984 , 0.00118927,\n",
              "       0.00117638, 0.00116948, 0.00116297, 0.00115835, 0.00115623,\n",
              "       0.00113932, 0.00112971, 0.00112263, 0.00111384, 0.001108  ,\n",
              "       0.00109778, 0.00108509, 0.00108123, 0.00107218, 0.00106165,\n",
              "       0.00106023, 0.00105287, 0.00104492, 0.00104013, 0.00103568,\n",
              "       0.00102254, 0.00101687, 0.00100619, 0.0010038 , 0.00099672,\n",
              "       0.00098807, 0.00097891, 0.00096496, 0.00095873, 0.00095475,\n",
              "       0.00095147, 0.00094936, 0.0009368 , 0.00093434, 0.00092265,\n",
              "       0.00091992, 0.0009167 , 0.00090745, 0.00090008, 0.00089973,\n",
              "       0.00089637, 0.0008875 , 0.00088266, 0.00087024, 0.00086352,\n",
              "       0.0008605 , 0.00085627, 0.00084968, 0.00084394, 0.00084037,\n",
              "       0.00083496, 0.00082903, 0.00082644, 0.00081522, 0.00081035,\n",
              "       0.00080209, 0.00079244, 0.00077806, 0.00077481, 0.00077136,\n",
              "       0.00076581, 0.00076336, 0.00075686, 0.00075097, 0.00074988,\n",
              "       0.00074259, 0.00073591, 0.00073385, 0.00073172, 0.00072845,\n",
              "       0.00071746, 0.00071382, 0.0007078 , 0.00069847, 0.00069519,\n",
              "       0.00068903, 0.00068746, 0.00068256, 0.00067518, 0.00067305,\n",
              "       0.0006687 , 0.00066466, 0.00066045, 0.00065684, 0.00065045,\n",
              "       0.00064698, 0.00064138, 0.00063787, 0.00063292, 0.00063027,\n",
              "       0.00062733, 0.00062449, 0.00061943, 0.00060989, 0.00060847,\n",
              "       0.00060694, 0.00060307, 0.00060035, 0.0005938 , 0.00058868,\n",
              "       0.00058685, 0.000584  , 0.00057559, 0.00057129, 0.00056949,\n",
              "       0.00056762, 0.0005632 , 0.00056075, 0.0005567 , 0.00055354,\n",
              "       0.0005498 , 0.00054486, 0.00054179, 0.00053931, 0.00053311,\n",
              "       0.00052734, 0.00052329, 0.00052062, 0.00051764, 0.00051123,\n",
              "       0.00050831, 0.00050474, 0.00050336, 0.00050113, 0.00049554,\n",
              "       0.00049254, 0.00049055, 0.00049006, 0.00048507, 0.00048116,\n",
              "       0.00047921, 0.00047419, 0.00047251, 0.00047033, 0.00046725,\n",
              "       0.0004637 , 0.00045835, 0.00045618, 0.00045258, 0.00045087,\n",
              "       0.00044678, 0.00044465])"
            ]
          },
          "metadata": {
            "tags": []
          },
          "execution_count": 49
        }
      ]
    },
    {
      "cell_type": "code",
      "metadata": {
        "id": "UWxIK3XeESzI"
      },
      "source": [
        "#This also does not seem to be working given that in order to get 95% variance, there is hardly any reduction\r\n",
        "#in dimension as we still have a lot of dimensions.\r\n",
        "\r\n",
        "#Lets look at our data again"
      ],
      "execution_count": null,
      "outputs": []
    },
    {
      "cell_type": "code",
      "metadata": {
        "colab": {
          "base_uri": "https://localhost:8080/",
          "height": 386
        },
        "id": "gKXHsRGiJ7fx",
        "outputId": "e66c13f4-fddb-4796-91fc-c5975b7c22e9"
      },
      "source": [
        "sns.displot(y, kind=\"kde\")"
      ],
      "execution_count": null,
      "outputs": [
        {
          "output_type": "execute_result",
          "data": {
            "text/plain": [
              "<seaborn.axisgrid.FacetGrid at 0x7fc65fc7a8d0>"
            ]
          },
          "metadata": {
            "tags": []
          },
          "execution_count": 50
        },
        {
          "output_type": "display_data",
          "data": {
            "image/png": "[encoded data removed]",
            "text/plain": [
              "<Figure size 360x360 with 1 Axes>"
            ]
          },
          "metadata": {
            "tags": [],
            "needs_background": "light"
          }
        }
      ]
    },
    {
      "cell_type": "code",
      "metadata": {
        "id": "h2CPE1VsJ8Hr"
      },
      "source": [
        ""
      ],
      "execution_count": null,
      "outputs": []
    },
    {
      "cell_type": "code",
      "metadata": {
        "id": "cygQ54J2EouR"
      },
      "source": [
        "# Clearly, there is no point in having those data points where the value of Erlotinib y value is less\r\n",
        "#than -2 or more than -1. This is because we do not have adequate data points for those y values and it would be better if\r\n",
        "# we discard those data values. This will also ensure that we have a more normal distribution. \r\n"
      ],
      "execution_count": null,
      "outputs": []
    },
    {
      "cell_type": "code",
      "metadata": {
        "id": "r7tNkfmIGK6a"
      },
      "source": [
        "datasetGaussian = dataset[(dataset.Erlotinib>-1.51) & (dataset.Erlotinib < -1.44)]"
      ],
      "execution_count": null,
      "outputs": []
    },
    {
      "cell_type": "code",
      "metadata": {
        "id": "24QBtDiFLgGi"
      },
      "source": [
        ""
      ],
      "execution_count": null,
      "outputs": []
    },
    {
      "cell_type": "code",
      "metadata": {
        "id": "lWPkVyIyLM0-"
      },
      "source": [
        ""
      ],
      "execution_count": null,
      "outputs": []
    },
    {
      "cell_type": "code",
      "metadata": {
        "colab": {
          "base_uri": "https://localhost:8080/"
        },
        "id": "BH7IwGJmKaWu",
        "outputId": "3e111a83-1719-41c6-abff-a4dc0c3363c3"
      },
      "source": [
        "datasetGaussian.shape"
      ],
      "execution_count": null,
      "outputs": [
        {
          "output_type": "execute_result",
          "data": {
            "text/plain": [
              "(1057, 1321)"
            ]
          },
          "metadata": {
            "tags": []
          },
          "execution_count": 52
        }
      ]
    },
    {
      "cell_type": "code",
      "metadata": {
        "id": "HFWvEi3NLgwK"
      },
      "source": [
        ""
      ],
      "execution_count": null,
      "outputs": []
    },
    {
      "cell_type": "code",
      "metadata": {
        "id": "I91PGdA4LT41"
      },
      "source": [
        ""
      ],
      "execution_count": null,
      "outputs": []
    },
    {
      "cell_type": "code",
      "metadata": {
        "id": "LY7qwOeRKkNU"
      },
      "source": [
        "yGaussian = datasetGaussian.Erlotinib"
      ],
      "execution_count": null,
      "outputs": []
    },
    {
      "cell_type": "code",
      "metadata": {
        "id": "0FrKzEnSLVhn"
      },
      "source": [
        ""
      ],
      "execution_count": null,
      "outputs": []
    },
    {
      "cell_type": "code",
      "metadata": {
        "colab": {
          "base_uri": "https://localhost:8080/",
          "height": 386
        },
        "id": "5vwcug4FK0Nm",
        "outputId": "f80a8817-d3cb-4cf2-e3ba-f380ec280a16"
      },
      "source": [
        "sns.displot(yGaussian, kind=\"kde\")"
      ],
      "execution_count": null,
      "outputs": [
        {
          "output_type": "execute_result",
          "data": {
            "text/plain": [
              "<seaborn.axisgrid.FacetGrid at 0x7fc65cbe5c88>"
            ]
          },
          "metadata": {
            "tags": []
          },
          "execution_count": 54
        },
        {
          "output_type": "display_data",
          "data": {
            "image/png": "[encoded data removed]",
            "text/plain": [
              "<Figure size 360x360 with 1 Axes>"
            ]
          },
          "metadata": {
            "tags": [],
            "needs_background": "light"
          }
        }
      ]
    },
    {
      "cell_type": "code",
      "metadata": {
        "id": "OAZaIYl9LWtZ"
      },
      "source": [
        "#Great, so we get rid of a lot of sparse data. \r\n",
        "#Now lets continue the procedure as earlier"
      ],
      "execution_count": null,
      "outputs": []
    },
    {
      "cell_type": "code",
      "metadata": {
        "colab": {
          "base_uri": "https://localhost:8080/"
        },
        "id": "J20Rh0QtK5WF",
        "outputId": "584f1d34-4eb9-40da-8aa0-206bf37f0cb2"
      },
      "source": [
        "yGaussian.describe()"
      ],
      "execution_count": null,
      "outputs": [
        {
          "output_type": "execute_result",
          "data": {
            "text/plain": [
              "count    1057.000000\n",
              "mean       -1.487995\n",
              "std         0.001455\n",
              "min        -1.506084\n",
              "25%        -1.488020\n",
              "50%        -1.488020\n",
              "75%        -1.488020\n",
              "max        -1.444320\n",
              "Name: Erlotinib, dtype: float64"
            ]
          },
          "metadata": {
            "tags": []
          },
          "execution_count": 55
        }
      ]
    },
    {
      "cell_type": "code",
      "metadata": {
        "colab": {
          "base_uri": "https://localhost:8080/"
        },
        "id": "N7OIx4hLH7BY",
        "outputId": "84e2dfc8-4690-44e7-be82-4f91dcf6f758"
      },
      "source": [
        "features = list(datasetGaussian.columns.values) #Make a list of all of the columns in the df. Here note we are using datasetGaussian\r\n",
        "features.pop(features.index('Erlotinib'))\r\n",
        "X = datasetGaussian[features]\r\n",
        "NaN4Features = X.isnull().sum()\r\n",
        "X.isnull().values.sum()"
      ],
      "execution_count": null,
      "outputs": [
        {
          "output_type": "execute_result",
          "data": {
            "text/plain": [
              "138903"
            ]
          },
          "metadata": {
            "tags": []
          },
          "execution_count": 56
        }
      ]
    },
    {
      "cell_type": "code",
      "metadata": {
        "id": "ugWUc723H4TK"
      },
      "source": [
        "X = X.fillna(X.median())"
      ],
      "execution_count": null,
      "outputs": []
    },
    {
      "cell_type": "code",
      "metadata": {
        "id": "NW4MYKx8H2EI"
      },
      "source": [
        "Xtrain, Xtest , yTrain, yTest = train_test_split(X, yGaussian, test_size=0.3, random_state=3)"
      ],
      "execution_count": null,
      "outputs": []
    },
    {
      "cell_type": "code",
      "metadata": {
        "id": "TH2OvJJiGSg3"
      },
      "source": [
        "#Converting to numpy array for computation purpose\r\n",
        "xTrain = np.array(Xtrain)\r\n",
        "xTest = np.array(Xtest)"
      ],
      "execution_count": null,
      "outputs": []
    },
    {
      "cell_type": "code",
      "metadata": {
        "colab": {
          "base_uri": "https://localhost:8080/"
        },
        "id": "CNBuGHShCy7N",
        "outputId": "9d3ffc78-a0a1-47f2-dcef-6856a9562fc0"
      },
      "source": [
        "pcaObj = PCA(n_components = 2)\r\n",
        "pcaObj.fit(xTrain)\r\n",
        "xTrainPCA = pcaObj.transform(xTrain)\r\n",
        "pcaObj.explained_variance_ratio_"
      ],
      "execution_count": null,
      "outputs": [
        {
          "output_type": "execute_result",
          "data": {
            "text/plain": [
              "array([0.10113769, 0.07096458])"
            ]
          },
          "metadata": {
            "tags": []
          },
          "execution_count": 60
        }
      ]
    },
    {
      "cell_type": "code",
      "metadata": {
        "id": "c8qp6Sfc9Dnm"
      },
      "source": [
        "#We see that there is only a slight improvement in percentage variance captured i.e., its 17% now."
      ],
      "execution_count": null,
      "outputs": []
    },
    {
      "cell_type": "code",
      "metadata": {
        "id": "UTty_nbF8-ez"
      },
      "source": [
        "#Lets see if I can further improve it, by normalizing yGaussian\r\n"
      ],
      "execution_count": null,
      "outputs": []
    },
    {
      "cell_type": "code",
      "metadata": {
        "id": "vpKbfuYa8zCS"
      },
      "source": [
        "meanY = np.mean(yGaussian)\r\n",
        "stdY = np.std(yGaussian)"
      ],
      "execution_count": null,
      "outputs": []
    },
    {
      "cell_type": "code",
      "metadata": {
        "colab": {
          "base_uri": "https://localhost:8080/"
        },
        "id": "ZJMEZj7rSlTL",
        "outputId": "34a90a51-29fa-4cd8-af39-1677b9b219a9"
      },
      "source": [
        "meanY"
      ],
      "execution_count": null,
      "outputs": [
        {
          "output_type": "execute_result",
          "data": {
            "text/plain": [
              "-1.4879954205817751"
            ]
          },
          "metadata": {
            "tags": []
          },
          "execution_count": 62
        }
      ]
    },
    {
      "cell_type": "code",
      "metadata": {
        "colab": {
          "base_uri": "https://localhost:8080/"
        },
        "id": "9jrF2rBmSmlG",
        "outputId": "b891fee7-61d6-4345-c108-a0c83f5eb30e"
      },
      "source": [
        "stdY"
      ],
      "execution_count": null,
      "outputs": [
        {
          "output_type": "execute_result",
          "data": {
            "text/plain": [
              "0.0014542378967196325"
            ]
          },
          "metadata": {
            "tags": []
          },
          "execution_count": 63
        }
      ]
    },
    {
      "cell_type": "code",
      "metadata": {
        "id": "jydE_b2TSntr"
      },
      "source": [
        "yNorm = (yGaussian-meanY)/stdY\r\n"
      ],
      "execution_count": null,
      "outputs": []
    },
    {
      "cell_type": "code",
      "metadata": {
        "colab": {
          "base_uri": "https://localhost:8080/",
          "height": 386
        },
        "id": "Z5gXJdxPTA7f",
        "outputId": "24074f09-9e3b-4ea0-a05f-91a0c51ee9e2"
      },
      "source": [
        "sns.displot(yNorm, kind=\"kde\")"
      ],
      "execution_count": null,
      "outputs": [
        {
          "output_type": "execute_result",
          "data": {
            "text/plain": [
              "<seaborn.axisgrid.FacetGrid at 0x7fc65cb9ac18>"
            ]
          },
          "metadata": {
            "tags": []
          },
          "execution_count": 65
        },
        {
          "output_type": "display_data",
          "data": {
            "image/png": "[encoded data removed]",
            "text/plain": [
              "<Figure size 360x360 with 1 Axes>"
            ]
          },
          "metadata": {
            "tags": [],
            "needs_background": "light"
          }
        }
      ]
    },
    {
      "cell_type": "code",
      "metadata": {
        "id": "gF9WFIDdTIJb"
      },
      "source": [
        "#Lets Normalize X"
      ],
      "execution_count": null,
      "outputs": []
    },
    {
      "cell_type": "code",
      "metadata": {
        "id": "bSMj1vrNTRsR"
      },
      "source": [
        "meanX = np.mean(X)\r\n",
        "stdX = np.std(X)"
      ],
      "execution_count": null,
      "outputs": []
    },
    {
      "cell_type": "code",
      "metadata": {
        "colab": {
          "base_uri": "https://localhost:8080/"
        },
        "id": "RyTRXu79Tkxm",
        "outputId": "1465ef94-ee8c-4235-c407-75c6bc79d0ac"
      },
      "source": [
        "meanX.head()"
      ],
      "execution_count": null,
      "outputs": [
        {
          "output_type": "execute_result",
          "data": {
            "text/plain": [
              "exp_COPZ2      6.095576\n",
              "exp_CRLF1      4.538463\n",
              "exp_TAC1       4.117218\n",
              "exp_ADIPOR2    8.983011\n",
              "exp_IFFO1      6.048303\n",
              "dtype: float64"
            ]
          },
          "metadata": {
            "tags": []
          },
          "execution_count": 67
        }
      ]
    },
    {
      "cell_type": "code",
      "metadata": {
        "id": "BjA30iX2TnEw"
      },
      "source": [
        "XNorm = (X-meanX)/stdX"
      ],
      "execution_count": null,
      "outputs": []
    },
    {
      "cell_type": "code",
      "metadata": {
        "id": "JA_rSPHBTwmT"
      },
      "source": [
        "XNorm = XNorm.fillna(X.median())"
      ],
      "execution_count": null,
      "outputs": []
    },
    {
      "cell_type": "code",
      "metadata": {
        "id": "3dUnqgq_8Vi4"
      },
      "source": [
        "Xtrain, Xtest , yTrain, yTest = train_test_split(XNorm, yNorm, test_size=0.3, random_state=3)"
      ],
      "execution_count": null,
      "outputs": []
    },
    {
      "cell_type": "code",
      "metadata": {
        "id": "zZ2cOzJO8CMz",
        "colab": {
          "base_uri": "https://localhost:8080/"
        },
        "outputId": "e0f845f0-edad-4bd7-a065-b51a07997240"
      },
      "source": [
        "#Converting to numpy array for computation purpose\r\n",
        "xTrain = np.array(Xtrain)\r\n",
        "xTest = np.array(Xtest)\r\n",
        "pcaObj = PCA(n_components = 2)\r\n",
        "pcaObj.fit(xTrain)\r\n",
        "xTrainPCA = pcaObj.transform(xTrain)\r\n",
        "pcaObj.explained_variance_ratio_"
      ],
      "execution_count": null,
      "outputs": [
        {
          "output_type": "execute_result",
          "data": {
            "text/plain": [
              "array([0.07057935, 0.06069826])"
            ]
          },
          "metadata": {
            "tags": []
          },
          "execution_count": 71
        }
      ]
    },
    {
      "cell_type": "code",
      "metadata": {
        "id": "-P8_f0QC7_pK"
      },
      "source": [
        "#This did not work either, as the cumulative variance percentage in fact got less."
      ],
      "execution_count": null,
      "outputs": []
    },
    {
      "cell_type": "code",
      "metadata": {
        "id": "DeUy_hS57RJ3"
      },
      "source": [
        "#Lets try it with yGaussian, which has original y values. This will ensure that the model will predict the right\r\n",
        "#values and not the normalized values\r\n",
        "Xtrain, Xtest , yTrain, yTest = train_test_split(XNorm, yGaussian, test_size=0.3, random_state=3)"
      ],
      "execution_count": null,
      "outputs": []
    },
    {
      "cell_type": "code",
      "metadata": {
        "colab": {
          "base_uri": "https://localhost:8080/"
        },
        "id": "l6GY-fWMWlRu",
        "outputId": "4c5e5277-bc92-4dcd-f82a-75817141628f"
      },
      "source": [
        "xTrain = np.array(Xtrain)\r\n",
        "xTest = np.array(Xtest)\r\n",
        "pcaObj = PCA(n_components = 2)\r\n",
        "pcaObj.fit(xTrain)\r\n",
        "xTrainPCA = pcaObj.transform(xTrain)\r\n",
        "pcaObj.explained_variance_ratio_"
      ],
      "execution_count": null,
      "outputs": [
        {
          "output_type": "execute_result",
          "data": {
            "text/plain": [
              "array([0.07057935, 0.06069826])"
            ]
          },
          "metadata": {
            "tags": []
          },
          "execution_count": 73
        }
      ]
    },
    {
      "cell_type": "code",
      "metadata": {
        "id": "lOmrEhZ8Wvf_"
      },
      "source": [
        ""
      ],
      "execution_count": null,
      "outputs": []
    },
    {
      "cell_type": "markdown",
      "metadata": {
        "id": "dgUa1L2xV7sh"
      },
      "source": [
        "#Remarks: Despite using several strategies for dimensionality reduction, it does not seem to be working well, given that the combined variance of initial components looks to be very less despite all the strategies. \r\n",
        "\r\n",
        "For calculations ahead, I shall use the xTrain, xTest, yTrain and yTest as derived using yGaussian, as it will help me build a model that will give the true value of y (Erlotinib)"
      ]
    },
    {
      "cell_type": "code",
      "metadata": {
        "id": "pu-ZbgSkXDIK"
      },
      "source": [
        "#Lets try Polynomial Regression and then we will use ElasticNet"
      ],
      "execution_count": null,
      "outputs": []
    },
    {
      "cell_type": "code",
      "metadata": {
        "id": "JsAD9P_o1vJG"
      },
      "source": [
        "poly_features = PolynomialFeatures(degree=2, include_bias= False)"
      ],
      "execution_count": null,
      "outputs": []
    },
    {
      "cell_type": "code",
      "metadata": {
        "id": "rqg2RAHD4VRC"
      },
      "source": [
        "X_poly = poly_features.fit_transform(xTrain)"
      ],
      "execution_count": null,
      "outputs": []
    },
    {
      "cell_type": "code",
      "metadata": {
        "colab": {
          "base_uri": "https://localhost:8080/"
        },
        "id": "BEfBDcLH5a_Z",
        "outputId": "9ce12018-990c-4563-bec2-b1902179d7b6"
      },
      "source": [
        "xTrain[0].shape"
      ],
      "execution_count": null,
      "outputs": [
        {
          "output_type": "execute_result",
          "data": {
            "text/plain": [
              "(1320,)"
            ]
          },
          "metadata": {
            "tags": []
          },
          "execution_count": 60
        }
      ]
    },
    {
      "cell_type": "code",
      "metadata": {
        "colab": {
          "base_uri": "https://localhost:8080/"
        },
        "id": "hWqFuyUk5sSo",
        "outputId": "af2dcb62-b555-4510-ab88-efca4a8465c4"
      },
      "source": [
        "xTrain.shape"
      ],
      "execution_count": null,
      "outputs": [
        {
          "output_type": "execute_result",
          "data": {
            "text/plain": [
              "(739, 1320)"
            ]
          },
          "metadata": {
            "tags": []
          },
          "execution_count": 62
        }
      ]
    },
    {
      "cell_type": "code",
      "metadata": {
        "id": "kZoOSNCk5yz5"
      },
      "source": [
        ""
      ],
      "execution_count": null,
      "outputs": []
    },
    {
      "cell_type": "code",
      "metadata": {
        "id": "pSDkH5XL5pyV"
      },
      "source": [
        ""
      ],
      "execution_count": null,
      "outputs": []
    },
    {
      "cell_type": "code",
      "metadata": {
        "id": "ahXehzI_1p4A",
        "colab": {
          "base_uri": "https://localhost:8080/"
        },
        "outputId": "94300516-ab4d-4b03-960f-2002e31c10ae"
      },
      "source": [
        "X_poly[0].shape"
      ],
      "execution_count": null,
      "outputs": [
        {
          "output_type": "execute_result",
          "data": {
            "text/plain": [
              "(873180,)"
            ]
          },
          "metadata": {
            "tags": []
          },
          "execution_count": 61
        }
      ]
    },
    {
      "cell_type": "code",
      "metadata": {
        "colab": {
          "base_uri": "https://localhost:8080/"
        },
        "id": "iAKlYfgZ5uu2",
        "outputId": "ea43aed1-5f81-4b36-e18f-c8dbd4173f6f"
      },
      "source": [
        "X_poly.shape"
      ],
      "execution_count": null,
      "outputs": [
        {
          "output_type": "execute_result",
          "data": {
            "text/plain": [
              "(739, 873180)"
            ]
          },
          "metadata": {
            "tags": []
          },
          "execution_count": 63
        }
      ]
    },
    {
      "cell_type": "code",
      "metadata": {
        "id": "DmvuERNL52C4"
      },
      "source": [
        "#So we see that X_poly now has far more columns than xTrain which is a result of combination of all 2nd degree\r\n",
        "# variables. Total attributes is equal to ( 1320 + 2 )! / (1320! 2!)"
      ],
      "execution_count": null,
      "outputs": []
    },
    {
      "cell_type": "code",
      "metadata": {
        "id": "JBo0IKZF5_JA"
      },
      "source": [
        "#Now fitting a "
      ],
      "execution_count": null,
      "outputs": []
    },
    {
      "cell_type": "code",
      "metadata": {
        "id": "rUghAKWQ0yX6",
        "colab": {
          "base_uri": "https://localhost:8080/",
          "height": 162
        },
        "outputId": "bfeefefd-c36a-472b-8395-8c9a3654d279"
      },
      "source": [
        "lin_reg = LinearRegression()"
      ],
      "execution_count": null,
      "outputs": [
        {
          "output_type": "error",
          "ename": "NameError",
          "evalue": "ignored",
          "traceback": [
            "\u001b[0;31m---------------------------------------------------------------------------\u001b[0m",
            "\u001b[0;31mNameError\u001b[0m                                 Traceback (most recent call last)",
            "\u001b[0;32m<ipython-input-3-66a88af5c8d4>\u001b[0m in \u001b[0;36m<module>\u001b[0;34m()\u001b[0m\n\u001b[0;32m----> 1\u001b[0;31m \u001b[0mlin_reg\u001b[0m \u001b[0;34m=\u001b[0m \u001b[0mLinearRegression\u001b[0m\u001b[0;34m(\u001b[0m\u001b[0;34m)\u001b[0m\u001b[0;34m\u001b[0m\u001b[0;34m\u001b[0m\u001b[0m\n\u001b[0m",
            "\u001b[0;31mNameError\u001b[0m: name 'LinearRegression' is not defined"
          ]
        }
      ]
    },
    {
      "cell_type": "code",
      "metadata": {
        "id": "JgslOFDU7c7k"
      },
      "source": [
        "lin_reg.fit(X_poly,yTrain)"
      ],
      "execution_count": null,
      "outputs": []
    },
    {
      "cell_type": "code",
      "metadata": {
        "id": "cazXT4E37pns"
      },
      "source": [
        ""
      ],
      "execution_count": null,
      "outputs": []
    },
    {
      "cell_type": "markdown",
      "metadata": {
        "id": "dt8SaYmL8xFj"
      },
      "source": [
        "This gave the error :Your session crashed after using all available RAM\r\n",
        "Thus, I am abandoning polynomial fitting"
      ]
    },
    {
      "cell_type": "code",
      "metadata": {
        "id": "npnaJ4_f75uh"
      },
      "source": [
        "#If we had managed to do dimensionality reduction, then it would have made sense to carry out Polynomial fit."
      ],
      "execution_count": null,
      "outputs": []
    },
    {
      "cell_type": "code",
      "metadata": {
        "id": "-Rj3auKf0sAq"
      },
      "source": [
        "#Lets start simple linear regression fit.\r\n",
        "lin_reg = LinearRegression()"
      ],
      "execution_count": null,
      "outputs": []
    },
    {
      "cell_type": "code",
      "metadata": {
        "id": "o2j_ZorOjIoO"
      },
      "source": [
        ""
      ],
      "execution_count": null,
      "outputs": []
    },
    {
      "cell_type": "code",
      "metadata": {
        "id": "7MWzPjlFiN5s"
      },
      "source": [
        "#Lets first design a cross-validation set up as desired.\r\n",
        "#For that I make use of GridSearch\r\n",
        "#GridSearchCV should be used to find the optimal parameters to train your final model. \r\n",
        "#Typically, you should run GridSearchCV then look at the parameters that gave the model with the best score. \r\n",
        "#You should then take these parameters and train your final model on all of the data. It is important to \r\n",
        "#note that if you have trained your final model on all of your data, you cannot test it. For any correct test, \r\n",
        "#you must must reserve some of the data. That is why I am reserving the test data for the purpose."
      ],
      "execution_count": null,
      "outputs": []
    },
    {
      "cell_type": "code",
      "metadata": {
        "id": "3fEp_bkgkuV1"
      },
      "source": [
        "parameters = {'fit_intercept':[True,False], 'normalize':[True,False], 'copy_X':[True, False]} #Note that although I have done normalization, I am repeating it make a second normalization"
      ],
      "execution_count": null,
      "outputs": []
    },
    {
      "cell_type": "code",
      "metadata": {
        "id": "gKhdmgZ8brLZ"
      },
      "source": [
        "grid_search = GridSearchCV(lin_reg, parameters, cv=5, scoring='r2', verbose=1, return_train_score=True)#Five fold cross validation\r\n",
        "\r\n",
        "\r\n"
      ],
      "execution_count": null,
      "outputs": []
    },
    {
      "cell_type": "code",
      "metadata": {
        "colab": {
          "base_uri": "https://localhost:8080/"
        },
        "id": "dRnlUJuklaO5",
        "outputId": "e7f8ac3d-6017-4c80-e7f1-f6b0993195aa"
      },
      "source": [
        "grid_search.fit(Xtrain, yTrain)"
      ],
      "execution_count": null,
      "outputs": [
        {
          "output_type": "stream",
          "text": [
            "Fitting 5 folds for each of 8 candidates, totalling 40 fits\n"
          ],
          "name": "stdout"
        },
        {
          "output_type": "stream",
          "text": [
            "[Parallel(n_jobs=1)]: Using backend SequentialBackend with 1 concurrent workers.\n",
            "[Parallel(n_jobs=1)]: Done  40 out of  40 | elapsed:   12.3s finished\n"
          ],
          "name": "stderr"
        },
        {
          "output_type": "execute_result",
          "data": {
            "text/plain": [
              "GridSearchCV(cv=5, error_score=nan,\n",
              "             estimator=LinearRegression(copy_X=True, fit_intercept=True,\n",
              "                                        n_jobs=None, normalize=False),\n",
              "             iid='deprecated', n_jobs=None,\n",
              "             param_grid={'copy_X': [True, False],\n",
              "                         'fit_intercept': [True, False],\n",
              "                         'normalize': [True, False]},\n",
              "             pre_dispatch='2*n_jobs', refit=True, return_train_score=True,\n",
              "             scoring='r2', verbose=1)"
            ]
          },
          "metadata": {
            "tags": []
          },
          "execution_count": 124
        }
      ]
    },
    {
      "cell_type": "code",
      "metadata": {
        "colab": {
          "base_uri": "https://localhost:8080/"
        },
        "id": "QqHcrS-El9kv",
        "outputId": "5bd6cb1d-9642-4826-d885-b280a6e262bc"
      },
      "source": [
        "\r\n",
        "print(\"Residual sum of squares: %.11f\" % np.mean((grid_search.predict(Xtest) - yTest) ** 2))"
      ],
      "execution_count": null,
      "outputs": [
        {
          "output_type": "stream",
          "text": [
            "Residual sum of squares: 0.00000362019\n"
          ],
          "name": "stdout"
        }
      ]
    },
    {
      "cell_type": "code",
      "metadata": {
        "colab": {
          "base_uri": "https://localhost:8080/"
        },
        "id": "g_ddPVylPTJN",
        "outputId": "d7be640c-02d5-4edb-d4e0-527730d8a3d8"
      },
      "source": [
        "print('Best Score: ', grid_search.best_score_) #Gets the best R2 value score\r\n",
        "print('Best Params: ', grid_search.best_params_) #Gets the parameter corresponding to it"
      ],
      "execution_count": null,
      "outputs": [
        {
          "output_type": "stream",
          "text": [
            "Best Score:  -3.8223840746931947e+25\n",
            "Best Params:  {'copy_X': True, 'fit_intercept': True, 'normalize': False}\n"
          ],
          "name": "stdout"
        }
      ]
    },
    {
      "cell_type": "code",
      "metadata": {
        "id": "n9GsbgIslzVe"
      },
      "source": [
        "#Here the R2 score is close to 0"
      ],
      "execution_count": null,
      "outputs": []
    },
    {
      "cell_type": "code",
      "metadata": {
        "id": "qiDHYF41NUG2"
      },
      "source": [
        ""
      ],
      "execution_count": null,
      "outputs": []
    },
    {
      "cell_type": "code",
      "metadata": {
        "colab": {
          "base_uri": "https://localhost:8080/"
        },
        "id": "r92dUh81okqv",
        "outputId": "8b7fe004-3f96-4bac-b104-00c05c5d32ff"
      },
      "source": [
        "#Now doing Linear Regression WITHOUT Grid Search cross validation\r\n",
        "model = LinearRegression()\r\n",
        "model.fit(Xtrain, yTrain)\r\n",
        "#predictions = model.predict(XTest)\r\n",
        "print(\"r2/variance : \", model.score(Xtest,yTest))\r\n",
        "print(\"Residual sum of squares: %.11f\" % np.mean((model.predict(Xtest) - yTest) ** 2))"
      ],
      "execution_count": null,
      "outputs": [
        {
          "output_type": "stream",
          "text": [
            "r2/variance :  -2.53883707130276\n",
            "Residual sum of squares: 0.00000362019\n"
          ],
          "name": "stdout"
        }
      ]
    },
    {
      "cell_type": "code",
      "metadata": {
        "id": "JhU77iEcpHsf"
      },
      "source": [
        "#Here the R2 score became  negative, and so the model is not as good as what we found by GridSearch"
      ],
      "execution_count": null,
      "outputs": []
    },
    {
      "cell_type": "markdown",
      "metadata": {
        "id": "6WZ0PdN8Gx1g"
      },
      "source": [
        "We see that R2 score is lowest for grid_search selected model. \r\n"
      ]
    },
    {
      "cell_type": "code",
      "metadata": {
        "id": "EWwkESf8VtPs"
      },
      "source": [
        ""
      ],
      "execution_count": null,
      "outputs": []
    },
    {
      "cell_type": "code",
      "metadata": {
        "id": "82yeBcuOpAwK"
      },
      "source": [
        "#The simple linear regression can also help us get the coefficients of each of the feature variables which we can plot"
      ],
      "execution_count": null,
      "outputs": []
    },
    {
      "cell_type": "code",
      "metadata": {
        "colab": {
          "base_uri": "https://localhost:8080/"
        },
        "id": "Ov4FbBBhJKuj",
        "outputId": "f6d46876-9db0-495c-dd3c-f8979e3c9eba"
      },
      "source": [
        "featureCoefficients = pd.DataFrame() \r\n",
        "featureCoefficients[\"Features\"] = pd.DataFrame(Xtrain).columns\r\n",
        "featureCoefficients['PredictedValues'] = pd.Series(model.coef_) \r\n",
        "\r\n",
        "print(featureCoefficients) "
      ],
      "execution_count": null,
      "outputs": [
        {
          "output_type": "stream",
          "text": [
            "         Features  PredictedValues\n",
            "0       exp_COPZ2         0.000034\n",
            "1       exp_CRLF1        -0.000041\n",
            "2        exp_TAC1         0.000018\n",
            "3     exp_ADIPOR2        -0.000088\n",
            "4       exp_IFFO1         0.000016\n",
            "...           ...              ...\n",
            "1315  exp_CACNA1A        -0.000029\n",
            "1316  exp_ZSCAN18         0.000010\n",
            "1317      exp_FRK        -0.000017\n",
            "1318     exp_MCF2        -0.000049\n",
            "1319    exp_TULP3         0.000022\n",
            "\n",
            "[1320 rows x 2 columns]\n"
          ],
          "name": "stdout"
        }
      ]
    },
    {
      "cell_type": "code",
      "metadata": {
        "id": "WgYX195CJ0e-"
      },
      "source": [
        ""
      ],
      "execution_count": null,
      "outputs": []
    },
    {
      "cell_type": "code",
      "metadata": {
        "id": "U7iak_xzJtph"
      },
      "source": [
        ""
      ],
      "execution_count": null,
      "outputs": []
    },
    {
      "cell_type": "code",
      "metadata": {
        "colab": {
          "base_uri": "https://localhost:8080/"
        },
        "id": "Sk6Mt2b9JFGs",
        "outputId": "18b8e37b-cbe4-4c71-eb28-b1b89c406909"
      },
      "source": [
        "# find optimal alpha with grid search and Lasso Regression for regularization\r\n",
        "alpha = [0.001, 0.01, 0.1, 1, 10, 100, 1000]\r\n",
        "param_grid = dict(alpha=alpha)\r\n",
        "lasso = Lasso()\r\n",
        "grid = GridSearchCV(estimator=lasso, param_grid=param_grid, scoring='r2', verbose=1, cv=5, n_jobs=-1)\r\n",
        "grid_result = grid.fit(Xtrain, yTrain)\r\n",
        "print('Best Score: ', grid_result.best_score_) #Get best R2 score\r\n",
        "print('Best Params: ', grid_result.best_params_) #Get the alpha parameter which corresponds to best results\r\n",
        "\r\n"
      ],
      "execution_count": null,
      "outputs": [
        {
          "output_type": "stream",
          "text": [
            "Fitting 5 folds for each of 7 candidates, totalling 35 fits\n"
          ],
          "name": "stdout"
        },
        {
          "output_type": "stream",
          "text": [
            "[Parallel(n_jobs=-1)]: Using backend LokyBackend with 2 concurrent workers.\n"
          ],
          "name": "stderr"
        },
        {
          "output_type": "stream",
          "text": [
            "Best Score:  -8.863774182386283e+22\n",
            "Best Params:  {'alpha': 0.01}\n"
          ],
          "name": "stdout"
        },
        {
          "output_type": "stream",
          "text": [
            "[Parallel(n_jobs=-1)]: Done  35 out of  35 | elapsed:    6.4s finished\n"
          ],
          "name": "stderr"
        }
      ]
    },
    {
      "cell_type": "code",
      "metadata": {
        "colab": {
          "base_uri": "https://localhost:8080/"
        },
        "id": "dpA0I_dpRiCD",
        "outputId": "9274b8d4-5697-48a9-b505-34b016fce5ed"
      },
      "source": [
        "print(\"Residual sum of squares: %.11f\" % np.mean((grid_result.predict(Xtest) - yTest) ** 2))"
      ],
      "execution_count": null,
      "outputs": [
        {
          "output_type": "stream",
          "text": [
            "Residual sum of squares: 0.00000103643\n"
          ],
          "name": "stdout"
        }
      ]
    },
    {
      "cell_type": "markdown",
      "metadata": {
        "id": "mr-msU9ZSkCB"
      },
      "source": [
        "We see that the residual sum of squares have dropped compared to previous models. However, there is no significant improvement in R2 score compared to the model we obtained using GridSearch with simple linear regression model. The n_jobs=-1 takes in all available cores.\r\n"
      ]
    },
    {
      "cell_type": "code",
      "metadata": {
        "colab": {
          "base_uri": "https://localhost:8080/"
        },
        "id": "rok8YuZvS7Yl",
        "outputId": "545adc57-7309-4dbb-9f2e-afa12e37efaa"
      },
      "source": [
        "#Now making models for ElasticNet\r\n",
        "elastic_net = ElasticNet()\r\n",
        "alpha = [0.001, 0.01, 0.1, 1, 10, 100, 1000]\r\n",
        "l1_ratio = [0, 0.1, 0.2, 0.3, 0.4, 0.5, 0.6, 0.7, 0.8, 0.9, 1]\r\n",
        "param_grid = dict(alpha=alpha, l1_ratio=l1_ratio)\r\n",
        "grid = GridSearchCV(estimator=elastic_net, param_grid=param_grid, scoring='r2', verbose=1, cv=5, n_jobs=-1)\r\n",
        "grid_result = grid.fit(Xtrain, yTrain)\r\n",
        "print('Best Score: ', grid_result.best_score_)\r\n",
        "print('Best Params: ', grid_result.best_params_)"
      ],
      "execution_count": null,
      "outputs": [
        {
          "output_type": "stream",
          "text": [
            "Fitting 5 folds for each of 77 candidates, totalling 385 fits\n"
          ],
          "name": "stdout"
        },
        {
          "output_type": "stream",
          "text": [
            "[Parallel(n_jobs=-1)]: Using backend LokyBackend with 2 concurrent workers.\n",
            "[Parallel(n_jobs=-1)]: Done  46 tasks      | elapsed:    9.8s\n",
            "[Parallel(n_jobs=-1)]: Done 196 tasks      | elapsed:   41.0s\n"
          ],
          "name": "stderr"
        },
        {
          "output_type": "stream",
          "text": [
            "Best Score:  -8.863774182386283e+22\n",
            "Best Params:  {'alpha': 0.01, 'l1_ratio': 0.2}\n"
          ],
          "name": "stdout"
        },
        {
          "output_type": "stream",
          "text": [
            "[Parallel(n_jobs=-1)]: Done 385 out of 385 | elapsed:  1.4min finished\n"
          ],
          "name": "stderr"
        }
      ]
    },
    {
      "cell_type": "code",
      "metadata": {
        "colab": {
          "base_uri": "https://localhost:8080/"
        },
        "id": "JAyrYMaHS-pF",
        "outputId": "e28b8b04-4202-4c43-dbf9-778d4a683183"
      },
      "source": [
        "print(\"Residual sum of squares: %.11f\" % np.mean((grid_result.predict(Xtest) - yTest) ** 2))"
      ],
      "execution_count": null,
      "outputs": [
        {
          "output_type": "stream",
          "text": [
            "Residual sum of squares: 0.00000103643\n"
          ],
          "name": "stdout"
        }
      ]
    },
    {
      "cell_type": "markdown",
      "metadata": {
        "id": "egJhn2FpX2mg"
      },
      "source": [
        "There is no improvement in residual sum of squared than lasso. So essentially either lasso model or elasticnet model can be used which has the lowest residual sum of squares."
      ]
    },
    {
      "cell_type": "code",
      "metadata": {
        "id": "QXPN8XNDYDSr"
      },
      "source": [
        "#In order to get the coefficients of each of the predictors, we will now have \r\n",
        "#to build a model with the parameters as we obtained best by GridSearch"
      ],
      "execution_count": null,
      "outputs": []
    },
    {
      "cell_type": "code",
      "metadata": {
        "id": "Kc0brehOY6Kk"
      },
      "source": [
        "eNet = ElasticNet(alpha=0.01, l1_ratio= 0.2) \r\n"
      ],
      "execution_count": null,
      "outputs": []
    },
    {
      "cell_type": "code",
      "metadata": {
        "colab": {
          "base_uri": "https://localhost:8080/"
        },
        "id": "Lnb4VIWDYl0u",
        "outputId": "5a917402-3adf-469b-a259-9f2c31777473"
      },
      "source": [
        "eNet.fit(Xtrain, yTrain) \r\n",
        "  \r\n"
      ],
      "execution_count": null,
      "outputs": [
        {
          "output_type": "execute_result",
          "data": {
            "text/plain": [
              "ElasticNet(alpha=0.01, copy_X=True, fit_intercept=True, l1_ratio=0.2,\n",
              "           max_iter=1000, normalize=False, positive=False, precompute=False,\n",
              "           random_state=None, selection='cyclic', tol=0.0001, warm_start=False)"
            ]
          },
          "metadata": {
            "tags": []
          },
          "execution_count": 138
        }
      ]
    },
    {
      "cell_type": "code",
      "metadata": {
        "colab": {
          "base_uri": "https://localhost:8080/"
        },
        "id": "tpz2KD9XZb3S",
        "outputId": "794bb341-dd14-4821-80c3-d36a021369ff"
      },
      "source": [
        "# calculate the prediction and mean square error \r\n",
        "yPred = eNet.predict(Xtest) \r\n",
        "print(\"Mean Squared Error:\", np.mean((yPred - yTest)**2)) \r\n",
        " "
      ],
      "execution_count": null,
      "outputs": [
        {
          "output_type": "stream",
          "text": [
            "Mean Squared Error: 1.0364317660283728e-06\n"
          ],
          "name": "stdout"
        }
      ]
    },
    {
      "cell_type": "code",
      "metadata": {
        "id": "YOTMC8X5Zr0-"
      },
      "source": [
        "#Now lets get the coefficients\r\n",
        "eNetCoeff = pd.DataFrame() \r\n",
        "eNetCoeff[\"Features\"] = Xtrain.columns \r\n",
        "eNetCoeff['PredictedCoefficients'] = pd.Series(eNet.coef_) "
      ],
      "execution_count": null,
      "outputs": []
    },
    {
      "cell_type": "code",
      "metadata": {
        "colab": {
          "base_uri": "https://localhost:8080/",
          "height": 415
        },
        "id": "3HefnEEdaHEW",
        "outputId": "4b6d5d30-ab1e-45fa-d7bf-5fcd8235002f"
      },
      "source": [
        "eNetCoeff"
      ],
      "execution_count": null,
      "outputs": [
        {
          "output_type": "execute_result",
          "data": {
            "text/html": [
              "<div>\n",
              "<style scoped>\n",
              "    .dataframe tbody tr th:only-of-type {\n",
              "        vertical-align: middle;\n",
              "    }\n",
              "\n",
              "    .dataframe tbody tr th {\n",
              "        vertical-align: top;\n",
              "    }\n",
              "\n",
              "    .dataframe thead th {\n",
              "        text-align: right;\n",
              "    }\n",
              "</style>\n",
              "<table border=\"1\" class=\"dataframe\">\n",
              "  <thead>\n",
              "    <tr style=\"text-align: right;\">\n",
              "      <th></th>\n",
              "      <th>Features</th>\n",
              "      <th>PredictedCoefficients</th>\n",
              "    </tr>\n",
              "  </thead>\n",
              "  <tbody>\n",
              "    <tr>\n",
              "      <th>0</th>\n",
              "      <td>exp_COPZ2</td>\n",
              "      <td>0.0</td>\n",
              "    </tr>\n",
              "    <tr>\n",
              "      <th>1</th>\n",
              "      <td>exp_CRLF1</td>\n",
              "      <td>-0.0</td>\n",
              "    </tr>\n",
              "    <tr>\n",
              "      <th>2</th>\n",
              "      <td>exp_TAC1</td>\n",
              "      <td>-0.0</td>\n",
              "    </tr>\n",
              "    <tr>\n",
              "      <th>3</th>\n",
              "      <td>exp_ADIPOR2</td>\n",
              "      <td>-0.0</td>\n",
              "    </tr>\n",
              "    <tr>\n",
              "      <th>4</th>\n",
              "      <td>exp_IFFO1</td>\n",
              "      <td>-0.0</td>\n",
              "    </tr>\n",
              "    <tr>\n",
              "      <th>...</th>\n",
              "      <td>...</td>\n",
              "      <td>...</td>\n",
              "    </tr>\n",
              "    <tr>\n",
              "      <th>1315</th>\n",
              "      <td>exp_CACNA1A</td>\n",
              "      <td>0.0</td>\n",
              "    </tr>\n",
              "    <tr>\n",
              "      <th>1316</th>\n",
              "      <td>exp_ZSCAN18</td>\n",
              "      <td>-0.0</td>\n",
              "    </tr>\n",
              "    <tr>\n",
              "      <th>1317</th>\n",
              "      <td>exp_FRK</td>\n",
              "      <td>-0.0</td>\n",
              "    </tr>\n",
              "    <tr>\n",
              "      <th>1318</th>\n",
              "      <td>exp_MCF2</td>\n",
              "      <td>-0.0</td>\n",
              "    </tr>\n",
              "    <tr>\n",
              "      <th>1319</th>\n",
              "      <td>exp_TULP3</td>\n",
              "      <td>-0.0</td>\n",
              "    </tr>\n",
              "  </tbody>\n",
              "</table>\n",
              "<p>1320 rows × 2 columns</p>\n",
              "</div>"
            ],
            "text/plain": [
              "         Features  PredictedCoefficients\n",
              "0       exp_COPZ2                    0.0\n",
              "1       exp_CRLF1                   -0.0\n",
              "2        exp_TAC1                   -0.0\n",
              "3     exp_ADIPOR2                   -0.0\n",
              "4       exp_IFFO1                   -0.0\n",
              "...           ...                    ...\n",
              "1315  exp_CACNA1A                    0.0\n",
              "1316  exp_ZSCAN18                   -0.0\n",
              "1317      exp_FRK                   -0.0\n",
              "1318     exp_MCF2                   -0.0\n",
              "1319    exp_TULP3                   -0.0\n",
              "\n",
              "[1320 rows x 2 columns]"
            ]
          },
          "metadata": {
            "tags": []
          },
          "execution_count": 148
        }
      ]
    },
    {
      "cell_type": "code",
      "metadata": {
        "id": "NK3PnM_2aJ6a"
      },
      "source": [
        "#The End#"
      ],
      "execution_count": null,
      "outputs": []
    },
    {
      "cell_type": "code",
      "metadata": {
        "id": "q5HwK7HOa0Yn"
      },
      "source": [
        ""
      ],
      "execution_count": null,
      "outputs": []
    },
    {
      "cell_type": "code",
      "metadata": {
        "id": "lmK5hWuYaptk"
      },
      "source": [
        ""
      ],
      "execution_count": null,
      "outputs": []
    },
    {
      "cell_type": "code",
      "metadata": {
        "id": "pm0JPyxqafcH"
      },
      "source": [
        ""
      ],
      "execution_count": null,
      "outputs": []
    }
  ]
}